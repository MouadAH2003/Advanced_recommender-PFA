{
 "cells": [
  {
   "cell_type": "markdown",
   "metadata": {},
   "source": [
    "# Building a Robust Recommender System for Amazon Books\n",
    "\n",
    "## Project Overview\n",
    "\n",
    "The objective of this project is to develop a cutting-edge recommender system that leverages user behavior data, including ratings and reviews, to deliver personalized and highly relevant book recommendations. By harnessing advanced machine learning techniques and analyzing user preferences and book characteristics, we aim to enhance user engagement, satisfaction, and loyalty on our platform. This recommender system will empower users to discover new books tailored to their unique interests and reading preferences, fostering a vibrant and engaging reading community.\n",
    "\n",
    "### Approach and Methodology\n",
    "\n",
    "1. **Data Acquisition and Understanding**\n",
    "   - Import the necessary libraries and data processing tools that are essential for data manipulation, statistical analysis, and visualization.\n",
    "   - Ingest the dataset from the relevant data sources and conduct an initial exploration to understand its structure, features, and characteristics. This includes understanding the types of data (numerical, categorical), checking the size of the dataset, and identifying the key features.\n",
    "   - Perform thorough data cleaning and preprocessing steps. This includes handling missing values through imputation or deletion, removing duplicates, and treating outliers using appropriate methods. Also, ensure data consistency and integrity.\n",
    "\n",
    "2. **Exploratory Data Analysis (EDA) and Visualization**\n",
    "   - Conduct an in-depth exploratory data analysis to uncover underlying patterns, trends, and insights within the dataset. This includes understanding the distribution of key variables, identifying correlations, and detecting anomalies.\n",
    "   - Visualize data distributions, user behavior, and item characteristics using advanced data visualization techniques. This could involve using bar plots, histograms, scatter plots, and heatmaps for a more intuitive understanding of the data.\n",
    "   - Leverage the findings from EDA to inform subsequent modeling decisions and feature engineering strategies. This could involve selecting relevant features for the model, creating new features, or transforming existing ones.\n",
    "\n",
    "3. **Preprocessing Categorical Data**\n",
    "   - Implement robust encoding techniques for categorical variables to prepare the data for modeling.\n",
    "   - Explore advanced encoding methods, such as target encoding and entity embeddings, to effectively capture the information contained in categorical variables.\n",
    "   - ! If it's required\n",
    "\n",
    "4. **Modeling and Recommendation Algorithms**\n",
    "   - **Popularity-Based Recommender System**: Implement a baseline recommender system that suggests items based on their overall popularity or frequency of ratings. This provides a simple yet effective approach, especially for new users (cold start problem).\n",
    "   - **Collaborative Filtering (CF)**: Implement both user-based and item-based collaborative filtering techniques to recommend items based on user-item interactions or similarities between users and items. Explore advanced matrix factorization techniques, such as Singular Value Decomposition (SVD), Non-Negative Matrix Factorization (NMF), and K-Nearest Neighbors (K-NN) to enhance recommendation quality.\n",
    "   - **Content-Based Filtering (CBF)**: Develop a content-based recommender system that utilizes item features and metadata to recommend similar items based on user preferences. This involves extracting relevant features, computing item similarities using measures like cosine similarity, and providing personalized recommendations.\n",
    "   - **Neural Network-Based Recommender Systems**: Explore advanced neural network architectures for recommendation tasks, including Autoencoders. These models can capture complex user-item interactions and provide highly personalized recommendations.\n",
    "\n",
    "5. **Evaluation and Optimization**\n",
    "   - Implement a comprehensive evaluation framework to assess the performance of each recommender system(if it's ). Use appropriate evaluation metrics, such as Mean Absolute Error (MAE), Root Mean Squared Error (RMSE).\n",
    "   - Conduct rigorous cross-validation and hyperparameter tuning to optimize model performance and generalization capabilities (Specially for K-NN).\n",
    "   - Analyze and compare the strengths and weaknesses of each recommendation approach, considering factors such as accuracy, diversity, novelty, computational efficiency, and user satisfaction.\n",
    "\n",
    "6. **Deployment**\n",
    "   - Deploy the optimized recommender system in a simulated environment.\n",
    "   - Ensure the model is functioning as expected and is able to generate recommendations based on the input data. This could involve running a few test cases and verifying the output."
   ]
  },
  {
   "cell_type": "markdown",
   "metadata": {},
   "source": [
    "# Construction d'un Système de Recommandation Robuste pour les Livres Amazon\n",
    "\n",
    "## Vue d'ensemble du projet\n",
    "\n",
    "L'objectif de ce projet est de développer un système de recommandation de pointe qui exploite les données de comportement des utilisateurs, y compris les évaluations et les critiques, pour fournir des recommandations de livres personnalisées et hautement pertinentes. En utilisant des techniques avancées d'apprentissage automatique et en analysant les préférences des utilisateurs ainsi que les caractéristiques des livres, nous visons à améliorer l'engagement, la satisfaction et la fidélité des utilisateurs sur notre plateforme. Ce système de recommandation permettra aux utilisateurs de découvrir de nouveaux livres adaptés à leurs intérêts et préférences de lecture uniques, favorisant ainsi une communauté de lecture dynamique et engageante.\n",
    "\n",
    "### Approche et Méthodologie\n",
    "\n",
    "1. **Acquisition et Compréhension des Données**\n",
    "   - Importer les bibliothèques nécessaires et les outils de traitement des données essentiels pour la manipulation des données, l'analyse statistique et la visualisation.\n",
    "   - Ingestion du jeu de données à partir des sources de données pertinentes et réalisation d'une exploration initiale pour comprendre sa structure, ses caractéristiques et ses particularités. Cela inclut la compréhension des types de données (numériques, catégoriques), la vérification de la taille du jeu de données et l'identification des caractéristiques clés.\n",
    "   - Effectuer un nettoyage et une préparation minutieux des données. Cela inclut la gestion des valeurs manquantes par imputation ou suppression, la suppression des doublons et le traitement des valeurs aberrantes en utilisant des méthodes appropriées. Assurer également la cohérence et l'intégrité des données.\n",
    "\n",
    "2. **Analyse Exploratoire des Données (EDA) et Visualisation**\n",
    "   - Mener une analyse exploratoire approfondie des données pour découvrir les motifs, tendances et insights sous-jacents au sein du jeu de données. Cela inclut la compréhension de la distribution des variables clés, l'identification des corrélations et la détection des anomalies.\n",
    "   - Visualiser les distributions des données, le comportement des utilisateurs et les caractéristiques des articles en utilisant des techniques avancées de visualisation des données. Cela pourrait impliquer l'utilisation de diagrammes en barres, d'histogrammes, de diagrammes de dispersion et de cartes thermiques pour une compréhension plus intuitive des données.\n",
    "   - Utiliser les résultats de l'analyse exploratoire pour informer les décisions de modélisation et les stratégies d'ingénierie des caractéristiques. Cela pourrait impliquer la sélection des caractéristiques pertinentes pour le modèle, la création de nouvelles caractéristiques ou la transformation des caractéristiques existantes.\n",
    "\n",
    "3. **Prétraitement des Données Catégorielles**\n",
    "   - Mettre en œuvre des techniques d'encodage robustes pour les variables catégorielles afin de préparer les données pour la modélisation.\n",
    "   - Explorer des méthodes d'encodage avancées, telles que l'encodage ciblé et les embeddings d'entité, pour capturer efficacement l'information contenue dans les variables catégorielles.\n",
    "   - ! Si nécessaire.\n",
    "\n",
    "4. **Modélisation et Algorithmes de Recommandation**\n",
    "   - **Système de Recommandation Basé sur la Popularité** : Implémenter un système de recommandation de base qui suggère des articles en fonction de leur popularité générale ou de la fréquence des évaluations. Cela fournit une approche simple mais efficace, en particulier pour les nouveaux utilisateurs (problème de démarrage à froid).\n",
    "   - **Filtrage Collaboratif (CF)** : Implémenter à la fois des techniques de filtrage collaboratif basées sur les utilisateurs et sur les articles pour recommander des articles en fonction des interactions utilisateur-article ou des similitudes entre utilisateurs et articles. Explorer des techniques avancées de factorisation matricielle, telles que la décomposition en valeurs singulières (SVD), la factorisation matricielle non négative (NMF) et les k-plus proches voisins (K-NN) pour améliorer la qualité des recommandations.\n",
    "   - **Filtrage Basé sur le Contenu (CBF)** : Développer un système de recommandation basé sur le contenu qui utilise les caractéristiques des articles et les métadonnées pour recommander des articles similaires en fonction des préférences des utilisateurs. Cela implique l'extraction des caractéristiques pertinentes, le calcul des similitudes entre articles en utilisant des mesures telles que la similarité cosinus et la fourniture de recommandations personnalisées.\n",
    "   - **Systèmes de Recommandation Basés sur les Réseaux de Neurones** : Explorer des architectures avancées de réseaux de neurones pour les tâches de recommandation, y compris les autoencodeurs. Ces modèles peuvent capturer des interactions complexes entre utilisateurs et articles et fournir des recommandations hautement personnalisées.\n",
    "\n",
    "5. **Évaluation et Optimisation**\n",
    "   - Mettre en œuvre un cadre d'évaluation complet pour évaluer la performance de chaque système de recommandation (si nécessaire). Utiliser des métriques d'évaluation appropriées, telles que l'erreur absolue moyenne (MAE), l'erreur quadratique moyenne (RMSE).\n",
    "   - Mener une validation croisée rigoureuse et un ajustement des hyperparamètres pour optimiser la performance et les capacités de généralisation du modèle (spécialement pour K-NN).\n",
    "   - Analyser et comparer les forces et les faiblesses de chaque approche de recommandation, en tenant compte de facteurs tels que la précision, la diversité, la nouveauté, l'efficacité computationnelle et la satisfaction des utilisateurs.\n",
    "\n",
    "6. **Déploiement**\n",
    "   - Déployer le système de recommandation optimisé dans un environnement simulé.\n",
    "   - S'assurer que le modèle fonctionne comme prévu et est capable de générer des recommandations basées sur les données d'entrée. Cela pourrait impliquer de lancer quelques cas de test et de vérifier les résultats."
   ]
  },
  {
   "cell_type": "markdown",
   "metadata": {},
   "source": [
    "## 1 - **Data Acquisition & Understanding**"
   ]
  },
  {
   "cell_type": "markdown",
   "metadata": {},
   "source": [
    "#### **Import required libraries**"
   ]
  },
  {
   "cell_type": "code",
   "execution_count": 126,
   "metadata": {},
   "outputs": [],
   "source": [
    "# Step 1: Read Data and Understand It\n",
    "import pandas as pd\n",
    "import numpy as np\n",
    "import re ,os\n",
    "\n",
    "# Step 2: Exploratory Data Analysis (EDA) and Visualization\n",
    "import seaborn as sns\n",
    "import matplotlib.pyplot as plt\n",
    "import plotly.express as px\n",
    "import plotly.graph_objects as go\n",
    "from plotly.subplots import make_subplots\n",
    "from plotly.offline import iplot\n",
    "\n",
    "# Step 5: Modeling\n",
    "from sklearn.model_selection import train_test_split\n",
    "from sklearn.preprocessing import StandardScaler\n",
    "from sklearn.svm import SVR\n",
    "from sklearn.metrics import mean_squared_error\n",
    "from sklearn.model_selection import GridSearchCV\n",
    "from sklearn.metrics.pairwise import cosine_similarity\n",
    "\n",
    "# Ignore Warnings\n",
    "import warnings\n",
    "warnings.filterwarnings(\"ignore\")"
   ]
  },
  {
   "cell_type": "code",
   "execution_count": 1,
   "metadata": {},
   "outputs": [],
   "source": [
    "import pandas as pd"
   ]
  },
  {
   "cell_type": "markdown",
   "metadata": {},
   "source": [
    "#### **Read Data**"
   ]
  },
  {
   "cell_type": "code",
   "execution_count": 2,
   "metadata": {},
   "outputs": [
    {
     "name": "stderr",
     "output_type": "stream",
     "text": [
      "C:\\Users\\Mouad\\AppData\\Local\\Temp\\ipykernel_5024\\181702909.py:2: DtypeWarning: Columns (3) have mixed types. Specify dtype option on import or set low_memory=False.\n",
      "  books_df = pd.read_csv(\"../data/Books.csv\")\n"
     ]
    }
   ],
   "source": [
    "ratings_df = pd.read_csv(\"../data/Ratings.csv\")\n",
    "books_df = pd.read_csv(\"../data/Books.csv\")\n",
    "users_df = pd.read_csv(\"../data/Users.csv\")"
   ]
  },
  {
   "cell_type": "code",
   "execution_count": 8,
   "metadata": {},
   "outputs": [
    {
     "data": {
      "text/html": [
       "<div>\n",
       "<style scoped>\n",
       "    .dataframe tbody tr th:only-of-type {\n",
       "        vertical-align: middle;\n",
       "    }\n",
       "\n",
       "    .dataframe tbody tr th {\n",
       "        vertical-align: top;\n",
       "    }\n",
       "\n",
       "    .dataframe thead th {\n",
       "        text-align: right;\n",
       "    }\n",
       "</style>\n",
       "<table border=\"1\" class=\"dataframe\">\n",
       "  <thead>\n",
       "    <tr style=\"text-align: right;\">\n",
       "      <th></th>\n",
       "      <th>ISBN</th>\n",
       "      <th>Book-Title</th>\n",
       "      <th>Book-Author</th>\n",
       "      <th>Year-Of-Publication</th>\n",
       "      <th>Publisher</th>\n",
       "      <th>Image-URL-S</th>\n",
       "      <th>Image-URL-M</th>\n",
       "      <th>Image-URL-L</th>\n",
       "    </tr>\n",
       "  </thead>\n",
       "  <tbody>\n",
       "    <tr>\n",
       "      <th>0</th>\n",
       "      <td>0195153448</td>\n",
       "      <td>Classical Mythology</td>\n",
       "      <td>Mark P. O. Morford</td>\n",
       "      <td>2002</td>\n",
       "      <td>Oxford University Press</td>\n",
       "      <td>http://images.amazon.com/images/P/0195153448.0...</td>\n",
       "      <td>http://images.amazon.com/images/P/0195153448.0...</td>\n",
       "      <td>http://images.amazon.com/images/P/0195153448.0...</td>\n",
       "    </tr>\n",
       "    <tr>\n",
       "      <th>1</th>\n",
       "      <td>0002005018</td>\n",
       "      <td>Clara Callan</td>\n",
       "      <td>Richard Bruce Wright</td>\n",
       "      <td>2001</td>\n",
       "      <td>HarperFlamingo Canada</td>\n",
       "      <td>http://images.amazon.com/images/P/0002005018.0...</td>\n",
       "      <td>http://images.amazon.com/images/P/0002005018.0...</td>\n",
       "      <td>http://images.amazon.com/images/P/0002005018.0...</td>\n",
       "    </tr>\n",
       "    <tr>\n",
       "      <th>2</th>\n",
       "      <td>0060973129</td>\n",
       "      <td>Decision in Normandy</td>\n",
       "      <td>Carlo D'Este</td>\n",
       "      <td>1991</td>\n",
       "      <td>HarperPerennial</td>\n",
       "      <td>http://images.amazon.com/images/P/0060973129.0...</td>\n",
       "      <td>http://images.amazon.com/images/P/0060973129.0...</td>\n",
       "      <td>http://images.amazon.com/images/P/0060973129.0...</td>\n",
       "    </tr>\n",
       "    <tr>\n",
       "      <th>3</th>\n",
       "      <td>0374157065</td>\n",
       "      <td>Flu: The Story of the Great Influenza Pandemic...</td>\n",
       "      <td>Gina Bari Kolata</td>\n",
       "      <td>1999</td>\n",
       "      <td>Farrar Straus Giroux</td>\n",
       "      <td>http://images.amazon.com/images/P/0374157065.0...</td>\n",
       "      <td>http://images.amazon.com/images/P/0374157065.0...</td>\n",
       "      <td>http://images.amazon.com/images/P/0374157065.0...</td>\n",
       "    </tr>\n",
       "    <tr>\n",
       "      <th>4</th>\n",
       "      <td>0393045218</td>\n",
       "      <td>The Mummies of Urumchi</td>\n",
       "      <td>E. J. W. Barber</td>\n",
       "      <td>1999</td>\n",
       "      <td>W. W. Norton &amp;amp; Company</td>\n",
       "      <td>http://images.amazon.com/images/P/0393045218.0...</td>\n",
       "      <td>http://images.amazon.com/images/P/0393045218.0...</td>\n",
       "      <td>http://images.amazon.com/images/P/0393045218.0...</td>\n",
       "    </tr>\n",
       "  </tbody>\n",
       "</table>\n",
       "</div>"
      ],
      "text/plain": [
       "         ISBN                                         Book-Title  \\\n",
       "0  0195153448                                Classical Mythology   \n",
       "1  0002005018                                       Clara Callan   \n",
       "2  0060973129                               Decision in Normandy   \n",
       "3  0374157065  Flu: The Story of the Great Influenza Pandemic...   \n",
       "4  0393045218                             The Mummies of Urumchi   \n",
       "\n",
       "            Book-Author Year-Of-Publication                   Publisher  \\\n",
       "0    Mark P. O. Morford                2002     Oxford University Press   \n",
       "1  Richard Bruce Wright                2001       HarperFlamingo Canada   \n",
       "2          Carlo D'Este                1991             HarperPerennial   \n",
       "3      Gina Bari Kolata                1999        Farrar Straus Giroux   \n",
       "4       E. J. W. Barber                1999  W. W. Norton &amp; Company   \n",
       "\n",
       "                                         Image-URL-S  \\\n",
       "0  http://images.amazon.com/images/P/0195153448.0...   \n",
       "1  http://images.amazon.com/images/P/0002005018.0...   \n",
       "2  http://images.amazon.com/images/P/0060973129.0...   \n",
       "3  http://images.amazon.com/images/P/0374157065.0...   \n",
       "4  http://images.amazon.com/images/P/0393045218.0...   \n",
       "\n",
       "                                         Image-URL-M  \\\n",
       "0  http://images.amazon.com/images/P/0195153448.0...   \n",
       "1  http://images.amazon.com/images/P/0002005018.0...   \n",
       "2  http://images.amazon.com/images/P/0060973129.0...   \n",
       "3  http://images.amazon.com/images/P/0374157065.0...   \n",
       "4  http://images.amazon.com/images/P/0393045218.0...   \n",
       "\n",
       "                                         Image-URL-L  \n",
       "0  http://images.amazon.com/images/P/0195153448.0...  \n",
       "1  http://images.amazon.com/images/P/0002005018.0...  \n",
       "2  http://images.amazon.com/images/P/0060973129.0...  \n",
       "3  http://images.amazon.com/images/P/0374157065.0...  \n",
       "4  http://images.amazon.com/images/P/0393045218.0...  "
      ]
     },
     "execution_count": 8,
     "metadata": {},
     "output_type": "execute_result"
    }
   ],
   "source": [
    "books_df.head()"
   ]
  },
  {
   "cell_type": "code",
   "execution_count": 128,
   "metadata": {},
   "outputs": [
    {
     "name": "stdout",
     "output_type": "stream",
     "text": [
      "The shape of books dataset  (271360, 8)\n",
      "\n",
      "<class 'pandas.core.frame.DataFrame'>\n",
      "RangeIndex: 271360 entries, 0 to 271359\n",
      "Data columns (total 8 columns):\n",
      " #   Column               Non-Null Count   Dtype \n",
      "---  ------               --------------   ----- \n",
      " 0   ISBN                 271360 non-null  object\n",
      " 1   Book-Title           271360 non-null  object\n",
      " 2   Book-Author          271358 non-null  object\n",
      " 3   Year-Of-Publication  271360 non-null  object\n",
      " 4   Publisher            271358 non-null  object\n",
      " 5   Image-URL-S          271360 non-null  object\n",
      " 6   Image-URL-M          271360 non-null  object\n",
      " 7   Image-URL-L          271357 non-null  object\n",
      "dtypes: object(8)\n",
      "memory usage: 16.6+ MB\n"
     ]
    }
   ],
   "source": [
    "#books Dataset\n",
    "print(\"The shape of books dataset \", books_df.shape)\n",
    "print()\n",
    "books_df.info()"
   ]
  },
  {
   "cell_type": "code",
   "execution_count": 129,
   "metadata": {},
   "outputs": [
    {
     "name": "stdout",
     "output_type": "stream",
     "text": [
      "The shape of users dataset  (278858, 3)\n",
      "\n",
      "<class 'pandas.core.frame.DataFrame'>\n",
      "RangeIndex: 278858 entries, 0 to 278857\n",
      "Data columns (total 3 columns):\n",
      " #   Column    Non-Null Count   Dtype  \n",
      "---  ------    --------------   -----  \n",
      " 0   User-ID   278858 non-null  int64  \n",
      " 1   Location  278858 non-null  object \n",
      " 2   Age       168096 non-null  float64\n",
      "dtypes: float64(1), int64(1), object(1)\n",
      "memory usage: 6.4+ MB\n"
     ]
    }
   ],
   "source": [
    "#users Dataset\n",
    "print(\"The shape of users dataset \", users_df.shape)\n",
    "print()\n",
    "users_df.info()"
   ]
  },
  {
   "cell_type": "code",
   "execution_count": 130,
   "metadata": {},
   "outputs": [
    {
     "name": "stdout",
     "output_type": "stream",
     "text": [
      "The shape of ratings dataset  (1149780, 3)\n",
      "\n",
      "<class 'pandas.core.frame.DataFrame'>\n",
      "RangeIndex: 1149780 entries, 0 to 1149779\n",
      "Data columns (total 3 columns):\n",
      " #   Column       Non-Null Count    Dtype \n",
      "---  ------       --------------    ----- \n",
      " 0   User-ID      1149780 non-null  int64 \n",
      " 1   ISBN         1149780 non-null  object\n",
      " 2   Book-Rating  1149780 non-null  int64 \n",
      "dtypes: int64(2), object(1)\n",
      "memory usage: 26.3+ MB\n"
     ]
    }
   ],
   "source": [
    "#ratings dataset\n",
    "print(\"The shape of ratings dataset \", ratings_df.shape)\n",
    "print()\n",
    "ratings_df.info()"
   ]
  },
  {
   "cell_type": "markdown",
   "metadata": {},
   "source": [
    "Our dataset is **reliable and can be considered substantial**. With 271,360 books and approximately 278,000 registered users on the website, totaling around 1,149,780 ratings, we possess a rich and extensive dataset. The abundance of data ensures its reliability and usefulness for tackling recommendation problems effectively."
   ]
  },
  {
   "cell_type": "markdown",
   "metadata": {},
   "source": [
    "#### Cleaning and filtering neccessary data"
   ]
  },
  {
   "cell_type": "code",
   "execution_count": 131,
   "metadata": {},
   "outputs": [
    {
     "data": {
      "text/html": [
       "<div>\n",
       "<style scoped>\n",
       "    .dataframe tbody tr th:only-of-type {\n",
       "        vertical-align: middle;\n",
       "    }\n",
       "\n",
       "    .dataframe tbody tr th {\n",
       "        vertical-align: top;\n",
       "    }\n",
       "\n",
       "    .dataframe thead th {\n",
       "        text-align: right;\n",
       "    }\n",
       "</style>\n",
       "<table border=\"1\" class=\"dataframe\">\n",
       "  <thead>\n",
       "    <tr style=\"text-align: right;\">\n",
       "      <th></th>\n",
       "      <th>ISBN</th>\n",
       "      <th>Book-Title</th>\n",
       "      <th>Book-Author</th>\n",
       "      <th>Year-Of-Publication</th>\n",
       "      <th>Publisher</th>\n",
       "      <th>Image-URL-S</th>\n",
       "      <th>Image-URL-M</th>\n",
       "      <th>Image-URL-L</th>\n",
       "    </tr>\n",
       "  </thead>\n",
       "  <tbody>\n",
       "    <tr>\n",
       "      <th>0</th>\n",
       "      <td>0195153448</td>\n",
       "      <td>Classical Mythology</td>\n",
       "      <td>Mark P. O. Morford</td>\n",
       "      <td>2002</td>\n",
       "      <td>Oxford University Press</td>\n",
       "      <td>http://images.amazon.com/images/P/0195153448.01.THUMBZZZ.jpg</td>\n",
       "      <td>http://images.amazon.com/images/P/0195153448.01.MZZZZZZZ.jpg</td>\n",
       "      <td>http://images.amazon.com/images/P/0195153448.01.LZZZZZZZ.jpg</td>\n",
       "    </tr>\n",
       "    <tr>\n",
       "      <th>1</th>\n",
       "      <td>0002005018</td>\n",
       "      <td>Clara Callan</td>\n",
       "      <td>Richard Bruce Wright</td>\n",
       "      <td>2001</td>\n",
       "      <td>HarperFlamingo Canada</td>\n",
       "      <td>http://images.amazon.com/images/P/0002005018.01.THUMBZZZ.jpg</td>\n",
       "      <td>http://images.amazon.com/images/P/0002005018.01.MZZZZZZZ.jpg</td>\n",
       "      <td>http://images.amazon.com/images/P/0002005018.01.LZZZZZZZ.jpg</td>\n",
       "    </tr>\n",
       "    <tr>\n",
       "      <th>2</th>\n",
       "      <td>0060973129</td>\n",
       "      <td>Decision in Normandy</td>\n",
       "      <td>Carlo D'Este</td>\n",
       "      <td>1991</td>\n",
       "      <td>HarperPerennial</td>\n",
       "      <td>http://images.amazon.com/images/P/0060973129.01.THUMBZZZ.jpg</td>\n",
       "      <td>http://images.amazon.com/images/P/0060973129.01.MZZZZZZZ.jpg</td>\n",
       "      <td>http://images.amazon.com/images/P/0060973129.01.LZZZZZZZ.jpg</td>\n",
       "    </tr>\n",
       "    <tr>\n",
       "      <th>3</th>\n",
       "      <td>0374157065</td>\n",
       "      <td>Flu: The Story of the Great Influenza Pandemic of 1918 and the Search for the Virus That Caused It</td>\n",
       "      <td>Gina Bari Kolata</td>\n",
       "      <td>1999</td>\n",
       "      <td>Farrar Straus Giroux</td>\n",
       "      <td>http://images.amazon.com/images/P/0374157065.01.THUMBZZZ.jpg</td>\n",
       "      <td>http://images.amazon.com/images/P/0374157065.01.MZZZZZZZ.jpg</td>\n",
       "      <td>http://images.amazon.com/images/P/0374157065.01.LZZZZZZZ.jpg</td>\n",
       "    </tr>\n",
       "    <tr>\n",
       "      <th>4</th>\n",
       "      <td>0393045218</td>\n",
       "      <td>The Mummies of Urumchi</td>\n",
       "      <td>E. J. W. Barber</td>\n",
       "      <td>1999</td>\n",
       "      <td>W. W. Norton &amp;amp; Company</td>\n",
       "      <td>http://images.amazon.com/images/P/0393045218.01.THUMBZZZ.jpg</td>\n",
       "      <td>http://images.amazon.com/images/P/0393045218.01.MZZZZZZZ.jpg</td>\n",
       "      <td>http://images.amazon.com/images/P/0393045218.01.LZZZZZZZ.jpg</td>\n",
       "    </tr>\n",
       "    <tr>\n",
       "      <th>...</th>\n",
       "      <td>...</td>\n",
       "      <td>...</td>\n",
       "      <td>...</td>\n",
       "      <td>...</td>\n",
       "      <td>...</td>\n",
       "      <td>...</td>\n",
       "      <td>...</td>\n",
       "      <td>...</td>\n",
       "    </tr>\n",
       "    <tr>\n",
       "      <th>271355</th>\n",
       "      <td>0440400988</td>\n",
       "      <td>There's a Bat in Bunk Five</td>\n",
       "      <td>Paula Danziger</td>\n",
       "      <td>1988</td>\n",
       "      <td>Random House Childrens Pub (Mm)</td>\n",
       "      <td>http://images.amazon.com/images/P/0440400988.01.THUMBZZZ.jpg</td>\n",
       "      <td>http://images.amazon.com/images/P/0440400988.01.MZZZZZZZ.jpg</td>\n",
       "      <td>http://images.amazon.com/images/P/0440400988.01.LZZZZZZZ.jpg</td>\n",
       "    </tr>\n",
       "    <tr>\n",
       "      <th>271356</th>\n",
       "      <td>0525447644</td>\n",
       "      <td>From One to One Hundred</td>\n",
       "      <td>Teri Sloat</td>\n",
       "      <td>1991</td>\n",
       "      <td>Dutton Books</td>\n",
       "      <td>http://images.amazon.com/images/P/0525447644.01.THUMBZZZ.jpg</td>\n",
       "      <td>http://images.amazon.com/images/P/0525447644.01.MZZZZZZZ.jpg</td>\n",
       "      <td>http://images.amazon.com/images/P/0525447644.01.LZZZZZZZ.jpg</td>\n",
       "    </tr>\n",
       "    <tr>\n",
       "      <th>271357</th>\n",
       "      <td>006008667X</td>\n",
       "      <td>Lily Dale : The True Story of the Town that Talks to the Dead</td>\n",
       "      <td>Christine Wicker</td>\n",
       "      <td>2004</td>\n",
       "      <td>HarperSanFrancisco</td>\n",
       "      <td>http://images.amazon.com/images/P/006008667X.01.THUMBZZZ.jpg</td>\n",
       "      <td>http://images.amazon.com/images/P/006008667X.01.MZZZZZZZ.jpg</td>\n",
       "      <td>http://images.amazon.com/images/P/006008667X.01.LZZZZZZZ.jpg</td>\n",
       "    </tr>\n",
       "    <tr>\n",
       "      <th>271358</th>\n",
       "      <td>0192126040</td>\n",
       "      <td>Republic (World's Classics)</td>\n",
       "      <td>Plato</td>\n",
       "      <td>1996</td>\n",
       "      <td>Oxford University Press</td>\n",
       "      <td>http://images.amazon.com/images/P/0192126040.01.THUMBZZZ.jpg</td>\n",
       "      <td>http://images.amazon.com/images/P/0192126040.01.MZZZZZZZ.jpg</td>\n",
       "      <td>http://images.amazon.com/images/P/0192126040.01.LZZZZZZZ.jpg</td>\n",
       "    </tr>\n",
       "    <tr>\n",
       "      <th>271359</th>\n",
       "      <td>0767409752</td>\n",
       "      <td>A Guided Tour of Rene Descartes' Meditations on First Philosophy with Complete Translations of the Meditations by Ronald Rubin</td>\n",
       "      <td>Christopher  Biffle</td>\n",
       "      <td>2000</td>\n",
       "      <td>McGraw-Hill Humanities/Social Sciences/Languages</td>\n",
       "      <td>http://images.amazon.com/images/P/0767409752.01.THUMBZZZ.jpg</td>\n",
       "      <td>http://images.amazon.com/images/P/0767409752.01.MZZZZZZZ.jpg</td>\n",
       "      <td>http://images.amazon.com/images/P/0767409752.01.LZZZZZZZ.jpg</td>\n",
       "    </tr>\n",
       "  </tbody>\n",
       "</table>\n",
       "<p>271360 rows × 8 columns</p>\n",
       "</div>"
      ],
      "text/plain": [
       "              ISBN  \\\n",
       "0       0195153448   \n",
       "1       0002005018   \n",
       "2       0060973129   \n",
       "3       0374157065   \n",
       "4       0393045218   \n",
       "...            ...   \n",
       "271355  0440400988   \n",
       "271356  0525447644   \n",
       "271357  006008667X   \n",
       "271358  0192126040   \n",
       "271359  0767409752   \n",
       "\n",
       "                                                                                                                            Book-Title  \\\n",
       "0                                                                                                                  Classical Mythology   \n",
       "1                                                                                                                         Clara Callan   \n",
       "2                                                                                                                 Decision in Normandy   \n",
       "3                                   Flu: The Story of the Great Influenza Pandemic of 1918 and the Search for the Virus That Caused It   \n",
       "4                                                                                                               The Mummies of Urumchi   \n",
       "...                                                                                                                                ...   \n",
       "271355                                                                                                      There's a Bat in Bunk Five   \n",
       "271356                                                                                                         From One to One Hundred   \n",
       "271357                                                                   Lily Dale : The True Story of the Town that Talks to the Dead   \n",
       "271358                                                                                                     Republic (World's Classics)   \n",
       "271359  A Guided Tour of Rene Descartes' Meditations on First Philosophy with Complete Translations of the Meditations by Ronald Rubin   \n",
       "\n",
       "                 Book-Author Year-Of-Publication  \\\n",
       "0         Mark P. O. Morford                2002   \n",
       "1       Richard Bruce Wright                2001   \n",
       "2               Carlo D'Este                1991   \n",
       "3           Gina Bari Kolata                1999   \n",
       "4            E. J. W. Barber                1999   \n",
       "...                      ...                 ...   \n",
       "271355        Paula Danziger                1988   \n",
       "271356            Teri Sloat                1991   \n",
       "271357      Christine Wicker                2004   \n",
       "271358                 Plato                1996   \n",
       "271359   Christopher  Biffle                2000   \n",
       "\n",
       "                                               Publisher  \\\n",
       "0                                Oxford University Press   \n",
       "1                                  HarperFlamingo Canada   \n",
       "2                                        HarperPerennial   \n",
       "3                                   Farrar Straus Giroux   \n",
       "4                             W. W. Norton &amp; Company   \n",
       "...                                                  ...   \n",
       "271355                   Random House Childrens Pub (Mm)   \n",
       "271356                                      Dutton Books   \n",
       "271357                                HarperSanFrancisco   \n",
       "271358                           Oxford University Press   \n",
       "271359  McGraw-Hill Humanities/Social Sciences/Languages   \n",
       "\n",
       "                                                         Image-URL-S  \\\n",
       "0       http://images.amazon.com/images/P/0195153448.01.THUMBZZZ.jpg   \n",
       "1       http://images.amazon.com/images/P/0002005018.01.THUMBZZZ.jpg   \n",
       "2       http://images.amazon.com/images/P/0060973129.01.THUMBZZZ.jpg   \n",
       "3       http://images.amazon.com/images/P/0374157065.01.THUMBZZZ.jpg   \n",
       "4       http://images.amazon.com/images/P/0393045218.01.THUMBZZZ.jpg   \n",
       "...                                                              ...   \n",
       "271355  http://images.amazon.com/images/P/0440400988.01.THUMBZZZ.jpg   \n",
       "271356  http://images.amazon.com/images/P/0525447644.01.THUMBZZZ.jpg   \n",
       "271357  http://images.amazon.com/images/P/006008667X.01.THUMBZZZ.jpg   \n",
       "271358  http://images.amazon.com/images/P/0192126040.01.THUMBZZZ.jpg   \n",
       "271359  http://images.amazon.com/images/P/0767409752.01.THUMBZZZ.jpg   \n",
       "\n",
       "                                                         Image-URL-M  \\\n",
       "0       http://images.amazon.com/images/P/0195153448.01.MZZZZZZZ.jpg   \n",
       "1       http://images.amazon.com/images/P/0002005018.01.MZZZZZZZ.jpg   \n",
       "2       http://images.amazon.com/images/P/0060973129.01.MZZZZZZZ.jpg   \n",
       "3       http://images.amazon.com/images/P/0374157065.01.MZZZZZZZ.jpg   \n",
       "4       http://images.amazon.com/images/P/0393045218.01.MZZZZZZZ.jpg   \n",
       "...                                                              ...   \n",
       "271355  http://images.amazon.com/images/P/0440400988.01.MZZZZZZZ.jpg   \n",
       "271356  http://images.amazon.com/images/P/0525447644.01.MZZZZZZZ.jpg   \n",
       "271357  http://images.amazon.com/images/P/006008667X.01.MZZZZZZZ.jpg   \n",
       "271358  http://images.amazon.com/images/P/0192126040.01.MZZZZZZZ.jpg   \n",
       "271359  http://images.amazon.com/images/P/0767409752.01.MZZZZZZZ.jpg   \n",
       "\n",
       "                                                         Image-URL-L  \n",
       "0       http://images.amazon.com/images/P/0195153448.01.LZZZZZZZ.jpg  \n",
       "1       http://images.amazon.com/images/P/0002005018.01.LZZZZZZZ.jpg  \n",
       "2       http://images.amazon.com/images/P/0060973129.01.LZZZZZZZ.jpg  \n",
       "3       http://images.amazon.com/images/P/0374157065.01.LZZZZZZZ.jpg  \n",
       "4       http://images.amazon.com/images/P/0393045218.01.LZZZZZZZ.jpg  \n",
       "...                                                              ...  \n",
       "271355  http://images.amazon.com/images/P/0440400988.01.LZZZZZZZ.jpg  \n",
       "271356  http://images.amazon.com/images/P/0525447644.01.LZZZZZZZ.jpg  \n",
       "271357  http://images.amazon.com/images/P/006008667X.01.LZZZZZZZ.jpg  \n",
       "271358  http://images.amazon.com/images/P/0192126040.01.LZZZZZZZ.jpg  \n",
       "271359  http://images.amazon.com/images/P/0767409752.01.LZZZZZZZ.jpg  \n",
       "\n",
       "[271360 rows x 8 columns]"
      ]
     },
     "execution_count": 131,
     "metadata": {},
     "output_type": "execute_result"
    }
   ],
   "source": [
    "books_df"
   ]
  },
  {
   "cell_type": "code",
   "execution_count": 132,
   "metadata": {},
   "outputs": [
    {
     "data": {
      "text/plain": [
       "((1149780, 3), (1031136, 3))"
      ]
     },
     "execution_count": 132,
     "metadata": {},
     "output_type": "execute_result"
    }
   ],
   "source": [
    "#Ratings dataset should have books only which exist in our books dataset, unless new books are added to books dataset\n",
    "ratings_new = ratings_df[ratings_df.ISBN.isin(books_df.ISBN)]\n",
    "\n",
    "ratings_df.shape , ratings_new.shape"
   ]
  },
  {
   "cell_type": "code",
   "execution_count": 133,
   "metadata": {},
   "outputs": [
    {
     "name": "stdout",
     "output_type": "stream",
     "text": [
      "(1149780, 3)\n",
      "(1031136, 3)\n",
      "278858\n"
     ]
    },
    {
     "data": {
      "text/plain": [
       "(None, 271360)"
      ]
     },
     "execution_count": 133,
     "metadata": {},
     "output_type": "execute_result"
    }
   ],
   "source": [
    "# Filter ratings dataframe to include only users present in the users dataframe\n",
    "ratings_df = ratings_df[ratings_df['User-ID'].isin(users_df['User-ID'])]\n",
    "\n",
    "print(ratings_df.shape)\n",
    "print(ratings_new.shape)\n",
    "\n",
    "\n",
    "# Display the number of users and books in the users and books dataframes respectively\n",
    "print(users_df.shape[0]), (books_df.shape[0])\n"
   ]
  },
  {
   "cell_type": "markdown",
   "metadata": {},
   "source": [
    "## 2 - Exploratory Data Analysis (EDA) and Visualization & Preprocessing"
   ]
  },
  {
   "cell_type": "code",
   "execution_count": 134,
   "metadata": {},
   "outputs": [
    {
     "data": {
      "application/vnd.plotly.v1+json": {
       "config": {
        "plotlyServerURL": "https://plot.ly"
       },
       "data": [
        {
         "alignmentgroup": "True",
         "hovertemplate": "Rating=%{x}<br>Count=%{y}<extra></extra>",
         "legendgroup": "",
         "marker": {
          "color": "#636efa",
          "pattern": {
           "shape": ""
          }
         },
         "name": "",
         "offsetgroup": "",
         "orientation": "v",
         "showlegend": false,
         "textposition": "auto",
         "type": "bar",
         "x": [
          0,
          8,
          10,
          7,
          9,
          5,
          6,
          4,
          3,
          2,
          1
         ],
         "xaxis": "x",
         "y": [
          716109,
          103736,
          78610,
          76457,
          67541,
          50974,
          36924,
          8904,
          5996,
          2759,
          1770
         ],
         "yaxis": "y"
        }
       ],
       "layout": {
        "bargap": 0.1,
        "barmode": "relative",
        "legend": {
         "tracegroupgap": 0
        },
        "template": {
         "data": {
          "bar": [
           {
            "error_x": {
             "color": "#2a3f5f"
            },
            "error_y": {
             "color": "#2a3f5f"
            },
            "marker": {
             "line": {
              "color": "#E5ECF6",
              "width": 0.5
             },
             "pattern": {
              "fillmode": "overlay",
              "size": 10,
              "solidity": 0.2
             }
            },
            "type": "bar"
           }
          ],
          "barpolar": [
           {
            "marker": {
             "line": {
              "color": "#E5ECF6",
              "width": 0.5
             },
             "pattern": {
              "fillmode": "overlay",
              "size": 10,
              "solidity": 0.2
             }
            },
            "type": "barpolar"
           }
          ],
          "carpet": [
           {
            "aaxis": {
             "endlinecolor": "#2a3f5f",
             "gridcolor": "white",
             "linecolor": "white",
             "minorgridcolor": "white",
             "startlinecolor": "#2a3f5f"
            },
            "baxis": {
             "endlinecolor": "#2a3f5f",
             "gridcolor": "white",
             "linecolor": "white",
             "minorgridcolor": "white",
             "startlinecolor": "#2a3f5f"
            },
            "type": "carpet"
           }
          ],
          "choropleth": [
           {
            "colorbar": {
             "outlinewidth": 0,
             "ticks": ""
            },
            "type": "choropleth"
           }
          ],
          "contour": [
           {
            "colorbar": {
             "outlinewidth": 0,
             "ticks": ""
            },
            "colorscale": [
             [
              0,
              "#0d0887"
             ],
             [
              0.1111111111111111,
              "#46039f"
             ],
             [
              0.2222222222222222,
              "#7201a8"
             ],
             [
              0.3333333333333333,
              "#9c179e"
             ],
             [
              0.4444444444444444,
              "#bd3786"
             ],
             [
              0.5555555555555556,
              "#d8576b"
             ],
             [
              0.6666666666666666,
              "#ed7953"
             ],
             [
              0.7777777777777778,
              "#fb9f3a"
             ],
             [
              0.8888888888888888,
              "#fdca26"
             ],
             [
              1,
              "#f0f921"
             ]
            ],
            "type": "contour"
           }
          ],
          "contourcarpet": [
           {
            "colorbar": {
             "outlinewidth": 0,
             "ticks": ""
            },
            "type": "contourcarpet"
           }
          ],
          "heatmap": [
           {
            "colorbar": {
             "outlinewidth": 0,
             "ticks": ""
            },
            "colorscale": [
             [
              0,
              "#0d0887"
             ],
             [
              0.1111111111111111,
              "#46039f"
             ],
             [
              0.2222222222222222,
              "#7201a8"
             ],
             [
              0.3333333333333333,
              "#9c179e"
             ],
             [
              0.4444444444444444,
              "#bd3786"
             ],
             [
              0.5555555555555556,
              "#d8576b"
             ],
             [
              0.6666666666666666,
              "#ed7953"
             ],
             [
              0.7777777777777778,
              "#fb9f3a"
             ],
             [
              0.8888888888888888,
              "#fdca26"
             ],
             [
              1,
              "#f0f921"
             ]
            ],
            "type": "heatmap"
           }
          ],
          "heatmapgl": [
           {
            "colorbar": {
             "outlinewidth": 0,
             "ticks": ""
            },
            "colorscale": [
             [
              0,
              "#0d0887"
             ],
             [
              0.1111111111111111,
              "#46039f"
             ],
             [
              0.2222222222222222,
              "#7201a8"
             ],
             [
              0.3333333333333333,
              "#9c179e"
             ],
             [
              0.4444444444444444,
              "#bd3786"
             ],
             [
              0.5555555555555556,
              "#d8576b"
             ],
             [
              0.6666666666666666,
              "#ed7953"
             ],
             [
              0.7777777777777778,
              "#fb9f3a"
             ],
             [
              0.8888888888888888,
              "#fdca26"
             ],
             [
              1,
              "#f0f921"
             ]
            ],
            "type": "heatmapgl"
           }
          ],
          "histogram": [
           {
            "marker": {
             "pattern": {
              "fillmode": "overlay",
              "size": 10,
              "solidity": 0.2
             }
            },
            "type": "histogram"
           }
          ],
          "histogram2d": [
           {
            "colorbar": {
             "outlinewidth": 0,
             "ticks": ""
            },
            "colorscale": [
             [
              0,
              "#0d0887"
             ],
             [
              0.1111111111111111,
              "#46039f"
             ],
             [
              0.2222222222222222,
              "#7201a8"
             ],
             [
              0.3333333333333333,
              "#9c179e"
             ],
             [
              0.4444444444444444,
              "#bd3786"
             ],
             [
              0.5555555555555556,
              "#d8576b"
             ],
             [
              0.6666666666666666,
              "#ed7953"
             ],
             [
              0.7777777777777778,
              "#fb9f3a"
             ],
             [
              0.8888888888888888,
              "#fdca26"
             ],
             [
              1,
              "#f0f921"
             ]
            ],
            "type": "histogram2d"
           }
          ],
          "histogram2dcontour": [
           {
            "colorbar": {
             "outlinewidth": 0,
             "ticks": ""
            },
            "colorscale": [
             [
              0,
              "#0d0887"
             ],
             [
              0.1111111111111111,
              "#46039f"
             ],
             [
              0.2222222222222222,
              "#7201a8"
             ],
             [
              0.3333333333333333,
              "#9c179e"
             ],
             [
              0.4444444444444444,
              "#bd3786"
             ],
             [
              0.5555555555555556,
              "#d8576b"
             ],
             [
              0.6666666666666666,
              "#ed7953"
             ],
             [
              0.7777777777777778,
              "#fb9f3a"
             ],
             [
              0.8888888888888888,
              "#fdca26"
             ],
             [
              1,
              "#f0f921"
             ]
            ],
            "type": "histogram2dcontour"
           }
          ],
          "mesh3d": [
           {
            "colorbar": {
             "outlinewidth": 0,
             "ticks": ""
            },
            "type": "mesh3d"
           }
          ],
          "parcoords": [
           {
            "line": {
             "colorbar": {
              "outlinewidth": 0,
              "ticks": ""
             }
            },
            "type": "parcoords"
           }
          ],
          "pie": [
           {
            "automargin": true,
            "type": "pie"
           }
          ],
          "scatter": [
           {
            "fillpattern": {
             "fillmode": "overlay",
             "size": 10,
             "solidity": 0.2
            },
            "type": "scatter"
           }
          ],
          "scatter3d": [
           {
            "line": {
             "colorbar": {
              "outlinewidth": 0,
              "ticks": ""
             }
            },
            "marker": {
             "colorbar": {
              "outlinewidth": 0,
              "ticks": ""
             }
            },
            "type": "scatter3d"
           }
          ],
          "scattercarpet": [
           {
            "marker": {
             "colorbar": {
              "outlinewidth": 0,
              "ticks": ""
             }
            },
            "type": "scattercarpet"
           }
          ],
          "scattergeo": [
           {
            "marker": {
             "colorbar": {
              "outlinewidth": 0,
              "ticks": ""
             }
            },
            "type": "scattergeo"
           }
          ],
          "scattergl": [
           {
            "marker": {
             "colorbar": {
              "outlinewidth": 0,
              "ticks": ""
             }
            },
            "type": "scattergl"
           }
          ],
          "scattermapbox": [
           {
            "marker": {
             "colorbar": {
              "outlinewidth": 0,
              "ticks": ""
             }
            },
            "type": "scattermapbox"
           }
          ],
          "scatterpolar": [
           {
            "marker": {
             "colorbar": {
              "outlinewidth": 0,
              "ticks": ""
             }
            },
            "type": "scatterpolar"
           }
          ],
          "scatterpolargl": [
           {
            "marker": {
             "colorbar": {
              "outlinewidth": 0,
              "ticks": ""
             }
            },
            "type": "scatterpolargl"
           }
          ],
          "scatterternary": [
           {
            "marker": {
             "colorbar": {
              "outlinewidth": 0,
              "ticks": ""
             }
            },
            "type": "scatterternary"
           }
          ],
          "surface": [
           {
            "colorbar": {
             "outlinewidth": 0,
             "ticks": ""
            },
            "colorscale": [
             [
              0,
              "#0d0887"
             ],
             [
              0.1111111111111111,
              "#46039f"
             ],
             [
              0.2222222222222222,
              "#7201a8"
             ],
             [
              0.3333333333333333,
              "#9c179e"
             ],
             [
              0.4444444444444444,
              "#bd3786"
             ],
             [
              0.5555555555555556,
              "#d8576b"
             ],
             [
              0.6666666666666666,
              "#ed7953"
             ],
             [
              0.7777777777777778,
              "#fb9f3a"
             ],
             [
              0.8888888888888888,
              "#fdca26"
             ],
             [
              1,
              "#f0f921"
             ]
            ],
            "type": "surface"
           }
          ],
          "table": [
           {
            "cells": {
             "fill": {
              "color": "#EBF0F8"
             },
             "line": {
              "color": "white"
             }
            },
            "header": {
             "fill": {
              "color": "#C8D4E3"
             },
             "line": {
              "color": "white"
             }
            },
            "type": "table"
           }
          ]
         },
         "layout": {
          "annotationdefaults": {
           "arrowcolor": "#2a3f5f",
           "arrowhead": 0,
           "arrowwidth": 1
          },
          "autotypenumbers": "strict",
          "coloraxis": {
           "colorbar": {
            "outlinewidth": 0,
            "ticks": ""
           }
          },
          "colorscale": {
           "diverging": [
            [
             0,
             "#8e0152"
            ],
            [
             0.1,
             "#c51b7d"
            ],
            [
             0.2,
             "#de77ae"
            ],
            [
             0.3,
             "#f1b6da"
            ],
            [
             0.4,
             "#fde0ef"
            ],
            [
             0.5,
             "#f7f7f7"
            ],
            [
             0.6,
             "#e6f5d0"
            ],
            [
             0.7,
             "#b8e186"
            ],
            [
             0.8,
             "#7fbc41"
            ],
            [
             0.9,
             "#4d9221"
            ],
            [
             1,
             "#276419"
            ]
           ],
           "sequential": [
            [
             0,
             "#0d0887"
            ],
            [
             0.1111111111111111,
             "#46039f"
            ],
            [
             0.2222222222222222,
             "#7201a8"
            ],
            [
             0.3333333333333333,
             "#9c179e"
            ],
            [
             0.4444444444444444,
             "#bd3786"
            ],
            [
             0.5555555555555556,
             "#d8576b"
            ],
            [
             0.6666666666666666,
             "#ed7953"
            ],
            [
             0.7777777777777778,
             "#fb9f3a"
            ],
            [
             0.8888888888888888,
             "#fdca26"
            ],
            [
             1,
             "#f0f921"
            ]
           ],
           "sequentialminus": [
            [
             0,
             "#0d0887"
            ],
            [
             0.1111111111111111,
             "#46039f"
            ],
            [
             0.2222222222222222,
             "#7201a8"
            ],
            [
             0.3333333333333333,
             "#9c179e"
            ],
            [
             0.4444444444444444,
             "#bd3786"
            ],
            [
             0.5555555555555556,
             "#d8576b"
            ],
            [
             0.6666666666666666,
             "#ed7953"
            ],
            [
             0.7777777777777778,
             "#fb9f3a"
            ],
            [
             0.8888888888888888,
             "#fdca26"
            ],
            [
             1,
             "#f0f921"
            ]
           ]
          },
          "colorway": [
           "#636efa",
           "#EF553B",
           "#00cc96",
           "#ab63fa",
           "#FFA15A",
           "#19d3f3",
           "#FF6692",
           "#B6E880",
           "#FF97FF",
           "#FECB52"
          ],
          "font": {
           "color": "#2a3f5f"
          },
          "geo": {
           "bgcolor": "white",
           "lakecolor": "white",
           "landcolor": "#E5ECF6",
           "showlakes": true,
           "showland": true,
           "subunitcolor": "white"
          },
          "hoverlabel": {
           "align": "left"
          },
          "hovermode": "closest",
          "mapbox": {
           "style": "light"
          },
          "paper_bgcolor": "white",
          "plot_bgcolor": "#E5ECF6",
          "polar": {
           "angularaxis": {
            "gridcolor": "white",
            "linecolor": "white",
            "ticks": ""
           },
           "bgcolor": "#E5ECF6",
           "radialaxis": {
            "gridcolor": "white",
            "linecolor": "white",
            "ticks": ""
           }
          },
          "scene": {
           "xaxis": {
            "backgroundcolor": "#E5ECF6",
            "gridcolor": "white",
            "gridwidth": 2,
            "linecolor": "white",
            "showbackground": true,
            "ticks": "",
            "zerolinecolor": "white"
           },
           "yaxis": {
            "backgroundcolor": "#E5ECF6",
            "gridcolor": "white",
            "gridwidth": 2,
            "linecolor": "white",
            "showbackground": true,
            "ticks": "",
            "zerolinecolor": "white"
           },
           "zaxis": {
            "backgroundcolor": "#E5ECF6",
            "gridcolor": "white",
            "gridwidth": 2,
            "linecolor": "white",
            "showbackground": true,
            "ticks": "",
            "zerolinecolor": "white"
           }
          },
          "shapedefaults": {
           "line": {
            "color": "#2a3f5f"
           }
          },
          "ternary": {
           "aaxis": {
            "gridcolor": "white",
            "linecolor": "white",
            "ticks": ""
           },
           "baxis": {
            "gridcolor": "white",
            "linecolor": "white",
            "ticks": ""
           },
           "bgcolor": "#E5ECF6",
           "caxis": {
            "gridcolor": "white",
            "linecolor": "white",
            "ticks": ""
           }
          },
          "title": {
           "x": 0.05
          },
          "xaxis": {
           "automargin": true,
           "gridcolor": "white",
           "linecolor": "white",
           "ticks": "",
           "title": {
            "standoff": 15
           },
           "zerolinecolor": "white",
           "zerolinewidth": 2
          },
          "yaxis": {
           "automargin": true,
           "gridcolor": "white",
           "linecolor": "white",
           "ticks": "",
           "title": {
            "standoff": 15
           },
           "zerolinecolor": "white",
           "zerolinewidth": 2
          }
         }
        },
        "title": {
         "text": "Distribution of Ratings",
         "x": 0.5
        },
        "xaxis": {
         "anchor": "y",
         "domain": [
          0,
          1
         ],
         "tickmode": "linear",
         "title": {
          "text": "Rating"
         }
        },
        "yaxis": {
         "anchor": "x",
         "domain": [
          0,
          1
         ],
         "title": {
          "text": "Count"
         }
        }
       }
      },
      "text/html": [
       "<div>                            <div id=\"e6108f31-42a0-4b29-a76c-522bf394d758\" class=\"plotly-graph-div\" style=\"height:525px; width:100%;\"></div>            <script type=\"text/javascript\">                require([\"plotly\"], function(Plotly) {                    window.PLOTLYENV=window.PLOTLYENV || {};                                    if (document.getElementById(\"e6108f31-42a0-4b29-a76c-522bf394d758\")) {                    Plotly.newPlot(                        \"e6108f31-42a0-4b29-a76c-522bf394d758\",                        [{\"alignmentgroup\":\"True\",\"hovertemplate\":\"Rating=%{x}<br>Count=%{y}<extra></extra>\",\"legendgroup\":\"\",\"marker\":{\"color\":\"#636efa\",\"pattern\":{\"shape\":\"\"}},\"name\":\"\",\"offsetgroup\":\"\",\"orientation\":\"v\",\"showlegend\":false,\"textposition\":\"auto\",\"x\":[0,8,10,7,9,5,6,4,3,2,1],\"xaxis\":\"x\",\"y\":[716109,103736,78610,76457,67541,50974,36924,8904,5996,2759,1770],\"yaxis\":\"y\",\"type\":\"bar\"}],                        {\"template\":{\"data\":{\"histogram2dcontour\":[{\"type\":\"histogram2dcontour\",\"colorbar\":{\"outlinewidth\":0,\"ticks\":\"\"},\"colorscale\":[[0.0,\"#0d0887\"],[0.1111111111111111,\"#46039f\"],[0.2222222222222222,\"#7201a8\"],[0.3333333333333333,\"#9c179e\"],[0.4444444444444444,\"#bd3786\"],[0.5555555555555556,\"#d8576b\"],[0.6666666666666666,\"#ed7953\"],[0.7777777777777778,\"#fb9f3a\"],[0.8888888888888888,\"#fdca26\"],[1.0,\"#f0f921\"]]}],\"choropleth\":[{\"type\":\"choropleth\",\"colorbar\":{\"outlinewidth\":0,\"ticks\":\"\"}}],\"histogram2d\":[{\"type\":\"histogram2d\",\"colorbar\":{\"outlinewidth\":0,\"ticks\":\"\"},\"colorscale\":[[0.0,\"#0d0887\"],[0.1111111111111111,\"#46039f\"],[0.2222222222222222,\"#7201a8\"],[0.3333333333333333,\"#9c179e\"],[0.4444444444444444,\"#bd3786\"],[0.5555555555555556,\"#d8576b\"],[0.6666666666666666,\"#ed7953\"],[0.7777777777777778,\"#fb9f3a\"],[0.8888888888888888,\"#fdca26\"],[1.0,\"#f0f921\"]]}],\"heatmap\":[{\"type\":\"heatmap\",\"colorbar\":{\"outlinewidth\":0,\"ticks\":\"\"},\"colorscale\":[[0.0,\"#0d0887\"],[0.1111111111111111,\"#46039f\"],[0.2222222222222222,\"#7201a8\"],[0.3333333333333333,\"#9c179e\"],[0.4444444444444444,\"#bd3786\"],[0.5555555555555556,\"#d8576b\"],[0.6666666666666666,\"#ed7953\"],[0.7777777777777778,\"#fb9f3a\"],[0.8888888888888888,\"#fdca26\"],[1.0,\"#f0f921\"]]}],\"heatmapgl\":[{\"type\":\"heatmapgl\",\"colorbar\":{\"outlinewidth\":0,\"ticks\":\"\"},\"colorscale\":[[0.0,\"#0d0887\"],[0.1111111111111111,\"#46039f\"],[0.2222222222222222,\"#7201a8\"],[0.3333333333333333,\"#9c179e\"],[0.4444444444444444,\"#bd3786\"],[0.5555555555555556,\"#d8576b\"],[0.6666666666666666,\"#ed7953\"],[0.7777777777777778,\"#fb9f3a\"],[0.8888888888888888,\"#fdca26\"],[1.0,\"#f0f921\"]]}],\"contourcarpet\":[{\"type\":\"contourcarpet\",\"colorbar\":{\"outlinewidth\":0,\"ticks\":\"\"}}],\"contour\":[{\"type\":\"contour\",\"colorbar\":{\"outlinewidth\":0,\"ticks\":\"\"},\"colorscale\":[[0.0,\"#0d0887\"],[0.1111111111111111,\"#46039f\"],[0.2222222222222222,\"#7201a8\"],[0.3333333333333333,\"#9c179e\"],[0.4444444444444444,\"#bd3786\"],[0.5555555555555556,\"#d8576b\"],[0.6666666666666666,\"#ed7953\"],[0.7777777777777778,\"#fb9f3a\"],[0.8888888888888888,\"#fdca26\"],[1.0,\"#f0f921\"]]}],\"surface\":[{\"type\":\"surface\",\"colorbar\":{\"outlinewidth\":0,\"ticks\":\"\"},\"colorscale\":[[0.0,\"#0d0887\"],[0.1111111111111111,\"#46039f\"],[0.2222222222222222,\"#7201a8\"],[0.3333333333333333,\"#9c179e\"],[0.4444444444444444,\"#bd3786\"],[0.5555555555555556,\"#d8576b\"],[0.6666666666666666,\"#ed7953\"],[0.7777777777777778,\"#fb9f3a\"],[0.8888888888888888,\"#fdca26\"],[1.0,\"#f0f921\"]]}],\"mesh3d\":[{\"type\":\"mesh3d\",\"colorbar\":{\"outlinewidth\":0,\"ticks\":\"\"}}],\"scatter\":[{\"fillpattern\":{\"fillmode\":\"overlay\",\"size\":10,\"solidity\":0.2},\"type\":\"scatter\"}],\"parcoords\":[{\"type\":\"parcoords\",\"line\":{\"colorbar\":{\"outlinewidth\":0,\"ticks\":\"\"}}}],\"scatterpolargl\":[{\"type\":\"scatterpolargl\",\"marker\":{\"colorbar\":{\"outlinewidth\":0,\"ticks\":\"\"}}}],\"bar\":[{\"error_x\":{\"color\":\"#2a3f5f\"},\"error_y\":{\"color\":\"#2a3f5f\"},\"marker\":{\"line\":{\"color\":\"#E5ECF6\",\"width\":0.5},\"pattern\":{\"fillmode\":\"overlay\",\"size\":10,\"solidity\":0.2}},\"type\":\"bar\"}],\"scattergeo\":[{\"type\":\"scattergeo\",\"marker\":{\"colorbar\":{\"outlinewidth\":0,\"ticks\":\"\"}}}],\"scatterpolar\":[{\"type\":\"scatterpolar\",\"marker\":{\"colorbar\":{\"outlinewidth\":0,\"ticks\":\"\"}}}],\"histogram\":[{\"marker\":{\"pattern\":{\"fillmode\":\"overlay\",\"size\":10,\"solidity\":0.2}},\"type\":\"histogram\"}],\"scattergl\":[{\"type\":\"scattergl\",\"marker\":{\"colorbar\":{\"outlinewidth\":0,\"ticks\":\"\"}}}],\"scatter3d\":[{\"type\":\"scatter3d\",\"line\":{\"colorbar\":{\"outlinewidth\":0,\"ticks\":\"\"}},\"marker\":{\"colorbar\":{\"outlinewidth\":0,\"ticks\":\"\"}}}],\"scattermapbox\":[{\"type\":\"scattermapbox\",\"marker\":{\"colorbar\":{\"outlinewidth\":0,\"ticks\":\"\"}}}],\"scatterternary\":[{\"type\":\"scatterternary\",\"marker\":{\"colorbar\":{\"outlinewidth\":0,\"ticks\":\"\"}}}],\"scattercarpet\":[{\"type\":\"scattercarpet\",\"marker\":{\"colorbar\":{\"outlinewidth\":0,\"ticks\":\"\"}}}],\"carpet\":[{\"aaxis\":{\"endlinecolor\":\"#2a3f5f\",\"gridcolor\":\"white\",\"linecolor\":\"white\",\"minorgridcolor\":\"white\",\"startlinecolor\":\"#2a3f5f\"},\"baxis\":{\"endlinecolor\":\"#2a3f5f\",\"gridcolor\":\"white\",\"linecolor\":\"white\",\"minorgridcolor\":\"white\",\"startlinecolor\":\"#2a3f5f\"},\"type\":\"carpet\"}],\"table\":[{\"cells\":{\"fill\":{\"color\":\"#EBF0F8\"},\"line\":{\"color\":\"white\"}},\"header\":{\"fill\":{\"color\":\"#C8D4E3\"},\"line\":{\"color\":\"white\"}},\"type\":\"table\"}],\"barpolar\":[{\"marker\":{\"line\":{\"color\":\"#E5ECF6\",\"width\":0.5},\"pattern\":{\"fillmode\":\"overlay\",\"size\":10,\"solidity\":0.2}},\"type\":\"barpolar\"}],\"pie\":[{\"automargin\":true,\"type\":\"pie\"}]},\"layout\":{\"autotypenumbers\":\"strict\",\"colorway\":[\"#636efa\",\"#EF553B\",\"#00cc96\",\"#ab63fa\",\"#FFA15A\",\"#19d3f3\",\"#FF6692\",\"#B6E880\",\"#FF97FF\",\"#FECB52\"],\"font\":{\"color\":\"#2a3f5f\"},\"hovermode\":\"closest\",\"hoverlabel\":{\"align\":\"left\"},\"paper_bgcolor\":\"white\",\"plot_bgcolor\":\"#E5ECF6\",\"polar\":{\"bgcolor\":\"#E5ECF6\",\"angularaxis\":{\"gridcolor\":\"white\",\"linecolor\":\"white\",\"ticks\":\"\"},\"radialaxis\":{\"gridcolor\":\"white\",\"linecolor\":\"white\",\"ticks\":\"\"}},\"ternary\":{\"bgcolor\":\"#E5ECF6\",\"aaxis\":{\"gridcolor\":\"white\",\"linecolor\":\"white\",\"ticks\":\"\"},\"baxis\":{\"gridcolor\":\"white\",\"linecolor\":\"white\",\"ticks\":\"\"},\"caxis\":{\"gridcolor\":\"white\",\"linecolor\":\"white\",\"ticks\":\"\"}},\"coloraxis\":{\"colorbar\":{\"outlinewidth\":0,\"ticks\":\"\"}},\"colorscale\":{\"sequential\":[[0.0,\"#0d0887\"],[0.1111111111111111,\"#46039f\"],[0.2222222222222222,\"#7201a8\"],[0.3333333333333333,\"#9c179e\"],[0.4444444444444444,\"#bd3786\"],[0.5555555555555556,\"#d8576b\"],[0.6666666666666666,\"#ed7953\"],[0.7777777777777778,\"#fb9f3a\"],[0.8888888888888888,\"#fdca26\"],[1.0,\"#f0f921\"]],\"sequentialminus\":[[0.0,\"#0d0887\"],[0.1111111111111111,\"#46039f\"],[0.2222222222222222,\"#7201a8\"],[0.3333333333333333,\"#9c179e\"],[0.4444444444444444,\"#bd3786\"],[0.5555555555555556,\"#d8576b\"],[0.6666666666666666,\"#ed7953\"],[0.7777777777777778,\"#fb9f3a\"],[0.8888888888888888,\"#fdca26\"],[1.0,\"#f0f921\"]],\"diverging\":[[0,\"#8e0152\"],[0.1,\"#c51b7d\"],[0.2,\"#de77ae\"],[0.3,\"#f1b6da\"],[0.4,\"#fde0ef\"],[0.5,\"#f7f7f7\"],[0.6,\"#e6f5d0\"],[0.7,\"#b8e186\"],[0.8,\"#7fbc41\"],[0.9,\"#4d9221\"],[1,\"#276419\"]]},\"xaxis\":{\"gridcolor\":\"white\",\"linecolor\":\"white\",\"ticks\":\"\",\"title\":{\"standoff\":15},\"zerolinecolor\":\"white\",\"automargin\":true,\"zerolinewidth\":2},\"yaxis\":{\"gridcolor\":\"white\",\"linecolor\":\"white\",\"ticks\":\"\",\"title\":{\"standoff\":15},\"zerolinecolor\":\"white\",\"automargin\":true,\"zerolinewidth\":2},\"scene\":{\"xaxis\":{\"backgroundcolor\":\"#E5ECF6\",\"gridcolor\":\"white\",\"linecolor\":\"white\",\"showbackground\":true,\"ticks\":\"\",\"zerolinecolor\":\"white\",\"gridwidth\":2},\"yaxis\":{\"backgroundcolor\":\"#E5ECF6\",\"gridcolor\":\"white\",\"linecolor\":\"white\",\"showbackground\":true,\"ticks\":\"\",\"zerolinecolor\":\"white\",\"gridwidth\":2},\"zaxis\":{\"backgroundcolor\":\"#E5ECF6\",\"gridcolor\":\"white\",\"linecolor\":\"white\",\"showbackground\":true,\"ticks\":\"\",\"zerolinecolor\":\"white\",\"gridwidth\":2}},\"shapedefaults\":{\"line\":{\"color\":\"#2a3f5f\"}},\"annotationdefaults\":{\"arrowcolor\":\"#2a3f5f\",\"arrowhead\":0,\"arrowwidth\":1},\"geo\":{\"bgcolor\":\"white\",\"landcolor\":\"#E5ECF6\",\"subunitcolor\":\"white\",\"showland\":true,\"showlakes\":true,\"lakecolor\":\"white\"},\"title\":{\"x\":0.05},\"mapbox\":{\"style\":\"light\"}}},\"xaxis\":{\"anchor\":\"y\",\"domain\":[0.0,1.0],\"title\":{\"text\":\"Rating\"},\"tickmode\":\"linear\"},\"yaxis\":{\"anchor\":\"x\",\"domain\":[0.0,1.0],\"title\":{\"text\":\"Count\"}},\"legend\":{\"tracegroupgap\":0},\"title\":{\"text\":\"Distribution of Ratings\",\"x\":0.5},\"barmode\":\"relative\",\"bargap\":0.1},                        {\"responsive\": true}                    ).then(function(){\n",
       "                            \n",
       "var gd = document.getElementById('e6108f31-42a0-4b29-a76c-522bf394d758');\n",
       "var x = new MutationObserver(function (mutations, observer) {{\n",
       "        var display = window.getComputedStyle(gd).display;\n",
       "        if (!display || display === 'none') {{\n",
       "            console.log([gd, 'removed!']);\n",
       "            Plotly.purge(gd);\n",
       "            observer.disconnect();\n",
       "        }}\n",
       "}});\n",
       "\n",
       "// Listen for the removal of the full notebook cells\n",
       "var notebookContainer = gd.closest('#notebook-container');\n",
       "if (notebookContainer) {{\n",
       "    x.observe(notebookContainer, {childList: true});\n",
       "}}\n",
       "\n",
       "// Listen for the clearing of the current output cell\n",
       "var outputEl = gd.closest('.output');\n",
       "if (outputEl) {{\n",
       "    x.observe(outputEl, {childList: true});\n",
       "}}\n",
       "\n",
       "                        })                };                });            </script>        </div>"
      ]
     },
     "metadata": {},
     "output_type": "display_data"
    }
   ],
   "source": [
    "# Create a bar plot using Plotly\n",
    "fig = px.bar(ratings_df[\"Book-Rating\"].value_counts(), \n",
    "             x=ratings_df[\"Book-Rating\"].value_counts().index, \n",
    "             y=ratings_df[\"Book-Rating\"].value_counts().values,\n",
    "             labels={'x': 'Rating', 'y': 'Count'},\n",
    "             title='Distribution of Ratings')\n",
    "\n",
    "# Customize the layout\n",
    "fig.update_layout(\n",
    "    xaxis=dict(title='Rating', tickmode='linear'),\n",
    "    yaxis=dict(title='Count'),\n",
    "    title=dict(text='Distribution of Ratings', x=0.5),\n",
    "    bargap=0.1\n",
    ")\n",
    "\n",
    "fig.show()"
   ]
  },
  {
   "cell_type": "code",
   "execution_count": 135,
   "metadata": {},
   "outputs": [
    {
     "data": {
      "text/plain": [
       "array([ 0,  5,  3,  6,  8,  7, 10,  9,  4,  1,  2], dtype=int64)"
      ]
     },
     "execution_count": 135,
     "metadata": {},
     "output_type": "execute_result"
    }
   ],
   "source": [
    "ratings_df[\"Book-Rating\"].unique()"
   ]
  },
  {
   "cell_type": "code",
   "execution_count": 136,
   "metadata": {},
   "outputs": [],
   "source": [
    "# Hence segregating implicit and explicit ratings datasets\n",
    "ratings_explicit = ratings_new[ratings_new[\"Book-Rating\"] != 0]\n",
    "ratings_implicit = ratings_new[ratings_new[\"Book-Rating\"] == 0]"
   ]
  },
  {
   "cell_type": "code",
   "execution_count": 137,
   "metadata": {},
   "outputs": [
    {
     "name": "stdout",
     "output_type": "stream",
     "text": [
      "(1031136, 3)\n",
      "(383842, 3)\n",
      "(647294, 3)\n"
     ]
    },
    {
     "data": {
      "text/plain": [
       "<Axes: xlabel='Book-Rating', ylabel='count'>"
      ]
     },
     "execution_count": 137,
     "metadata": {},
     "output_type": "execute_result"
    },
    {
     "data": {
      "image/png": "[encoded data removed]",
      "text/plain": [
       "<Figure size 1200x800 with 1 Axes>"
      ]
     },
     "metadata": {},
     "output_type": "display_data"
    }
   ],
   "source": [
    "print(ratings_new.shape)\n",
    "print(ratings_explicit.shape)\n",
    "print(ratings_implicit.shape)\n",
    "plt.style.use('fivethirtyeight')\n",
    "plt.figure(figsize=(12, 8))\n",
    "sns.countplot(data=ratings_explicit , x='Book-Rating', palette='rocket_r')"
   ]
  },
  {
   "cell_type": "markdown",
   "metadata": {},
   "source": [
    "In recommendation systems, it's common to encounter implicit feedback data, where users don't explicitly provide ratings. Instead, their actions serve as indications of preference. For instance, a rating of 0 may denote a missing or unknown rating, typically interpreted as 'implicit negative feedback.' This implies that users who haven't rated a book aren't necessarily expressing dislike; rather, they may not have formed an opinion about it."
   ]
  },
  {
   "cell_type": "code",
   "execution_count": 138,
   "metadata": {},
   "outputs": [
    {
     "data": {
      "text/plain": [
       "ISBN                   0\n",
       "Book-Title             0\n",
       "Book-Author            2\n",
       "Year-Of-Publication    0\n",
       "Publisher              2\n",
       "Image-URL-S            0\n",
       "Image-URL-M            0\n",
       "Image-URL-L            3\n",
       "dtype: int64"
      ]
     },
     "execution_count": 138,
     "metadata": {},
     "output_type": "execute_result"
    }
   ],
   "source": [
    "#Check missing values\n",
    "books_df.isna().sum()"
   ]
  },
  {
   "cell_type": "code",
   "execution_count": 139,
   "metadata": {},
   "outputs": [],
   "source": [
    "#Drop missing values\n",
    "books_df.dropna(inplace=True)"
   ]
  },
  {
   "cell_type": "code",
   "execution_count": 140,
   "metadata": {},
   "outputs": [
    {
     "data": {
      "text/plain": [
       "0"
      ]
     },
     "execution_count": 140,
     "metadata": {},
     "output_type": "execute_result"
    }
   ],
   "source": [
    "#Check for duplicated data records\n",
    "books_df.duplicated().sum()"
   ]
  },
  {
   "cell_type": "code",
   "execution_count": 141,
   "metadata": {},
   "outputs": [
    {
     "data": {
      "text/plain": [
       "array([2002, 2001, 1999, 2000, 1998, 2003, 1997, 1996, 1995, 1994, 1993,\n",
       "       1992, 1991, 1990, 1989, 1988, 1987, 2004, 1986, '1999', 1985,\n",
       "       '2000', '2002', '1998', '2001', 1984, 0, '1997', '1996', 1983,\n",
       "       '1995', 1982, '1994', '2003', '1993', '1992', '1991', 1981, '1990',\n",
       "       '1989', '1988', 1980, '1987', '1986', 1979, 1978, '1985', 1977,\n",
       "       '1984', '2004', '1983', 1976, '1982', '0', '1981', 1975, '1980',\n",
       "       1974, '1979', 1973, '1978', 1972, '1977', '1976', '1975', 1971,\n",
       "       '1974', 1970, '1973', 1969, '1972', '1971', 1968, '1970', 1966,\n",
       "       1967, 1965, 1964, '1969', 1963, 1960, 1961, 1962, 1959, '1968',\n",
       "       1958, 1957, '1965', 1953, 1955, '1960', 1956, '1961', 1954, '1966',\n",
       "       '1962', '1967', '1963', '1964', 1951, 2005, 1940, '1959', '1956',\n",
       "       1920, '1957', '1955', 1952, 1950, '1958', '2005', '1953', 1942,\n",
       "       1930, 1946, '1952', 1947, 1911, '1911', '1951', '1950', 1949, 1941,\n",
       "       '1940', '1954', 1923, 1939, 1901, 1929, 1938, 1948, 1943, 1945,\n",
       "       '1920', 1937, 1936, 2030, '1947', '2006', '1944', 1935, 1932,\n",
       "       '2030', '1923', '1948', '1942', '1932', '1933', '1945', '1941',\n",
       "       '1900', '1943', '1939', '1922', '1946', 1931, 2010, 1925, '1936',\n",
       "       2020, 1921, 1928, 1902, 1933, '1909', '1949', 2050, '1376', '1926',\n",
       "       '2024', '1938', '1897', '2020', '2011', '1378', '2008', '1919',\n",
       "       1908, '1930', '1931', 2011, 1926, 1904, 1927, 1914, 1934, 1910,\n",
       "       1924, 1900, 2038, 2026, 1944, 1917, 1906, 1806, 2021, '1924',\n",
       "       '2012', '1927', '2037'], dtype=object)"
      ]
     },
     "execution_count": 141,
     "metadata": {},
     "output_type": "execute_result"
    }
   ],
   "source": [
    "books_df[\"Year-Of-Publication\"].value_counts().index.values"
   ]
  },
  {
   "cell_type": "markdown",
   "metadata": {},
   "source": [
    "There are instances where non-year values are present, such as '0', or specific years like '1376'"
   ]
  },
  {
   "cell_type": "code",
   "execution_count": 142,
   "metadata": {},
   "outputs": [],
   "source": [
    "# Filter out invalid ot non-year values\n",
    "valid_years = books_df[\"Year-Of-Publication\"].astype(str).str.isnumeric()\n",
    "\n",
    "books_df = books_df[valid_years]\n",
    "\n",
    "# Convert the column data to integers\n",
    "\n",
    "books_df[\"Year-Of-Publication\"] = books_df[\"Year-Of-Publication\"].astype(int)\n",
    "\n",
    "\n",
    "# Create a new datetime column from the integers representing years\n",
    "books_df[\"Publication_Date\"] = pd.to_datetime(books_df[\"Year-Of-Publication\"], format=\"%Y\", errors=\"coerce\")\n",
    "\n",
    "# Drop the old feature : 'year-Of-Publication'\n",
    "books_df.drop(columns=[\"Year-Of-Publication\"], inplace=True)\n",
    "\n",
    "\n",
    "books_df = pd.DataFrame(books_df)"
   ]
  },
  {
   "cell_type": "code",
   "execution_count": 143,
   "metadata": {},
   "outputs": [],
   "source": [
    "# Create a new column with only the year part as integers\n",
    "books_df[\"Year-Of-Publication\"] = books_df[\"Publication_Date\"].dt.year"
   ]
  },
  {
   "cell_type": "code",
   "execution_count": 144,
   "metadata": {},
   "outputs": [
    {
     "data": {
      "text/plain": [
       "array([2002., 1999., 2001., 2000., 1998., 1997., 2003., 1996., 1995.,\n",
       "       1994., 1993., 1992., 1991., 1990., 1989., 1988., 1987., 1986.,\n",
       "       2004., 1985., 1984., 1983., 1982., 1981., 1980., 1979., 1978.,\n",
       "       1977., 1976., 1975., 1974., 1973., 1972., 1971., 1970., 1969.,\n",
       "       1968., 1966., 1967., 1965., 1964., 1960., 1961., 1963., 1962.,\n",
       "       1959., 1958., 1957., 1956., 1955., 1953., 1954., 2005., 1951.,\n",
       "       1940., 1952., 1920., 1950., 1911., 1942., 1947., 1946., 1930.,\n",
       "       1949., 1923., 1941., 1939., 1948., 1945., 1943., 1901., 1938.,\n",
       "       2030., 1936., 1929., 1937., 1932., 1944., 1933., 1935., 2006.,\n",
       "       1900., 1931., 2020., 1927., 1921., 1922., 1909., 2011., 1925.,\n",
       "       1926., 2010., 1924., 1902., 2050., 1928., 1904., 2012., 2024.,\n",
       "       1897., 1919., 2008., 1934., 1910., 1806., 2021., 2038., 1906.,\n",
       "       1908., 1914., 1917., 2026., 2037.])"
      ]
     },
     "execution_count": 144,
     "metadata": {},
     "output_type": "execute_result"
    }
   ],
   "source": [
    "books_df[\"Year-Of-Publication\"].value_counts().index.values"
   ]
  },
  {
   "cell_type": "code",
   "execution_count": 145,
   "metadata": {},
   "outputs": [],
   "source": [
    "#All the invalid data at this time\n",
    "years_to_exclude = [2037, 2026, 2030, 2050, 2038]\n",
    "books_df = books_df[~books_df['Year-Of-Publication'].isin(years_to_exclude)]"
   ]
  },
  {
   "cell_type": "code",
   "execution_count": 146,
   "metadata": {},
   "outputs": [
    {
     "data": {
      "image/png": "[encoded data removed]",
      "text/plain": [
       "<Figure size 2000x1000 with 1 Axes>"
      ]
     },
     "metadata": {},
     "output_type": "display_data"
    }
   ],
   "source": [
    "# Set the figure size\n",
    "plt.figure(figsize=(20,10))\n",
    "# Create a count plot\n",
    "sns.countplot(x=books_df[\"Year-Of-Publication\"], palette=\"viridis\")\n",
    "\n",
    "# Set plot title and axis labels\n",
    "plt.title(\"Publication Frequency Across Years\", fontsize=18)\n",
    "plt.xlabel(\"Year of Publication\", fontsize=14)\n",
    "plt.ylabel(\"Number of Publications\", fontsize=14)\n",
    "\n",
    "# Rotate x-axis labels for better readability\n",
    "plt.xticks(rotation=90)\n",
    "\n",
    "plt.show()"
   ]
  },
  {
   "cell_type": "markdown",
   "metadata": {},
   "source": [
    "<font color=\"red\">!</font> **Most books year-of-publication is between ***1980-2004***** "
   ]
  },
  {
   "cell_type": "code",
   "execution_count": 147,
   "metadata": {},
   "outputs": [],
   "source": [
    "# Merge the books dataframe with the ratings dataframe on the \"ISBN\" column\n",
    "books_with_ratings = pd.merge(books_df, ratings_df, on=\"ISBN\")"
   ]
  },
  {
   "cell_type": "code",
   "execution_count": 148,
   "metadata": {},
   "outputs": [
    {
     "data": {
      "text/html": [
       "<div>\n",
       "<style scoped>\n",
       "    .dataframe tbody tr th:only-of-type {\n",
       "        vertical-align: middle;\n",
       "    }\n",
       "\n",
       "    .dataframe tbody tr th {\n",
       "        vertical-align: top;\n",
       "    }\n",
       "\n",
       "    .dataframe thead th {\n",
       "        text-align: right;\n",
       "    }\n",
       "</style>\n",
       "<table border=\"1\" class=\"dataframe\">\n",
       "  <thead>\n",
       "    <tr style=\"text-align: right;\">\n",
       "      <th></th>\n",
       "      <th>ISBN</th>\n",
       "      <th>Book-Title</th>\n",
       "      <th>Book-Author</th>\n",
       "      <th>Publisher</th>\n",
       "      <th>Image-URL-S</th>\n",
       "      <th>Image-URL-M</th>\n",
       "      <th>Image-URL-L</th>\n",
       "      <th>Publication_Date</th>\n",
       "      <th>Year-Of-Publication</th>\n",
       "      <th>User-ID</th>\n",
       "      <th>Book-Rating</th>\n",
       "    </tr>\n",
       "  </thead>\n",
       "  <tbody>\n",
       "    <tr>\n",
       "      <th>0</th>\n",
       "      <td>0195153448</td>\n",
       "      <td>Classical Mythology</td>\n",
       "      <td>Mark P. O. Morford</td>\n",
       "      <td>Oxford University Press</td>\n",
       "      <td>http://images.amazon.com/images/P/0195153448.01.THUMBZZZ.jpg</td>\n",
       "      <td>http://images.amazon.com/images/P/0195153448.01.MZZZZZZZ.jpg</td>\n",
       "      <td>http://images.amazon.com/images/P/0195153448.01.LZZZZZZZ.jpg</td>\n",
       "      <td>2002-01-01</td>\n",
       "      <td>2002.0</td>\n",
       "      <td>2</td>\n",
       "      <td>0</td>\n",
       "    </tr>\n",
       "    <tr>\n",
       "      <th>1</th>\n",
       "      <td>0002005018</td>\n",
       "      <td>Clara Callan</td>\n",
       "      <td>Richard Bruce Wright</td>\n",
       "      <td>HarperFlamingo Canada</td>\n",
       "      <td>http://images.amazon.com/images/P/0002005018.01.THUMBZZZ.jpg</td>\n",
       "      <td>http://images.amazon.com/images/P/0002005018.01.MZZZZZZZ.jpg</td>\n",
       "      <td>http://images.amazon.com/images/P/0002005018.01.LZZZZZZZ.jpg</td>\n",
       "      <td>2001-01-01</td>\n",
       "      <td>2001.0</td>\n",
       "      <td>8</td>\n",
       "      <td>5</td>\n",
       "    </tr>\n",
       "    <tr>\n",
       "      <th>2</th>\n",
       "      <td>0002005018</td>\n",
       "      <td>Clara Callan</td>\n",
       "      <td>Richard Bruce Wright</td>\n",
       "      <td>HarperFlamingo Canada</td>\n",
       "      <td>http://images.amazon.com/images/P/0002005018.01.THUMBZZZ.jpg</td>\n",
       "      <td>http://images.amazon.com/images/P/0002005018.01.MZZZZZZZ.jpg</td>\n",
       "      <td>http://images.amazon.com/images/P/0002005018.01.LZZZZZZZ.jpg</td>\n",
       "      <td>2001-01-01</td>\n",
       "      <td>2001.0</td>\n",
       "      <td>11400</td>\n",
       "      <td>0</td>\n",
       "    </tr>\n",
       "    <tr>\n",
       "      <th>3</th>\n",
       "      <td>0002005018</td>\n",
       "      <td>Clara Callan</td>\n",
       "      <td>Richard Bruce Wright</td>\n",
       "      <td>HarperFlamingo Canada</td>\n",
       "      <td>http://images.amazon.com/images/P/0002005018.01.THUMBZZZ.jpg</td>\n",
       "      <td>http://images.amazon.com/images/P/0002005018.01.MZZZZZZZ.jpg</td>\n",
       "      <td>http://images.amazon.com/images/P/0002005018.01.LZZZZZZZ.jpg</td>\n",
       "      <td>2001-01-01</td>\n",
       "      <td>2001.0</td>\n",
       "      <td>11676</td>\n",
       "      <td>8</td>\n",
       "    </tr>\n",
       "    <tr>\n",
       "      <th>4</th>\n",
       "      <td>0002005018</td>\n",
       "      <td>Clara Callan</td>\n",
       "      <td>Richard Bruce Wright</td>\n",
       "      <td>HarperFlamingo Canada</td>\n",
       "      <td>http://images.amazon.com/images/P/0002005018.01.THUMBZZZ.jpg</td>\n",
       "      <td>http://images.amazon.com/images/P/0002005018.01.MZZZZZZZ.jpg</td>\n",
       "      <td>http://images.amazon.com/images/P/0002005018.01.LZZZZZZZ.jpg</td>\n",
       "      <td>2001-01-01</td>\n",
       "      <td>2001.0</td>\n",
       "      <td>41385</td>\n",
       "      <td>0</td>\n",
       "    </tr>\n",
       "  </tbody>\n",
       "</table>\n",
       "</div>"
      ],
      "text/plain": [
       "         ISBN           Book-Title           Book-Author  \\\n",
       "0  0195153448  Classical Mythology    Mark P. O. Morford   \n",
       "1  0002005018         Clara Callan  Richard Bruce Wright   \n",
       "2  0002005018         Clara Callan  Richard Bruce Wright   \n",
       "3  0002005018         Clara Callan  Richard Bruce Wright   \n",
       "4  0002005018         Clara Callan  Richard Bruce Wright   \n",
       "\n",
       "                 Publisher  \\\n",
       "0  Oxford University Press   \n",
       "1    HarperFlamingo Canada   \n",
       "2    HarperFlamingo Canada   \n",
       "3    HarperFlamingo Canada   \n",
       "4    HarperFlamingo Canada   \n",
       "\n",
       "                                                    Image-URL-S  \\\n",
       "0  http://images.amazon.com/images/P/0195153448.01.THUMBZZZ.jpg   \n",
       "1  http://images.amazon.com/images/P/0002005018.01.THUMBZZZ.jpg   \n",
       "2  http://images.amazon.com/images/P/0002005018.01.THUMBZZZ.jpg   \n",
       "3  http://images.amazon.com/images/P/0002005018.01.THUMBZZZ.jpg   \n",
       "4  http://images.amazon.com/images/P/0002005018.01.THUMBZZZ.jpg   \n",
       "\n",
       "                                                    Image-URL-M  \\\n",
       "0  http://images.amazon.com/images/P/0195153448.01.MZZZZZZZ.jpg   \n",
       "1  http://images.amazon.com/images/P/0002005018.01.MZZZZZZZ.jpg   \n",
       "2  http://images.amazon.com/images/P/0002005018.01.MZZZZZZZ.jpg   \n",
       "3  http://images.amazon.com/images/P/0002005018.01.MZZZZZZZ.jpg   \n",
       "4  http://images.amazon.com/images/P/0002005018.01.MZZZZZZZ.jpg   \n",
       "\n",
       "                                                    Image-URL-L  \\\n",
       "0  http://images.amazon.com/images/P/0195153448.01.LZZZZZZZ.jpg   \n",
       "1  http://images.amazon.com/images/P/0002005018.01.LZZZZZZZ.jpg   \n",
       "2  http://images.amazon.com/images/P/0002005018.01.LZZZZZZZ.jpg   \n",
       "3  http://images.amazon.com/images/P/0002005018.01.LZZZZZZZ.jpg   \n",
       "4  http://images.amazon.com/images/P/0002005018.01.LZZZZZZZ.jpg   \n",
       "\n",
       "  Publication_Date  Year-Of-Publication  User-ID  Book-Rating  \n",
       "0       2002-01-01               2002.0        2            0  \n",
       "1       2001-01-01               2001.0        8            5  \n",
       "2       2001-01-01               2001.0    11400            0  \n",
       "3       2001-01-01               2001.0    11676            8  \n",
       "4       2001-01-01               2001.0    41385            0  "
      ]
     },
     "execution_count": 148,
     "metadata": {},
     "output_type": "execute_result"
    }
   ],
   "source": [
    "books_with_ratings.head()"
   ]
  },
  {
   "cell_type": "code",
   "execution_count": 149,
   "metadata": {},
   "outputs": [],
   "source": [
    "colors=  ['#494BD3', '#E28AE2', '#F1F481', '#79DB80', '#DF5F5F',\n",
    "              '#69DADE', '#C2E37D', '#E26580', '#D39F49', '#B96FE3']\n",
    "def cat_summary_viz(dataframe, col_name):\n",
    "    # Create subplots with two columns: Countplot and Pie chart for percentages\n",
    "    fig = make_subplots(rows=1, cols=2, subplot_titles=(\"Countplot\",\"Percentages\"), specs=[[{\"type\":\"xy\"},{\"type\":\"domain\"}]])\n",
    "    # Add a bar plot (Countplot) to the first subplot\n",
    "    fig.add_trace(go.Bar(y=dataframe[col_name].value_counts().values.tolist(), x=[str(i) for i in dataframe[col_name].value_counts().index],\n",
    "                          text=dataframe[col_name].value_counts().values.tolist(),\n",
    "                          textfont=dict(size=15),\n",
    "                          name=col_name\n",
    "                          ,textposition=\"auto\",\n",
    "                          showlegend=False,\n",
    "                          marker=dict(color=colors,line=dict(color=\"#DBE6EC\",width=1))), row=1,col=1)\n",
    "    # Add a pie chart (Percentages) to the second subplot\n",
    "    fig.add_trace(go.Pie(labels=dataframe[col_name].value_counts().keys(),\n",
    "                         values = dataframe[col_name].value_counts().values,\n",
    "                         textfont=dict(size=10),\n",
    "                         textposition=\"auto\",\n",
    "                         showlegend=False,\n",
    "                         name=col_name,\n",
    "                         marker=dict(colors=colors)),row=1, col=2)\n",
    "    # Customize layout with title and template\n",
    "    fig.update_layout(title={'text': col_name,\n",
    "                             'y': 0.9,\n",
    "                             'x': 0.5,\n",
    "                             'xanchor': 'center',\n",
    "                             'yanchor': 'top'},\n",
    "                      template='plotly_white')\n",
    "    iplot(fig)"
   ]
  },
  {
   "cell_type": "code",
   "execution_count": 150,
   "metadata": {},
   "outputs": [
    {
     "data": {
      "application/vnd.plotly.v1+json": {
       "config": {
        "linkText": "Export to plot.ly",
        "plotlyServerURL": "https://plot.ly",
        "showLink": false
       },
       "data": [
        {
         "marker": {
          "color": [
           "#494BD3",
           "#E28AE2",
           "#F1F481",
           "#79DB80",
           "#DF5F5F",
           "#69DADE",
           "#C2E37D",
           "#E26580",
           "#D39F49",
           "#B96FE3"
          ],
          "line": {
           "color": "#DBE6EC",
           "width": 1
          }
         },
         "name": "Book-Rating",
         "showlegend": false,
         "text": [
          "647262",
          "91800",
          "71220",
          "66397",
          "60770",
          "45353",
          "31683",
          "7616",
          "5118",
          "2375",
          "1481"
         ],
         "textfont": {
          "size": 15
         },
         "textposition": "auto",
         "type": "bar",
         "x": [
          "0",
          "8",
          "10",
          "7",
          "9",
          "5",
          "6",
          "4",
          "3",
          "2",
          "1"
         ],
         "xaxis": "x",
         "y": [
          647262,
          91800,
          71220,
          66397,
          60770,
          45353,
          31683,
          7616,
          5118,
          2375,
          1481
         ],
         "yaxis": "y"
        },
        {
         "domain": {
          "x": [
           0.55,
           1
          ],
          "y": [
           0,
           1
          ]
         },
         "labels": [
          0,
          8,
          10,
          7,
          9,
          5,
          6,
          4,
          3,
          2,
          1
         ],
         "marker": {
          "colors": [
           "#494BD3",
           "#E28AE2",
           "#F1F481",
           "#79DB80",
           "#DF5F5F",
           "#69DADE",
           "#C2E37D",
           "#E26580",
           "#D39F49",
           "#B96FE3"
          ]
         },
         "name": "Book-Rating",
         "showlegend": false,
         "textfont": {
          "size": 10
         },
         "textposition": "auto",
         "type": "pie",
         "values": [
          647262,
          91800,
          71220,
          66397,
          60770,
          45353,
          31683,
          7616,
          5118,
          2375,
          1481
         ]
        }
       ],
       "layout": {
        "annotations": [
         {
          "font": {
           "size": 16
          },
          "showarrow": false,
          "text": "Countplot",
          "x": 0.225,
          "xanchor": "center",
          "xref": "paper",
          "y": 1,
          "yanchor": "bottom",
          "yref": "paper"
         },
         {
          "font": {
           "size": 16
          },
          "showarrow": false,
          "text": "Percentages",
          "x": 0.775,
          "xanchor": "center",
          "xref": "paper",
          "y": 1,
          "yanchor": "bottom",
          "yref": "paper"
         }
        ],
        "template": {
         "data": {
          "bar": [
           {
            "error_x": {
             "color": "#2a3f5f"
            },
            "error_y": {
             "color": "#2a3f5f"
            },
            "marker": {
             "line": {
              "color": "white",
              "width": 0.5
             },
             "pattern": {
              "fillmode": "overlay",
              "size": 10,
              "solidity": 0.2
             }
            },
            "type": "bar"
           }
          ],
          "barpolar": [
           {
            "marker": {
             "line": {
              "color": "white",
              "width": 0.5
             },
             "pattern": {
              "fillmode": "overlay",
              "size": 10,
              "solidity": 0.2
             }
            },
            "type": "barpolar"
           }
          ],
          "carpet": [
           {
            "aaxis": {
             "endlinecolor": "#2a3f5f",
             "gridcolor": "#C8D4E3",
             "linecolor": "#C8D4E3",
             "minorgridcolor": "#C8D4E3",
             "startlinecolor": "#2a3f5f"
            },
            "baxis": {
             "endlinecolor": "#2a3f5f",
             "gridcolor": "#C8D4E3",
             "linecolor": "#C8D4E3",
             "minorgridcolor": "#C8D4E3",
             "startlinecolor": "#2a3f5f"
            },
            "type": "carpet"
           }
          ],
          "choropleth": [
           {
            "colorbar": {
             "outlinewidth": 0,
             "ticks": ""
            },
            "type": "choropleth"
           }
          ],
          "contour": [
           {
            "colorbar": {
             "outlinewidth": 0,
             "ticks": ""
            },
            "colorscale": [
             [
              0,
              "#0d0887"
             ],
             [
              0.1111111111111111,
              "#46039f"
             ],
             [
              0.2222222222222222,
              "#7201a8"
             ],
             [
              0.3333333333333333,
              "#9c179e"
             ],
             [
              0.4444444444444444,
              "#bd3786"
             ],
             [
              0.5555555555555556,
              "#d8576b"
             ],
             [
              0.6666666666666666,
              "#ed7953"
             ],
             [
              0.7777777777777778,
              "#fb9f3a"
             ],
             [
              0.8888888888888888,
              "#fdca26"
             ],
             [
              1,
              "#f0f921"
             ]
            ],
            "type": "contour"
           }
          ],
          "contourcarpet": [
           {
            "colorbar": {
             "outlinewidth": 0,
             "ticks": ""
            },
            "type": "contourcarpet"
           }
          ],
          "heatmap": [
           {
            "colorbar": {
             "outlinewidth": 0,
             "ticks": ""
            },
            "colorscale": [
             [
              0,
              "#0d0887"
             ],
             [
              0.1111111111111111,
              "#46039f"
             ],
             [
              0.2222222222222222,
              "#7201a8"
             ],
             [
              0.3333333333333333,
              "#9c179e"
             ],
             [
              0.4444444444444444,
              "#bd3786"
             ],
             [
              0.5555555555555556,
              "#d8576b"
             ],
             [
              0.6666666666666666,
              "#ed7953"
             ],
             [
              0.7777777777777778,
              "#fb9f3a"
             ],
             [
              0.8888888888888888,
              "#fdca26"
             ],
             [
              1,
              "#f0f921"
             ]
            ],
            "type": "heatmap"
           }
          ],
          "heatmapgl": [
           {
            "colorbar": {
             "outlinewidth": 0,
             "ticks": ""
            },
            "colorscale": [
             [
              0,
              "#0d0887"
             ],
             [
              0.1111111111111111,
              "#46039f"
             ],
             [
              0.2222222222222222,
              "#7201a8"
             ],
             [
              0.3333333333333333,
              "#9c179e"
             ],
             [
              0.4444444444444444,
              "#bd3786"
             ],
             [
              0.5555555555555556,
              "#d8576b"
             ],
             [
              0.6666666666666666,
              "#ed7953"
             ],
             [
              0.7777777777777778,
              "#fb9f3a"
             ],
             [
              0.8888888888888888,
              "#fdca26"
             ],
             [
              1,
              "#f0f921"
             ]
            ],
            "type": "heatmapgl"
           }
          ],
          "histogram": [
           {
            "marker": {
             "pattern": {
              "fillmode": "overlay",
              "size": 10,
              "solidity": 0.2
             }
            },
            "type": "histogram"
           }
          ],
          "histogram2d": [
           {
            "colorbar": {
             "outlinewidth": 0,
             "ticks": ""
            },
            "colorscale": [
             [
              0,
              "#0d0887"
             ],
             [
              0.1111111111111111,
              "#46039f"
             ],
             [
              0.2222222222222222,
              "#7201a8"
             ],
             [
              0.3333333333333333,
              "#9c179e"
             ],
             [
              0.4444444444444444,
              "#bd3786"
             ],
             [
              0.5555555555555556,
              "#d8576b"
             ],
             [
              0.6666666666666666,
              "#ed7953"
             ],
             [
              0.7777777777777778,
              "#fb9f3a"
             ],
             [
              0.8888888888888888,
              "#fdca26"
             ],
             [
              1,
              "#f0f921"
             ]
            ],
            "type": "histogram2d"
           }
          ],
          "histogram2dcontour": [
           {
            "colorbar": {
             "outlinewidth": 0,
             "ticks": ""
            },
            "colorscale": [
             [
              0,
              "#0d0887"
             ],
             [
              0.1111111111111111,
              "#46039f"
             ],
             [
              0.2222222222222222,
              "#7201a8"
             ],
             [
              0.3333333333333333,
              "#9c179e"
             ],
             [
              0.4444444444444444,
              "#bd3786"
             ],
             [
              0.5555555555555556,
              "#d8576b"
             ],
             [
              0.6666666666666666,
              "#ed7953"
             ],
             [
              0.7777777777777778,
              "#fb9f3a"
             ],
             [
              0.8888888888888888,
              "#fdca26"
             ],
             [
              1,
              "#f0f921"
             ]
            ],
            "type": "histogram2dcontour"
           }
          ],
          "mesh3d": [
           {
            "colorbar": {
             "outlinewidth": 0,
             "ticks": ""
            },
            "type": "mesh3d"
           }
          ],
          "parcoords": [
           {
            "line": {
             "colorbar": {
              "outlinewidth": 0,
              "ticks": ""
             }
            },
            "type": "parcoords"
           }
          ],
          "pie": [
           {
            "automargin": true,
            "type": "pie"
           }
          ],
          "scatter": [
           {
            "fillpattern": {
             "fillmode": "overlay",
             "size": 10,
             "solidity": 0.2
            },
            "type": "scatter"
           }
          ],
          "scatter3d": [
           {
            "line": {
             "colorbar": {
              "outlinewidth": 0,
              "ticks": ""
             }
            },
            "marker": {
             "colorbar": {
              "outlinewidth": 0,
              "ticks": ""
             }
            },
            "type": "scatter3d"
           }
          ],
          "scattercarpet": [
           {
            "marker": {
             "colorbar": {
              "outlinewidth": 0,
              "ticks": ""
             }
            },
            "type": "scattercarpet"
           }
          ],
          "scattergeo": [
           {
            "marker": {
             "colorbar": {
              "outlinewidth": 0,
              "ticks": ""
             }
            },
            "type": "scattergeo"
           }
          ],
          "scattergl": [
           {
            "marker": {
             "colorbar": {
              "outlinewidth": 0,
              "ticks": ""
             }
            },
            "type": "scattergl"
           }
          ],
          "scattermapbox": [
           {
            "marker": {
             "colorbar": {
              "outlinewidth": 0,
              "ticks": ""
             }
            },
            "type": "scattermapbox"
           }
          ],
          "scatterpolar": [
           {
            "marker": {
             "colorbar": {
              "outlinewidth": 0,
              "ticks": ""
             }
            },
            "type": "scatterpolar"
           }
          ],
          "scatterpolargl": [
           {
            "marker": {
             "colorbar": {
              "outlinewidth": 0,
              "ticks": ""
             }
            },
            "type": "scatterpolargl"
           }
          ],
          "scatterternary": [
           {
            "marker": {
             "colorbar": {
              "outlinewidth": 0,
              "ticks": ""
             }
            },
            "type": "scatterternary"
           }
          ],
          "surface": [
           {
            "colorbar": {
             "outlinewidth": 0,
             "ticks": ""
            },
            "colorscale": [
             [
              0,
              "#0d0887"
             ],
             [
              0.1111111111111111,
              "#46039f"
             ],
             [
              0.2222222222222222,
              "#7201a8"
             ],
             [
              0.3333333333333333,
              "#9c179e"
             ],
             [
              0.4444444444444444,
              "#bd3786"
             ],
             [
              0.5555555555555556,
              "#d8576b"
             ],
             [
              0.6666666666666666,
              "#ed7953"
             ],
             [
              0.7777777777777778,
              "#fb9f3a"
             ],
             [
              0.8888888888888888,
              "#fdca26"
             ],
             [
              1,
              "#f0f921"
             ]
            ],
            "type": "surface"
           }
          ],
          "table": [
           {
            "cells": {
             "fill": {
              "color": "#EBF0F8"
             },
             "line": {
              "color": "white"
             }
            },
            "header": {
             "fill": {
              "color": "#C8D4E3"
             },
             "line": {
              "color": "white"
             }
            },
            "type": "table"
           }
          ]
         },
         "layout": {
          "annotationdefaults": {
           "arrowcolor": "#2a3f5f",
           "arrowhead": 0,
           "arrowwidth": 1
          },
          "autotypenumbers": "strict",
          "coloraxis": {
           "colorbar": {
            "outlinewidth": 0,
            "ticks": ""
           }
          },
          "colorscale": {
           "diverging": [
            [
             0,
             "#8e0152"
            ],
            [
             0.1,
             "#c51b7d"
            ],
            [
             0.2,
             "#de77ae"
            ],
            [
             0.3,
             "#f1b6da"
            ],
            [
             0.4,
             "#fde0ef"
            ],
            [
             0.5,
             "#f7f7f7"
            ],
            [
             0.6,
             "#e6f5d0"
            ],
            [
             0.7,
             "#b8e186"
            ],
            [
             0.8,
             "#7fbc41"
            ],
            [
             0.9,
             "#4d9221"
            ],
            [
             1,
             "#276419"
            ]
           ],
           "sequential": [
            [
             0,
             "#0d0887"
            ],
            [
             0.1111111111111111,
             "#46039f"
            ],
            [
             0.2222222222222222,
             "#7201a8"
            ],
            [
             0.3333333333333333,
             "#9c179e"
            ],
            [
             0.4444444444444444,
             "#bd3786"
            ],
            [
             0.5555555555555556,
             "#d8576b"
            ],
            [
             0.6666666666666666,
             "#ed7953"
            ],
            [
             0.7777777777777778,
             "#fb9f3a"
            ],
            [
             0.8888888888888888,
             "#fdca26"
            ],
            [
             1,
             "#f0f921"
            ]
           ],
           "sequentialminus": [
            [
             0,
             "#0d0887"
            ],
            [
             0.1111111111111111,
             "#46039f"
            ],
            [
             0.2222222222222222,
             "#7201a8"
            ],
            [
             0.3333333333333333,
             "#9c179e"
            ],
            [
             0.4444444444444444,
             "#bd3786"
            ],
            [
             0.5555555555555556,
             "#d8576b"
            ],
            [
             0.6666666666666666,
             "#ed7953"
            ],
            [
             0.7777777777777778,
             "#fb9f3a"
            ],
            [
             0.8888888888888888,
             "#fdca26"
            ],
            [
             1,
             "#f0f921"
            ]
           ]
          },
          "colorway": [
           "#636efa",
           "#EF553B",
           "#00cc96",
           "#ab63fa",
           "#FFA15A",
           "#19d3f3",
           "#FF6692",
           "#B6E880",
           "#FF97FF",
           "#FECB52"
          ],
          "font": {
           "color": "#2a3f5f"
          },
          "geo": {
           "bgcolor": "white",
           "lakecolor": "white",
           "landcolor": "white",
           "showlakes": true,
           "showland": true,
           "subunitcolor": "#C8D4E3"
          },
          "hoverlabel": {
           "align": "left"
          },
          "hovermode": "closest",
          "mapbox": {
           "style": "light"
          },
          "paper_bgcolor": "white",
          "plot_bgcolor": "white",
          "polar": {
           "angularaxis": {
            "gridcolor": "#EBF0F8",
            "linecolor": "#EBF0F8",
            "ticks": ""
           },
           "bgcolor": "white",
           "radialaxis": {
            "gridcolor": "#EBF0F8",
            "linecolor": "#EBF0F8",
            "ticks": ""
           }
          },
          "scene": {
           "xaxis": {
            "backgroundcolor": "white",
            "gridcolor": "#DFE8F3",
            "gridwidth": 2,
            "linecolor": "#EBF0F8",
            "showbackground": true,
            "ticks": "",
            "zerolinecolor": "#EBF0F8"
           },
           "yaxis": {
            "backgroundcolor": "white",
            "gridcolor": "#DFE8F3",
            "gridwidth": 2,
            "linecolor": "#EBF0F8",
            "showbackground": true,
            "ticks": "",
            "zerolinecolor": "#EBF0F8"
           },
           "zaxis": {
            "backgroundcolor": "white",
            "gridcolor": "#DFE8F3",
            "gridwidth": 2,
            "linecolor": "#EBF0F8",
            "showbackground": true,
            "ticks": "",
            "zerolinecolor": "#EBF0F8"
           }
          },
          "shapedefaults": {
           "line": {
            "color": "#2a3f5f"
           }
          },
          "ternary": {
           "aaxis": {
            "gridcolor": "#DFE8F3",
            "linecolor": "#A2B1C6",
            "ticks": ""
           },
           "baxis": {
            "gridcolor": "#DFE8F3",
            "linecolor": "#A2B1C6",
            "ticks": ""
           },
           "bgcolor": "white",
           "caxis": {
            "gridcolor": "#DFE8F3",
            "linecolor": "#A2B1C6",
            "ticks": ""
           }
          },
          "title": {
           "x": 0.05
          },
          "xaxis": {
           "automargin": true,
           "gridcolor": "#EBF0F8",
           "linecolor": "#EBF0F8",
           "ticks": "",
           "title": {
            "standoff": 15
           },
           "zerolinecolor": "#EBF0F8",
           "zerolinewidth": 2
          },
          "yaxis": {
           "automargin": true,
           "gridcolor": "#EBF0F8",
           "linecolor": "#EBF0F8",
           "ticks": "",
           "title": {
            "standoff": 15
           },
           "zerolinecolor": "#EBF0F8",
           "zerolinewidth": 2
          }
         }
        },
        "title": {
         "text": "Book-Rating",
         "x": 0.5,
         "xanchor": "center",
         "y": 0.9,
         "yanchor": "top"
        },
        "xaxis": {
         "anchor": "y",
         "domain": [
          0,
          0.45
         ]
        },
        "yaxis": {
         "anchor": "x",
         "domain": [
          0,
          1
         ]
        }
       }
      },
      "text/html": [
       "<div>                            <div id=\"f83899cd-5cac-4fe7-bc6f-972f5674add3\" class=\"plotly-graph-div\" style=\"height:525px; width:100%;\"></div>            <script type=\"text/javascript\">                require([\"plotly\"], function(Plotly) {                    window.PLOTLYENV=window.PLOTLYENV || {};                                    if (document.getElementById(\"f83899cd-5cac-4fe7-bc6f-972f5674add3\")) {                    Plotly.newPlot(                        \"f83899cd-5cac-4fe7-bc6f-972f5674add3\",                        [{\"marker\":{\"color\":[\"#494BD3\",\"#E28AE2\",\"#F1F481\",\"#79DB80\",\"#DF5F5F\",\"#69DADE\",\"#C2E37D\",\"#E26580\",\"#D39F49\",\"#B96FE3\"],\"line\":{\"color\":\"#DBE6EC\",\"width\":1}},\"name\":\"Book-Rating\",\"showlegend\":false,\"text\":[\"647262\",\"91800\",\"71220\",\"66397\",\"60770\",\"45353\",\"31683\",\"7616\",\"5118\",\"2375\",\"1481\"],\"textfont\":{\"size\":15},\"textposition\":\"auto\",\"x\":[\"0\",\"8\",\"10\",\"7\",\"9\",\"5\",\"6\",\"4\",\"3\",\"2\",\"1\"],\"xaxis\":\"x\",\"y\":[647262,91800,71220,66397,60770,45353,31683,7616,5118,2375,1481],\"yaxis\":\"y\",\"type\":\"bar\"},{\"domain\":{\"x\":[0.55,1.0],\"y\":[0.0,1.0]},\"labels\":[0,8,10,7,9,5,6,4,3,2,1],\"marker\":{\"colors\":[\"#494BD3\",\"#E28AE2\",\"#F1F481\",\"#79DB80\",\"#DF5F5F\",\"#69DADE\",\"#C2E37D\",\"#E26580\",\"#D39F49\",\"#B96FE3\"]},\"name\":\"Book-Rating\",\"showlegend\":false,\"textfont\":{\"size\":10},\"textposition\":\"auto\",\"values\":[647262,91800,71220,66397,60770,45353,31683,7616,5118,2375,1481],\"type\":\"pie\"}],                        {\"annotations\":[{\"font\":{\"size\":16},\"showarrow\":false,\"text\":\"Countplot\",\"x\":0.225,\"xanchor\":\"center\",\"xref\":\"paper\",\"y\":1.0,\"yanchor\":\"bottom\",\"yref\":\"paper\"},{\"font\":{\"size\":16},\"showarrow\":false,\"text\":\"Percentages\",\"x\":0.775,\"xanchor\":\"center\",\"xref\":\"paper\",\"y\":1.0,\"yanchor\":\"bottom\",\"yref\":\"paper\"}],\"template\":{\"data\":{\"barpolar\":[{\"marker\":{\"line\":{\"color\":\"white\",\"width\":0.5},\"pattern\":{\"fillmode\":\"overlay\",\"size\":10,\"solidity\":0.2}},\"type\":\"barpolar\"}],\"bar\":[{\"error_x\":{\"color\":\"#2a3f5f\"},\"error_y\":{\"color\":\"#2a3f5f\"},\"marker\":{\"line\":{\"color\":\"white\",\"width\":0.5},\"pattern\":{\"fillmode\":\"overlay\",\"size\":10,\"solidity\":0.2}},\"type\":\"bar\"}],\"carpet\":[{\"aaxis\":{\"endlinecolor\":\"#2a3f5f\",\"gridcolor\":\"#C8D4E3\",\"linecolor\":\"#C8D4E3\",\"minorgridcolor\":\"#C8D4E3\",\"startlinecolor\":\"#2a3f5f\"},\"baxis\":{\"endlinecolor\":\"#2a3f5f\",\"gridcolor\":\"#C8D4E3\",\"linecolor\":\"#C8D4E3\",\"minorgridcolor\":\"#C8D4E3\",\"startlinecolor\":\"#2a3f5f\"},\"type\":\"carpet\"}],\"choropleth\":[{\"colorbar\":{\"outlinewidth\":0,\"ticks\":\"\"},\"type\":\"choropleth\"}],\"contourcarpet\":[{\"colorbar\":{\"outlinewidth\":0,\"ticks\":\"\"},\"type\":\"contourcarpet\"}],\"contour\":[{\"colorbar\":{\"outlinewidth\":0,\"ticks\":\"\"},\"colorscale\":[[0.0,\"#0d0887\"],[0.1111111111111111,\"#46039f\"],[0.2222222222222222,\"#7201a8\"],[0.3333333333333333,\"#9c179e\"],[0.4444444444444444,\"#bd3786\"],[0.5555555555555556,\"#d8576b\"],[0.6666666666666666,\"#ed7953\"],[0.7777777777777778,\"#fb9f3a\"],[0.8888888888888888,\"#fdca26\"],[1.0,\"#f0f921\"]],\"type\":\"contour\"}],\"heatmapgl\":[{\"colorbar\":{\"outlinewidth\":0,\"ticks\":\"\"},\"colorscale\":[[0.0,\"#0d0887\"],[0.1111111111111111,\"#46039f\"],[0.2222222222222222,\"#7201a8\"],[0.3333333333333333,\"#9c179e\"],[0.4444444444444444,\"#bd3786\"],[0.5555555555555556,\"#d8576b\"],[0.6666666666666666,\"#ed7953\"],[0.7777777777777778,\"#fb9f3a\"],[0.8888888888888888,\"#fdca26\"],[1.0,\"#f0f921\"]],\"type\":\"heatmapgl\"}],\"heatmap\":[{\"colorbar\":{\"outlinewidth\":0,\"ticks\":\"\"},\"colorscale\":[[0.0,\"#0d0887\"],[0.1111111111111111,\"#46039f\"],[0.2222222222222222,\"#7201a8\"],[0.3333333333333333,\"#9c179e\"],[0.4444444444444444,\"#bd3786\"],[0.5555555555555556,\"#d8576b\"],[0.6666666666666666,\"#ed7953\"],[0.7777777777777778,\"#fb9f3a\"],[0.8888888888888888,\"#fdca26\"],[1.0,\"#f0f921\"]],\"type\":\"heatmap\"}],\"histogram2dcontour\":[{\"colorbar\":{\"outlinewidth\":0,\"ticks\":\"\"},\"colorscale\":[[0.0,\"#0d0887\"],[0.1111111111111111,\"#46039f\"],[0.2222222222222222,\"#7201a8\"],[0.3333333333333333,\"#9c179e\"],[0.4444444444444444,\"#bd3786\"],[0.5555555555555556,\"#d8576b\"],[0.6666666666666666,\"#ed7953\"],[0.7777777777777778,\"#fb9f3a\"],[0.8888888888888888,\"#fdca26\"],[1.0,\"#f0f921\"]],\"type\":\"histogram2dcontour\"}],\"histogram2d\":[{\"colorbar\":{\"outlinewidth\":0,\"ticks\":\"\"},\"colorscale\":[[0.0,\"#0d0887\"],[0.1111111111111111,\"#46039f\"],[0.2222222222222222,\"#7201a8\"],[0.3333333333333333,\"#9c179e\"],[0.4444444444444444,\"#bd3786\"],[0.5555555555555556,\"#d8576b\"],[0.6666666666666666,\"#ed7953\"],[0.7777777777777778,\"#fb9f3a\"],[0.8888888888888888,\"#fdca26\"],[1.0,\"#f0f921\"]],\"type\":\"histogram2d\"}],\"histogram\":[{\"marker\":{\"pattern\":{\"fillmode\":\"overlay\",\"size\":10,\"solidity\":0.2}},\"type\":\"histogram\"}],\"mesh3d\":[{\"colorbar\":{\"outlinewidth\":0,\"ticks\":\"\"},\"type\":\"mesh3d\"}],\"parcoords\":[{\"line\":{\"colorbar\":{\"outlinewidth\":0,\"ticks\":\"\"}},\"type\":\"parcoords\"}],\"pie\":[{\"automargin\":true,\"type\":\"pie\"}],\"scatter3d\":[{\"line\":{\"colorbar\":{\"outlinewidth\":0,\"ticks\":\"\"}},\"marker\":{\"colorbar\":{\"outlinewidth\":0,\"ticks\":\"\"}},\"type\":\"scatter3d\"}],\"scattercarpet\":[{\"marker\":{\"colorbar\":{\"outlinewidth\":0,\"ticks\":\"\"}},\"type\":\"scattercarpet\"}],\"scattergeo\":[{\"marker\":{\"colorbar\":{\"outlinewidth\":0,\"ticks\":\"\"}},\"type\":\"scattergeo\"}],\"scattergl\":[{\"marker\":{\"colorbar\":{\"outlinewidth\":0,\"ticks\":\"\"}},\"type\":\"scattergl\"}],\"scattermapbox\":[{\"marker\":{\"colorbar\":{\"outlinewidth\":0,\"ticks\":\"\"}},\"type\":\"scattermapbox\"}],\"scatterpolargl\":[{\"marker\":{\"colorbar\":{\"outlinewidth\":0,\"ticks\":\"\"}},\"type\":\"scatterpolargl\"}],\"scatterpolar\":[{\"marker\":{\"colorbar\":{\"outlinewidth\":0,\"ticks\":\"\"}},\"type\":\"scatterpolar\"}],\"scatter\":[{\"fillpattern\":{\"fillmode\":\"overlay\",\"size\":10,\"solidity\":0.2},\"type\":\"scatter\"}],\"scatterternary\":[{\"marker\":{\"colorbar\":{\"outlinewidth\":0,\"ticks\":\"\"}},\"type\":\"scatterternary\"}],\"surface\":[{\"colorbar\":{\"outlinewidth\":0,\"ticks\":\"\"},\"colorscale\":[[0.0,\"#0d0887\"],[0.1111111111111111,\"#46039f\"],[0.2222222222222222,\"#7201a8\"],[0.3333333333333333,\"#9c179e\"],[0.4444444444444444,\"#bd3786\"],[0.5555555555555556,\"#d8576b\"],[0.6666666666666666,\"#ed7953\"],[0.7777777777777778,\"#fb9f3a\"],[0.8888888888888888,\"#fdca26\"],[1.0,\"#f0f921\"]],\"type\":\"surface\"}],\"table\":[{\"cells\":{\"fill\":{\"color\":\"#EBF0F8\"},\"line\":{\"color\":\"white\"}},\"header\":{\"fill\":{\"color\":\"#C8D4E3\"},\"line\":{\"color\":\"white\"}},\"type\":\"table\"}]},\"layout\":{\"annotationdefaults\":{\"arrowcolor\":\"#2a3f5f\",\"arrowhead\":0,\"arrowwidth\":1},\"autotypenumbers\":\"strict\",\"coloraxis\":{\"colorbar\":{\"outlinewidth\":0,\"ticks\":\"\"}},\"colorscale\":{\"diverging\":[[0,\"#8e0152\"],[0.1,\"#c51b7d\"],[0.2,\"#de77ae\"],[0.3,\"#f1b6da\"],[0.4,\"#fde0ef\"],[0.5,\"#f7f7f7\"],[0.6,\"#e6f5d0\"],[0.7,\"#b8e186\"],[0.8,\"#7fbc41\"],[0.9,\"#4d9221\"],[1,\"#276419\"]],\"sequential\":[[0.0,\"#0d0887\"],[0.1111111111111111,\"#46039f\"],[0.2222222222222222,\"#7201a8\"],[0.3333333333333333,\"#9c179e\"],[0.4444444444444444,\"#bd3786\"],[0.5555555555555556,\"#d8576b\"],[0.6666666666666666,\"#ed7953\"],[0.7777777777777778,\"#fb9f3a\"],[0.8888888888888888,\"#fdca26\"],[1.0,\"#f0f921\"]],\"sequentialminus\":[[0.0,\"#0d0887\"],[0.1111111111111111,\"#46039f\"],[0.2222222222222222,\"#7201a8\"],[0.3333333333333333,\"#9c179e\"],[0.4444444444444444,\"#bd3786\"],[0.5555555555555556,\"#d8576b\"],[0.6666666666666666,\"#ed7953\"],[0.7777777777777778,\"#fb9f3a\"],[0.8888888888888888,\"#fdca26\"],[1.0,\"#f0f921\"]]},\"colorway\":[\"#636efa\",\"#EF553B\",\"#00cc96\",\"#ab63fa\",\"#FFA15A\",\"#19d3f3\",\"#FF6692\",\"#B6E880\",\"#FF97FF\",\"#FECB52\"],\"font\":{\"color\":\"#2a3f5f\"},\"geo\":{\"bgcolor\":\"white\",\"lakecolor\":\"white\",\"landcolor\":\"white\",\"showlakes\":true,\"showland\":true,\"subunitcolor\":\"#C8D4E3\"},\"hoverlabel\":{\"align\":\"left\"},\"hovermode\":\"closest\",\"mapbox\":{\"style\":\"light\"},\"paper_bgcolor\":\"white\",\"plot_bgcolor\":\"white\",\"polar\":{\"angularaxis\":{\"gridcolor\":\"#EBF0F8\",\"linecolor\":\"#EBF0F8\",\"ticks\":\"\"},\"bgcolor\":\"white\",\"radialaxis\":{\"gridcolor\":\"#EBF0F8\",\"linecolor\":\"#EBF0F8\",\"ticks\":\"\"}},\"scene\":{\"xaxis\":{\"backgroundcolor\":\"white\",\"gridcolor\":\"#DFE8F3\",\"gridwidth\":2,\"linecolor\":\"#EBF0F8\",\"showbackground\":true,\"ticks\":\"\",\"zerolinecolor\":\"#EBF0F8\"},\"yaxis\":{\"backgroundcolor\":\"white\",\"gridcolor\":\"#DFE8F3\",\"gridwidth\":2,\"linecolor\":\"#EBF0F8\",\"showbackground\":true,\"ticks\":\"\",\"zerolinecolor\":\"#EBF0F8\"},\"zaxis\":{\"backgroundcolor\":\"white\",\"gridcolor\":\"#DFE8F3\",\"gridwidth\":2,\"linecolor\":\"#EBF0F8\",\"showbackground\":true,\"ticks\":\"\",\"zerolinecolor\":\"#EBF0F8\"}},\"shapedefaults\":{\"line\":{\"color\":\"#2a3f5f\"}},\"ternary\":{\"aaxis\":{\"gridcolor\":\"#DFE8F3\",\"linecolor\":\"#A2B1C6\",\"ticks\":\"\"},\"baxis\":{\"gridcolor\":\"#DFE8F3\",\"linecolor\":\"#A2B1C6\",\"ticks\":\"\"},\"bgcolor\":\"white\",\"caxis\":{\"gridcolor\":\"#DFE8F3\",\"linecolor\":\"#A2B1C6\",\"ticks\":\"\"}},\"title\":{\"x\":0.05},\"xaxis\":{\"automargin\":true,\"gridcolor\":\"#EBF0F8\",\"linecolor\":\"#EBF0F8\",\"ticks\":\"\",\"title\":{\"standoff\":15},\"zerolinecolor\":\"#EBF0F8\",\"zerolinewidth\":2},\"yaxis\":{\"automargin\":true,\"gridcolor\":\"#EBF0F8\",\"linecolor\":\"#EBF0F8\",\"ticks\":\"\",\"title\":{\"standoff\":15},\"zerolinecolor\":\"#EBF0F8\",\"zerolinewidth\":2}}},\"title\":{\"text\":\"Book-Rating\",\"x\":0.5,\"xanchor\":\"center\",\"y\":0.9,\"yanchor\":\"top\"},\"xaxis\":{\"anchor\":\"y\",\"domain\":[0.0,0.45]},\"yaxis\":{\"anchor\":\"x\",\"domain\":[0.0,1.0]}},                        {\"responsive\": true}                    ).then(function(){\n",
       "                            \n",
       "var gd = document.getElementById('f83899cd-5cac-4fe7-bc6f-972f5674add3');\n",
       "var x = new MutationObserver(function (mutations, observer) {{\n",
       "        var display = window.getComputedStyle(gd).display;\n",
       "        if (!display || display === 'none') {{\n",
       "            console.log([gd, 'removed!']);\n",
       "            Plotly.purge(gd);\n",
       "            observer.disconnect();\n",
       "        }}\n",
       "}});\n",
       "\n",
       "// Listen for the removal of the full notebook cells\n",
       "var notebookContainer = gd.closest('#notebook-container');\n",
       "if (notebookContainer) {{\n",
       "    x.observe(notebookContainer, {childList: true});\n",
       "}}\n",
       "\n",
       "// Listen for the clearing of the current output cell\n",
       "var outputEl = gd.closest('.output');\n",
       "if (outputEl) {{\n",
       "    x.observe(outputEl, {childList: true});\n",
       "}}\n",
       "\n",
       "                        })                };                });            </script>        </div>"
      ]
     },
     "metadata": {},
     "output_type": "display_data"
    }
   ],
   "source": [
    "cat_summary_viz(books_with_ratings, 'Book-Rating')"
   ]
  },
  {
   "cell_type": "code",
   "execution_count": 151,
   "metadata": {},
   "outputs": [],
   "source": [
    "authors_top20 = books_df[\"Book-Author\"].value_counts().head(20)\n",
    "authors_top20 = list(authors_top20.index)"
   ]
  },
  {
   "cell_type": "code",
   "execution_count": 152,
   "metadata": {},
   "outputs": [
    {
     "name": "stdout",
     "output_type": "stream",
     "text": [
      "ISBN                       0\n",
      "Book-Title                 0\n",
      "Book-Author                0\n",
      "Publisher                  0\n",
      "Image-URL-S                0\n",
      "Image-URL-M                0\n",
      "Image-URL-L                0\n",
      "Publication_Date       14011\n",
      "Year-Of-Publication    14011\n",
      "User-ID                    0\n",
      "Book-Rating                0\n",
      "dtype: int64\n",
      "After drop missing values : \n",
      "ISBN                   0\n",
      "Book-Title             0\n",
      "Book-Author            0\n",
      "Publisher              0\n",
      "Image-URL-S            0\n",
      "Image-URL-M            0\n",
      "Image-URL-L            0\n",
      "Publication_Date       0\n",
      "Year-Of-Publication    0\n",
      "User-ID                0\n",
      "Book-Rating            0\n",
      "dtype: int64\n"
     ]
    }
   ],
   "source": [
    "print(books_with_ratings.isnull().sum())\n",
    "#Drop null values \n",
    "books_with_ratings.shape\n",
    "books_with_ratings.dropna(inplace=True)\n",
    "print(\"After drop missing values : \")\n",
    "print(books_with_ratings.isnull().sum())"
   ]
  },
  {
   "cell_type": "code",
   "execution_count": 153,
   "metadata": {},
   "outputs": [],
   "source": [
    "top20_authors = pd.DataFrame(columns=books_with_ratings.columns)\n",
    "\n",
    "for author in authors_top20:\n",
    "\n",
    "    cond_df = books_with_ratings[books_with_ratings[\"Book-Author\"] == author]\n",
    "\n",
    "    top20_authors = pd.concat([top20_authors, cond_df], axis=0)"
   ]
  },
  {
   "cell_type": "code",
   "execution_count": 154,
   "metadata": {},
   "outputs": [
    {
     "data": {
      "text/plain": [
       "(44921, 11)"
      ]
     },
     "execution_count": 154,
     "metadata": {},
     "output_type": "execute_result"
    }
   ],
   "source": [
    "top20_authors.shape"
   ]
  },
  {
   "cell_type": "code",
   "execution_count": 155,
   "metadata": {},
   "outputs": [],
   "source": [
    "top20_author = top20_authors[top20_authors[\"Book-Rating\"] != 0]"
   ]
  },
  {
   "cell_type": "code",
   "execution_count": 156,
   "metadata": {},
   "outputs": [
    {
     "data": {
      "text/plain": [
       "(16730, 11)"
      ]
     },
     "execution_count": 156,
     "metadata": {},
     "output_type": "execute_result"
    }
   ],
   "source": [
    "top20_author.shape"
   ]
  },
  {
   "cell_type": "code",
   "execution_count": 157,
   "metadata": {},
   "outputs": [
    {
     "data": {
      "text/html": [
       "<div>\n",
       "<style scoped>\n",
       "    .dataframe tbody tr th:only-of-type {\n",
       "        vertical-align: middle;\n",
       "    }\n",
       "\n",
       "    .dataframe tbody tr th {\n",
       "        vertical-align: top;\n",
       "    }\n",
       "\n",
       "    .dataframe thead th {\n",
       "        text-align: right;\n",
       "    }\n",
       "</style>\n",
       "<table border=\"1\" class=\"dataframe\">\n",
       "  <thead>\n",
       "    <tr style=\"text-align: right;\">\n",
       "      <th></th>\n",
       "      <th>Book-Author</th>\n",
       "      <th>Book-Rating</th>\n",
       "    </tr>\n",
       "  </thead>\n",
       "  <tbody>\n",
       "    <tr>\n",
       "      <th>19</th>\n",
       "      <td>William Shakespeare</td>\n",
       "      <td>8.299145</td>\n",
       "    </tr>\n",
       "    <tr>\n",
       "      <th>11</th>\n",
       "      <td>Mark Twain</td>\n",
       "      <td>8.270115</td>\n",
       "    </tr>\n",
       "    <tr>\n",
       "      <th>8</th>\n",
       "      <td>Jane Austen</td>\n",
       "      <td>8.188563</td>\n",
       "    </tr>\n",
       "    <tr>\n",
       "      <th>18</th>\n",
       "      <td>Terry Pratchett</td>\n",
       "      <td>8.157431</td>\n",
       "    </tr>\n",
       "    <tr>\n",
       "      <th>14</th>\n",
       "      <td>Not Applicable (Na )</td>\n",
       "      <td>8.09434</td>\n",
       "    </tr>\n",
       "    <tr>\n",
       "      <th>7</th>\n",
       "      <td>Isaac Asimov</td>\n",
       "      <td>7.903141</td>\n",
       "    </tr>\n",
       "    <tr>\n",
       "      <th>3</th>\n",
       "      <td>Carolyn Keene</td>\n",
       "      <td>7.831858</td>\n",
       "    </tr>\n",
       "    <tr>\n",
       "      <th>17</th>\n",
       "      <td>Stephen King</td>\n",
       "      <td>7.819644</td>\n",
       "    </tr>\n",
       "    <tr>\n",
       "      <th>0</th>\n",
       "      <td>Agatha Christie</td>\n",
       "      <td>7.78649</td>\n",
       "    </tr>\n",
       "    <tr>\n",
       "      <th>4</th>\n",
       "      <td>Charles Dickens</td>\n",
       "      <td>7.76</td>\n",
       "    </tr>\n",
       "    <tr>\n",
       "      <th>15</th>\n",
       "      <td>Piers Anthony</td>\n",
       "      <td>7.64257</td>\n",
       "    </tr>\n",
       "    <tr>\n",
       "      <th>10</th>\n",
       "      <td>Marion Zimmer Bradley</td>\n",
       "      <td>7.630197</td>\n",
       "    </tr>\n",
       "    <tr>\n",
       "      <th>13</th>\n",
       "      <td>Nora Roberts</td>\n",
       "      <td>7.62968</td>\n",
       "    </tr>\n",
       "    <tr>\n",
       "      <th>12</th>\n",
       "      <td>Mary Higgins Clark</td>\n",
       "      <td>7.503589</td>\n",
       "    </tr>\n",
       "    <tr>\n",
       "      <th>9</th>\n",
       "      <td>Janet Dailey</td>\n",
       "      <td>7.371429</td>\n",
       "    </tr>\n",
       "    <tr>\n",
       "      <th>6</th>\n",
       "      <td>Franklin W. Dixon</td>\n",
       "      <td>7.038462</td>\n",
       "    </tr>\n",
       "    <tr>\n",
       "      <th>16</th>\n",
       "      <td>R. L. Stine</td>\n",
       "      <td>6.859259</td>\n",
       "    </tr>\n",
       "    <tr>\n",
       "      <th>1</th>\n",
       "      <td>Ann M. Martin</td>\n",
       "      <td>6.708333</td>\n",
       "    </tr>\n",
       "    <tr>\n",
       "      <th>5</th>\n",
       "      <td>Francine Pascal</td>\n",
       "      <td>6.659091</td>\n",
       "    </tr>\n",
       "    <tr>\n",
       "      <th>2</th>\n",
       "      <td>Barbara Cartland</td>\n",
       "      <td>5.041812</td>\n",
       "    </tr>\n",
       "  </tbody>\n",
       "</table>\n",
       "</div>"
      ],
      "text/plain": [
       "              Book-Author Book-Rating\n",
       "19    William Shakespeare    8.299145\n",
       "11             Mark Twain    8.270115\n",
       "8             Jane Austen    8.188563\n",
       "18        Terry Pratchett    8.157431\n",
       "14   Not Applicable (Na )     8.09434\n",
       "7            Isaac Asimov    7.903141\n",
       "3           Carolyn Keene    7.831858\n",
       "17           Stephen King    7.819644\n",
       "0         Agatha Christie     7.78649\n",
       "4         Charles Dickens        7.76\n",
       "15          Piers Anthony     7.64257\n",
       "10  Marion Zimmer Bradley    7.630197\n",
       "13           Nora Roberts     7.62968\n",
       "12     Mary Higgins Clark    7.503589\n",
       "9            Janet Dailey    7.371429\n",
       "6       Franklin W. Dixon    7.038462\n",
       "16            R. L. Stine    6.859259\n",
       "1           Ann M. Martin    6.708333\n",
       "5         Francine Pascal    6.659091\n",
       "2        Barbara Cartland    5.041812"
      ]
     },
     "execution_count": 157,
     "metadata": {},
     "output_type": "execute_result"
    }
   ],
   "source": [
    "top20_author = top20_author.groupby(\"Book-Author\")[\"Book-Rating\"].agg(\"mean\").reset_index().sort_values(by=\"Book-Rating\", ascending=False)\n",
    "top20_author"
   ]
  },
  {
   "cell_type": "code",
   "execution_count": 158,
   "metadata": {},
   "outputs": [
    {
     "data": {
      "application/vnd.plotly.v1+json": {
       "config": {
        "plotlyServerURL": "https://plot.ly"
       },
       "data": [
        {
         "alignmentgroup": "True",
         "hovertemplate": "x=%{x}<br>y=%{y}<br>text=%{text}<extra></extra>",
         "legendgroup": "",
         "marker": {
          "color": "rgb(255,247,251)",
          "pattern": {
           "shape": ""
          }
         },
         "name": "",
         "offsetgroup": "",
         "orientation": "v",
         "showlegend": false,
         "text": [
          8.3,
          8.27,
          8.19,
          8.16,
          8.09,
          7.9,
          7.83,
          7.82,
          7.79,
          7.76,
          7.64,
          7.63,
          7.63,
          7.5,
          7.37,
          7.04,
          6.86,
          6.71,
          6.66,
          5.04
         ],
         "textposition": "auto",
         "type": "bar",
         "x": [
          "William Shakespeare",
          "Mark Twain",
          "Jane Austen",
          "Terry Pratchett",
          "Not Applicable (Na )",
          "Isaac Asimov",
          "Carolyn Keene",
          "Stephen King",
          "Agatha Christie",
          "Charles Dickens",
          "Piers Anthony",
          "Marion Zimmer Bradley",
          "Nora Roberts",
          "Mary Higgins Clark",
          "Janet Dailey",
          "Franklin W. Dixon",
          "R. L. Stine",
          "Ann M. Martin",
          "Francine Pascal",
          "Barbara Cartland"
         ],
         "xaxis": "x",
         "y": [
          8.2991452991453,
          8.270114942528735,
          8.188562596599692,
          8.15743073047859,
          8.09433962264151,
          7.903141361256544,
          7.831858407079646,
          7.819643633202955,
          7.786489746682751,
          7.76,
          7.642570281124498,
          7.63019693654267,
          7.629680054458816,
          7.503588516746412,
          7.371428571428571,
          7.038461538461538,
          6.859259259259259,
          6.708333333333333,
          6.659090909090909,
          5.041811846689895
         ],
         "yaxis": "y"
        }
       ],
       "layout": {
        "barmode": "relative",
        "font": {
         "family": "Franklin Gothic",
         "size": 15
        },
        "legend": {
         "tracegroupgap": 0
        },
        "template": {
         "data": {
          "bar": [
           {
            "error_x": {
             "color": "#f2f5fa"
            },
            "error_y": {
             "color": "#f2f5fa"
            },
            "marker": {
             "line": {
              "color": "rgb(17,17,17)",
              "width": 0.5
             },
             "pattern": {
              "fillmode": "overlay",
              "size": 10,
              "solidity": 0.2
             }
            },
            "type": "bar"
           }
          ],
          "barpolar": [
           {
            "marker": {
             "line": {
              "color": "rgb(17,17,17)",
              "width": 0.5
             },
             "pattern": {
              "fillmode": "overlay",
              "size": 10,
              "solidity": 0.2
             }
            },
            "type": "barpolar"
           }
          ],
          "carpet": [
           {
            "aaxis": {
             "endlinecolor": "#A2B1C6",
             "gridcolor": "#506784",
             "linecolor": "#506784",
             "minorgridcolor": "#506784",
             "startlinecolor": "#A2B1C6"
            },
            "baxis": {
             "endlinecolor": "#A2B1C6",
             "gridcolor": "#506784",
             "linecolor": "#506784",
             "minorgridcolor": "#506784",
             "startlinecolor": "#A2B1C6"
            },
            "type": "carpet"
           }
          ],
          "choropleth": [
           {
            "colorbar": {
             "outlinewidth": 0,
             "ticks": ""
            },
            "type": "choropleth"
           }
          ],
          "contour": [
           {
            "colorbar": {
             "outlinewidth": 0,
             "ticks": ""
            },
            "colorscale": [
             [
              0,
              "#0d0887"
             ],
             [
              0.1111111111111111,
              "#46039f"
             ],
             [
              0.2222222222222222,
              "#7201a8"
             ],
             [
              0.3333333333333333,
              "#9c179e"
             ],
             [
              0.4444444444444444,
              "#bd3786"
             ],
             [
              0.5555555555555556,
              "#d8576b"
             ],
             [
              0.6666666666666666,
              "#ed7953"
             ],
             [
              0.7777777777777778,
              "#fb9f3a"
             ],
             [
              0.8888888888888888,
              "#fdca26"
             ],
             [
              1,
              "#f0f921"
             ]
            ],
            "type": "contour"
           }
          ],
          "contourcarpet": [
           {
            "colorbar": {
             "outlinewidth": 0,
             "ticks": ""
            },
            "type": "contourcarpet"
           }
          ],
          "heatmap": [
           {
            "colorbar": {
             "outlinewidth": 0,
             "ticks": ""
            },
            "colorscale": [
             [
              0,
              "#0d0887"
             ],
             [
              0.1111111111111111,
              "#46039f"
             ],
             [
              0.2222222222222222,
              "#7201a8"
             ],
             [
              0.3333333333333333,
              "#9c179e"
             ],
             [
              0.4444444444444444,
              "#bd3786"
             ],
             [
              0.5555555555555556,
              "#d8576b"
             ],
             [
              0.6666666666666666,
              "#ed7953"
             ],
             [
              0.7777777777777778,
              "#fb9f3a"
             ],
             [
              0.8888888888888888,
              "#fdca26"
             ],
             [
              1,
              "#f0f921"
             ]
            ],
            "type": "heatmap"
           }
          ],
          "heatmapgl": [
           {
            "colorbar": {
             "outlinewidth": 0,
             "ticks": ""
            },
            "colorscale": [
             [
              0,
              "#0d0887"
             ],
             [
              0.1111111111111111,
              "#46039f"
             ],
             [
              0.2222222222222222,
              "#7201a8"
             ],
             [
              0.3333333333333333,
              "#9c179e"
             ],
             [
              0.4444444444444444,
              "#bd3786"
             ],
             [
              0.5555555555555556,
              "#d8576b"
             ],
             [
              0.6666666666666666,
              "#ed7953"
             ],
             [
              0.7777777777777778,
              "#fb9f3a"
             ],
             [
              0.8888888888888888,
              "#fdca26"
             ],
             [
              1,
              "#f0f921"
             ]
            ],
            "type": "heatmapgl"
           }
          ],
          "histogram": [
           {
            "marker": {
             "pattern": {
              "fillmode": "overlay",
              "size": 10,
              "solidity": 0.2
             }
            },
            "type": "histogram"
           }
          ],
          "histogram2d": [
           {
            "colorbar": {
             "outlinewidth": 0,
             "ticks": ""
            },
            "colorscale": [
             [
              0,
              "#0d0887"
             ],
             [
              0.1111111111111111,
              "#46039f"
             ],
             [
              0.2222222222222222,
              "#7201a8"
             ],
             [
              0.3333333333333333,
              "#9c179e"
             ],
             [
              0.4444444444444444,
              "#bd3786"
             ],
             [
              0.5555555555555556,
              "#d8576b"
             ],
             [
              0.6666666666666666,
              "#ed7953"
             ],
             [
              0.7777777777777778,
              "#fb9f3a"
             ],
             [
              0.8888888888888888,
              "#fdca26"
             ],
             [
              1,
              "#f0f921"
             ]
            ],
            "type": "histogram2d"
           }
          ],
          "histogram2dcontour": [
           {
            "colorbar": {
             "outlinewidth": 0,
             "ticks": ""
            },
            "colorscale": [
             [
              0,
              "#0d0887"
             ],
             [
              0.1111111111111111,
              "#46039f"
             ],
             [
              0.2222222222222222,
              "#7201a8"
             ],
             [
              0.3333333333333333,
              "#9c179e"
             ],
             [
              0.4444444444444444,
              "#bd3786"
             ],
             [
              0.5555555555555556,
              "#d8576b"
             ],
             [
              0.6666666666666666,
              "#ed7953"
             ],
             [
              0.7777777777777778,
              "#fb9f3a"
             ],
             [
              0.8888888888888888,
              "#fdca26"
             ],
             [
              1,
              "#f0f921"
             ]
            ],
            "type": "histogram2dcontour"
           }
          ],
          "mesh3d": [
           {
            "colorbar": {
             "outlinewidth": 0,
             "ticks": ""
            },
            "type": "mesh3d"
           }
          ],
          "parcoords": [
           {
            "line": {
             "colorbar": {
              "outlinewidth": 0,
              "ticks": ""
             }
            },
            "type": "parcoords"
           }
          ],
          "pie": [
           {
            "automargin": true,
            "type": "pie"
           }
          ],
          "scatter": [
           {
            "marker": {
             "line": {
              "color": "#283442"
             }
            },
            "type": "scatter"
           }
          ],
          "scatter3d": [
           {
            "line": {
             "colorbar": {
              "outlinewidth": 0,
              "ticks": ""
             }
            },
            "marker": {
             "colorbar": {
              "outlinewidth": 0,
              "ticks": ""
             }
            },
            "type": "scatter3d"
           }
          ],
          "scattercarpet": [
           {
            "marker": {
             "colorbar": {
              "outlinewidth": 0,
              "ticks": ""
             }
            },
            "type": "scattercarpet"
           }
          ],
          "scattergeo": [
           {
            "marker": {
             "colorbar": {
              "outlinewidth": 0,
              "ticks": ""
             }
            },
            "type": "scattergeo"
           }
          ],
          "scattergl": [
           {
            "marker": {
             "line": {
              "color": "#283442"
             }
            },
            "type": "scattergl"
           }
          ],
          "scattermapbox": [
           {
            "marker": {
             "colorbar": {
              "outlinewidth": 0,
              "ticks": ""
             }
            },
            "type": "scattermapbox"
           }
          ],
          "scatterpolar": [
           {
            "marker": {
             "colorbar": {
              "outlinewidth": 0,
              "ticks": ""
             }
            },
            "type": "scatterpolar"
           }
          ],
          "scatterpolargl": [
           {
            "marker": {
             "colorbar": {
              "outlinewidth": 0,
              "ticks": ""
             }
            },
            "type": "scatterpolargl"
           }
          ],
          "scatterternary": [
           {
            "marker": {
             "colorbar": {
              "outlinewidth": 0,
              "ticks": ""
             }
            },
            "type": "scatterternary"
           }
          ],
          "surface": [
           {
            "colorbar": {
             "outlinewidth": 0,
             "ticks": ""
            },
            "colorscale": [
             [
              0,
              "#0d0887"
             ],
             [
              0.1111111111111111,
              "#46039f"
             ],
             [
              0.2222222222222222,
              "#7201a8"
             ],
             [
              0.3333333333333333,
              "#9c179e"
             ],
             [
              0.4444444444444444,
              "#bd3786"
             ],
             [
              0.5555555555555556,
              "#d8576b"
             ],
             [
              0.6666666666666666,
              "#ed7953"
             ],
             [
              0.7777777777777778,
              "#fb9f3a"
             ],
             [
              0.8888888888888888,
              "#fdca26"
             ],
             [
              1,
              "#f0f921"
             ]
            ],
            "type": "surface"
           }
          ],
          "table": [
           {
            "cells": {
             "fill": {
              "color": "#506784"
             },
             "line": {
              "color": "rgb(17,17,17)"
             }
            },
            "header": {
             "fill": {
              "color": "#2a3f5f"
             },
             "line": {
              "color": "rgb(17,17,17)"
             }
            },
            "type": "table"
           }
          ]
         },
         "layout": {
          "annotationdefaults": {
           "arrowcolor": "#f2f5fa",
           "arrowhead": 0,
           "arrowwidth": 1
          },
          "autotypenumbers": "strict",
          "coloraxis": {
           "colorbar": {
            "outlinewidth": 0,
            "ticks": ""
           }
          },
          "colorscale": {
           "diverging": [
            [
             0,
             "#8e0152"
            ],
            [
             0.1,
             "#c51b7d"
            ],
            [
             0.2,
             "#de77ae"
            ],
            [
             0.3,
             "#f1b6da"
            ],
            [
             0.4,
             "#fde0ef"
            ],
            [
             0.5,
             "#f7f7f7"
            ],
            [
             0.6,
             "#e6f5d0"
            ],
            [
             0.7,
             "#b8e186"
            ],
            [
             0.8,
             "#7fbc41"
            ],
            [
             0.9,
             "#4d9221"
            ],
            [
             1,
             "#276419"
            ]
           ],
           "sequential": [
            [
             0,
             "#0d0887"
            ],
            [
             0.1111111111111111,
             "#46039f"
            ],
            [
             0.2222222222222222,
             "#7201a8"
            ],
            [
             0.3333333333333333,
             "#9c179e"
            ],
            [
             0.4444444444444444,
             "#bd3786"
            ],
            [
             0.5555555555555556,
             "#d8576b"
            ],
            [
             0.6666666666666666,
             "#ed7953"
            ],
            [
             0.7777777777777778,
             "#fb9f3a"
            ],
            [
             0.8888888888888888,
             "#fdca26"
            ],
            [
             1,
             "#f0f921"
            ]
           ],
           "sequentialminus": [
            [
             0,
             "#0d0887"
            ],
            [
             0.1111111111111111,
             "#46039f"
            ],
            [
             0.2222222222222222,
             "#7201a8"
            ],
            [
             0.3333333333333333,
             "#9c179e"
            ],
            [
             0.4444444444444444,
             "#bd3786"
            ],
            [
             0.5555555555555556,
             "#d8576b"
            ],
            [
             0.6666666666666666,
             "#ed7953"
            ],
            [
             0.7777777777777778,
             "#fb9f3a"
            ],
            [
             0.8888888888888888,
             "#fdca26"
            ],
            [
             1,
             "#f0f921"
            ]
           ]
          },
          "colorway": [
           "#636efa",
           "#EF553B",
           "#00cc96",
           "#ab63fa",
           "#FFA15A",
           "#19d3f3",
           "#FF6692",
           "#B6E880",
           "#FF97FF",
           "#FECB52"
          ],
          "font": {
           "color": "#f2f5fa"
          },
          "geo": {
           "bgcolor": "rgb(17,17,17)",
           "lakecolor": "rgb(17,17,17)",
           "landcolor": "rgb(17,17,17)",
           "showlakes": true,
           "showland": true,
           "subunitcolor": "#506784"
          },
          "hoverlabel": {
           "align": "left"
          },
          "hovermode": "closest",
          "mapbox": {
           "style": "dark"
          },
          "paper_bgcolor": "rgb(17,17,17)",
          "plot_bgcolor": "rgb(17,17,17)",
          "polar": {
           "angularaxis": {
            "gridcolor": "#506784",
            "linecolor": "#506784",
            "ticks": ""
           },
           "bgcolor": "rgb(17,17,17)",
           "radialaxis": {
            "gridcolor": "#506784",
            "linecolor": "#506784",
            "ticks": ""
           }
          },
          "scene": {
           "xaxis": {
            "backgroundcolor": "rgb(17,17,17)",
            "gridcolor": "#506784",
            "gridwidth": 2,
            "linecolor": "#506784",
            "showbackground": true,
            "ticks": "",
            "zerolinecolor": "#C8D4E3"
           },
           "yaxis": {
            "backgroundcolor": "rgb(17,17,17)",
            "gridcolor": "#506784",
            "gridwidth": 2,
            "linecolor": "#506784",
            "showbackground": true,
            "ticks": "",
            "zerolinecolor": "#C8D4E3"
           },
           "zaxis": {
            "backgroundcolor": "rgb(17,17,17)",
            "gridcolor": "#506784",
            "gridwidth": 2,
            "linecolor": "#506784",
            "showbackground": true,
            "ticks": "",
            "zerolinecolor": "#C8D4E3"
           }
          },
          "shapedefaults": {
           "line": {
            "color": "#f2f5fa"
           }
          },
          "sliderdefaults": {
           "bgcolor": "#C8D4E3",
           "bordercolor": "rgb(17,17,17)",
           "borderwidth": 1,
           "tickwidth": 0
          },
          "ternary": {
           "aaxis": {
            "gridcolor": "#506784",
            "linecolor": "#506784",
            "ticks": ""
           },
           "baxis": {
            "gridcolor": "#506784",
            "linecolor": "#506784",
            "ticks": ""
           },
           "bgcolor": "rgb(17,17,17)",
           "caxis": {
            "gridcolor": "#506784",
            "linecolor": "#506784",
            "ticks": ""
           }
          },
          "title": {
           "x": 0.05
          },
          "updatemenudefaults": {
           "bgcolor": "#506784",
           "borderwidth": 0
          },
          "xaxis": {
           "automargin": true,
           "gridcolor": "#283442",
           "linecolor": "#506784",
           "ticks": "",
           "title": {
            "standoff": 15
           },
           "zerolinecolor": "#283442",
           "zerolinewidth": 2
          },
          "yaxis": {
           "automargin": true,
           "gridcolor": "#283442",
           "linecolor": "#506784",
           "ticks": "",
           "title": {
            "standoff": 15
           },
           "zerolinecolor": "#283442",
           "zerolinewidth": 2
          }
         }
        },
        "title": {
         "text": "Average ratings of the books of the Top 20 authors"
        },
        "xaxis": {
         "anchor": "y",
         "domain": [
          0,
          1
         ],
         "title": {
          "text": "Author Name"
         }
        },
        "yaxis": {
         "anchor": "x",
         "domain": [
          0,
          1
         ],
         "title": {
          "text": "Average Rating"
         }
        }
       }
      },
      "text/html": [
       "<div>                            <div id=\"bdf39cd1-c64d-413a-a8bd-10c213af0536\" class=\"plotly-graph-div\" style=\"height:525px; width:100%;\"></div>            <script type=\"text/javascript\">                require([\"plotly\"], function(Plotly) {                    window.PLOTLYENV=window.PLOTLYENV || {};                                    if (document.getElementById(\"bdf39cd1-c64d-413a-a8bd-10c213af0536\")) {                    Plotly.newPlot(                        \"bdf39cd1-c64d-413a-a8bd-10c213af0536\",                        [{\"alignmentgroup\":\"True\",\"hovertemplate\":\"x=%{x}<br>y=%{y}<br>text=%{text}<extra></extra>\",\"legendgroup\":\"\",\"marker\":{\"color\":\"rgb(255,247,251)\",\"pattern\":{\"shape\":\"\"}},\"name\":\"\",\"offsetgroup\":\"\",\"orientation\":\"v\",\"showlegend\":false,\"text\":[8.3,8.27,8.19,8.16,8.09,7.9,7.83,7.82,7.79,7.76,7.64,7.63,7.63,7.5,7.37,7.04,6.86,6.71,6.66,5.04],\"textposition\":\"auto\",\"x\":[\"William Shakespeare\",\"Mark Twain\",\"Jane Austen\",\"Terry Pratchett\",\"Not Applicable (Na )\",\"Isaac Asimov\",\"Carolyn Keene\",\"Stephen King\",\"Agatha Christie\",\"Charles Dickens\",\"Piers Anthony\",\"Marion Zimmer Bradley\",\"Nora Roberts\",\"Mary Higgins Clark\",\"Janet Dailey\",\"Franklin W. Dixon\",\"R. L. Stine\",\"Ann M. Martin\",\"Francine Pascal\",\"Barbara Cartland\"],\"xaxis\":\"x\",\"y\":[8.2991452991453,8.270114942528735,8.188562596599692,8.15743073047859,8.09433962264151,7.903141361256544,7.831858407079646,7.819643633202955,7.786489746682751,7.76,7.642570281124498,7.63019693654267,7.629680054458816,7.503588516746412,7.371428571428571,7.038461538461538,6.859259259259259,6.708333333333333,6.659090909090909,5.041811846689895],\"yaxis\":\"y\",\"type\":\"bar\"}],                        {\"template\":{\"data\":{\"barpolar\":[{\"marker\":{\"line\":{\"color\":\"rgb(17,17,17)\",\"width\":0.5},\"pattern\":{\"fillmode\":\"overlay\",\"size\":10,\"solidity\":0.2}},\"type\":\"barpolar\"}],\"bar\":[{\"error_x\":{\"color\":\"#f2f5fa\"},\"error_y\":{\"color\":\"#f2f5fa\"},\"marker\":{\"line\":{\"color\":\"rgb(17,17,17)\",\"width\":0.5},\"pattern\":{\"fillmode\":\"overlay\",\"size\":10,\"solidity\":0.2}},\"type\":\"bar\"}],\"carpet\":[{\"aaxis\":{\"endlinecolor\":\"#A2B1C6\",\"gridcolor\":\"#506784\",\"linecolor\":\"#506784\",\"minorgridcolor\":\"#506784\",\"startlinecolor\":\"#A2B1C6\"},\"baxis\":{\"endlinecolor\":\"#A2B1C6\",\"gridcolor\":\"#506784\",\"linecolor\":\"#506784\",\"minorgridcolor\":\"#506784\",\"startlinecolor\":\"#A2B1C6\"},\"type\":\"carpet\"}],\"choropleth\":[{\"colorbar\":{\"outlinewidth\":0,\"ticks\":\"\"},\"type\":\"choropleth\"}],\"contourcarpet\":[{\"colorbar\":{\"outlinewidth\":0,\"ticks\":\"\"},\"type\":\"contourcarpet\"}],\"contour\":[{\"colorbar\":{\"outlinewidth\":0,\"ticks\":\"\"},\"colorscale\":[[0.0,\"#0d0887\"],[0.1111111111111111,\"#46039f\"],[0.2222222222222222,\"#7201a8\"],[0.3333333333333333,\"#9c179e\"],[0.4444444444444444,\"#bd3786\"],[0.5555555555555556,\"#d8576b\"],[0.6666666666666666,\"#ed7953\"],[0.7777777777777778,\"#fb9f3a\"],[0.8888888888888888,\"#fdca26\"],[1.0,\"#f0f921\"]],\"type\":\"contour\"}],\"heatmapgl\":[{\"colorbar\":{\"outlinewidth\":0,\"ticks\":\"\"},\"colorscale\":[[0.0,\"#0d0887\"],[0.1111111111111111,\"#46039f\"],[0.2222222222222222,\"#7201a8\"],[0.3333333333333333,\"#9c179e\"],[0.4444444444444444,\"#bd3786\"],[0.5555555555555556,\"#d8576b\"],[0.6666666666666666,\"#ed7953\"],[0.7777777777777778,\"#fb9f3a\"],[0.8888888888888888,\"#fdca26\"],[1.0,\"#f0f921\"]],\"type\":\"heatmapgl\"}],\"heatmap\":[{\"colorbar\":{\"outlinewidth\":0,\"ticks\":\"\"},\"colorscale\":[[0.0,\"#0d0887\"],[0.1111111111111111,\"#46039f\"],[0.2222222222222222,\"#7201a8\"],[0.3333333333333333,\"#9c179e\"],[0.4444444444444444,\"#bd3786\"],[0.5555555555555556,\"#d8576b\"],[0.6666666666666666,\"#ed7953\"],[0.7777777777777778,\"#fb9f3a\"],[0.8888888888888888,\"#fdca26\"],[1.0,\"#f0f921\"]],\"type\":\"heatmap\"}],\"histogram2dcontour\":[{\"colorbar\":{\"outlinewidth\":0,\"ticks\":\"\"},\"colorscale\":[[0.0,\"#0d0887\"],[0.1111111111111111,\"#46039f\"],[0.2222222222222222,\"#7201a8\"],[0.3333333333333333,\"#9c179e\"],[0.4444444444444444,\"#bd3786\"],[0.5555555555555556,\"#d8576b\"],[0.6666666666666666,\"#ed7953\"],[0.7777777777777778,\"#fb9f3a\"],[0.8888888888888888,\"#fdca26\"],[1.0,\"#f0f921\"]],\"type\":\"histogram2dcontour\"}],\"histogram2d\":[{\"colorbar\":{\"outlinewidth\":0,\"ticks\":\"\"},\"colorscale\":[[0.0,\"#0d0887\"],[0.1111111111111111,\"#46039f\"],[0.2222222222222222,\"#7201a8\"],[0.3333333333333333,\"#9c179e\"],[0.4444444444444444,\"#bd3786\"],[0.5555555555555556,\"#d8576b\"],[0.6666666666666666,\"#ed7953\"],[0.7777777777777778,\"#fb9f3a\"],[0.8888888888888888,\"#fdca26\"],[1.0,\"#f0f921\"]],\"type\":\"histogram2d\"}],\"histogram\":[{\"marker\":{\"pattern\":{\"fillmode\":\"overlay\",\"size\":10,\"solidity\":0.2}},\"type\":\"histogram\"}],\"mesh3d\":[{\"colorbar\":{\"outlinewidth\":0,\"ticks\":\"\"},\"type\":\"mesh3d\"}],\"parcoords\":[{\"line\":{\"colorbar\":{\"outlinewidth\":0,\"ticks\":\"\"}},\"type\":\"parcoords\"}],\"pie\":[{\"automargin\":true,\"type\":\"pie\"}],\"scatter3d\":[{\"line\":{\"colorbar\":{\"outlinewidth\":0,\"ticks\":\"\"}},\"marker\":{\"colorbar\":{\"outlinewidth\":0,\"ticks\":\"\"}},\"type\":\"scatter3d\"}],\"scattercarpet\":[{\"marker\":{\"colorbar\":{\"outlinewidth\":0,\"ticks\":\"\"}},\"type\":\"scattercarpet\"}],\"scattergeo\":[{\"marker\":{\"colorbar\":{\"outlinewidth\":0,\"ticks\":\"\"}},\"type\":\"scattergeo\"}],\"scattergl\":[{\"marker\":{\"line\":{\"color\":\"#283442\"}},\"type\":\"scattergl\"}],\"scattermapbox\":[{\"marker\":{\"colorbar\":{\"outlinewidth\":0,\"ticks\":\"\"}},\"type\":\"scattermapbox\"}],\"scatterpolargl\":[{\"marker\":{\"colorbar\":{\"outlinewidth\":0,\"ticks\":\"\"}},\"type\":\"scatterpolargl\"}],\"scatterpolar\":[{\"marker\":{\"colorbar\":{\"outlinewidth\":0,\"ticks\":\"\"}},\"type\":\"scatterpolar\"}],\"scatter\":[{\"marker\":{\"line\":{\"color\":\"#283442\"}},\"type\":\"scatter\"}],\"scatterternary\":[{\"marker\":{\"colorbar\":{\"outlinewidth\":0,\"ticks\":\"\"}},\"type\":\"scatterternary\"}],\"surface\":[{\"colorbar\":{\"outlinewidth\":0,\"ticks\":\"\"},\"colorscale\":[[0.0,\"#0d0887\"],[0.1111111111111111,\"#46039f\"],[0.2222222222222222,\"#7201a8\"],[0.3333333333333333,\"#9c179e\"],[0.4444444444444444,\"#bd3786\"],[0.5555555555555556,\"#d8576b\"],[0.6666666666666666,\"#ed7953\"],[0.7777777777777778,\"#fb9f3a\"],[0.8888888888888888,\"#fdca26\"],[1.0,\"#f0f921\"]],\"type\":\"surface\"}],\"table\":[{\"cells\":{\"fill\":{\"color\":\"#506784\"},\"line\":{\"color\":\"rgb(17,17,17)\"}},\"header\":{\"fill\":{\"color\":\"#2a3f5f\"},\"line\":{\"color\":\"rgb(17,17,17)\"}},\"type\":\"table\"}]},\"layout\":{\"annotationdefaults\":{\"arrowcolor\":\"#f2f5fa\",\"arrowhead\":0,\"arrowwidth\":1},\"autotypenumbers\":\"strict\",\"coloraxis\":{\"colorbar\":{\"outlinewidth\":0,\"ticks\":\"\"}},\"colorscale\":{\"diverging\":[[0,\"#8e0152\"],[0.1,\"#c51b7d\"],[0.2,\"#de77ae\"],[0.3,\"#f1b6da\"],[0.4,\"#fde0ef\"],[0.5,\"#f7f7f7\"],[0.6,\"#e6f5d0\"],[0.7,\"#b8e186\"],[0.8,\"#7fbc41\"],[0.9,\"#4d9221\"],[1,\"#276419\"]],\"sequential\":[[0.0,\"#0d0887\"],[0.1111111111111111,\"#46039f\"],[0.2222222222222222,\"#7201a8\"],[0.3333333333333333,\"#9c179e\"],[0.4444444444444444,\"#bd3786\"],[0.5555555555555556,\"#d8576b\"],[0.6666666666666666,\"#ed7953\"],[0.7777777777777778,\"#fb9f3a\"],[0.8888888888888888,\"#fdca26\"],[1.0,\"#f0f921\"]],\"sequentialminus\":[[0.0,\"#0d0887\"],[0.1111111111111111,\"#46039f\"],[0.2222222222222222,\"#7201a8\"],[0.3333333333333333,\"#9c179e\"],[0.4444444444444444,\"#bd3786\"],[0.5555555555555556,\"#d8576b\"],[0.6666666666666666,\"#ed7953\"],[0.7777777777777778,\"#fb9f3a\"],[0.8888888888888888,\"#fdca26\"],[1.0,\"#f0f921\"]]},\"colorway\":[\"#636efa\",\"#EF553B\",\"#00cc96\",\"#ab63fa\",\"#FFA15A\",\"#19d3f3\",\"#FF6692\",\"#B6E880\",\"#FF97FF\",\"#FECB52\"],\"font\":{\"color\":\"#f2f5fa\"},\"geo\":{\"bgcolor\":\"rgb(17,17,17)\",\"lakecolor\":\"rgb(17,17,17)\",\"landcolor\":\"rgb(17,17,17)\",\"showlakes\":true,\"showland\":true,\"subunitcolor\":\"#506784\"},\"hoverlabel\":{\"align\":\"left\"},\"hovermode\":\"closest\",\"mapbox\":{\"style\":\"dark\"},\"paper_bgcolor\":\"rgb(17,17,17)\",\"plot_bgcolor\":\"rgb(17,17,17)\",\"polar\":{\"angularaxis\":{\"gridcolor\":\"#506784\",\"linecolor\":\"#506784\",\"ticks\":\"\"},\"bgcolor\":\"rgb(17,17,17)\",\"radialaxis\":{\"gridcolor\":\"#506784\",\"linecolor\":\"#506784\",\"ticks\":\"\"}},\"scene\":{\"xaxis\":{\"backgroundcolor\":\"rgb(17,17,17)\",\"gridcolor\":\"#506784\",\"gridwidth\":2,\"linecolor\":\"#506784\",\"showbackground\":true,\"ticks\":\"\",\"zerolinecolor\":\"#C8D4E3\"},\"yaxis\":{\"backgroundcolor\":\"rgb(17,17,17)\",\"gridcolor\":\"#506784\",\"gridwidth\":2,\"linecolor\":\"#506784\",\"showbackground\":true,\"ticks\":\"\",\"zerolinecolor\":\"#C8D4E3\"},\"zaxis\":{\"backgroundcolor\":\"rgb(17,17,17)\",\"gridcolor\":\"#506784\",\"gridwidth\":2,\"linecolor\":\"#506784\",\"showbackground\":true,\"ticks\":\"\",\"zerolinecolor\":\"#C8D4E3\"}},\"shapedefaults\":{\"line\":{\"color\":\"#f2f5fa\"}},\"sliderdefaults\":{\"bgcolor\":\"#C8D4E3\",\"bordercolor\":\"rgb(17,17,17)\",\"borderwidth\":1,\"tickwidth\":0},\"ternary\":{\"aaxis\":{\"gridcolor\":\"#506784\",\"linecolor\":\"#506784\",\"ticks\":\"\"},\"baxis\":{\"gridcolor\":\"#506784\",\"linecolor\":\"#506784\",\"ticks\":\"\"},\"bgcolor\":\"rgb(17,17,17)\",\"caxis\":{\"gridcolor\":\"#506784\",\"linecolor\":\"#506784\",\"ticks\":\"\"}},\"title\":{\"x\":0.05},\"updatemenudefaults\":{\"bgcolor\":\"#506784\",\"borderwidth\":0},\"xaxis\":{\"automargin\":true,\"gridcolor\":\"#283442\",\"linecolor\":\"#506784\",\"ticks\":\"\",\"title\":{\"standoff\":15},\"zerolinecolor\":\"#283442\",\"zerolinewidth\":2},\"yaxis\":{\"automargin\":true,\"gridcolor\":\"#283442\",\"linecolor\":\"#506784\",\"ticks\":\"\",\"title\":{\"standoff\":15},\"zerolinecolor\":\"#283442\",\"zerolinewidth\":2}}},\"xaxis\":{\"anchor\":\"y\",\"domain\":[0.0,1.0],\"title\":{\"text\":\"Author Name\"}},\"yaxis\":{\"anchor\":\"x\",\"domain\":[0.0,1.0],\"title\":{\"text\":\"Average Rating\"}},\"legend\":{\"tracegroupgap\":0},\"title\":{\"text\":\"Average ratings of the books of the Top 20 authors\"},\"barmode\":\"relative\",\"font\":{\"size\":15,\"family\":\"Franklin Gothic\"}},                        {\"responsive\": true}                    ).then(function(){\n",
       "                            \n",
       "var gd = document.getElementById('bdf39cd1-c64d-413a-a8bd-10c213af0536');\n",
       "var x = new MutationObserver(function (mutations, observer) {{\n",
       "        var display = window.getComputedStyle(gd).display;\n",
       "        if (!display || display === 'none') {{\n",
       "            console.log([gd, 'removed!']);\n",
       "            Plotly.purge(gd);\n",
       "            observer.disconnect();\n",
       "        }}\n",
       "}});\n",
       "\n",
       "// Listen for the removal of the full notebook cells\n",
       "var notebookContainer = gd.closest('#notebook-container');\n",
       "if (notebookContainer) {{\n",
       "    x.observe(notebookContainer, {childList: true});\n",
       "}}\n",
       "\n",
       "// Listen for the clearing of the current output cell\n",
       "var outputEl = gd.closest('.output');\n",
       "if (outputEl) {{\n",
       "    x.observe(outputEl, {childList: true});\n",
       "}}\n",
       "\n",
       "                        })                };                });            </script>        </div>"
      ]
     },
     "metadata": {},
     "output_type": "display_data"
    }
   ],
   "source": [
    "# Fill missing values in the 'Book-Rating' column with 0\n",
    "top20_author['Book-Rating'] = top20_author['Book-Rating'].fillna(0)\n",
    "\n",
    "fig = px.bar(y=top20_author['Book-Rating'], \n",
    "             x=top20_author['Book-Author'], \n",
    "             color_discrete_sequence=px.colors.sequential.PuBuGn,\n",
    "             text=top20_author['Book-Rating'].apply(lambda x: round(x, 2)),\n",
    "             title=\"Average ratings of the books of the Top 20 authors\",\n",
    "             template='plotly_dark')\n",
    "\n",
    "fig.update_layout(\n",
    "    xaxis_title=\"Author Name\",\n",
    "    yaxis_title=\"Average Rating\",\n",
    "    font=dict(size=15, family=\"Franklin Gothic\"))\n",
    "\n",
    "fig.show()\n"
   ]
  },
  {
   "cell_type": "code",
   "execution_count": 159,
   "metadata": {},
   "outputs": [
    {
     "data": {
      "image/png": "[encoded data removed]",
      "text/plain": [
       "<Figure size 1000x600 with 1 Axes>"
      ]
     },
     "metadata": {},
     "output_type": "display_data"
    }
   ],
   "source": [
    "# Plotting the top 15 publishers\n",
    "plt.figure(figsize=(10, 6))\n",
    "books_df[\"Publisher\"].value_counts().head(15).plot(kind='bar', color='skyblue')\n",
    "plt.title('Top 15 Publishers', fontsize=16, fontweight='bold', color='navy')\n",
    "plt.xlabel('Publisher', fontsize=12, fontweight='bold', color='navy')\n",
    "plt.ylabel('Number of Books', fontsize=12, fontweight='bold', color='navy')\n",
    "plt.xticks(rotation=45, ha='right', fontsize=10, color='navy')\n",
    "plt.yticks(fontsize=10, color='navy')\n",
    "plt.grid(axis='y', linestyle='--', alpha=0.7)\n",
    "plt.show()\n"
   ]
  },
  {
   "cell_type": "code",
   "execution_count": 160,
   "metadata": {},
   "outputs": [
    {
     "name": "stdout",
     "output_type": "stream",
     "text": [
      "0\n",
      "0\n",
      "0\n"
     ]
    }
   ],
   "source": [
    "# Check for duplicated rows in each dataframe\n",
    "print(books_df.duplicated().sum())\n",
    "print(users_df.duplicated().sum())\n",
    "print(ratings_df.duplicated().sum())"
   ]
  },
  {
   "cell_type": "code",
   "execution_count": 161,
   "metadata": {},
   "outputs": [
    {
     "data": {
      "text/html": [
       "<div>\n",
       "<style scoped>\n",
       "    .dataframe tbody tr th:only-of-type {\n",
       "        vertical-align: middle;\n",
       "    }\n",
       "\n",
       "    .dataframe tbody tr th {\n",
       "        vertical-align: top;\n",
       "    }\n",
       "\n",
       "    .dataframe thead th {\n",
       "        text-align: right;\n",
       "    }\n",
       "</style>\n",
       "<table border=\"1\" class=\"dataframe\">\n",
       "  <thead>\n",
       "    <tr style=\"text-align: right;\">\n",
       "      <th></th>\n",
       "      <th>User-ID</th>\n",
       "      <th>Location</th>\n",
       "      <th>Age</th>\n",
       "    </tr>\n",
       "  </thead>\n",
       "  <tbody>\n",
       "    <tr>\n",
       "      <th>0</th>\n",
       "      <td>1</td>\n",
       "      <td>nyc, new york, usa</td>\n",
       "      <td>NaN</td>\n",
       "    </tr>\n",
       "    <tr>\n",
       "      <th>1</th>\n",
       "      <td>2</td>\n",
       "      <td>stockton, california, usa</td>\n",
       "      <td>18.0</td>\n",
       "    </tr>\n",
       "    <tr>\n",
       "      <th>2</th>\n",
       "      <td>3</td>\n",
       "      <td>moscow, yukon territory, russia</td>\n",
       "      <td>NaN</td>\n",
       "    </tr>\n",
       "    <tr>\n",
       "      <th>3</th>\n",
       "      <td>4</td>\n",
       "      <td>porto, v.n.gaia, portugal</td>\n",
       "      <td>17.0</td>\n",
       "    </tr>\n",
       "    <tr>\n",
       "      <th>4</th>\n",
       "      <td>5</td>\n",
       "      <td>farnborough, hants, united kingdom</td>\n",
       "      <td>NaN</td>\n",
       "    </tr>\n",
       "  </tbody>\n",
       "</table>\n",
       "</div>"
      ],
      "text/plain": [
       "   User-ID                            Location   Age\n",
       "0        1                  nyc, new york, usa   NaN\n",
       "1        2           stockton, california, usa  18.0\n",
       "2        3     moscow, yukon territory, russia   NaN\n",
       "3        4           porto, v.n.gaia, portugal  17.0\n",
       "4        5  farnborough, hants, united kingdom   NaN"
      ]
     },
     "execution_count": 161,
     "metadata": {},
     "output_type": "execute_result"
    }
   ],
   "source": [
    "users_df.head()"
   ]
  },
  {
   "cell_type": "code",
   "execution_count": 162,
   "metadata": {},
   "outputs": [
    {
     "name": "stdout",
     "output_type": "stream",
     "text": [
      "Users dataset shape :  (278858, 3)\n",
      "\n"
     ]
    },
    {
     "data": {
      "text/plain": [
       "User-ID          0\n",
       "Location         0\n",
       "Age         110762\n",
       "dtype: int64"
      ]
     },
     "execution_count": 162,
     "metadata": {},
     "output_type": "execute_result"
    }
   ],
   "source": [
    "# First - check the missing values\n",
    "\n",
    "print(\"Users dataset shape : \", users_df.shape)\n",
    "print()\n",
    "users_df.isna().sum()"
   ]
  },
  {
   "cell_type": "markdown",
   "metadata": {},
   "source": [
    "**We have decided to remove the \"Age\" column from the Users dataset after careful consideration. The rationale behind this decision is the presence of over 100,000 missing values and the fact that age might not be a crucial factor for our analysis and recommendation system. By taking this step, we can streamline the dataset and simplify subsequent tasks.**\n",
    "\n",
    "**The removal of the \"Age\" column ensures data integrity and helps avoid potential biases linked to missing values. This decision enables us to concentrate on the relevant features and boosts the efficiency of our analysis.**"
   ]
  },
  {
   "cell_type": "code",
   "execution_count": 163,
   "metadata": {},
   "outputs": [],
   "source": [
    "#remove the age column\n",
    "users_df.drop(\"Age\", axis=1,inplace=True)"
   ]
  },
  {
   "cell_type": "code",
   "execution_count": 164,
   "metadata": {},
   "outputs": [],
   "source": [
    "users_df[\"Location\"] = users_df[\"Location\"].apply(lambda x:x.split(',')[-1])"
   ]
  },
  {
   "cell_type": "code",
   "execution_count": 165,
   "metadata": {},
   "outputs": [
    {
     "data": {
      "image/png": "[encoded data removed]",
      "text/plain": [
       "<Figure size 1000x600 with 1 Axes>"
      ]
     },
     "metadata": {},
     "output_type": "display_data"
    }
   ],
   "source": [
    "# Plotting the top 15 location ,users are located in\n",
    "plt.figure(figsize=(10, 6))\n",
    "users_df[\"Location\"].value_counts().head(15).plot(kind='bar', color='skyblue')\n",
    "plt.title('Top 15 user location', fontsize=16, fontweight='bold', color='navy')\n",
    "plt.xlabel('Location', fontsize=12, fontweight='bold', color='navy')\n",
    "plt.ylabel('users count', fontsize=12, fontweight='bold', color='navy')\n",
    "plt.xticks(rotation=45, ha='right', fontsize=10, color='navy')\n",
    "plt.yticks(fontsize=10, color='navy')\n",
    "plt.grid(axis='y', linestyle='--', alpha=0.7)\n",
    "plt.show()\n"
   ]
  },
  {
   "cell_type": "code",
   "execution_count": 166,
   "metadata": {},
   "outputs": [],
   "source": [
    "#Le's extract the country from location column in the users dataset\n",
    "Countries = []\n",
    "cond = users_df[\"Location\"].str.split(\",\")\n",
    "\n",
    "for cont in cond:\n",
    "\n",
    "    Countries.append(cont[-1])"
   ]
  },
  {
   "cell_type": "code",
   "execution_count": 167,
   "metadata": {},
   "outputs": [
    {
     "data": {
      "text/plain": [
       "['usa',\n",
       " 'usa',\n",
       " 'russia',\n",
       " 'portugal',\n",
       " 'unitedkingdom',\n",
       " 'usa',\n",
       " 'usa',\n",
       " 'canada',\n",
       " 'usa',\n",
       " 'spain',\n",
       " 'australia',\n",
       " 'usa',\n",
       " 'spain',\n",
       " 'usa',\n",
       " 'canada',\n",
       " 'usa',\n",
       " 'usa',\n",
       " 'brazil',\n",
       " '',\n",
       " 'usa',\n",
       " 'spain',\n",
       " 'germany',\n",
       " 'usa',\n",
       " 'germany',\n",
       " 'usa',\n",
       " 'usa',\n",
       " 'usa',\n",
       " 'germany',\n",
       " 'mexico',\n",
       " 'usa',\n",
       " 'china',\n",
       " 'usa',\n",
       " 'usa',\n",
       " 'unitedkingdom',\n",
       " 'usa',\n",
       " 'canada',\n",
       " 'spain',\n",
       " 'italy',\n",
       " 'usa',\n",
       " 'usa',\n",
       " 'usa',\n",
       " 'usa',\n",
       " 'distritofederal',\n",
       " 'usa',\n",
       " 'germany',\n",
       " 'germany',\n",
       " 'italy',\n",
       " 'usa',\n",
       " 'italy',\n",
       " 'unitedkingdom',\n",
       " 'usa',\n",
       " 'germany',\n",
       " 'usa',\n",
       " 'usa',\n",
       " 'canada',\n",
       " 'usa',\n",
       " 'italy',\n",
       " 'canada',\n",
       " 'usa',\n",
       " 'italy',\n",
       " 'usa',\n",
       " 'usa',\n",
       " 'usa',\n",
       " 'france',\n",
       " 'australia',\n",
       " 'canada',\n",
       " 'usa',\n",
       " 'canada',\n",
       " 'canada',\n",
       " 'usa',\n",
       " 'canada',\n",
       " 'unitedkingdom',\n",
       " 'usa',\n",
       " 'netherlands',\n",
       " 'usa',\n",
       " 'usa',\n",
       " 'canada',\n",
       " 'usa',\n",
       " 'canada',\n",
       " 'canada',\n",
       " 'usa',\n",
       " 'usa',\n",
       " 'usa',\n",
       " 'usa',\n",
       " 'unitedkingdom',\n",
       " 'usa',\n",
       " 'usa',\n",
       " 'usa',\n",
       " 'usa',\n",
       " 'usa',\n",
       " '',\n",
       " 'spain',\n",
       " 'usa',\n",
       " 'iraq',\n",
       " 'usa',\n",
       " 'finland',\n",
       " 'usa',\n",
       " 'newzealand',\n",
       " 'usa',\n",
       " 'spain',\n",
       " 'india',\n",
       " 'spain',\n",
       " 'usa',\n",
       " 'usa',\n",
       " 'unitedkingdom',\n",
       " 'usa',\n",
       " 'canada',\n",
       " 'usa',\n",
       " 'usa',\n",
       " 'usa',\n",
       " 'portugal',\n",
       " 'mexico',\n",
       " 'usa',\n",
       " 'usa',\n",
       " 'usa',\n",
       " 'usa',\n",
       " 'usa',\n",
       " 'ghana',\n",
       " 'usa',\n",
       " 'france',\n",
       " 'usa',\n",
       " 'usa',\n",
       " 'usa',\n",
       " 'usa',\n",
       " 'usa',\n",
       " 'netherlands',\n",
       " 'switzerland',\n",
       " 'usa',\n",
       " 'usa',\n",
       " 'italy',\n",
       " 'usa',\n",
       " 'usa',\n",
       " 'usa',\n",
       " 'australia',\n",
       " 'usa',\n",
       " 'usa',\n",
       " 'canada',\n",
       " 'usa',\n",
       " 'usa',\n",
       " 'germany',\n",
       " 'usa',\n",
       " 'usa',\n",
       " 'usa',\n",
       " 'usa',\n",
       " 'unitedkingdom',\n",
       " 'usa',\n",
       " 'usa',\n",
       " 'unitedkingdom',\n",
       " 'slovenia',\n",
       " 'iran',\n",
       " 'australia',\n",
       " 'netherlands',\n",
       " 'france',\n",
       " 'canada',\n",
       " 'peru',\n",
       " 'bosniaandherzegovina',\n",
       " 'italy',\n",
       " 'germany',\n",
       " 'usa',\n",
       " 'portugal',\n",
       " 'portugal',\n",
       " 'usa',\n",
       " 'vietnam',\n",
       " 'mexico',\n",
       " 'usa',\n",
       " 'australia',\n",
       " 'usa',\n",
       " 'usa',\n",
       " 'usa',\n",
       " 'usa',\n",
       " 'brazil',\n",
       " 'brazil',\n",
       " 'usa',\n",
       " 'srilanka',\n",
       " 'portugal',\n",
       " 'unitedkingdom',\n",
       " 'netherlands',\n",
       " 'usa',\n",
       " 'pakistan',\n",
       " 'denmark',\n",
       " 'pakistan',\n",
       " 'netherlands',\n",
       " 'portugal',\n",
       " 'usa',\n",
       " 'usa',\n",
       " 'usa',\n",
       " 'usa',\n",
       " 'usa',\n",
       " 'belgium',\n",
       " 'belgium',\n",
       " 'germany',\n",
       " 'usa',\n",
       " 'india',\n",
       " 'usa',\n",
       " 'usa',\n",
       " 'malaysia',\n",
       " 'canada',\n",
       " 'germany',\n",
       " 'usa',\n",
       " 'unitedkingdom',\n",
       " 'u.a.e',\n",
       " 'canada',\n",
       " 'usa',\n",
       " 'usa',\n",
       " 'turkey',\n",
       " 'france',\n",
       " 'usa',\n",
       " 'germany',\n",
       " 'malaysia',\n",
       " 'usa',\n",
       " 'spain',\n",
       " 'philippines',\n",
       " 'usa',\n",
       " 'usa',\n",
       " 'canada',\n",
       " 'spain',\n",
       " 'usa',\n",
       " 'india',\n",
       " 'greece',\n",
       " 'colombia',\n",
       " 'usa',\n",
       " 'usa',\n",
       " 'pakistan',\n",
       " 'usa',\n",
       " 'usa',\n",
       " 'usa',\n",
       " 'unitedkingdom',\n",
       " 'usa',\n",
       " 'india',\n",
       " 'usa',\n",
       " 'india',\n",
       " 'india',\n",
       " 'finland',\n",
       " 'finland',\n",
       " 'portugal',\n",
       " 'usa',\n",
       " 'usa',\n",
       " 'unitedkingdom',\n",
       " 'usa',\n",
       " 'australia',\n",
       " 'usa',\n",
       " 'germany',\n",
       " 'usa',\n",
       " 'usa',\n",
       " 'usa',\n",
       " 'norway',\n",
       " 'greece',\n",
       " 'canada',\n",
       " 'netherlands',\n",
       " 'usa',\n",
       " 'spain',\n",
       " 'kuwait',\n",
       " 'italy',\n",
       " 'usa',\n",
       " 'chile',\n",
       " 'usa',\n",
       " 'quit',\n",
       " 'lj',\n",
       " 'usa',\n",
       " 'usa',\n",
       " 'germany',\n",
       " 'usa',\n",
       " 'usa',\n",
       " 'taiwan',\n",
       " 'china',\n",
       " 'canada',\n",
       " 'usa',\n",
       " 'denmark\"',\n",
       " 'denmark',\n",
       " 'germany',\n",
       " 'pakistan',\n",
       " 'usa',\n",
       " 'usa',\n",
       " 'italy',\n",
       " 'canada',\n",
       " 'usa',\n",
       " 'australia',\n",
       " 'usa',\n",
       " 'unitedkingdom',\n",
       " 'usa',\n",
       " 'germany',\n",
       " 'canada',\n",
       " 'usa',\n",
       " 'spain',\n",
       " 'unitedkingdom',\n",
       " 'usa',\n",
       " 'usa',\n",
       " 'usa',\n",
       " 'usa',\n",
       " 'usa',\n",
       " 'usa',\n",
       " 'usa',\n",
       " 'canada',\n",
       " 'usa',\n",
       " 'usa',\n",
       " 'spain',\n",
       " 'usa',\n",
       " 'usa',\n",
       " 'france',\n",
       " 'usa',\n",
       " 'usa',\n",
       " 'usa',\n",
       " 'usa',\n",
       " 'usa',\n",
       " 'usa',\n",
       " 'usa',\n",
       " 'finland',\n",
       " 'españa',\n",
       " 'unitedkingdom',\n",
       " 'spain',\n",
       " 'netherlands',\n",
       " '',\n",
       " 'usa',\n",
       " 'denmark',\n",
       " 'sweden',\n",
       " 'canada',\n",
       " 'usa',\n",
       " '',\n",
       " 'denmark',\n",
       " 'usa',\n",
       " 'pakistan',\n",
       " 'norway',\n",
       " 'usa',\n",
       " 'philippines',\n",
       " 'switzerland',\n",
       " 'usa',\n",
       " 'usa',\n",
       " 'usa',\n",
       " 'pakistan',\n",
       " 'philippines',\n",
       " 'argentina',\n",
       " 'usa',\n",
       " 'spain',\n",
       " 'finland',\n",
       " 'italy',\n",
       " 'spain',\n",
       " 'spain',\n",
       " 'usa',\n",
       " 'finland',\n",
       " 'philippines',\n",
       " 'france',\n",
       " 'nigeria',\n",
       " 'usa',\n",
       " 'unitedkingdom',\n",
       " 'usa',\n",
       " 'canada',\n",
       " 'canada',\n",
       " 'usa',\n",
       " 'denmark',\n",
       " 'italy',\n",
       " 'turkey',\n",
       " 'usa',\n",
       " 'spain',\n",
       " 'brazil',\n",
       " 'london',\n",
       " 'usa',\n",
       " 'unitedkingdom',\n",
       " 'usa',\n",
       " 'usa',\n",
       " 'spain',\n",
       " 'spain',\n",
       " 'canada',\n",
       " 'germany',\n",
       " 'portugal',\n",
       " 'italy',\n",
       " 'bulgaria',\n",
       " 'usa',\n",
       " 'usa',\n",
       " 'usa',\n",
       " 'usa',\n",
       " 'mexico',\n",
       " 'germany',\n",
       " 'austria',\n",
       " 'germany',\n",
       " 'germany',\n",
       " 'usa',\n",
       " 'malaysia',\n",
       " 'usa',\n",
       " 'canada',\n",
       " 'usa',\n",
       " 'usa',\n",
       " 'usa',\n",
       " 'usa',\n",
       " 'romania',\n",
       " 'france',\n",
       " 'iran',\n",
       " 'usa',\n",
       " 'usa',\n",
       " 'spain',\n",
       " 'usa',\n",
       " 'usa',\n",
       " 'spain',\n",
       " 'unitedkingdom',\n",
       " 'unitedkingdom',\n",
       " 'spain',\n",
       " 'sweden',\n",
       " 'portugal',\n",
       " 'newzealand',\n",
       " 'nigeria',\n",
       " 'usa',\n",
       " 'argentina',\n",
       " 'unitedkingdom',\n",
       " 'usa',\n",
       " 'usa',\n",
       " 'germany',\n",
       " 'spain',\n",
       " 'pakistan',\n",
       " 'usa',\n",
       " 'portugal',\n",
       " 'unitedkingdom',\n",
       " 'usa',\n",
       " 'usa',\n",
       " 'usa',\n",
       " 'usa',\n",
       " 'usa',\n",
       " 'usa',\n",
       " 'usa',\n",
       " 'usa',\n",
       " 'usa',\n",
       " 'australia',\n",
       " 'usa',\n",
       " 'canada',\n",
       " 'unitedkingdom',\n",
       " 'usa',\n",
       " 'canada',\n",
       " 'usa',\n",
       " 'australia',\n",
       " 'usa',\n",
       " 'usa',\n",
       " 'usa',\n",
       " 'usa',\n",
       " 'usa',\n",
       " 'usa',\n",
       " 'usa',\n",
       " 'usa',\n",
       " 'australia',\n",
       " 'canada',\n",
       " 'italy',\n",
       " 'usa',\n",
       " 'usa',\n",
       " 'usa',\n",
       " 'unitedkingdom',\n",
       " 'usa',\n",
       " 'usa',\n",
       " 'usa',\n",
       " 'usa',\n",
       " 'usa',\n",
       " 'usa',\n",
       " 'usa',\n",
       " 'italy',\n",
       " 'usa',\n",
       " 'usa',\n",
       " 'usa',\n",
       " 'unitedkingdom',\n",
       " 'canada',\n",
       " 'usa',\n",
       " 'unitedkingdom',\n",
       " 'usa',\n",
       " 'usa',\n",
       " 'italy',\n",
       " 'singapore',\n",
       " 'usa',\n",
       " 'australia',\n",
       " 'india',\n",
       " 'usa',\n",
       " 'usa',\n",
       " 'usa',\n",
       " 'usa',\n",
       " 'usa',\n",
       " 'usa',\n",
       " 'australia',\n",
       " 'usa',\n",
       " 'philippines',\n",
       " 'usa',\n",
       " 'canada',\n",
       " 'usa',\n",
       " 'usa',\n",
       " 'usa',\n",
       " 'usa',\n",
       " 'usa',\n",
       " 'usa',\n",
       " 'usa',\n",
       " 'usa',\n",
       " 'usa',\n",
       " 'usa',\n",
       " 'usa',\n",
       " 'usa',\n",
       " 'usa',\n",
       " 'usa',\n",
       " 'usa',\n",
       " 'canada',\n",
       " 'usa',\n",
       " 'usa',\n",
       " 'canada',\n",
       " 'usa',\n",
       " 'usa',\n",
       " 'usa',\n",
       " 'usa',\n",
       " 'usa',\n",
       " 'usa',\n",
       " 'usa',\n",
       " 'usa',\n",
       " 'usa',\n",
       " 'usa',\n",
       " 'usa',\n",
       " 'canada',\n",
       " 'usa',\n",
       " 'usa',\n",
       " 'usa',\n",
       " 'usa',\n",
       " 'usa',\n",
       " 'usa',\n",
       " 'usa',\n",
       " 'usa',\n",
       " 'usa',\n",
       " 'usa',\n",
       " 'usa',\n",
       " 'australia',\n",
       " 'unitedkingdom',\n",
       " 'usa',\n",
       " 'usa',\n",
       " 'canada',\n",
       " 'usa',\n",
       " 'australia',\n",
       " 'france',\n",
       " 'germany',\n",
       " 'germany',\n",
       " 'singapore',\n",
       " 'usa',\n",
       " 'usa',\n",
       " 'usa',\n",
       " 'argentina',\n",
       " 'unitedkingdom',\n",
       " 'usa',\n",
       " 'italy',\n",
       " 'vietnam',\n",
       " '',\n",
       " 'usa',\n",
       " 'usa',\n",
       " 'usa',\n",
       " 'usa',\n",
       " 'usa',\n",
       " 'vietnam',\n",
       " 'unitedkingdom',\n",
       " 'usa',\n",
       " 'italy',\n",
       " 'usa',\n",
       " 'usa',\n",
       " 'usa',\n",
       " 'pakistan',\n",
       " 'india',\n",
       " 'usa',\n",
       " 'denmark',\n",
       " 'portugal',\n",
       " 'italy',\n",
       " 'usa',\n",
       " 'usa',\n",
       " '',\n",
       " 'usa',\n",
       " 'usa',\n",
       " 'usa',\n",
       " 'albania',\n",
       " 'usa',\n",
       " 'usa',\n",
       " 'usa',\n",
       " 'usa',\n",
       " 'usa',\n",
       " 'egypt',\n",
       " 'pakistan',\n",
       " 'usa',\n",
       " 'netherlands',\n",
       " 'tunisia',\n",
       " 'egypt',\n",
       " 'spain',\n",
       " 'portugal',\n",
       " 'switzerland',\n",
       " 'iran',\n",
       " 'canada',\n",
       " 'india',\n",
       " 'spain',\n",
       " 'spain',\n",
       " 'australia',\n",
       " 'uzbekistan',\n",
       " 'qatar',\n",
       " 'italy',\n",
       " 'malaysia',\n",
       " 'italy',\n",
       " 'usa',\n",
       " 'italy',\n",
       " 'germany',\n",
       " 'usa',\n",
       " 'usa',\n",
       " 'canada',\n",
       " 'unitedkingdom',\n",
       " 'usa',\n",
       " 'usa',\n",
       " 'usa',\n",
       " 'syria',\n",
       " 'usa',\n",
       " 'iran',\n",
       " 'canada',\n",
       " 'usa',\n",
       " 'germany',\n",
       " 'usa',\n",
       " 'usa',\n",
       " 'usa',\n",
       " 'china',\n",
       " 'usa',\n",
       " 'spain',\n",
       " 'spain',\n",
       " 'italy',\n",
       " 'usa',\n",
       " 'turkey',\n",
       " 'italy',\n",
       " 'portugal',\n",
       " 'usa',\n",
       " 'portugal',\n",
       " 'usa',\n",
       " 'usa',\n",
       " 'canada',\n",
       " 'spain',\n",
       " 'brazil',\n",
       " 'argentina',\n",
       " 'netherlands',\n",
       " 'france',\n",
       " 'austria',\n",
       " 'usa',\n",
       " 'germany',\n",
       " 'germany',\n",
       " 'france',\n",
       " 'usa',\n",
       " 'usa',\n",
       " 'germany',\n",
       " 'germany',\n",
       " 'canada',\n",
       " 'usa',\n",
       " 'singapore',\n",
       " 'usa',\n",
       " 'usa',\n",
       " 'canada',\n",
       " 'usa',\n",
       " 'usa',\n",
       " 'france',\n",
       " 'usa',\n",
       " 'canada',\n",
       " 'unitedkingdom',\n",
       " 'australia',\n",
       " 'canada',\n",
       " 'usa',\n",
       " 'usa',\n",
       " 'usa',\n",
       " 'usa',\n",
       " 'unitedkingdom',\n",
       " 'canada',\n",
       " 'usa',\n",
       " 'newzealand',\n",
       " 'usa',\n",
       " 'usa',\n",
       " 'canada',\n",
       " 'usa',\n",
       " 'germany',\n",
       " 'canada',\n",
       " 'spain',\n",
       " 'spain',\n",
       " 'sweden',\n",
       " 'india',\n",
       " 'india',\n",
       " 'india',\n",
       " 'india',\n",
       " 'india',\n",
       " 'saudiarabia',\n",
       " 'india',\n",
       " 'india',\n",
       " 'india',\n",
       " 'india',\n",
       " 'italy',\n",
       " 'usa',\n",
       " 'australia',\n",
       " 'usa',\n",
       " 'usa',\n",
       " 'indonesia',\n",
       " 'usa',\n",
       " 'usa',\n",
       " 'usa',\n",
       " 'usa',\n",
       " 'pakistan',\n",
       " 'romania',\n",
       " 'australia',\n",
       " 'france',\n",
       " 'usa',\n",
       " 'unitedkingdom',\n",
       " 'usa',\n",
       " 'usa',\n",
       " 'usa',\n",
       " 'netherlands',\n",
       " 'canada',\n",
       " 'canada',\n",
       " 'usa',\n",
       " 'unitedkingdom',\n",
       " 'malaysia',\n",
       " 'usa',\n",
       " 'usa',\n",
       " 'usa',\n",
       " 'usa',\n",
       " 'italy',\n",
       " 'usa',\n",
       " 'usa',\n",
       " 'usa',\n",
       " 'usa',\n",
       " 'brazil',\n",
       " 'unitedkingdom',\n",
       " 'switzerland',\n",
       " 'unitedkingdom',\n",
       " 'usa',\n",
       " 'usa',\n",
       " 'mexico',\n",
       " 'usa',\n",
       " 'usa',\n",
       " 'canada',\n",
       " 'usa',\n",
       " 'usa',\n",
       " 'usa',\n",
       " 'usa',\n",
       " 'usa',\n",
       " 'portugal',\n",
       " 'usa',\n",
       " 'portugal',\n",
       " 'usa',\n",
       " 'canada',\n",
       " '',\n",
       " 'usa',\n",
       " 'india',\n",
       " 'newzealand',\n",
       " 'germany',\n",
       " 'usa',\n",
       " 'germany',\n",
       " 'usa',\n",
       " 'usa',\n",
       " 'usa',\n",
       " 'usa',\n",
       " 'usa',\n",
       " 'usa',\n",
       " 'usa',\n",
       " 'usa',\n",
       " 'germany',\n",
       " 'usa',\n",
       " 'usa',\n",
       " 'spain',\n",
       " 'usa',\n",
       " 'switzerland',\n",
       " 'spain',\n",
       " 'usa',\n",
       " 'usa',\n",
       " 'germany',\n",
       " 'china',\n",
       " 'usa',\n",
       " 'usa',\n",
       " 'germany',\n",
       " 'usa',\n",
       " 'usa',\n",
       " 'china',\n",
       " 'portugal',\n",
       " 'usa',\n",
       " 'usa',\n",
       " 'usa',\n",
       " 'usa',\n",
       " '',\n",
       " 'greece',\n",
       " 'usa',\n",
       " 'iran',\n",
       " 'usa',\n",
       " 'portugal',\n",
       " 'sudan',\n",
       " 'usa',\n",
       " 'saudiarabia',\n",
       " 'newzealand',\n",
       " '',\n",
       " 'usa',\n",
       " 'canada',\n",
       " 'usa',\n",
       " 'unitedkingdom',\n",
       " 'usa',\n",
       " 'usa',\n",
       " 'usa',\n",
       " 'usa',\n",
       " 'usa',\n",
       " 'usa',\n",
       " 'usa',\n",
       " '',\n",
       " 'canada',\n",
       " 'usa',\n",
       " 'usa',\n",
       " 'usa',\n",
       " 'usa',\n",
       " 'usa',\n",
       " 'usa',\n",
       " 'usa',\n",
       " 'usa',\n",
       " 'usa',\n",
       " 'usa',\n",
       " 'usa',\n",
       " 'argentina',\n",
       " 'spain',\n",
       " 'usa',\n",
       " 'usa',\n",
       " 'usa',\n",
       " 'germany',\n",
       " 'canada',\n",
       " 'usa',\n",
       " 'usa',\n",
       " 'switzerland',\n",
       " 'canada',\n",
       " 'usa',\n",
       " 'usa',\n",
       " 'canada',\n",
       " 'italy',\n",
       " 'usa',\n",
       " 'malaysia',\n",
       " 'usa',\n",
       " 'usa',\n",
       " 'italy',\n",
       " 'unitedkingdom',\n",
       " 'usa',\n",
       " 'usa',\n",
       " 'usa',\n",
       " 'usa',\n",
       " 'usa',\n",
       " 'usa',\n",
       " 'usa',\n",
       " 'usa',\n",
       " 'spain',\n",
       " 'unitedkingdom',\n",
       " 'argentina',\n",
       " 'usa',\n",
       " 'italy',\n",
       " 'usa',\n",
       " 'usa',\n",
       " 'usa',\n",
       " 'nigeria',\n",
       " 'spain',\n",
       " 'usa',\n",
       " 'germany',\n",
       " 'usa',\n",
       " 'usa',\n",
       " 'italy',\n",
       " 'usa',\n",
       " 'spain',\n",
       " 'sweden',\n",
       " 'usa',\n",
       " 'germany',\n",
       " 'malaysia',\n",
       " 'spain',\n",
       " 'usa',\n",
       " '',\n",
       " 'germany',\n",
       " 'spain',\n",
       " 'malaysia',\n",
       " 'usa',\n",
       " 'usa',\n",
       " 'unitedkingdom',\n",
       " 'usa',\n",
       " 'usa',\n",
       " 'somewhereinspace',\n",
       " 'canada',\n",
       " 'usa',\n",
       " 'spain',\n",
       " 'spain',\n",
       " 'spain',\n",
       " 'romania',\n",
       " 'italy',\n",
       " 'usa',\n",
       " 'unitedkingdom',\n",
       " 'unitedkingdom',\n",
       " 'usa',\n",
       " 'usa',\n",
       " 'usa',\n",
       " 'italy',\n",
       " 'usa',\n",
       " 'usa',\n",
       " 'usa',\n",
       " 'canada',\n",
       " 'usa',\n",
       " 'usa',\n",
       " '',\n",
       " 'usa',\n",
       " 'usa',\n",
       " 'usa',\n",
       " 'usa',\n",
       " 'unitedkingdom',\n",
       " 'usa',\n",
       " 'germany',\n",
       " 'usa',\n",
       " 'italy',\n",
       " 'australia',\n",
       " 'australia',\n",
       " 'unitedkingdom',\n",
       " 'australia',\n",
       " 'poland',\n",
       " 'germany',\n",
       " 'usa',\n",
       " 'unitedkingdom',\n",
       " 'usa',\n",
       " 'usa',\n",
       " 'usa',\n",
       " 'usa',\n",
       " 'unitedkingdom',\n",
       " 'usa',\n",
       " 'australia',\n",
       " 'france',\n",
       " 'usa',\n",
       " 'usa',\n",
       " 'usa',\n",
       " 'unitedkingdom',\n",
       " 'germany',\n",
       " 'usa',\n",
       " 'australia',\n",
       " 'usa',\n",
       " 'canada',\n",
       " 'spain',\n",
       " 'usa',\n",
       " 'germany',\n",
       " 'canada',\n",
       " 'usa',\n",
       " 'france',\n",
       " 'italy',\n",
       " 'portugal',\n",
       " 'thailand',\n",
       " 'australia',\n",
       " '',\n",
       " 'usa',\n",
       " 'usa',\n",
       " 'usa',\n",
       " 'unitedkingdom',\n",
       " 'usa',\n",
       " 'philippines',\n",
       " 'usa',\n",
       " 'france',\n",
       " 'canada',\n",
       " 'philippines',\n",
       " 'usa',\n",
       " 'usa',\n",
       " 'france',\n",
       " 'spain',\n",
       " 'canada',\n",
       " 'italy',\n",
       " 'unitedkingdom',\n",
       " 'usa',\n",
       " 'usa',\n",
       " 'canada',\n",
       " 'philippines',\n",
       " 'usa',\n",
       " 'usa',\n",
       " 'italy',\n",
       " 'usa',\n",
       " '',\n",
       " 'unitedkingdom',\n",
       " 'chile',\n",
       " 'usa',\n",
       " 'spain',\n",
       " 'indonesia',\n",
       " 'italy',\n",
       " 'spain',\n",
       " 'canada',\n",
       " 'usa',\n",
       " 'usa',\n",
       " 'ireland',\n",
       " 'brazil',\n",
       " 'spain',\n",
       " 'usa',\n",
       " 'australia',\n",
       " 'ghana',\n",
       " 'saudiarabia',\n",
       " 'usa',\n",
       " '',\n",
       " 'usa',\n",
       " 'australia',\n",
       " 'usa',\n",
       " 'usa',\n",
       " 'unitedkingdom',\n",
       " 'spain',\n",
       " 'usa',\n",
       " 'usa',\n",
       " 'vietnam',\n",
       " 'usa',\n",
       " 'spain',\n",
       " 'usa',\n",
       " 'usa',\n",
       " 'usa',\n",
       " 'usa',\n",
       " 'usa',\n",
       " 'usa',\n",
       " 'australia',\n",
       " 'germany',\n",
       " 'usa',\n",
       " 'newzealand',\n",
       " 'usa',\n",
       " 'usa',\n",
       " 'france',\n",
       " 'usa',\n",
       " 'italy',\n",
       " ...]"
      ]
     },
     "execution_count": 167,
     "metadata": {},
     "output_type": "execute_result"
    }
   ],
   "source": [
    "Countries = [country.replace(' ', '') for country in Countries]\n",
    "Countries"
   ]
  },
  {
   "cell_type": "code",
   "execution_count": 168,
   "metadata": {},
   "outputs": [
    {
     "data": {
      "text/html": [
       "<div>\n",
       "<style scoped>\n",
       "    .dataframe tbody tr th:only-of-type {\n",
       "        vertical-align: middle;\n",
       "    }\n",
       "\n",
       "    .dataframe tbody tr th {\n",
       "        vertical-align: top;\n",
       "    }\n",
       "\n",
       "    .dataframe thead th {\n",
       "        text-align: right;\n",
       "    }\n",
       "</style>\n",
       "<table border=\"1\" class=\"dataframe\">\n",
       "  <thead>\n",
       "    <tr style=\"text-align: right;\">\n",
       "      <th></th>\n",
       "      <th>User-ID</th>\n",
       "      <th>Country</th>\n",
       "    </tr>\n",
       "  </thead>\n",
       "  <tbody>\n",
       "    <tr>\n",
       "      <th>0</th>\n",
       "      <td>1</td>\n",
       "      <td>usa</td>\n",
       "    </tr>\n",
       "    <tr>\n",
       "      <th>1</th>\n",
       "      <td>2</td>\n",
       "      <td>usa</td>\n",
       "    </tr>\n",
       "    <tr>\n",
       "      <th>2</th>\n",
       "      <td>3</td>\n",
       "      <td>russia</td>\n",
       "    </tr>\n",
       "    <tr>\n",
       "      <th>3</th>\n",
       "      <td>4</td>\n",
       "      <td>portugal</td>\n",
       "    </tr>\n",
       "    <tr>\n",
       "      <th>4</th>\n",
       "      <td>5</td>\n",
       "      <td>unitedkingdom</td>\n",
       "    </tr>\n",
       "  </tbody>\n",
       "</table>\n",
       "</div>"
      ],
      "text/plain": [
       "   User-ID        Country\n",
       "0        1            usa\n",
       "1        2            usa\n",
       "2        3         russia\n",
       "3        4       portugal\n",
       "4        5  unitedkingdom"
      ]
     },
     "execution_count": 168,
     "metadata": {},
     "output_type": "execute_result"
    }
   ],
   "source": [
    "users_df[\"Country\"] = Countries\n",
    "users_df.drop(columns=\"Location\", inplace=True)\n",
    "\n",
    "users_df.head()"
   ]
  },
  {
   "cell_type": "code",
   "execution_count": 169,
   "metadata": {},
   "outputs": [],
   "source": [
    "import matplotlib.pyplot as plt\n",
    "import missingno as msno\n",
    "def plot_miss_vals(df1, ds1_name, df2, ds2_name, df3, ds3_name):\n",
    "    fig, axes = plt.subplots(1, 3, figsize=(18, 6))\n",
    "\n",
    "    msno.matrix(df1, ax=axes[0])\n",
    "    axes[0].set_title(f'Distribution of Missing Values in {ds1_name} dataset', fontsize=15, fontstyle='oblique')\n",
    "\n",
    "    msno.matrix(df2, ax=axes[1])\n",
    "    axes[1].set_title(f'Distribution of Missing Values in {ds2_name} dataset', fontsize=15, fontstyle='oblique')\n",
    "\n",
    "    msno.matrix(df3, ax=axes[2])\n",
    "    axes[2].set_title(f'Distribution of Missing Values in {ds3_name} dataset', fontsize=15, fontstyle='oblique')\n",
    "\n",
    "    plt.tight_layout()\n",
    "    plt.show()"
   ]
  },
  {
   "cell_type": "code",
   "execution_count": 170,
   "metadata": {},
   "outputs": [
    {
     "data": {
      "image/png": "[encoded data removed]",
      "text/plain": [
       "<Figure size 1800x600 with 3 Axes>"
      ]
     },
     "metadata": {},
     "output_type": "display_data"
    },
    {
     "data": {
      "text/plain": [
       "<Figure size 640x480 with 0 Axes>"
      ]
     },
     "metadata": {},
     "output_type": "display_data"
    }
   ],
   "source": [
    "# fig, axes = plt.subplots(1, 3, figsize=(18, 6))\n",
    "\n",
    "# Plot missing values for each dataframe on the corresponding subplot\n",
    "plot_miss_vals(books_df,\"Books\",ratings_df,\"Ratings\",users_df,\"Users\")\n",
    "\n",
    "plt.tight_layout()\n",
    "\n",
    "plt.show()"
   ]
  },
  {
   "cell_type": "markdown",
   "metadata": {},
   "source": [
    "### **An impeccably clean all the 3 datasets, ready to fuel our recommendation algorithms with rich insights**"
   ]
  },
  {
   "cell_type": "code",
   "execution_count": 171,
   "metadata": {},
   "outputs": [
    {
     "data": {
      "text/html": [
       "<div>\n",
       "<style scoped>\n",
       "    .dataframe tbody tr th:only-of-type {\n",
       "        vertical-align: middle;\n",
       "    }\n",
       "\n",
       "    .dataframe tbody tr th {\n",
       "        vertical-align: top;\n",
       "    }\n",
       "\n",
       "    .dataframe thead th {\n",
       "        text-align: right;\n",
       "    }\n",
       "</style>\n",
       "<table border=\"1\" class=\"dataframe\">\n",
       "  <thead>\n",
       "    <tr style=\"text-align: right;\">\n",
       "      <th></th>\n",
       "      <th>ISBN</th>\n",
       "      <th>Book-Title</th>\n",
       "      <th>Book-Author</th>\n",
       "      <th>Publisher</th>\n",
       "      <th>Image-URL-S</th>\n",
       "      <th>Image-URL-M</th>\n",
       "      <th>Image-URL-L</th>\n",
       "      <th>Publication_Date</th>\n",
       "      <th>Year-Of-Publication</th>\n",
       "      <th>User-ID</th>\n",
       "      <th>Book-Rating</th>\n",
       "    </tr>\n",
       "  </thead>\n",
       "  <tbody>\n",
       "    <tr>\n",
       "      <th>0</th>\n",
       "      <td>0195153448</td>\n",
       "      <td>Classical Mythology</td>\n",
       "      <td>Mark P. O. Morford</td>\n",
       "      <td>Oxford University Press</td>\n",
       "      <td>http://images.amazon.com/images/P/0195153448.01.THUMBZZZ.jpg</td>\n",
       "      <td>http://images.amazon.com/images/P/0195153448.01.MZZZZZZZ.jpg</td>\n",
       "      <td>http://images.amazon.com/images/P/0195153448.01.LZZZZZZZ.jpg</td>\n",
       "      <td>2002-01-01</td>\n",
       "      <td>2002.0</td>\n",
       "      <td>2</td>\n",
       "      <td>0</td>\n",
       "    </tr>\n",
       "    <tr>\n",
       "      <th>1</th>\n",
       "      <td>0002005018</td>\n",
       "      <td>Clara Callan</td>\n",
       "      <td>Richard Bruce Wright</td>\n",
       "      <td>HarperFlamingo Canada</td>\n",
       "      <td>http://images.amazon.com/images/P/0002005018.01.THUMBZZZ.jpg</td>\n",
       "      <td>http://images.amazon.com/images/P/0002005018.01.MZZZZZZZ.jpg</td>\n",
       "      <td>http://images.amazon.com/images/P/0002005018.01.LZZZZZZZ.jpg</td>\n",
       "      <td>2001-01-01</td>\n",
       "      <td>2001.0</td>\n",
       "      <td>8</td>\n",
       "      <td>5</td>\n",
       "    </tr>\n",
       "    <tr>\n",
       "      <th>2</th>\n",
       "      <td>0002005018</td>\n",
       "      <td>Clara Callan</td>\n",
       "      <td>Richard Bruce Wright</td>\n",
       "      <td>HarperFlamingo Canada</td>\n",
       "      <td>http://images.amazon.com/images/P/0002005018.01.THUMBZZZ.jpg</td>\n",
       "      <td>http://images.amazon.com/images/P/0002005018.01.MZZZZZZZ.jpg</td>\n",
       "      <td>http://images.amazon.com/images/P/0002005018.01.LZZZZZZZ.jpg</td>\n",
       "      <td>2001-01-01</td>\n",
       "      <td>2001.0</td>\n",
       "      <td>11400</td>\n",
       "      <td>0</td>\n",
       "    </tr>\n",
       "    <tr>\n",
       "      <th>3</th>\n",
       "      <td>0002005018</td>\n",
       "      <td>Clara Callan</td>\n",
       "      <td>Richard Bruce Wright</td>\n",
       "      <td>HarperFlamingo Canada</td>\n",
       "      <td>http://images.amazon.com/images/P/0002005018.01.THUMBZZZ.jpg</td>\n",
       "      <td>http://images.amazon.com/images/P/0002005018.01.MZZZZZZZ.jpg</td>\n",
       "      <td>http://images.amazon.com/images/P/0002005018.01.LZZZZZZZ.jpg</td>\n",
       "      <td>2001-01-01</td>\n",
       "      <td>2001.0</td>\n",
       "      <td>11676</td>\n",
       "      <td>8</td>\n",
       "    </tr>\n",
       "    <tr>\n",
       "      <th>4</th>\n",
       "      <td>0002005018</td>\n",
       "      <td>Clara Callan</td>\n",
       "      <td>Richard Bruce Wright</td>\n",
       "      <td>HarperFlamingo Canada</td>\n",
       "      <td>http://images.amazon.com/images/P/0002005018.01.THUMBZZZ.jpg</td>\n",
       "      <td>http://images.amazon.com/images/P/0002005018.01.MZZZZZZZ.jpg</td>\n",
       "      <td>http://images.amazon.com/images/P/0002005018.01.LZZZZZZZ.jpg</td>\n",
       "      <td>2001-01-01</td>\n",
       "      <td>2001.0</td>\n",
       "      <td>41385</td>\n",
       "      <td>0</td>\n",
       "    </tr>\n",
       "  </tbody>\n",
       "</table>\n",
       "</div>"
      ],
      "text/plain": [
       "         ISBN           Book-Title           Book-Author  \\\n",
       "0  0195153448  Classical Mythology    Mark P. O. Morford   \n",
       "1  0002005018         Clara Callan  Richard Bruce Wright   \n",
       "2  0002005018         Clara Callan  Richard Bruce Wright   \n",
       "3  0002005018         Clara Callan  Richard Bruce Wright   \n",
       "4  0002005018         Clara Callan  Richard Bruce Wright   \n",
       "\n",
       "                 Publisher  \\\n",
       "0  Oxford University Press   \n",
       "1    HarperFlamingo Canada   \n",
       "2    HarperFlamingo Canada   \n",
       "3    HarperFlamingo Canada   \n",
       "4    HarperFlamingo Canada   \n",
       "\n",
       "                                                    Image-URL-S  \\\n",
       "0  http://images.amazon.com/images/P/0195153448.01.THUMBZZZ.jpg   \n",
       "1  http://images.amazon.com/images/P/0002005018.01.THUMBZZZ.jpg   \n",
       "2  http://images.amazon.com/images/P/0002005018.01.THUMBZZZ.jpg   \n",
       "3  http://images.amazon.com/images/P/0002005018.01.THUMBZZZ.jpg   \n",
       "4  http://images.amazon.com/images/P/0002005018.01.THUMBZZZ.jpg   \n",
       "\n",
       "                                                    Image-URL-M  \\\n",
       "0  http://images.amazon.com/images/P/0195153448.01.MZZZZZZZ.jpg   \n",
       "1  http://images.amazon.com/images/P/0002005018.01.MZZZZZZZ.jpg   \n",
       "2  http://images.amazon.com/images/P/0002005018.01.MZZZZZZZ.jpg   \n",
       "3  http://images.amazon.com/images/P/0002005018.01.MZZZZZZZ.jpg   \n",
       "4  http://images.amazon.com/images/P/0002005018.01.MZZZZZZZ.jpg   \n",
       "\n",
       "                                                    Image-URL-L  \\\n",
       "0  http://images.amazon.com/images/P/0195153448.01.LZZZZZZZ.jpg   \n",
       "1  http://images.amazon.com/images/P/0002005018.01.LZZZZZZZ.jpg   \n",
       "2  http://images.amazon.com/images/P/0002005018.01.LZZZZZZZ.jpg   \n",
       "3  http://images.amazon.com/images/P/0002005018.01.LZZZZZZZ.jpg   \n",
       "4  http://images.amazon.com/images/P/0002005018.01.LZZZZZZZ.jpg   \n",
       "\n",
       "  Publication_Date  Year-Of-Publication  User-ID  Book-Rating  \n",
       "0       2002-01-01               2002.0        2            0  \n",
       "1       2001-01-01               2001.0        8            5  \n",
       "2       2001-01-01               2001.0    11400            0  \n",
       "3       2001-01-01               2001.0    11676            8  \n",
       "4       2001-01-01               2001.0    41385            0  "
      ]
     },
     "execution_count": 171,
     "metadata": {},
     "output_type": "execute_result"
    }
   ],
   "source": [
    "books_data = books_df.merge(ratings_df, on=\"ISBN\")\n",
    "books_data.head()"
   ]
  },
  {
   "cell_type": "code",
   "execution_count": 172,
   "metadata": {},
   "outputs": [
    {
     "data": {
      "text/html": [
       "<div>\n",
       "<style scoped>\n",
       "    .dataframe tbody tr th:only-of-type {\n",
       "        vertical-align: middle;\n",
       "    }\n",
       "\n",
       "    .dataframe tbody tr th {\n",
       "        vertical-align: top;\n",
       "    }\n",
       "\n",
       "    .dataframe thead th {\n",
       "        text-align: right;\n",
       "    }\n",
       "</style>\n",
       "<table border=\"1\" class=\"dataframe\">\n",
       "  <thead>\n",
       "    <tr style=\"text-align: right;\">\n",
       "      <th></th>\n",
       "      <th>Book-Title</th>\n",
       "      <th>Book-Author</th>\n",
       "      <th>Publisher</th>\n",
       "      <th>Image-URL-L</th>\n",
       "      <th>Publication_Date</th>\n",
       "      <th>User-ID</th>\n",
       "      <th>Book-Rating</th>\n",
       "    </tr>\n",
       "  </thead>\n",
       "  <tbody>\n",
       "    <tr>\n",
       "      <th>1</th>\n",
       "      <td>Clara Callan</td>\n",
       "      <td>Richard Bruce Wright</td>\n",
       "      <td>HarperFlamingo Canada</td>\n",
       "      <td>http://images.amazon.com/images/P/0002005018.01.LZZZZZZZ.jpg</td>\n",
       "      <td>2001-01-01</td>\n",
       "      <td>8</td>\n",
       "      <td>5</td>\n",
       "    </tr>\n",
       "    <tr>\n",
       "      <th>3</th>\n",
       "      <td>Clara Callan</td>\n",
       "      <td>Richard Bruce Wright</td>\n",
       "      <td>HarperFlamingo Canada</td>\n",
       "      <td>http://images.amazon.com/images/P/0002005018.01.LZZZZZZZ.jpg</td>\n",
       "      <td>2001-01-01</td>\n",
       "      <td>11676</td>\n",
       "      <td>8</td>\n",
       "    </tr>\n",
       "    <tr>\n",
       "      <th>5</th>\n",
       "      <td>Clara Callan</td>\n",
       "      <td>Richard Bruce Wright</td>\n",
       "      <td>HarperFlamingo Canada</td>\n",
       "      <td>http://images.amazon.com/images/P/0002005018.01.LZZZZZZZ.jpg</td>\n",
       "      <td>2001-01-01</td>\n",
       "      <td>67544</td>\n",
       "      <td>8</td>\n",
       "    </tr>\n",
       "    <tr>\n",
       "      <th>8</th>\n",
       "      <td>Clara Callan</td>\n",
       "      <td>Richard Bruce Wright</td>\n",
       "      <td>HarperFlamingo Canada</td>\n",
       "      <td>http://images.amazon.com/images/P/0002005018.01.LZZZZZZZ.jpg</td>\n",
       "      <td>2001-01-01</td>\n",
       "      <td>116866</td>\n",
       "      <td>9</td>\n",
       "    </tr>\n",
       "    <tr>\n",
       "      <th>9</th>\n",
       "      <td>Clara Callan</td>\n",
       "      <td>Richard Bruce Wright</td>\n",
       "      <td>HarperFlamingo Canada</td>\n",
       "      <td>http://images.amazon.com/images/P/0002005018.01.LZZZZZZZ.jpg</td>\n",
       "      <td>2001-01-01</td>\n",
       "      <td>123629</td>\n",
       "      <td>9</td>\n",
       "    </tr>\n",
       "  </tbody>\n",
       "</table>\n",
       "</div>"
      ],
      "text/plain": [
       "     Book-Title           Book-Author              Publisher  \\\n",
       "1  Clara Callan  Richard Bruce Wright  HarperFlamingo Canada   \n",
       "3  Clara Callan  Richard Bruce Wright  HarperFlamingo Canada   \n",
       "5  Clara Callan  Richard Bruce Wright  HarperFlamingo Canada   \n",
       "8  Clara Callan  Richard Bruce Wright  HarperFlamingo Canada   \n",
       "9  Clara Callan  Richard Bruce Wright  HarperFlamingo Canada   \n",
       "\n",
       "                                                    Image-URL-L  \\\n",
       "1  http://images.amazon.com/images/P/0002005018.01.LZZZZZZZ.jpg   \n",
       "3  http://images.amazon.com/images/P/0002005018.01.LZZZZZZZ.jpg   \n",
       "5  http://images.amazon.com/images/P/0002005018.01.LZZZZZZZ.jpg   \n",
       "8  http://images.amazon.com/images/P/0002005018.01.LZZZZZZZ.jpg   \n",
       "9  http://images.amazon.com/images/P/0002005018.01.LZZZZZZZ.jpg   \n",
       "\n",
       "  Publication_Date  User-ID  Book-Rating  \n",
       "1       2001-01-01        8            5  \n",
       "3       2001-01-01    11676            8  \n",
       "5       2001-01-01    67544            8  \n",
       "8       2001-01-01   116866            9  \n",
       "9       2001-01-01   123629            9  "
      ]
     },
     "execution_count": 172,
     "metadata": {},
     "output_type": "execute_result"
    }
   ],
   "source": [
    "# Clean the dataset by removing missing values, unnecessary columns, invalid ratings, and sanitizing book titles.\n",
    "df = books_data.copy()\n",
    "df.dropna(inplace=True)\n",
    "df.reset_index(drop=True, inplace=True)\n",
    "df.drop(columns=[\"ISBN\",\"Year-Of-Publication\",\"Image-URL-S\",\"Image-URL-M\"], axis=1, inplace=True)\n",
    "df.drop(index=df[df[\"Book-Rating\"]==0].index, inplace=True)\n",
    "df[\"Book-Title\"]=df[\"Book-Title\"].apply(lambda x: re.sub(\"[\\W_]+\",\" \",x).strip())\n",
    "df.head()"
   ]
  },
  {
   "cell_type": "markdown",
   "metadata": {},
   "source": [
    "## 4 - **Recommendation Algorithms**"
   ]
  },
  {
   "cell_type": "markdown",
   "metadata": {},
   "source": [
    "### 4.1 - **popularity based recommendation system** - Baseline Model\n",
    "- Popularity based recommendation systems are based on the rating of items by all the users."
   ]
  },
  {
   "cell_type": "code",
   "execution_count": 173,
   "metadata": {},
   "outputs": [],
   "source": [
    "def popular_books(df, n=100):\n",
    "    \"\"\"\n",
    "    Generate a list of the top n most popular books based on weighted ratings.\n",
    "\n",
    "    Parameters:\n",
    "    df (DataFrame): The input DataFrame containing book ratings.\n",
    "    n (int): The number of top books to return (default is 100).\n",
    "\n",
    "    Returns:\n",
    "    DataFrame: A DataFrame containing the top n books sorted by popularity,\n",
    "               with columns for book title, number of votes, average rating, and popularity score.\n",
    "    \"\"\"\n",
    "    rating_c = df.groupby(\"Book-Title\").count()[\"Book-Rating\"].reset_index()\n",
    "    rating_c.rename(columns={\"Book-Rating\":\"NumberOfVotes\"}, inplace=True)\n",
    "\n",
    "    rating_average = df.groupby(\"Book-Title\")[\"Book-Rating\"].mean().reset_index()\n",
    "    rating_average.rename(columns={\"Book-Rating\":\"AverageRatings\"}, inplace=True)\n",
    "\n",
    "    popularBooks = rating_c.merge(rating_average, on=\"Book-Title\")\n",
    "\n",
    "    def weighted_rate(x):\n",
    "        v=x[\"NumberOfVotes\"]\n",
    "        R=x[\"AverageRatings\"]\n",
    "\n",
    "        return ((v*R) + (m*C)) / (v+m)\n",
    "    C = popularBooks[\"AverageRatings\"].mean()\n",
    "    m = popularBooks[\"NumberOfVotes\"].quantile(0.90)\n",
    "\n",
    "    popularBooks = popularBooks[popularBooks[\"NumberOfVotes\"] >= 250]\n",
    "    popularBooks[\"Popularity\"]=popularBooks.apply(weighted_rate, axis=1)\n",
    "    popularBooks=popularBooks.sort_values(by=\"Popularity\", ascending=False)\n",
    "    return popularBooks[[\"Book-Title\", \"NumberOfVotes\",\"AverageRatings\",\"Popularity\"]].reset_index(drop=True).head(n)"
   ]
  },
  {
   "cell_type": "code",
   "execution_count": 174,
   "metadata": {
    "scrolled": true
   },
   "outputs": [
    {
     "name": "stdout",
     "output_type": "stream",
     "text": [
      "Harry Potter and the Prisoner of Azkaban Book 3 -- 9.0\n",
      "To Kill a Mockingbird -- 9.0\n",
      "Harry Potter and the Sorcerer s Stone Harry Potter Paperback -- 8.9\n",
      "Harry Potter and the Chamber of Secrets Book 2 -- 8.8\n",
      "Tuesdays with Morrie An Old Man a Young Man and Life s Greatest Lesson -- 8.6\n",
      "The Secret Life of Bees -- 8.5\n",
      "The Da Vinci Code -- 8.4\n",
      "The Lovely Bones A Novel -- 8.2\n",
      "The Red Tent Bestselling Backlist -- 8.2\n",
      "Where the Heart Is Oprah s Book Club Paperback -- 8.1\n"
     ]
    }
   ],
   "source": [
    "n = 10\n",
    "top_ten = pd.DataFrame(popular_books(df, n))\n",
    "\n",
    "for i in range(len(top_ten[\"Book-Title\"].tolist())):\n",
    "    title = top_ten[\"Book-Title\"].tolist()[i]\n",
    "    rating = round(df[df[\"Book-Title\"] == title][\"Book-Rating\"].mean(), 1)\n",
    "    print(f\"{title} -- {rating}\")"
   ]
  },
  {
   "cell_type": "markdown",
   "metadata": {},
   "source": [
    "**Based on the current analysis, it is clear that this model is suboptimal and will not be selected for deployment**"
   ]
  },
  {
   "cell_type": "markdown",
   "metadata": {},
   "source": [
    "## 4.2 -  **Collaborative Filtering**\n",
    "### 4.2.1 - **Item Based**\n",
    "- Develop a content-based recommender system that utilizes item features and metadata to recommend similar items based on user preferences. Extract relevant features, compute item similarities, and provide personalized recommendations."
   ]
  },
  {
   "cell_type": "code",
   "execution_count": 175,
   "metadata": {},
   "outputs": [],
   "source": [
    "books_ratings = books_df.merge(ratings_df, how=\"left\", on=\"ISBN\")\n",
    "books_ratings_df = books_ratings.merge(users_df, how=\"left\", on=\"User-ID\")\n",
    "\n",
    "df_copy = books_ratings_df.copy()"
   ]
  },
  {
   "cell_type": "code",
   "execution_count": 176,
   "metadata": {},
   "outputs": [],
   "source": [
    "#Check duplicates and nan values\n",
    "df_copy.isna().sum()\n",
    "df_copy.dropna(inplace=True)"
   ]
  },
  {
   "cell_type": "code",
   "execution_count": 177,
   "metadata": {},
   "outputs": [],
   "source": [
    "# Reconvert data types to ensure proper handling and analysis \n",
    "df_copy[\"User-ID\"] = df_copy[\"User-ID\"].astype(\"int\")\n",
    "df_copy[\"Book-Author\"] = df_copy[\"Book-Author\"].astype(\"string\")"
   ]
  },
  {
   "cell_type": "code",
   "execution_count": 178,
   "metadata": {},
   "outputs": [
    {
     "data": {
      "text/plain": [
       "Index(['ISBN', 'Book-Title', 'Book-Author', 'Publisher', 'Image-URL-S',\n",
       "       'Image-URL-M', 'Image-URL-L', 'Publication_Date',\n",
       "       'Year-Of-Publication'],\n",
       "      dtype='object')"
      ]
     },
     "execution_count": 178,
     "metadata": {},
     "output_type": "execute_result"
    }
   ],
   "source": [
    "books_df.columns"
   ]
  },
  {
   "cell_type": "code",
   "execution_count": 179,
   "metadata": {},
   "outputs": [
    {
     "data": {
      "text/html": [
       "<div>\n",
       "<style scoped>\n",
       "    .dataframe tbody tr th:only-of-type {\n",
       "        vertical-align: middle;\n",
       "    }\n",
       "\n",
       "    .dataframe tbody tr th {\n",
       "        vertical-align: top;\n",
       "    }\n",
       "\n",
       "    .dataframe thead th {\n",
       "        text-align: right;\n",
       "    }\n",
       "</style>\n",
       "<table border=\"1\" class=\"dataframe\">\n",
       "  <thead>\n",
       "    <tr style=\"text-align: right;\">\n",
       "      <th></th>\n",
       "      <th>ISBN</th>\n",
       "      <th>Book-Title</th>\n",
       "      <th>Book-Author</th>\n",
       "      <th>Publisher</th>\n",
       "      <th>Image-URL-S</th>\n",
       "      <th>Image-URL-M</th>\n",
       "      <th>Image-URL-L</th>\n",
       "      <th>Publication_Date</th>\n",
       "      <th>Year-Of-Publication</th>\n",
       "      <th>User-ID</th>\n",
       "      <th>Book-Rating</th>\n",
       "      <th>Country</th>\n",
       "    </tr>\n",
       "  </thead>\n",
       "  <tbody>\n",
       "    <tr>\n",
       "      <th>0</th>\n",
       "      <td>0195153448</td>\n",
       "      <td>Classical Mythology</td>\n",
       "      <td>Mark P. O. Morford</td>\n",
       "      <td>Oxford University Press</td>\n",
       "      <td>http://images.amazon.com/images/P/0195153448.01.THUMBZZZ.jpg</td>\n",
       "      <td>http://images.amazon.com/images/P/0195153448.01.MZZZZZZZ.jpg</td>\n",
       "      <td>http://images.amazon.com/images/P/0195153448.01.LZZZZZZZ.jpg</td>\n",
       "      <td>2002-01-01</td>\n",
       "      <td>2002.0</td>\n",
       "      <td>2</td>\n",
       "      <td>0.0</td>\n",
       "      <td>usa</td>\n",
       "    </tr>\n",
       "    <tr>\n",
       "      <th>1</th>\n",
       "      <td>0002005018</td>\n",
       "      <td>Clara Callan</td>\n",
       "      <td>Richard Bruce Wright</td>\n",
       "      <td>HarperFlamingo Canada</td>\n",
       "      <td>http://images.amazon.com/images/P/0002005018.01.THUMBZZZ.jpg</td>\n",
       "      <td>http://images.amazon.com/images/P/0002005018.01.MZZZZZZZ.jpg</td>\n",
       "      <td>http://images.amazon.com/images/P/0002005018.01.LZZZZZZZ.jpg</td>\n",
       "      <td>2001-01-01</td>\n",
       "      <td>2001.0</td>\n",
       "      <td>8</td>\n",
       "      <td>5.0</td>\n",
       "      <td>canada</td>\n",
       "    </tr>\n",
       "    <tr>\n",
       "      <th>2</th>\n",
       "      <td>0002005018</td>\n",
       "      <td>Clara Callan</td>\n",
       "      <td>Richard Bruce Wright</td>\n",
       "      <td>HarperFlamingo Canada</td>\n",
       "      <td>http://images.amazon.com/images/P/0002005018.01.THUMBZZZ.jpg</td>\n",
       "      <td>http://images.amazon.com/images/P/0002005018.01.MZZZZZZZ.jpg</td>\n",
       "      <td>http://images.amazon.com/images/P/0002005018.01.LZZZZZZZ.jpg</td>\n",
       "      <td>2001-01-01</td>\n",
       "      <td>2001.0</td>\n",
       "      <td>11400</td>\n",
       "      <td>0.0</td>\n",
       "      <td>canada</td>\n",
       "    </tr>\n",
       "    <tr>\n",
       "      <th>3</th>\n",
       "      <td>0002005018</td>\n",
       "      <td>Clara Callan</td>\n",
       "      <td>Richard Bruce Wright</td>\n",
       "      <td>HarperFlamingo Canada</td>\n",
       "      <td>http://images.amazon.com/images/P/0002005018.01.THUMBZZZ.jpg</td>\n",
       "      <td>http://images.amazon.com/images/P/0002005018.01.MZZZZZZZ.jpg</td>\n",
       "      <td>http://images.amazon.com/images/P/0002005018.01.LZZZZZZZ.jpg</td>\n",
       "      <td>2001-01-01</td>\n",
       "      <td>2001.0</td>\n",
       "      <td>11676</td>\n",
       "      <td>8.0</td>\n",
       "      <td>n/a</td>\n",
       "    </tr>\n",
       "    <tr>\n",
       "      <th>4</th>\n",
       "      <td>0002005018</td>\n",
       "      <td>Clara Callan</td>\n",
       "      <td>Richard Bruce Wright</td>\n",
       "      <td>HarperFlamingo Canada</td>\n",
       "      <td>http://images.amazon.com/images/P/0002005018.01.THUMBZZZ.jpg</td>\n",
       "      <td>http://images.amazon.com/images/P/0002005018.01.MZZZZZZZ.jpg</td>\n",
       "      <td>http://images.amazon.com/images/P/0002005018.01.LZZZZZZZ.jpg</td>\n",
       "      <td>2001-01-01</td>\n",
       "      <td>2001.0</td>\n",
       "      <td>41385</td>\n",
       "      <td>0.0</td>\n",
       "      <td>canada</td>\n",
       "    </tr>\n",
       "    <tr>\n",
       "      <th>...</th>\n",
       "      <td>...</td>\n",
       "      <td>...</td>\n",
       "      <td>...</td>\n",
       "      <td>...</td>\n",
       "      <td>...</td>\n",
       "      <td>...</td>\n",
       "      <td>...</td>\n",
       "      <td>...</td>\n",
       "      <td>...</td>\n",
       "      <td>...</td>\n",
       "      <td>...</td>\n",
       "      <td>...</td>\n",
       "    </tr>\n",
       "    <tr>\n",
       "      <th>1032279</th>\n",
       "      <td>0440400988</td>\n",
       "      <td>There's a Bat in Bunk Five</td>\n",
       "      <td>Paula Danziger</td>\n",
       "      <td>Random House Childrens Pub (Mm)</td>\n",
       "      <td>http://images.amazon.com/images/P/0440400988.01.THUMBZZZ.jpg</td>\n",
       "      <td>http://images.amazon.com/images/P/0440400988.01.MZZZZZZZ.jpg</td>\n",
       "      <td>http://images.amazon.com/images/P/0440400988.01.LZZZZZZZ.jpg</td>\n",
       "      <td>1988-01-01</td>\n",
       "      <td>1988.0</td>\n",
       "      <td>276463</td>\n",
       "      <td>7.0</td>\n",
       "      <td>usa</td>\n",
       "    </tr>\n",
       "    <tr>\n",
       "      <th>1032280</th>\n",
       "      <td>0525447644</td>\n",
       "      <td>From One to One Hundred</td>\n",
       "      <td>Teri Sloat</td>\n",
       "      <td>Dutton Books</td>\n",
       "      <td>http://images.amazon.com/images/P/0525447644.01.THUMBZZZ.jpg</td>\n",
       "      <td>http://images.amazon.com/images/P/0525447644.01.MZZZZZZZ.jpg</td>\n",
       "      <td>http://images.amazon.com/images/P/0525447644.01.LZZZZZZZ.jpg</td>\n",
       "      <td>1991-01-01</td>\n",
       "      <td>1991.0</td>\n",
       "      <td>276579</td>\n",
       "      <td>4.0</td>\n",
       "      <td>usa</td>\n",
       "    </tr>\n",
       "    <tr>\n",
       "      <th>1032281</th>\n",
       "      <td>006008667X</td>\n",
       "      <td>Lily Dale : The True Story of the Town that Talks to the Dead</td>\n",
       "      <td>Christine Wicker</td>\n",
       "      <td>HarperSanFrancisco</td>\n",
       "      <td>http://images.amazon.com/images/P/006008667X.01.THUMBZZZ.jpg</td>\n",
       "      <td>http://images.amazon.com/images/P/006008667X.01.MZZZZZZZ.jpg</td>\n",
       "      <td>http://images.amazon.com/images/P/006008667X.01.LZZZZZZZ.jpg</td>\n",
       "      <td>2004-01-01</td>\n",
       "      <td>2004.0</td>\n",
       "      <td>276680</td>\n",
       "      <td>0.0</td>\n",
       "      <td>usa</td>\n",
       "    </tr>\n",
       "    <tr>\n",
       "      <th>1032282</th>\n",
       "      <td>0192126040</td>\n",
       "      <td>Republic (World's Classics)</td>\n",
       "      <td>Plato</td>\n",
       "      <td>Oxford University Press</td>\n",
       "      <td>http://images.amazon.com/images/P/0192126040.01.THUMBZZZ.jpg</td>\n",
       "      <td>http://images.amazon.com/images/P/0192126040.01.MZZZZZZZ.jpg</td>\n",
       "      <td>http://images.amazon.com/images/P/0192126040.01.LZZZZZZZ.jpg</td>\n",
       "      <td>1996-01-01</td>\n",
       "      <td>1996.0</td>\n",
       "      <td>276680</td>\n",
       "      <td>0.0</td>\n",
       "      <td>usa</td>\n",
       "    </tr>\n",
       "    <tr>\n",
       "      <th>1032283</th>\n",
       "      <td>0767409752</td>\n",
       "      <td>A Guided Tour of Rene Descartes' Meditations on First Philosophy with Complete Translations of the Meditations by Ronald Rubin</td>\n",
       "      <td>Christopher  Biffle</td>\n",
       "      <td>McGraw-Hill Humanities/Social Sciences/Languages</td>\n",
       "      <td>http://images.amazon.com/images/P/0767409752.01.THUMBZZZ.jpg</td>\n",
       "      <td>http://images.amazon.com/images/P/0767409752.01.MZZZZZZZ.jpg</td>\n",
       "      <td>http://images.amazon.com/images/P/0767409752.01.LZZZZZZZ.jpg</td>\n",
       "      <td>2000-01-01</td>\n",
       "      <td>2000.0</td>\n",
       "      <td>276680</td>\n",
       "      <td>0.0</td>\n",
       "      <td>usa</td>\n",
       "    </tr>\n",
       "  </tbody>\n",
       "</table>\n",
       "<p>1017064 rows × 12 columns</p>\n",
       "</div>"
      ],
      "text/plain": [
       "               ISBN  \\\n",
       "0        0195153448   \n",
       "1        0002005018   \n",
       "2        0002005018   \n",
       "3        0002005018   \n",
       "4        0002005018   \n",
       "...             ...   \n",
       "1032279  0440400988   \n",
       "1032280  0525447644   \n",
       "1032281  006008667X   \n",
       "1032282  0192126040   \n",
       "1032283  0767409752   \n",
       "\n",
       "                                                                                                                             Book-Title  \\\n",
       "0                                                                                                                   Classical Mythology   \n",
       "1                                                                                                                          Clara Callan   \n",
       "2                                                                                                                          Clara Callan   \n",
       "3                                                                                                                          Clara Callan   \n",
       "4                                                                                                                          Clara Callan   \n",
       "...                                                                                                                                 ...   \n",
       "1032279                                                                                                      There's a Bat in Bunk Five   \n",
       "1032280                                                                                                         From One to One Hundred   \n",
       "1032281                                                                   Lily Dale : The True Story of the Town that Talks to the Dead   \n",
       "1032282                                                                                                     Republic (World's Classics)   \n",
       "1032283  A Guided Tour of Rene Descartes' Meditations on First Philosophy with Complete Translations of the Meditations by Ronald Rubin   \n",
       "\n",
       "                  Book-Author  \\\n",
       "0          Mark P. O. Morford   \n",
       "1        Richard Bruce Wright   \n",
       "2        Richard Bruce Wright   \n",
       "3        Richard Bruce Wright   \n",
       "4        Richard Bruce Wright   \n",
       "...                       ...   \n",
       "1032279        Paula Danziger   \n",
       "1032280            Teri Sloat   \n",
       "1032281      Christine Wicker   \n",
       "1032282                 Plato   \n",
       "1032283   Christopher  Biffle   \n",
       "\n",
       "                                                Publisher  \\\n",
       "0                                 Oxford University Press   \n",
       "1                                   HarperFlamingo Canada   \n",
       "2                                   HarperFlamingo Canada   \n",
       "3                                   HarperFlamingo Canada   \n",
       "4                                   HarperFlamingo Canada   \n",
       "...                                                   ...   \n",
       "1032279                   Random House Childrens Pub (Mm)   \n",
       "1032280                                      Dutton Books   \n",
       "1032281                                HarperSanFrancisco   \n",
       "1032282                           Oxford University Press   \n",
       "1032283  McGraw-Hill Humanities/Social Sciences/Languages   \n",
       "\n",
       "                                                          Image-URL-S  \\\n",
       "0        http://images.amazon.com/images/P/0195153448.01.THUMBZZZ.jpg   \n",
       "1        http://images.amazon.com/images/P/0002005018.01.THUMBZZZ.jpg   \n",
       "2        http://images.amazon.com/images/P/0002005018.01.THUMBZZZ.jpg   \n",
       "3        http://images.amazon.com/images/P/0002005018.01.THUMBZZZ.jpg   \n",
       "4        http://images.amazon.com/images/P/0002005018.01.THUMBZZZ.jpg   \n",
       "...                                                               ...   \n",
       "1032279  http://images.amazon.com/images/P/0440400988.01.THUMBZZZ.jpg   \n",
       "1032280  http://images.amazon.com/images/P/0525447644.01.THUMBZZZ.jpg   \n",
       "1032281  http://images.amazon.com/images/P/006008667X.01.THUMBZZZ.jpg   \n",
       "1032282  http://images.amazon.com/images/P/0192126040.01.THUMBZZZ.jpg   \n",
       "1032283  http://images.amazon.com/images/P/0767409752.01.THUMBZZZ.jpg   \n",
       "\n",
       "                                                          Image-URL-M  \\\n",
       "0        http://images.amazon.com/images/P/0195153448.01.MZZZZZZZ.jpg   \n",
       "1        http://images.amazon.com/images/P/0002005018.01.MZZZZZZZ.jpg   \n",
       "2        http://images.amazon.com/images/P/0002005018.01.MZZZZZZZ.jpg   \n",
       "3        http://images.amazon.com/images/P/0002005018.01.MZZZZZZZ.jpg   \n",
       "4        http://images.amazon.com/images/P/0002005018.01.MZZZZZZZ.jpg   \n",
       "...                                                               ...   \n",
       "1032279  http://images.amazon.com/images/P/0440400988.01.MZZZZZZZ.jpg   \n",
       "1032280  http://images.amazon.com/images/P/0525447644.01.MZZZZZZZ.jpg   \n",
       "1032281  http://images.amazon.com/images/P/006008667X.01.MZZZZZZZ.jpg   \n",
       "1032282  http://images.amazon.com/images/P/0192126040.01.MZZZZZZZ.jpg   \n",
       "1032283  http://images.amazon.com/images/P/0767409752.01.MZZZZZZZ.jpg   \n",
       "\n",
       "                                                          Image-URL-L  \\\n",
       "0        http://images.amazon.com/images/P/0195153448.01.LZZZZZZZ.jpg   \n",
       "1        http://images.amazon.com/images/P/0002005018.01.LZZZZZZZ.jpg   \n",
       "2        http://images.amazon.com/images/P/0002005018.01.LZZZZZZZ.jpg   \n",
       "3        http://images.amazon.com/images/P/0002005018.01.LZZZZZZZ.jpg   \n",
       "4        http://images.amazon.com/images/P/0002005018.01.LZZZZZZZ.jpg   \n",
       "...                                                               ...   \n",
       "1032279  http://images.amazon.com/images/P/0440400988.01.LZZZZZZZ.jpg   \n",
       "1032280  http://images.amazon.com/images/P/0525447644.01.LZZZZZZZ.jpg   \n",
       "1032281  http://images.amazon.com/images/P/006008667X.01.LZZZZZZZ.jpg   \n",
       "1032282  http://images.amazon.com/images/P/0192126040.01.LZZZZZZZ.jpg   \n",
       "1032283  http://images.amazon.com/images/P/0767409752.01.LZZZZZZZ.jpg   \n",
       "\n",
       "        Publication_Date  Year-Of-Publication  User-ID  Book-Rating Country  \n",
       "0             2002-01-01               2002.0        2          0.0     usa  \n",
       "1             2001-01-01               2001.0        8          5.0  canada  \n",
       "2             2001-01-01               2001.0    11400          0.0  canada  \n",
       "3             2001-01-01               2001.0    11676          8.0     n/a  \n",
       "4             2001-01-01               2001.0    41385          0.0  canada  \n",
       "...                  ...                  ...      ...          ...     ...  \n",
       "1032279       1988-01-01               1988.0   276463          7.0     usa  \n",
       "1032280       1991-01-01               1991.0   276579          4.0     usa  \n",
       "1032281       2004-01-01               2004.0   276680          0.0     usa  \n",
       "1032282       1996-01-01               1996.0   276680          0.0     usa  \n",
       "1032283       2000-01-01               2000.0   276680          0.0     usa  \n",
       "\n",
       "[1017064 rows x 12 columns]"
      ]
     },
     "execution_count": 179,
     "metadata": {},
     "output_type": "execute_result"
    }
   ],
   "source": [
    "df_copy"
   ]
  },
  {
   "cell_type": "code",
   "execution_count": 180,
   "metadata": {},
   "outputs": [],
   "source": [
    "#Drop unwanted columns\n",
    "df_copy.drop(columns=['Image-URL-M', 'Image-URL-S'], inplace=True)"
   ]
  },
  {
   "cell_type": "code",
   "execution_count": 181,
   "metadata": {},
   "outputs": [],
   "source": [
    "#filter and take just the ratings > 0 \n",
    "df_copy = df_copy[df_copy[\"Book-Rating\"] > 0]\n",
    "# df_copy[\"Book-Rating\"].describe()"
   ]
  },
  {
   "cell_type": "code",
   "execution_count": 182,
   "metadata": {},
   "outputs": [],
   "source": [
    "book_counts = pd.DataFrame(df_copy[\"Book-Title\"].value_counts())"
   ]
  },
  {
   "cell_type": "code",
   "execution_count": 183,
   "metadata": {},
   "outputs": [
    {
     "data": {
      "text/html": [
       "<div>\n",
       "<style scoped>\n",
       "    .dataframe tbody tr th:only-of-type {\n",
       "        vertical-align: middle;\n",
       "    }\n",
       "\n",
       "    .dataframe tbody tr th {\n",
       "        vertical-align: top;\n",
       "    }\n",
       "\n",
       "    .dataframe thead th {\n",
       "        text-align: right;\n",
       "    }\n",
       "</style>\n",
       "<table border=\"1\" class=\"dataframe\">\n",
       "  <thead>\n",
       "    <tr style=\"text-align: right;\">\n",
       "      <th></th>\n",
       "      <th>count</th>\n",
       "    </tr>\n",
       "    <tr>\n",
       "      <th>Book-Title</th>\n",
       "      <th></th>\n",
       "    </tr>\n",
       "  </thead>\n",
       "  <tbody>\n",
       "    <tr>\n",
       "      <th>The Lovely Bones: A Novel</th>\n",
       "      <td>707</td>\n",
       "    </tr>\n",
       "    <tr>\n",
       "      <th>Wild Animus</th>\n",
       "      <td>581</td>\n",
       "    </tr>\n",
       "    <tr>\n",
       "      <th>The Da Vinci Code</th>\n",
       "      <td>494</td>\n",
       "    </tr>\n",
       "    <tr>\n",
       "      <th>The Secret Life of Bees</th>\n",
       "      <td>406</td>\n",
       "    </tr>\n",
       "    <tr>\n",
       "      <th>The Nanny Diaries: A Novel</th>\n",
       "      <td>393</td>\n",
       "    </tr>\n",
       "    <tr>\n",
       "      <th>...</th>\n",
       "      <td>...</td>\n",
       "    </tr>\n",
       "    <tr>\n",
       "      <th>Alaska's Wolf Man: The 1915-55 Wilderness Adventures of Frank Glaser</th>\n",
       "      <td>1</td>\n",
       "    </tr>\n",
       "    <tr>\n",
       "      <th>Diana-TaschenbÃ?Â¼cher, Nr.84, Lug und Trug</th>\n",
       "      <td>1</td>\n",
       "    </tr>\n",
       "    <tr>\n",
       "      <th>One Man's Wilderness: An Alaskan Odyssey</th>\n",
       "      <td>1</td>\n",
       "    </tr>\n",
       "    <tr>\n",
       "      <th>Der talentierte Mr. Ripley. NeuÃ?Â¼bersetzung.</th>\n",
       "      <td>1</td>\n",
       "    </tr>\n",
       "    <tr>\n",
       "      <th>From One to One Hundred</th>\n",
       "      <td>1</td>\n",
       "    </tr>\n",
       "  </tbody>\n",
       "</table>\n",
       "<p>133365 rows × 1 columns</p>\n",
       "</div>"
      ],
      "text/plain": [
       "                                                                      count\n",
       "Book-Title                                                                 \n",
       "The Lovely Bones: A Novel                                               707\n",
       "Wild Animus                                                             581\n",
       "The Da Vinci Code                                                       494\n",
       "The Secret Life of Bees                                                 406\n",
       "The Nanny Diaries: A Novel                                              393\n",
       "...                                                                     ...\n",
       "Alaska's Wolf Man: The 1915-55 Wilderness Adventures of Frank Glaser      1\n",
       "Diana-TaschenbÃ?Â¼cher, Nr.84, Lug und Trug                               1\n",
       "One Man's Wilderness: An Alaskan Odyssey                                  1\n",
       "Der talentierte Mr. Ripley. NeuÃ?Â¼bersetzung.                            1\n",
       "From One to One Hundred                                                   1\n",
       "\n",
       "[133365 rows x 1 columns]"
      ]
     },
     "execution_count": 183,
     "metadata": {},
     "output_type": "execute_result"
    }
   ],
   "source": [
    "book_counts.sort_values(\"count\", ascending=False)"
   ]
  },
  {
   "cell_type": "code",
   "execution_count": 184,
   "metadata": {},
   "outputs": [],
   "source": [
    "book_counts.rename(columns={'count': 'Book-Title'}, inplace=True)"
   ]
  },
  {
   "cell_type": "code",
   "execution_count": 185,
   "metadata": {},
   "outputs": [],
   "source": [
    "rare_book = book_counts[book_counts[\"Book-Title\"] <= 100].index"
   ]
  },
  {
   "cell_type": "code",
   "execution_count": 186,
   "metadata": {},
   "outputs": [
    {
     "data": {
      "text/plain": [
       "133174"
      ]
     },
     "execution_count": 186,
     "metadata": {},
     "output_type": "execute_result"
    }
   ],
   "source": [
    "rare_book.nunique()"
   ]
  },
  {
   "cell_type": "code",
   "execution_count": 187,
   "metadata": {},
   "outputs": [
    {
     "data": {
      "text/html": [
       "<div>\n",
       "<style scoped>\n",
       "    .dataframe tbody tr th:only-of-type {\n",
       "        vertical-align: middle;\n",
       "    }\n",
       "\n",
       "    .dataframe tbody tr th {\n",
       "        vertical-align: top;\n",
       "    }\n",
       "\n",
       "    .dataframe thead th {\n",
       "        text-align: right;\n",
       "    }\n",
       "</style>\n",
       "<table border=\"1\" class=\"dataframe\">\n",
       "  <thead>\n",
       "    <tr style=\"text-align: right;\">\n",
       "      <th></th>\n",
       "      <th>ISBN</th>\n",
       "      <th>Book-Title</th>\n",
       "      <th>Book-Author</th>\n",
       "      <th>Publisher</th>\n",
       "      <th>Image-URL-L</th>\n",
       "      <th>Publication_Date</th>\n",
       "      <th>Year-Of-Publication</th>\n",
       "      <th>User-ID</th>\n",
       "      <th>Book-Rating</th>\n",
       "      <th>Country</th>\n",
       "    </tr>\n",
       "  </thead>\n",
       "  <tbody>\n",
       "    <tr>\n",
       "      <th>31</th>\n",
       "      <td>0399135782</td>\n",
       "      <td>The Kitchen God's Wife</td>\n",
       "      <td>Amy Tan</td>\n",
       "      <td>Putnam Pub Group</td>\n",
       "      <td>http://images.amazon.com/images/P/0399135782.01.LZZZZZZZ.jpg</td>\n",
       "      <td>1991-01-01</td>\n",
       "      <td>1991.0</td>\n",
       "      <td>11676</td>\n",
       "      <td>9.0</td>\n",
       "      <td>n/a</td>\n",
       "    </tr>\n",
       "    <tr>\n",
       "      <th>32</th>\n",
       "      <td>0399135782</td>\n",
       "      <td>The Kitchen God's Wife</td>\n",
       "      <td>Amy Tan</td>\n",
       "      <td>Putnam Pub Group</td>\n",
       "      <td>http://images.amazon.com/images/P/0399135782.01.LZZZZZZZ.jpg</td>\n",
       "      <td>1991-01-01</td>\n",
       "      <td>1991.0</td>\n",
       "      <td>29526</td>\n",
       "      <td>9.0</td>\n",
       "      <td>usa</td>\n",
       "    </tr>\n",
       "    <tr>\n",
       "      <th>34</th>\n",
       "      <td>0399135782</td>\n",
       "      <td>The Kitchen God's Wife</td>\n",
       "      <td>Amy Tan</td>\n",
       "      <td>Putnam Pub Group</td>\n",
       "      <td>http://images.amazon.com/images/P/0399135782.01.LZZZZZZZ.jpg</td>\n",
       "      <td>1991-01-01</td>\n",
       "      <td>1991.0</td>\n",
       "      <td>46398</td>\n",
       "      <td>9.0</td>\n",
       "      <td>usa</td>\n",
       "    </tr>\n",
       "    <tr>\n",
       "      <th>36</th>\n",
       "      <td>0399135782</td>\n",
       "      <td>The Kitchen God's Wife</td>\n",
       "      <td>Amy Tan</td>\n",
       "      <td>Putnam Pub Group</td>\n",
       "      <td>http://images.amazon.com/images/P/0399135782.01.LZZZZZZZ.jpg</td>\n",
       "      <td>1991-01-01</td>\n",
       "      <td>1991.0</td>\n",
       "      <td>49635</td>\n",
       "      <td>9.0</td>\n",
       "      <td>usa</td>\n",
       "    </tr>\n",
       "    <tr>\n",
       "      <th>37</th>\n",
       "      <td>0399135782</td>\n",
       "      <td>The Kitchen God's Wife</td>\n",
       "      <td>Amy Tan</td>\n",
       "      <td>Putnam Pub Group</td>\n",
       "      <td>http://images.amazon.com/images/P/0399135782.01.LZZZZZZZ.jpg</td>\n",
       "      <td>1991-01-01</td>\n",
       "      <td>1991.0</td>\n",
       "      <td>67958</td>\n",
       "      <td>10.0</td>\n",
       "      <td>usa</td>\n",
       "    </tr>\n",
       "  </tbody>\n",
       "</table>\n",
       "</div>"
      ],
      "text/plain": [
       "          ISBN              Book-Title Book-Author         Publisher  \\\n",
       "31  0399135782  The Kitchen God's Wife     Amy Tan  Putnam Pub Group   \n",
       "32  0399135782  The Kitchen God's Wife     Amy Tan  Putnam Pub Group   \n",
       "34  0399135782  The Kitchen God's Wife     Amy Tan  Putnam Pub Group   \n",
       "36  0399135782  The Kitchen God's Wife     Amy Tan  Putnam Pub Group   \n",
       "37  0399135782  The Kitchen God's Wife     Amy Tan  Putnam Pub Group   \n",
       "\n",
       "                                                     Image-URL-L  \\\n",
       "31  http://images.amazon.com/images/P/0399135782.01.LZZZZZZZ.jpg   \n",
       "32  http://images.amazon.com/images/P/0399135782.01.LZZZZZZZ.jpg   \n",
       "34  http://images.amazon.com/images/P/0399135782.01.LZZZZZZZ.jpg   \n",
       "36  http://images.amazon.com/images/P/0399135782.01.LZZZZZZZ.jpg   \n",
       "37  http://images.amazon.com/images/P/0399135782.01.LZZZZZZZ.jpg   \n",
       "\n",
       "   Publication_Date  Year-Of-Publication  User-ID  Book-Rating Country  \n",
       "31       1991-01-01               1991.0    11676          9.0     n/a  \n",
       "32       1991-01-01               1991.0    29526          9.0     usa  \n",
       "34       1991-01-01               1991.0    46398          9.0     usa  \n",
       "36       1991-01-01               1991.0    49635          9.0     usa  \n",
       "37       1991-01-01               1991.0    67958         10.0     usa  "
      ]
     },
     "execution_count": 187,
     "metadata": {},
     "output_type": "execute_result"
    }
   ],
   "source": [
    "common_book = df_copy[~df_copy[\"Book-Title\"].isin(rare_book)]\n",
    "common_book.head()"
   ]
  },
  {
   "cell_type": "code",
   "execution_count": 188,
   "metadata": {},
   "outputs": [
    {
     "data": {
      "text/plain": [
       "Index(['ISBN', 'Book-Title', 'Book-Author', 'Publisher', 'Image-URL-L',\n",
       "       'Publication_Date', 'Year-Of-Publication', 'User-ID', 'Book-Rating',\n",
       "       'Country'],\n",
       "      dtype='object')"
      ]
     },
     "execution_count": 188,
     "metadata": {},
     "output_type": "execute_result"
    }
   ],
   "source": [
    "common_book.columns"
   ]
  },
  {
   "cell_type": "code",
   "execution_count": 189,
   "metadata": {},
   "outputs": [
    {
     "data": {
      "text/html": [
       "<div>\n",
       "<style scoped>\n",
       "    .dataframe tbody tr th:only-of-type {\n",
       "        vertical-align: middle;\n",
       "    }\n",
       "\n",
       "    .dataframe tbody tr th {\n",
       "        vertical-align: top;\n",
       "    }\n",
       "\n",
       "    .dataframe thead th {\n",
       "        text-align: right;\n",
       "    }\n",
       "</style>\n",
       "<table border=\"1\" class=\"dataframe\">\n",
       "  <thead>\n",
       "    <tr style=\"text-align: right;\">\n",
       "      <th>Book-Title</th>\n",
       "      <th>1984</th>\n",
       "      <th>1st to Die: A Novel</th>\n",
       "      <th>2nd Chance</th>\n",
       "      <th>A Bend in the Road</th>\n",
       "      <th>A Child Called \\It\\\": One Child's Courage to Survive\"</th>\n",
       "      <th>A Heartbreaking Work of Staggering Genius</th>\n",
       "      <th>A Is for Alibi (Kinsey Millhone Mysteries (Paperback))</th>\n",
       "      <th>A Map of the World</th>\n",
       "      <th>A Painted House</th>\n",
       "      <th>A Prayer for Owen Meany</th>\n",
       "      <th>...</th>\n",
       "      <th>Watership Down</th>\n",
       "      <th>We Were the Mulvaneys</th>\n",
       "      <th>When the Wind Blows</th>\n",
       "      <th>Where the Heart Is (Oprah's Book Club (Paperback))</th>\n",
       "      <th>While I Was Gone</th>\n",
       "      <th>White Oleander : A Novel</th>\n",
       "      <th>White Oleander : A Novel (Oprah's Book Club)</th>\n",
       "      <th>Wicked: The Life and Times of the Wicked Witch of the West</th>\n",
       "      <th>Wild Animus</th>\n",
       "      <th>\\O\\\" Is for Outlaw\"</th>\n",
       "    </tr>\n",
       "    <tr>\n",
       "      <th>User-ID</th>\n",
       "      <th></th>\n",
       "      <th></th>\n",
       "      <th></th>\n",
       "      <th></th>\n",
       "      <th></th>\n",
       "      <th></th>\n",
       "      <th></th>\n",
       "      <th></th>\n",
       "      <th></th>\n",
       "      <th></th>\n",
       "      <th></th>\n",
       "      <th></th>\n",
       "      <th></th>\n",
       "      <th></th>\n",
       "      <th></th>\n",
       "      <th></th>\n",
       "      <th></th>\n",
       "      <th></th>\n",
       "      <th></th>\n",
       "      <th></th>\n",
       "      <th></th>\n",
       "    </tr>\n",
       "  </thead>\n",
       "  <tbody>\n",
       "    <tr>\n",
       "      <th>16</th>\n",
       "      <td>0.0</td>\n",
       "      <td>0.0</td>\n",
       "      <td>0.0</td>\n",
       "      <td>0.0</td>\n",
       "      <td>0.0</td>\n",
       "      <td>0.0</td>\n",
       "      <td>0.0</td>\n",
       "      <td>0.0</td>\n",
       "      <td>0.0</td>\n",
       "      <td>0.0</td>\n",
       "      <td>...</td>\n",
       "      <td>0.0</td>\n",
       "      <td>0.0</td>\n",
       "      <td>0.0</td>\n",
       "      <td>0.0</td>\n",
       "      <td>0.0</td>\n",
       "      <td>0.0</td>\n",
       "      <td>0.0</td>\n",
       "      <td>0.0</td>\n",
       "      <td>0.0</td>\n",
       "      <td>0.0</td>\n",
       "    </tr>\n",
       "    <tr>\n",
       "      <th>26</th>\n",
       "      <td>0.0</td>\n",
       "      <td>0.0</td>\n",
       "      <td>0.0</td>\n",
       "      <td>0.0</td>\n",
       "      <td>0.0</td>\n",
       "      <td>0.0</td>\n",
       "      <td>0.0</td>\n",
       "      <td>0.0</td>\n",
       "      <td>0.0</td>\n",
       "      <td>0.0</td>\n",
       "      <td>...</td>\n",
       "      <td>0.0</td>\n",
       "      <td>0.0</td>\n",
       "      <td>0.0</td>\n",
       "      <td>0.0</td>\n",
       "      <td>0.0</td>\n",
       "      <td>0.0</td>\n",
       "      <td>0.0</td>\n",
       "      <td>0.0</td>\n",
       "      <td>0.0</td>\n",
       "      <td>0.0</td>\n",
       "    </tr>\n",
       "    <tr>\n",
       "      <th>32</th>\n",
       "      <td>0.0</td>\n",
       "      <td>0.0</td>\n",
       "      <td>0.0</td>\n",
       "      <td>0.0</td>\n",
       "      <td>0.0</td>\n",
       "      <td>0.0</td>\n",
       "      <td>0.0</td>\n",
       "      <td>0.0</td>\n",
       "      <td>0.0</td>\n",
       "      <td>0.0</td>\n",
       "      <td>...</td>\n",
       "      <td>0.0</td>\n",
       "      <td>0.0</td>\n",
       "      <td>0.0</td>\n",
       "      <td>0.0</td>\n",
       "      <td>0.0</td>\n",
       "      <td>0.0</td>\n",
       "      <td>0.0</td>\n",
       "      <td>0.0</td>\n",
       "      <td>0.0</td>\n",
       "      <td>0.0</td>\n",
       "    </tr>\n",
       "    <tr>\n",
       "      <th>51</th>\n",
       "      <td>0.0</td>\n",
       "      <td>0.0</td>\n",
       "      <td>0.0</td>\n",
       "      <td>0.0</td>\n",
       "      <td>0.0</td>\n",
       "      <td>0.0</td>\n",
       "      <td>0.0</td>\n",
       "      <td>0.0</td>\n",
       "      <td>0.0</td>\n",
       "      <td>0.0</td>\n",
       "      <td>...</td>\n",
       "      <td>0.0</td>\n",
       "      <td>0.0</td>\n",
       "      <td>0.0</td>\n",
       "      <td>0.0</td>\n",
       "      <td>0.0</td>\n",
       "      <td>0.0</td>\n",
       "      <td>0.0</td>\n",
       "      <td>0.0</td>\n",
       "      <td>0.0</td>\n",
       "      <td>0.0</td>\n",
       "    </tr>\n",
       "    <tr>\n",
       "      <th>91</th>\n",
       "      <td>0.0</td>\n",
       "      <td>0.0</td>\n",
       "      <td>0.0</td>\n",
       "      <td>0.0</td>\n",
       "      <td>0.0</td>\n",
       "      <td>0.0</td>\n",
       "      <td>0.0</td>\n",
       "      <td>0.0</td>\n",
       "      <td>0.0</td>\n",
       "      <td>0.0</td>\n",
       "      <td>...</td>\n",
       "      <td>0.0</td>\n",
       "      <td>0.0</td>\n",
       "      <td>0.0</td>\n",
       "      <td>0.0</td>\n",
       "      <td>0.0</td>\n",
       "      <td>0.0</td>\n",
       "      <td>0.0</td>\n",
       "      <td>0.0</td>\n",
       "      <td>0.0</td>\n",
       "      <td>0.0</td>\n",
       "    </tr>\n",
       "    <tr>\n",
       "      <th>...</th>\n",
       "      <td>...</td>\n",
       "      <td>...</td>\n",
       "      <td>...</td>\n",
       "      <td>...</td>\n",
       "      <td>...</td>\n",
       "      <td>...</td>\n",
       "      <td>...</td>\n",
       "      <td>...</td>\n",
       "      <td>...</td>\n",
       "      <td>...</td>\n",
       "      <td>...</td>\n",
       "      <td>...</td>\n",
       "      <td>...</td>\n",
       "      <td>...</td>\n",
       "      <td>...</td>\n",
       "      <td>...</td>\n",
       "      <td>...</td>\n",
       "      <td>...</td>\n",
       "      <td>...</td>\n",
       "      <td>...</td>\n",
       "      <td>...</td>\n",
       "    </tr>\n",
       "    <tr>\n",
       "      <th>278800</th>\n",
       "      <td>0.0</td>\n",
       "      <td>0.0</td>\n",
       "      <td>0.0</td>\n",
       "      <td>0.0</td>\n",
       "      <td>0.0</td>\n",
       "      <td>0.0</td>\n",
       "      <td>0.0</td>\n",
       "      <td>0.0</td>\n",
       "      <td>0.0</td>\n",
       "      <td>0.0</td>\n",
       "      <td>...</td>\n",
       "      <td>0.0</td>\n",
       "      <td>0.0</td>\n",
       "      <td>0.0</td>\n",
       "      <td>0.0</td>\n",
       "      <td>0.0</td>\n",
       "      <td>0.0</td>\n",
       "      <td>0.0</td>\n",
       "      <td>0.0</td>\n",
       "      <td>0.0</td>\n",
       "      <td>0.0</td>\n",
       "    </tr>\n",
       "    <tr>\n",
       "      <th>278836</th>\n",
       "      <td>0.0</td>\n",
       "      <td>0.0</td>\n",
       "      <td>0.0</td>\n",
       "      <td>0.0</td>\n",
       "      <td>0.0</td>\n",
       "      <td>0.0</td>\n",
       "      <td>0.0</td>\n",
       "      <td>0.0</td>\n",
       "      <td>0.0</td>\n",
       "      <td>0.0</td>\n",
       "      <td>...</td>\n",
       "      <td>0.0</td>\n",
       "      <td>0.0</td>\n",
       "      <td>0.0</td>\n",
       "      <td>0.0</td>\n",
       "      <td>0.0</td>\n",
       "      <td>0.0</td>\n",
       "      <td>0.0</td>\n",
       "      <td>0.0</td>\n",
       "      <td>0.0</td>\n",
       "      <td>0.0</td>\n",
       "    </tr>\n",
       "    <tr>\n",
       "      <th>278843</th>\n",
       "      <td>0.0</td>\n",
       "      <td>0.0</td>\n",
       "      <td>0.0</td>\n",
       "      <td>0.0</td>\n",
       "      <td>0.0</td>\n",
       "      <td>0.0</td>\n",
       "      <td>0.0</td>\n",
       "      <td>0.0</td>\n",
       "      <td>0.0</td>\n",
       "      <td>0.0</td>\n",
       "      <td>...</td>\n",
       "      <td>0.0</td>\n",
       "      <td>0.0</td>\n",
       "      <td>0.0</td>\n",
       "      <td>0.0</td>\n",
       "      <td>0.0</td>\n",
       "      <td>0.0</td>\n",
       "      <td>0.0</td>\n",
       "      <td>0.0</td>\n",
       "      <td>0.0</td>\n",
       "      <td>0.0</td>\n",
       "    </tr>\n",
       "    <tr>\n",
       "      <th>278844</th>\n",
       "      <td>0.0</td>\n",
       "      <td>0.0</td>\n",
       "      <td>0.0</td>\n",
       "      <td>0.0</td>\n",
       "      <td>0.0</td>\n",
       "      <td>0.0</td>\n",
       "      <td>0.0</td>\n",
       "      <td>0.0</td>\n",
       "      <td>0.0</td>\n",
       "      <td>0.0</td>\n",
       "      <td>...</td>\n",
       "      <td>0.0</td>\n",
       "      <td>0.0</td>\n",
       "      <td>0.0</td>\n",
       "      <td>0.0</td>\n",
       "      <td>0.0</td>\n",
       "      <td>0.0</td>\n",
       "      <td>0.0</td>\n",
       "      <td>0.0</td>\n",
       "      <td>0.0</td>\n",
       "      <td>0.0</td>\n",
       "    </tr>\n",
       "    <tr>\n",
       "      <th>278846</th>\n",
       "      <td>0.0</td>\n",
       "      <td>0.0</td>\n",
       "      <td>0.0</td>\n",
       "      <td>0.0</td>\n",
       "      <td>0.0</td>\n",
       "      <td>0.0</td>\n",
       "      <td>0.0</td>\n",
       "      <td>0.0</td>\n",
       "      <td>0.0</td>\n",
       "      <td>0.0</td>\n",
       "      <td>...</td>\n",
       "      <td>0.0</td>\n",
       "      <td>0.0</td>\n",
       "      <td>0.0</td>\n",
       "      <td>0.0</td>\n",
       "      <td>0.0</td>\n",
       "      <td>0.0</td>\n",
       "      <td>0.0</td>\n",
       "      <td>0.0</td>\n",
       "      <td>0.0</td>\n",
       "      <td>0.0</td>\n",
       "    </tr>\n",
       "  </tbody>\n",
       "</table>\n",
       "<p>16349 rows × 191 columns</p>\n",
       "</div>"
      ],
      "text/plain": [
       "Book-Title  1984  1st to Die: A Novel  2nd Chance  A Bend in the Road  \\\n",
       "User-ID                                                                 \n",
       "16           0.0                  0.0         0.0                 0.0   \n",
       "26           0.0                  0.0         0.0                 0.0   \n",
       "32           0.0                  0.0         0.0                 0.0   \n",
       "51           0.0                  0.0         0.0                 0.0   \n",
       "91           0.0                  0.0         0.0                 0.0   \n",
       "...          ...                  ...         ...                 ...   \n",
       "278800       0.0                  0.0         0.0                 0.0   \n",
       "278836       0.0                  0.0         0.0                 0.0   \n",
       "278843       0.0                  0.0         0.0                 0.0   \n",
       "278844       0.0                  0.0         0.0                 0.0   \n",
       "278846       0.0                  0.0         0.0                 0.0   \n",
       "\n",
       "Book-Title  A Child Called \\It\\\": One Child's Courage to Survive\"  \\\n",
       "User-ID                                                             \n",
       "16                                                            0.0   \n",
       "26                                                            0.0   \n",
       "32                                                            0.0   \n",
       "51                                                            0.0   \n",
       "91                                                            0.0   \n",
       "...                                                           ...   \n",
       "278800                                                        0.0   \n",
       "278836                                                        0.0   \n",
       "278843                                                        0.0   \n",
       "278844                                                        0.0   \n",
       "278846                                                        0.0   \n",
       "\n",
       "Book-Title  A Heartbreaking Work of Staggering Genius  \\\n",
       "User-ID                                                 \n",
       "16                                                0.0   \n",
       "26                                                0.0   \n",
       "32                                                0.0   \n",
       "51                                                0.0   \n",
       "91                                                0.0   \n",
       "...                                               ...   \n",
       "278800                                            0.0   \n",
       "278836                                            0.0   \n",
       "278843                                            0.0   \n",
       "278844                                            0.0   \n",
       "278846                                            0.0   \n",
       "\n",
       "Book-Title  A Is for Alibi (Kinsey Millhone Mysteries (Paperback))  \\\n",
       "User-ID                                                              \n",
       "16                                                             0.0   \n",
       "26                                                             0.0   \n",
       "32                                                             0.0   \n",
       "51                                                             0.0   \n",
       "91                                                             0.0   \n",
       "...                                                            ...   \n",
       "278800                                                         0.0   \n",
       "278836                                                         0.0   \n",
       "278843                                                         0.0   \n",
       "278844                                                         0.0   \n",
       "278846                                                         0.0   \n",
       "\n",
       "Book-Title  A Map of the World  A Painted House  A Prayer for Owen Meany  ...  \\\n",
       "User-ID                                                                   ...   \n",
       "16                         0.0              0.0                      0.0  ...   \n",
       "26                         0.0              0.0                      0.0  ...   \n",
       "32                         0.0              0.0                      0.0  ...   \n",
       "51                         0.0              0.0                      0.0  ...   \n",
       "91                         0.0              0.0                      0.0  ...   \n",
       "...                        ...              ...                      ...  ...   \n",
       "278800                     0.0              0.0                      0.0  ...   \n",
       "278836                     0.0              0.0                      0.0  ...   \n",
       "278843                     0.0              0.0                      0.0  ...   \n",
       "278844                     0.0              0.0                      0.0  ...   \n",
       "278846                     0.0              0.0                      0.0  ...   \n",
       "\n",
       "Book-Title  Watership Down  We Were the Mulvaneys  When the Wind Blows  \\\n",
       "User-ID                                                                  \n",
       "16                     0.0                    0.0                  0.0   \n",
       "26                     0.0                    0.0                  0.0   \n",
       "32                     0.0                    0.0                  0.0   \n",
       "51                     0.0                    0.0                  0.0   \n",
       "91                     0.0                    0.0                  0.0   \n",
       "...                    ...                    ...                  ...   \n",
       "278800                 0.0                    0.0                  0.0   \n",
       "278836                 0.0                    0.0                  0.0   \n",
       "278843                 0.0                    0.0                  0.0   \n",
       "278844                 0.0                    0.0                  0.0   \n",
       "278846                 0.0                    0.0                  0.0   \n",
       "\n",
       "Book-Title  Where the Heart Is (Oprah's Book Club (Paperback))  \\\n",
       "User-ID                                                          \n",
       "16                                                         0.0   \n",
       "26                                                         0.0   \n",
       "32                                                         0.0   \n",
       "51                                                         0.0   \n",
       "91                                                         0.0   \n",
       "...                                                        ...   \n",
       "278800                                                     0.0   \n",
       "278836                                                     0.0   \n",
       "278843                                                     0.0   \n",
       "278844                                                     0.0   \n",
       "278846                                                     0.0   \n",
       "\n",
       "Book-Title  While I Was Gone  White Oleander : A Novel  \\\n",
       "User-ID                                                  \n",
       "16                       0.0                       0.0   \n",
       "26                       0.0                       0.0   \n",
       "32                       0.0                       0.0   \n",
       "51                       0.0                       0.0   \n",
       "91                       0.0                       0.0   \n",
       "...                      ...                       ...   \n",
       "278800                   0.0                       0.0   \n",
       "278836                   0.0                       0.0   \n",
       "278843                   0.0                       0.0   \n",
       "278844                   0.0                       0.0   \n",
       "278846                   0.0                       0.0   \n",
       "\n",
       "Book-Title  White Oleander : A Novel (Oprah's Book Club)  \\\n",
       "User-ID                                                    \n",
       "16                                                   0.0   \n",
       "26                                                   0.0   \n",
       "32                                                   0.0   \n",
       "51                                                   0.0   \n",
       "91                                                   0.0   \n",
       "...                                                  ...   \n",
       "278800                                               0.0   \n",
       "278836                                               0.0   \n",
       "278843                                               0.0   \n",
       "278844                                               0.0   \n",
       "278846                                               0.0   \n",
       "\n",
       "Book-Title  Wicked: The Life and Times of the Wicked Witch of the West  \\\n",
       "User-ID                                                                  \n",
       "16                                                                 0.0   \n",
       "26                                                                 0.0   \n",
       "32                                                                 0.0   \n",
       "51                                                                 0.0   \n",
       "91                                                                 0.0   \n",
       "...                                                                ...   \n",
       "278800                                                             0.0   \n",
       "278836                                                             0.0   \n",
       "278843                                                             0.0   \n",
       "278844                                                             0.0   \n",
       "278846                                                             0.0   \n",
       "\n",
       "Book-Title  Wild Animus  \\O\\\" Is for Outlaw\"  \n",
       "User-ID                                       \n",
       "16                  0.0                  0.0  \n",
       "26                  0.0                  0.0  \n",
       "32                  0.0                  0.0  \n",
       "51                  0.0                  0.0  \n",
       "91                  0.0                  0.0  \n",
       "...                 ...                  ...  \n",
       "278800              0.0                  0.0  \n",
       "278836              0.0                  0.0  \n",
       "278843              0.0                  0.0  \n",
       "278844              0.0                  0.0  \n",
       "278846              0.0                  0.0  \n",
       "\n",
       "[16349 rows x 191 columns]"
      ]
     },
     "execution_count": 189,
     "metadata": {},
     "output_type": "execute_result"
    }
   ],
   "source": [
    "# Create a user-book matrix using the common_books dataset where each cell represents the rating given by a user to a particular book.\n",
    "user_book_df = common_book.pivot_table(index=\"User-ID\", columns=\"Book-Title\", values=\"Book-Rating\").fillna(0)\n",
    "user_book_df"
   ]
  },
  {
   "cell_type": "code",
   "execution_count": 190,
   "metadata": {},
   "outputs": [
    {
     "data": {
      "text/plain": [
       "User-ID\n",
       "263979    10.0\n",
       "160241    10.0\n",
       "221553    10.0\n",
       "216397    10.0\n",
       "162528    10.0\n",
       "          ... \n",
       "94237      0.0\n",
       "94242      0.0\n",
       "94263      0.0\n",
       "94264      0.0\n",
       "278846     0.0\n",
       "Name: Wild Animus, Length: 16349, dtype: float64"
      ]
     },
     "execution_count": 190,
     "metadata": {},
     "output_type": "execute_result"
    }
   ],
   "source": [
    "book_name = user_book_df[\"Wild Animus\"]\n",
    "book_name.sort_values(ascending=False)"
   ]
  },
  {
   "cell_type": "code",
   "execution_count": 194,
   "metadata": {},
   "outputs": [
    {
     "data": {
      "text/plain": [
       "['Back Roads',\n",
       " 'The Tao of Pooh',\n",
       " 'Lord of the Flies',\n",
       " \"The Bonesetter's Daughter\"]"
      ]
     },
     "execution_count": 194,
     "metadata": {},
     "output_type": "execute_result"
    }
   ],
   "source": [
    "top_n = 5\n",
    "rec_book_list = user_book_df.corrwith(book_name).sort_values(ascending=False).head(top_n)\n",
    "rec_book_list = list(rec_book_list.index)\n",
    "rec_book_list[1:]"
   ]
  },
  {
   "cell_type": "code",
   "execution_count": 195,
   "metadata": {
    "scrolled": true
   },
   "outputs": [
    {
     "data": {
      "text/html": [
       "<div>\n",
       "<style scoped>\n",
       "    .dataframe tbody tr th:only-of-type {\n",
       "        vertical-align: middle;\n",
       "    }\n",
       "\n",
       "    .dataframe tbody tr th {\n",
       "        vertical-align: top;\n",
       "    }\n",
       "\n",
       "    .dataframe thead th {\n",
       "        text-align: right;\n",
       "    }\n",
       "</style>\n",
       "<table border=\"1\" class=\"dataframe\">\n",
       "  <thead>\n",
       "    <tr style=\"text-align: right;\">\n",
       "      <th></th>\n",
       "      <th>Book-Title</th>\n",
       "      <th>Image-URL-L</th>\n",
       "    </tr>\n",
       "  </thead>\n",
       "  <tbody>\n",
       "    <tr>\n",
       "      <th>6811</th>\n",
       "      <td>The Tao of Pooh</td>\n",
       "      <td>http://images.amazon.com/images/P/0140067477.01.LZZZZZZZ.jpg</td>\n",
       "    </tr>\n",
       "    <tr>\n",
       "      <th>33204</th>\n",
       "      <td>Back Roads</td>\n",
       "      <td>http://images.amazon.com/images/P/0451202341.01.LZZZZZZZ.jpg</td>\n",
       "    </tr>\n",
       "    <tr>\n",
       "      <th>81233</th>\n",
       "      <td>Lord of the Flies</td>\n",
       "      <td>http://images.amazon.com/images/P/0399501487.01.LZZZZZZZ.jpg</td>\n",
       "    </tr>\n",
       "    <tr>\n",
       "      <th>120168</th>\n",
       "      <td>The Bonesetter's Daughter</td>\n",
       "      <td>http://images.amazon.com/images/P/0399146431.01.LZZZZZZZ.jpg</td>\n",
       "    </tr>\n",
       "    <tr>\n",
       "      <th>187646</th>\n",
       "      <td>The Tao of Pooh</td>\n",
       "      <td>http://images.amazon.com/images/P/0525244581.01.LZZZZZZZ.jpg</td>\n",
       "    </tr>\n",
       "    <tr>\n",
       "      <th>194535</th>\n",
       "      <td>The Bonesetter's Daughter</td>\n",
       "      <td>http://images.amazon.com/images/P/0804114986.01.LZZZZZZZ.jpg</td>\n",
       "    </tr>\n",
       "    <tr>\n",
       "      <th>302092</th>\n",
       "      <td>Back Roads</td>\n",
       "      <td>http://images.amazon.com/images/P/0670894184.01.LZZZZZZZ.jpg</td>\n",
       "    </tr>\n",
       "    <tr>\n",
       "      <th>450073</th>\n",
       "      <td>The Bonesetter's Daughter</td>\n",
       "      <td>http://images.amazon.com/images/P/1931056323.01.LZZZZZZZ.jpg</td>\n",
       "    </tr>\n",
       "    <tr>\n",
       "      <th>491534</th>\n",
       "      <td>Lord of the Flies</td>\n",
       "      <td>http://images.amazon.com/images/P/1573226122.01.LZZZZZZZ.jpg</td>\n",
       "    </tr>\n",
       "    <tr>\n",
       "      <th>742089</th>\n",
       "      <td>Lord of the Flies</td>\n",
       "      <td>http://images.amazon.com/images/P/0399529209.01.LZZZZZZZ.jpg</td>\n",
       "    </tr>\n",
       "    <tr>\n",
       "      <th>801046</th>\n",
       "      <td>The Bonesetter's Daughter</td>\n",
       "      <td>http://images.amazon.com/images/P/1931056331.01.LZZZZZZZ.jpg</td>\n",
       "    </tr>\n",
       "    <tr>\n",
       "      <th>822013</th>\n",
       "      <td>Back Roads</td>\n",
       "      <td>http://images.amazon.com/images/P/0446612251.01.LZZZZZZZ.jpg</td>\n",
       "    </tr>\n",
       "    <tr>\n",
       "      <th>891206</th>\n",
       "      <td>Back Roads</td>\n",
       "      <td>http://images.amazon.com/images/P/0552149675.01.LZZZZZZZ.jpg</td>\n",
       "    </tr>\n",
       "    <tr>\n",
       "      <th>947799</th>\n",
       "      <td>The Bonesetter's Daughter</td>\n",
       "      <td>http://images.amazon.com/images/P/B0001FZGPI.01.LZZZZZZZ.jpg</td>\n",
       "    </tr>\n",
       "    <tr>\n",
       "      <th>991862</th>\n",
       "      <td>Back Roads</td>\n",
       "      <td>http://images.amazon.com/images/P/B0000VZEH8.01.LZZZZZZZ.jpg</td>\n",
       "    </tr>\n",
       "  </tbody>\n",
       "</table>\n",
       "</div>"
      ],
      "text/plain": [
       "                       Book-Title  \\\n",
       "6811              The Tao of Pooh   \n",
       "33204                  Back Roads   \n",
       "81233           Lord of the Flies   \n",
       "120168  The Bonesetter's Daughter   \n",
       "187646            The Tao of Pooh   \n",
       "194535  The Bonesetter's Daughter   \n",
       "302092                 Back Roads   \n",
       "450073  The Bonesetter's Daughter   \n",
       "491534          Lord of the Flies   \n",
       "742089          Lord of the Flies   \n",
       "801046  The Bonesetter's Daughter   \n",
       "822013                 Back Roads   \n",
       "891206                 Back Roads   \n",
       "947799  The Bonesetter's Daughter   \n",
       "991862                 Back Roads   \n",
       "\n",
       "                                                         Image-URL-L  \n",
       "6811    http://images.amazon.com/images/P/0140067477.01.LZZZZZZZ.jpg  \n",
       "33204   http://images.amazon.com/images/P/0451202341.01.LZZZZZZZ.jpg  \n",
       "81233   http://images.amazon.com/images/P/0399501487.01.LZZZZZZZ.jpg  \n",
       "120168  http://images.amazon.com/images/P/0399146431.01.LZZZZZZZ.jpg  \n",
       "187646  http://images.amazon.com/images/P/0525244581.01.LZZZZZZZ.jpg  \n",
       "194535  http://images.amazon.com/images/P/0804114986.01.LZZZZZZZ.jpg  \n",
       "302092  http://images.amazon.com/images/P/0670894184.01.LZZZZZZZ.jpg  \n",
       "450073  http://images.amazon.com/images/P/1931056323.01.LZZZZZZZ.jpg  \n",
       "491534  http://images.amazon.com/images/P/1573226122.01.LZZZZZZZ.jpg  \n",
       "742089  http://images.amazon.com/images/P/0399529209.01.LZZZZZZZ.jpg  \n",
       "801046  http://images.amazon.com/images/P/1931056331.01.LZZZZZZZ.jpg  \n",
       "822013  http://images.amazon.com/images/P/0446612251.01.LZZZZZZZ.jpg  \n",
       "891206  http://images.amazon.com/images/P/0552149675.01.LZZZZZZZ.jpg  \n",
       "947799  http://images.amazon.com/images/P/B0001FZGPI.01.LZZZZZZZ.jpg  \n",
       "991862  http://images.amazon.com/images/P/B0000VZEH8.01.LZZZZZZZ.jpg  "
      ]
     },
     "execution_count": 195,
     "metadata": {},
     "output_type": "execute_result"
    }
   ],
   "source": [
    "df_author = df_copy[[\"Book-Title\",\"Book-Author\"]]\n",
    "df_author.head()\n",
    "\n",
    "df_imag_url = df_copy[[\"Book-Title\", \"Image-URL-L\"]]\n",
    "\n",
    "df_rec = df_author.loc[df_author[\"Book-Title\"].isin(rec_book_list)]\n",
    "\n",
    "df_rec2 = df_imag_url.loc[df_imag_url[\"Book-Title\"].isin(rec_book_list)]\n",
    "\n",
    "df_rec = df_rec.drop_duplicates(subset=[\"Book-Title\",\"Book-Author\"], keep=\"first\")\n",
    "df_rec2 = df_rec2.drop_duplicates(subset=[\"Book-Title\",\"Image-URL-L\"], keep=\"first\")\n",
    "\n",
    "df_rec[1:]\n",
    "df_rec2[1:]"
   ]
  },
  {
   "cell_type": "code",
   "execution_count": 196,
   "metadata": {},
   "outputs": [
    {
     "data": {
      "text/html": [
       "<div>\n",
       "<style scoped>\n",
       "    .dataframe tbody tr th:only-of-type {\n",
       "        vertical-align: middle;\n",
       "    }\n",
       "\n",
       "    .dataframe tbody tr th {\n",
       "        vertical-align: top;\n",
       "    }\n",
       "\n",
       "    .dataframe thead th {\n",
       "        text-align: right;\n",
       "    }\n",
       "</style>\n",
       "<table border=\"1\" class=\"dataframe\">\n",
       "  <thead>\n",
       "    <tr style=\"text-align: right;\">\n",
       "      <th></th>\n",
       "      <th>Book-Title</th>\n",
       "      <th>Image-URL-L</th>\n",
       "    </tr>\n",
       "  </thead>\n",
       "  <tbody>\n",
       "    <tr>\n",
       "      <th>6811</th>\n",
       "      <td>The Tao of Pooh</td>\n",
       "      <td>http://images.amazon.com/images/P/0140067477.01.LZZZZZZZ.jpg</td>\n",
       "    </tr>\n",
       "    <tr>\n",
       "      <th>33204</th>\n",
       "      <td>Back Roads</td>\n",
       "      <td>http://images.amazon.com/images/P/0451202341.01.LZZZZZZZ.jpg</td>\n",
       "    </tr>\n",
       "    <tr>\n",
       "      <th>81233</th>\n",
       "      <td>Lord of the Flies</td>\n",
       "      <td>http://images.amazon.com/images/P/0399501487.01.LZZZZZZZ.jpg</td>\n",
       "    </tr>\n",
       "    <tr>\n",
       "      <th>120168</th>\n",
       "      <td>The Bonesetter's Daughter</td>\n",
       "      <td>http://images.amazon.com/images/P/0399146431.01.LZZZZZZZ.jpg</td>\n",
       "    </tr>\n",
       "    <tr>\n",
       "      <th>187646</th>\n",
       "      <td>The Tao of Pooh</td>\n",
       "      <td>http://images.amazon.com/images/P/0525244581.01.LZZZZZZZ.jpg</td>\n",
       "    </tr>\n",
       "  </tbody>\n",
       "</table>\n",
       "</div>"
      ],
      "text/plain": [
       "                       Book-Title  \\\n",
       "6811              The Tao of Pooh   \n",
       "33204                  Back Roads   \n",
       "81233           Lord of the Flies   \n",
       "120168  The Bonesetter's Daughter   \n",
       "187646            The Tao of Pooh   \n",
       "\n",
       "                                                         Image-URL-L  \n",
       "6811    http://images.amazon.com/images/P/0140067477.01.LZZZZZZZ.jpg  \n",
       "33204   http://images.amazon.com/images/P/0451202341.01.LZZZZZZZ.jpg  \n",
       "81233   http://images.amazon.com/images/P/0399501487.01.LZZZZZZZ.jpg  \n",
       "120168  http://images.amazon.com/images/P/0399146431.01.LZZZZZZZ.jpg  \n",
       "187646  http://images.amazon.com/images/P/0525244581.01.LZZZZZZZ.jpg  "
      ]
     },
     "execution_count": 196,
     "metadata": {},
     "output_type": "execute_result"
    }
   ],
   "source": [
    "df_rec2[1:6]"
   ]
  },
  {
   "cell_type": "markdown",
   "metadata": {},
   "source": [
    "### 4.2.1 -  User based"
   ]
  },
  {
   "cell_type": "code",
   "execution_count": 68,
   "metadata": {},
   "outputs": [],
   "source": [
    "def prRed(text):\n",
    "    print(f\"\\033[91m{text}\\033[0m\")\n",
    "    \n",
    "def prGreen(text):\n",
    "    print(f\"\\033[92m{text}\\033[0m\")"
   ]
  },
  {
   "cell_type": "code",
   "execution_count": 69,
   "metadata": {},
   "outputs": [],
   "source": [
    "new_df=df[df['User-ID'].map(df['User-ID'].value_counts()) > 100] \n",
    "users_matrix=new_df.pivot_table(index=[\"User-ID\"],columns=[\"Book-Title\"],values=\"Book-Rating\")\n",
    "users_matrix.fillna(0, inplace=True)"
   ]
  },
  {
   "cell_type": "code",
   "execution_count": 70,
   "metadata": {},
   "outputs": [],
   "source": [
    "def user_based_coll_rs(user_id):\n",
    "    \"\"\"\n",
    "    Recommend books to a user based on the preferences of similar users using user-based collaborative filtering.\n",
    "\n",
    "    Parameters:\n",
    "    user_id (int): The ID of the user for whom recommendations are to be made.\n",
    "\n",
    "    The function first identifies the top 10 favorite books of the given user based on their ratings. \n",
    "    It then finds users who have similar tastes using cosine similarity on a user-item matrix. \n",
    "    Finally, it recommends books that similar users have rated highly but the given user has not yet read.\n",
    "    \"\"\"\n",
    "    users_fav=new_df[new_df[\"User-ID\"]==user_id].sort_values([\"Book-Rating\"],ascending=False)[0:10]\n",
    "    \n",
    "    print(\"Your Top Favorite books: \\n\")\n",
    "\n",
    "    for book in users_fav['Book-Title']:\n",
    "        \n",
    "        prRed(book)\n",
    "        print(\"Rating\", end='->')\n",
    "        print(round(df[df['Book-Title'] == book]['Book-Rating'].mean(), 2))\n",
    "        print(\"-\"*50)\n",
    "        \n",
    "    print(\"\\n\\n\")\n",
    "    \n",
    "    index=np.where(users_matrix.index==user_id)[0][0]\n",
    "    \n",
    "    similarity=cosine_similarity(users_matrix)\n",
    "    similar_users = list(enumerate(similarity[index]))\n",
    "    similar_users = sorted(similar_users,key = lambda x:x[1],reverse=True)[0:5]\n",
    "    \n",
    "    users_id=[]\n",
    "    \n",
    "    for i in similar_users:\n",
    "        \n",
    "            data=df[df[\"User-ID\"]==users_matrix.index[i[0]]]\n",
    "            users_id.extend(list(data.drop_duplicates(\"User-ID\")[\"User-ID\"].values))\n",
    "\n",
    "\n",
    "    x=new_df[new_df[\"User-ID\"]==user_id]\n",
    "    recommend_books=[]\n",
    "    user=list(users_id)\n",
    "    \n",
    "    for i in user:\n",
    "        \n",
    "        y=new_df[(new_df[\"User-ID\"]==i)]\n",
    "        sim_books=y.loc[~y[\"Book-Title\"].isin(x[\"Book-Title\"]),:]\n",
    "        sim_books=sim_books.sort_values([\"Book-Rating\"],ascending=False)[0:5]\n",
    "        recommend_books.extend(sim_books[\"Book-Title\"].values)\n",
    "    \n",
    "    print(\"Recommended for you: \\n\")\n",
    "        \n",
    "    for book in recommend_books:\n",
    "        prGreen(book)\n",
    "        print(\"Rating\",end='->')\n",
    "        print(round(df[df['Book-Title'] == book]['Book-Rating'].mean(),2))\n",
    "        print(\"-\"*50)"
   ]
  },
  {
   "cell_type": "code",
   "execution_count": 71,
   "metadata": {},
   "outputs": [
    {
     "name": "stdout",
     "output_type": "stream",
     "text": [
      "Your Top Favorite books: \n",
      "\n",
      "\u001b[91mThe Grapes of Wrath John Steinbeck Centennial Edition 1902 2002\u001b[0m\n",
      "Rating->8.46\n",
      "--------------------------------------------------\n",
      "\u001b[91mShadows and Light\u001b[0m\n",
      "Rating->8.71\n",
      "--------------------------------------------------\n",
      "\u001b[91mMonkey Sonatas\u001b[0m\n",
      "Rating->10.0\n",
      "--------------------------------------------------\n",
      "\u001b[91mThe Hobbit and The Lord of the Rings\u001b[0m\n",
      "Rating->8.5\n",
      "--------------------------------------------------\n",
      "\u001b[91mThe Invisible Ring\u001b[0m\n",
      "Rating->8.14\n",
      "--------------------------------------------------\n",
      "\u001b[91mBroken Blade The Rune Blade Trilogy Book 3\u001b[0m\n",
      "Rating->9.0\n",
      "--------------------------------------------------\n",
      "\u001b[91mCharlie and the Chocolate Factory\u001b[0m\n",
      "Rating->8.74\n",
      "--------------------------------------------------\n",
      "\u001b[91mTiger Burning Bright\u001b[0m\n",
      "Rating->7.8\n",
      "--------------------------------------------------\n",
      "\u001b[91mSpeaker for Dead Ender 2 Valorous Ender Wiggins Saga Paperback\u001b[0m\n",
      "Rating->9.25\n",
      "--------------------------------------------------\n",
      "\u001b[91mThe Discipline Book How to Have a Better Behaved Child From Birth to Age Ten\u001b[0m\n",
      "Rating->9.33\n",
      "--------------------------------------------------\n",
      "\n",
      "\n",
      "\n",
      "Recommended for you: \n",
      "\n",
      "\u001b[92mThe Stories of Hans Christian Andersen A New Translation from the Danish\u001b[0m\n",
      "Rating->10.0\n",
      "--------------------------------------------------\n",
      "\u001b[92mChillida 1948 1998\u001b[0m\n",
      "Rating->9.0\n",
      "--------------------------------------------------\n",
      "\u001b[92mMiddlesex A Novel\u001b[0m\n",
      "Rating->8.22\n",
      "--------------------------------------------------\n",
      "\u001b[92mGreek Grammar\u001b[0m\n",
      "Rating->9.33\n",
      "--------------------------------------------------\n",
      "\u001b[92mMaps in a Mirror Maps in a Mirror\u001b[0m\n",
      "Rating->7.0\n",
      "--------------------------------------------------\n",
      "\u001b[92mNight Mare Xanth Novels Paperback\u001b[0m\n",
      "Rating->7.75\n",
      "--------------------------------------------------\n",
      "\u001b[92mThe Magicians of Night\u001b[0m\n",
      "Rating->10.0\n",
      "--------------------------------------------------\n",
      "\u001b[92mFifth Quarter Daw Book Collectors\u001b[0m\n",
      "Rating->7.43\n",
      "--------------------------------------------------\n",
      "\u001b[92mNo Quarter Daw Book Collectors\u001b[0m\n",
      "Rating->7.8\n",
      "--------------------------------------------------\n",
      "\u001b[92mThe White Gryphon\u001b[0m\n",
      "Rating->7.67\n",
      "--------------------------------------------------\n",
      "\u001b[92mKrazy Kat\u001b[0m\n",
      "Rating->10.0\n",
      "--------------------------------------------------\n",
      "\u001b[92mSin City\u001b[0m\n",
      "Rating->7.0\n",
      "--------------------------------------------------\n",
      "\u001b[92mL Incal tome 2 L Incal lumiÃ Â re\u001b[0m\n",
      "Rating->10.0\n",
      "--------------------------------------------------\n",
      "\u001b[92mElektra Lives Again\u001b[0m\n",
      "Rating->10.0\n",
      "--------------------------------------------------\n",
      "\u001b[92mSpirou et Fantasio tome 15 Z comme Zorglub\u001b[0m\n",
      "Rating->8.5\n",
      "--------------------------------------------------\n",
      "\u001b[92mThe Smiling Pets Recipe Book 101 Easy Make Treats Five Minutes or Less Prep Time\u001b[0m\n",
      "Rating->10.0\n",
      "--------------------------------------------------\n",
      "\u001b[92mMerriam Webster Dictionary\u001b[0m\n",
      "Rating->10.0\n",
      "--------------------------------------------------\n",
      "\u001b[92mThe Art Of Rubber Stamping\u001b[0m\n",
      "Rating->10.0\n",
      "--------------------------------------------------\n",
      "\u001b[92mThe Last Goodie A Novel\u001b[0m\n",
      "Rating->10.0\n",
      "--------------------------------------------------\n",
      "\u001b[92mThe Continuing Mission Star Trek The Next Generation\u001b[0m\n",
      "Rating->9.5\n",
      "--------------------------------------------------\n"
     ]
    }
   ],
   "source": [
    "user_based_coll_rs(2033)"
   ]
  },
  {
   "cell_type": "markdown",
   "metadata": {},
   "source": [
    "## 4.3 - **Content Based Filtering**"
   ]
  },
  {
   "cell_type": "code",
   "execution_count": 72,
   "metadata": {},
   "outputs": [],
   "source": [
    "from sklearn.feature_extraction.text import CountVectorizer\n",
    "\n",
    "def content_based(book_title):    \n",
    "    \"\"\"\n",
    "    Recommend books similar to a given book title using a content-based filtering approach.\n",
    "\n",
    "    Parameters:\n",
    "    book_title (str): The title of the book for which recommendations are to be made.\n",
    "\n",
    "    The function checks if the book exists in the library. If it is a rare book, it suggests popular books.\n",
    "    If the book is common, it finds and recommends similar books based on the combined features of \n",
    "    book title, author, and publisher. It uses CountVectorizer to vectorize these features and \n",
    "    cosine similarity to find similar books.\n",
    "    \"\"\"\n",
    "    book_title = str(book_title)\n",
    "\n",
    "    if book_title in books_with_ratings[\"Book-Title\"].values:\n",
    "        count_rate = pd.DataFrame(books_with_ratings[\"Book-Title\"].value_counts())\n",
    "        count_rate = pd.DataFrame(df[\"Book-Title\"].value_counts()).rename(columns={\"count\": \"Book-Title\"})\n",
    "        rare_books = count_rate[count_rate[\"Book-Title\"]<=200].index\n",
    "\n",
    "        common_books = books_with_ratings[~books_with_ratings[\"Book-Title\"].isin(rare_books)]\n",
    "\n",
    "        if book_title in rare_books:\n",
    "            print(\"A rare book, so u may try our popular books: \\n\")\n",
    "            popular_books()\n",
    "\n",
    "        else:\n",
    "\n",
    "            common_books=common_books.drop_duplicates(subset=[\"Book-Title\"])\n",
    "            common_books.reset_index(inplace=True)\n",
    "            \n",
    "            common_books[\"index\"]=[i for i in range(common_books.shape[0])]\n",
    "\n",
    "\n",
    "            common_books['Book-Title'] = common_books['Book-Title'].astype('object')\n",
    "            common_books['Book-Author'] = common_books['Book-Author'].astype('object')\n",
    "            common_books['Publisher'] = common_books['Publisher'].astype('object')\n",
    "\n",
    "            targets = [\"Book-Title\",\"Book-Author\",\"Publisher\"]\n",
    "            common_books[\"all_features\"] = [\" \".join(common_books[targets].iloc[i,].values) for i in range(common_books[targets].shape[0])]\n",
    "\n",
    "            vectorizer = CountVectorizer()\n",
    "            common_booksVector = vectorizer.fit_transform(common_books[\"all_features\"])\n",
    "\n",
    "            similarity= cosine_similarity(common_booksVector)\n",
    "            index = common_books[common_books[\"Book-Title\"] == book_title][\"index\"].values[0]\n",
    "            similar_books=list(enumerate(similarity[index]))\n",
    "            similar_booksSorted = sorted(similar_books, key=lambda x:x[1], reverse=True)[1:6]\n",
    "            r_books = []\n",
    "\n",
    "            for i in range(len(similar_booksSorted)):\n",
    "                r_books.append(common_books[common_books[\"index\"] == similar_booksSorted[i][0]][\"Book-Title\"].item())\n",
    "\n",
    "            prYellow(f\"Recommended Books similar to {book_title}:\\n\")\n",
    "            for book in r_books:\n",
    "                prGreen(book)\n",
    "                print(\"Rating\",end='->')\n",
    "                print(round(df[df['Book-Title'] == book]['Book-Rating'].mean(), 2))\n",
    "                #print(\"-\"*50)\n",
    "\n",
    "    else:\n",
    "        prRed(\"This book is not in our library, check out our most popular books:\")\n",
    "        print()\n",
    "        popular_books()"
   ]
  },
  {
   "cell_type": "code",
   "execution_count": 73,
   "metadata": {},
   "outputs": [
    {
     "data": {
      "text/html": [
       "<div>\n",
       "<style scoped>\n",
       "    .dataframe tbody tr th:only-of-type {\n",
       "        vertical-align: middle;\n",
       "    }\n",
       "\n",
       "    .dataframe tbody tr th {\n",
       "        vertical-align: top;\n",
       "    }\n",
       "\n",
       "    .dataframe thead th {\n",
       "        text-align: right;\n",
       "    }\n",
       "</style>\n",
       "<table border=\"1\" class=\"dataframe\">\n",
       "  <thead>\n",
       "    <tr style=\"text-align: right;\">\n",
       "      <th></th>\n",
       "      <th>ISBN</th>\n",
       "      <th>Book-Title</th>\n",
       "      <th>Book-Author</th>\n",
       "      <th>Publisher</th>\n",
       "      <th>Image-URL-S</th>\n",
       "      <th>Image-URL-M</th>\n",
       "      <th>Image-URL-L</th>\n",
       "      <th>Publication_Date</th>\n",
       "      <th>Year-Of-Publication</th>\n",
       "    </tr>\n",
       "  </thead>\n",
       "  <tbody>\n",
       "    <tr>\n",
       "      <th>118</th>\n",
       "      <td>0671027360</td>\n",
       "      <td>Angels &amp;amp; Demons</td>\n",
       "      <td>Dan Brown</td>\n",
       "      <td>Pocket Star</td>\n",
       "      <td>http://images.amazon.com/images/P/0671027360.0...</td>\n",
       "      <td>http://images.amazon.com/images/P/0671027360.0...</td>\n",
       "      <td>http://images.amazon.com/images/P/0671027360.0...</td>\n",
       "      <td>2001-01-01</td>\n",
       "      <td>2001.0</td>\n",
       "    </tr>\n",
       "    <tr>\n",
       "      <th>239</th>\n",
       "      <td>0743486226</td>\n",
       "      <td>Angels &amp;amp; Demons</td>\n",
       "      <td>Dan Brown</td>\n",
       "      <td>Atria</td>\n",
       "      <td>http://images.amazon.com/images/P/0743486226.0...</td>\n",
       "      <td>http://images.amazon.com/images/P/0743486226.0...</td>\n",
       "      <td>http://images.amazon.com/images/P/0743486226.0...</td>\n",
       "      <td>2003-01-01</td>\n",
       "      <td>2003.0</td>\n",
       "    </tr>\n",
       "    <tr>\n",
       "      <th>28002</th>\n",
       "      <td>0671027352</td>\n",
       "      <td>Angels &amp;amp; Demons</td>\n",
       "      <td>Dan Brown</td>\n",
       "      <td>Atria</td>\n",
       "      <td>http://images.amazon.com/images/P/0671027352.0...</td>\n",
       "      <td>http://images.amazon.com/images/P/0671027352.0...</td>\n",
       "      <td>http://images.amazon.com/images/P/0671027352.0...</td>\n",
       "      <td>2000-01-01</td>\n",
       "      <td>2000.0</td>\n",
       "    </tr>\n",
       "    <tr>\n",
       "      <th>36935</th>\n",
       "      <td>0743535774</td>\n",
       "      <td>Angels &amp;amp; Demons</td>\n",
       "      <td>Dan Brown</td>\n",
       "      <td>Audioworks</td>\n",
       "      <td>http://images.amazon.com/images/P/0743535774.0...</td>\n",
       "      <td>http://images.amazon.com/images/P/0743535774.0...</td>\n",
       "      <td>http://images.amazon.com/images/P/0743535774.0...</td>\n",
       "      <td>2003-01-01</td>\n",
       "      <td>2003.0</td>\n",
       "    </tr>\n",
       "    <tr>\n",
       "      <th>163541</th>\n",
       "      <td>0743535766</td>\n",
       "      <td>Angels &amp;amp; Demons</td>\n",
       "      <td>Dan Brown</td>\n",
       "      <td>Simon &amp;amp; Schuster Audio</td>\n",
       "      <td>http://images.amazon.com/images/P/0743535766.0...</td>\n",
       "      <td>http://images.amazon.com/images/P/0743535766.0...</td>\n",
       "      <td>http://images.amazon.com/images/P/0743535766.0...</td>\n",
       "      <td>2003-01-01</td>\n",
       "      <td>2003.0</td>\n",
       "    </tr>\n",
       "  </tbody>\n",
       "</table>\n",
       "</div>"
      ],
      "text/plain": [
       "              ISBN           Book-Title Book-Author  \\\n",
       "118     0671027360  Angels &amp; Demons   Dan Brown   \n",
       "239     0743486226  Angels &amp; Demons   Dan Brown   \n",
       "28002   0671027352  Angels &amp; Demons   Dan Brown   \n",
       "36935   0743535774  Angels &amp; Demons   Dan Brown   \n",
       "163541  0743535766  Angels &amp; Demons   Dan Brown   \n",
       "\n",
       "                         Publisher  \\\n",
       "118                    Pocket Star   \n",
       "239                          Atria   \n",
       "28002                        Atria   \n",
       "36935                   Audioworks   \n",
       "163541  Simon &amp; Schuster Audio   \n",
       "\n",
       "                                              Image-URL-S  \\\n",
       "118     http://images.amazon.com/images/P/0671027360.0...   \n",
       "239     http://images.amazon.com/images/P/0743486226.0...   \n",
       "28002   http://images.amazon.com/images/P/0671027352.0...   \n",
       "36935   http://images.amazon.com/images/P/0743535774.0...   \n",
       "163541  http://images.amazon.com/images/P/0743535766.0...   \n",
       "\n",
       "                                              Image-URL-M  \\\n",
       "118     http://images.amazon.com/images/P/0671027360.0...   \n",
       "239     http://images.amazon.com/images/P/0743486226.0...   \n",
       "28002   http://images.amazon.com/images/P/0671027352.0...   \n",
       "36935   http://images.amazon.com/images/P/0743535774.0...   \n",
       "163541  http://images.amazon.com/images/P/0743535766.0...   \n",
       "\n",
       "                                              Image-URL-L Publication_Date  \\\n",
       "118     http://images.amazon.com/images/P/0671027360.0...       2001-01-01   \n",
       "239     http://images.amazon.com/images/P/0743486226.0...       2003-01-01   \n",
       "28002   http://images.amazon.com/images/P/0671027352.0...       2000-01-01   \n",
       "36935   http://images.amazon.com/images/P/0743535774.0...       2003-01-01   \n",
       "163541  http://images.amazon.com/images/P/0743535766.0...       2003-01-01   \n",
       "\n",
       "        Year-Of-Publication  \n",
       "118                  2001.0  \n",
       "239                  2003.0  \n",
       "28002                2000.0  \n",
       "36935                2003.0  \n",
       "163541               2003.0  "
      ]
     },
     "execution_count": 73,
     "metadata": {},
     "output_type": "execute_result"
    }
   ],
   "source": [
    "book_title = \"Angels &amp; Demons\"\n",
    "books_df[books_df[\"Book-Title\"] == book_title]"
   ]
  },
  {
   "cell_type": "code",
   "execution_count": 74,
   "metadata": {},
   "outputs": [],
   "source": [
    "# content_based(\"Harry Potter and the Chamber of Secrets (Book 2)\")"
   ]
  },
  {
   "cell_type": "code",
   "execution_count": 75,
   "metadata": {},
   "outputs": [],
   "source": [
    "# content_based(\"Harry Potter and the Chamber of Secrets (Book 2)\")"
   ]
  },
  {
   "cell_type": "markdown",
   "metadata": {},
   "source": [
    "### 4.4 - **KNN based recommendation system** - Collaborative Filtering"
   ]
  },
  {
   "cell_type": "markdown",
   "metadata": {},
   "source": [
    "**Preprocess the dataset by removing users with fewer than 200 ratings and books with fewer than 100 ratings,\n",
    "then pivot the ratings table for use in the KNN model.**"
   ]
  },
  {
   "cell_type": "code",
   "execution_count": 198,
   "metadata": {},
   "outputs": [],
   "source": [
    "from scipy.sparse import csr_matrix\n",
    "from sklearn.neighbors import NearestNeighbors\n",
    "\n",
    "import warnings\n",
    "warnings.filterwarnings(\"ignore\")\n",
    "pd.set_option(\"display.max_colwidth\", None)"
   ]
  },
  {
   "cell_type": "code",
   "execution_count": 199,
   "metadata": {},
   "outputs": [
    {
     "data": {
      "text/html": [
       "<div>\n",
       "<style scoped>\n",
       "    .dataframe tbody tr th:only-of-type {\n",
       "        vertical-align: middle;\n",
       "    }\n",
       "\n",
       "    .dataframe tbody tr th {\n",
       "        vertical-align: top;\n",
       "    }\n",
       "\n",
       "    .dataframe thead th {\n",
       "        text-align: right;\n",
       "    }\n",
       "</style>\n",
       "<table border=\"1\" class=\"dataframe\">\n",
       "  <thead>\n",
       "    <tr style=\"text-align: right;\">\n",
       "      <th></th>\n",
       "      <th>ISBN</th>\n",
       "      <th>Book-Title</th>\n",
       "      <th>Book-Author</th>\n",
       "      <th>Publisher</th>\n",
       "      <th>Image-URL-S</th>\n",
       "      <th>Image-URL-M</th>\n",
       "      <th>Image-URL-L</th>\n",
       "      <th>Publication_Date</th>\n",
       "      <th>Year-Of-Publication</th>\n",
       "    </tr>\n",
       "  </thead>\n",
       "  <tbody>\n",
       "    <tr>\n",
       "      <th>0</th>\n",
       "      <td>0195153448</td>\n",
       "      <td>Classical Mythology</td>\n",
       "      <td>Mark P. O. Morford</td>\n",
       "      <td>Oxford University Press</td>\n",
       "      <td>http://images.amazon.com/images/P/0195153448.01.THUMBZZZ.jpg</td>\n",
       "      <td>http://images.amazon.com/images/P/0195153448.01.MZZZZZZZ.jpg</td>\n",
       "      <td>http://images.amazon.com/images/P/0195153448.01.LZZZZZZZ.jpg</td>\n",
       "      <td>2002-01-01</td>\n",
       "      <td>2002.0</td>\n",
       "    </tr>\n",
       "    <tr>\n",
       "      <th>1</th>\n",
       "      <td>0002005018</td>\n",
       "      <td>Clara Callan</td>\n",
       "      <td>Richard Bruce Wright</td>\n",
       "      <td>HarperFlamingo Canada</td>\n",
       "      <td>http://images.amazon.com/images/P/0002005018.01.THUMBZZZ.jpg</td>\n",
       "      <td>http://images.amazon.com/images/P/0002005018.01.MZZZZZZZ.jpg</td>\n",
       "      <td>http://images.amazon.com/images/P/0002005018.01.LZZZZZZZ.jpg</td>\n",
       "      <td>2001-01-01</td>\n",
       "      <td>2001.0</td>\n",
       "    </tr>\n",
       "    <tr>\n",
       "      <th>2</th>\n",
       "      <td>0060973129</td>\n",
       "      <td>Decision in Normandy</td>\n",
       "      <td>Carlo D'Este</td>\n",
       "      <td>HarperPerennial</td>\n",
       "      <td>http://images.amazon.com/images/P/0060973129.01.THUMBZZZ.jpg</td>\n",
       "      <td>http://images.amazon.com/images/P/0060973129.01.MZZZZZZZ.jpg</td>\n",
       "      <td>http://images.amazon.com/images/P/0060973129.01.LZZZZZZZ.jpg</td>\n",
       "      <td>1991-01-01</td>\n",
       "      <td>1991.0</td>\n",
       "    </tr>\n",
       "    <tr>\n",
       "      <th>3</th>\n",
       "      <td>0374157065</td>\n",
       "      <td>Flu: The Story of the Great Influenza Pandemic of 1918 and the Search for the Virus That Caused It</td>\n",
       "      <td>Gina Bari Kolata</td>\n",
       "      <td>Farrar Straus Giroux</td>\n",
       "      <td>http://images.amazon.com/images/P/0374157065.01.THUMBZZZ.jpg</td>\n",
       "      <td>http://images.amazon.com/images/P/0374157065.01.MZZZZZZZ.jpg</td>\n",
       "      <td>http://images.amazon.com/images/P/0374157065.01.LZZZZZZZ.jpg</td>\n",
       "      <td>1999-01-01</td>\n",
       "      <td>1999.0</td>\n",
       "    </tr>\n",
       "    <tr>\n",
       "      <th>4</th>\n",
       "      <td>0393045218</td>\n",
       "      <td>The Mummies of Urumchi</td>\n",
       "      <td>E. J. W. Barber</td>\n",
       "      <td>W. W. Norton &amp;amp; Company</td>\n",
       "      <td>http://images.amazon.com/images/P/0393045218.01.THUMBZZZ.jpg</td>\n",
       "      <td>http://images.amazon.com/images/P/0393045218.01.MZZZZZZZ.jpg</td>\n",
       "      <td>http://images.amazon.com/images/P/0393045218.01.LZZZZZZZ.jpg</td>\n",
       "      <td>1999-01-01</td>\n",
       "      <td>1999.0</td>\n",
       "    </tr>\n",
       "    <tr>\n",
       "      <th>...</th>\n",
       "      <td>...</td>\n",
       "      <td>...</td>\n",
       "      <td>...</td>\n",
       "      <td>...</td>\n",
       "      <td>...</td>\n",
       "      <td>...</td>\n",
       "      <td>...</td>\n",
       "      <td>...</td>\n",
       "      <td>...</td>\n",
       "    </tr>\n",
       "    <tr>\n",
       "      <th>271355</th>\n",
       "      <td>0440400988</td>\n",
       "      <td>There's a Bat in Bunk Five</td>\n",
       "      <td>Paula Danziger</td>\n",
       "      <td>Random House Childrens Pub (Mm)</td>\n",
       "      <td>http://images.amazon.com/images/P/0440400988.01.THUMBZZZ.jpg</td>\n",
       "      <td>http://images.amazon.com/images/P/0440400988.01.MZZZZZZZ.jpg</td>\n",
       "      <td>http://images.amazon.com/images/P/0440400988.01.LZZZZZZZ.jpg</td>\n",
       "      <td>1988-01-01</td>\n",
       "      <td>1988.0</td>\n",
       "    </tr>\n",
       "    <tr>\n",
       "      <th>271356</th>\n",
       "      <td>0525447644</td>\n",
       "      <td>From One to One Hundred</td>\n",
       "      <td>Teri Sloat</td>\n",
       "      <td>Dutton Books</td>\n",
       "      <td>http://images.amazon.com/images/P/0525447644.01.THUMBZZZ.jpg</td>\n",
       "      <td>http://images.amazon.com/images/P/0525447644.01.MZZZZZZZ.jpg</td>\n",
       "      <td>http://images.amazon.com/images/P/0525447644.01.LZZZZZZZ.jpg</td>\n",
       "      <td>1991-01-01</td>\n",
       "      <td>1991.0</td>\n",
       "    </tr>\n",
       "    <tr>\n",
       "      <th>271357</th>\n",
       "      <td>006008667X</td>\n",
       "      <td>Lily Dale : The True Story of the Town that Talks to the Dead</td>\n",
       "      <td>Christine Wicker</td>\n",
       "      <td>HarperSanFrancisco</td>\n",
       "      <td>http://images.amazon.com/images/P/006008667X.01.THUMBZZZ.jpg</td>\n",
       "      <td>http://images.amazon.com/images/P/006008667X.01.MZZZZZZZ.jpg</td>\n",
       "      <td>http://images.amazon.com/images/P/006008667X.01.LZZZZZZZ.jpg</td>\n",
       "      <td>2004-01-01</td>\n",
       "      <td>2004.0</td>\n",
       "    </tr>\n",
       "    <tr>\n",
       "      <th>271358</th>\n",
       "      <td>0192126040</td>\n",
       "      <td>Republic (World's Classics)</td>\n",
       "      <td>Plato</td>\n",
       "      <td>Oxford University Press</td>\n",
       "      <td>http://images.amazon.com/images/P/0192126040.01.THUMBZZZ.jpg</td>\n",
       "      <td>http://images.amazon.com/images/P/0192126040.01.MZZZZZZZ.jpg</td>\n",
       "      <td>http://images.amazon.com/images/P/0192126040.01.LZZZZZZZ.jpg</td>\n",
       "      <td>1996-01-01</td>\n",
       "      <td>1996.0</td>\n",
       "    </tr>\n",
       "    <tr>\n",
       "      <th>271359</th>\n",
       "      <td>0767409752</td>\n",
       "      <td>A Guided Tour of Rene Descartes' Meditations on First Philosophy with Complete Translations of the Meditations by Ronald Rubin</td>\n",
       "      <td>Christopher  Biffle</td>\n",
       "      <td>McGraw-Hill Humanities/Social Sciences/Languages</td>\n",
       "      <td>http://images.amazon.com/images/P/0767409752.01.THUMBZZZ.jpg</td>\n",
       "      <td>http://images.amazon.com/images/P/0767409752.01.MZZZZZZZ.jpg</td>\n",
       "      <td>http://images.amazon.com/images/P/0767409752.01.LZZZZZZZ.jpg</td>\n",
       "      <td>2000-01-01</td>\n",
       "      <td>2000.0</td>\n",
       "    </tr>\n",
       "  </tbody>\n",
       "</table>\n",
       "<p>271341 rows × 9 columns</p>\n",
       "</div>"
      ],
      "text/plain": [
       "              ISBN  \\\n",
       "0       0195153448   \n",
       "1       0002005018   \n",
       "2       0060973129   \n",
       "3       0374157065   \n",
       "4       0393045218   \n",
       "...            ...   \n",
       "271355  0440400988   \n",
       "271356  0525447644   \n",
       "271357  006008667X   \n",
       "271358  0192126040   \n",
       "271359  0767409752   \n",
       "\n",
       "                                                                                                                            Book-Title  \\\n",
       "0                                                                                                                  Classical Mythology   \n",
       "1                                                                                                                         Clara Callan   \n",
       "2                                                                                                                 Decision in Normandy   \n",
       "3                                   Flu: The Story of the Great Influenza Pandemic of 1918 and the Search for the Virus That Caused It   \n",
       "4                                                                                                               The Mummies of Urumchi   \n",
       "...                                                                                                                                ...   \n",
       "271355                                                                                                      There's a Bat in Bunk Five   \n",
       "271356                                                                                                         From One to One Hundred   \n",
       "271357                                                                   Lily Dale : The True Story of the Town that Talks to the Dead   \n",
       "271358                                                                                                     Republic (World's Classics)   \n",
       "271359  A Guided Tour of Rene Descartes' Meditations on First Philosophy with Complete Translations of the Meditations by Ronald Rubin   \n",
       "\n",
       "                 Book-Author  \\\n",
       "0         Mark P. O. Morford   \n",
       "1       Richard Bruce Wright   \n",
       "2               Carlo D'Este   \n",
       "3           Gina Bari Kolata   \n",
       "4            E. J. W. Barber   \n",
       "...                      ...   \n",
       "271355        Paula Danziger   \n",
       "271356            Teri Sloat   \n",
       "271357      Christine Wicker   \n",
       "271358                 Plato   \n",
       "271359   Christopher  Biffle   \n",
       "\n",
       "                                               Publisher  \\\n",
       "0                                Oxford University Press   \n",
       "1                                  HarperFlamingo Canada   \n",
       "2                                        HarperPerennial   \n",
       "3                                   Farrar Straus Giroux   \n",
       "4                             W. W. Norton &amp; Company   \n",
       "...                                                  ...   \n",
       "271355                   Random House Childrens Pub (Mm)   \n",
       "271356                                      Dutton Books   \n",
       "271357                                HarperSanFrancisco   \n",
       "271358                           Oxford University Press   \n",
       "271359  McGraw-Hill Humanities/Social Sciences/Languages   \n",
       "\n",
       "                                                         Image-URL-S  \\\n",
       "0       http://images.amazon.com/images/P/0195153448.01.THUMBZZZ.jpg   \n",
       "1       http://images.amazon.com/images/P/0002005018.01.THUMBZZZ.jpg   \n",
       "2       http://images.amazon.com/images/P/0060973129.01.THUMBZZZ.jpg   \n",
       "3       http://images.amazon.com/images/P/0374157065.01.THUMBZZZ.jpg   \n",
       "4       http://images.amazon.com/images/P/0393045218.01.THUMBZZZ.jpg   \n",
       "...                                                              ...   \n",
       "271355  http://images.amazon.com/images/P/0440400988.01.THUMBZZZ.jpg   \n",
       "271356  http://images.amazon.com/images/P/0525447644.01.THUMBZZZ.jpg   \n",
       "271357  http://images.amazon.com/images/P/006008667X.01.THUMBZZZ.jpg   \n",
       "271358  http://images.amazon.com/images/P/0192126040.01.THUMBZZZ.jpg   \n",
       "271359  http://images.amazon.com/images/P/0767409752.01.THUMBZZZ.jpg   \n",
       "\n",
       "                                                         Image-URL-M  \\\n",
       "0       http://images.amazon.com/images/P/0195153448.01.MZZZZZZZ.jpg   \n",
       "1       http://images.amazon.com/images/P/0002005018.01.MZZZZZZZ.jpg   \n",
       "2       http://images.amazon.com/images/P/0060973129.01.MZZZZZZZ.jpg   \n",
       "3       http://images.amazon.com/images/P/0374157065.01.MZZZZZZZ.jpg   \n",
       "4       http://images.amazon.com/images/P/0393045218.01.MZZZZZZZ.jpg   \n",
       "...                                                              ...   \n",
       "271355  http://images.amazon.com/images/P/0440400988.01.MZZZZZZZ.jpg   \n",
       "271356  http://images.amazon.com/images/P/0525447644.01.MZZZZZZZ.jpg   \n",
       "271357  http://images.amazon.com/images/P/006008667X.01.MZZZZZZZ.jpg   \n",
       "271358  http://images.amazon.com/images/P/0192126040.01.MZZZZZZZ.jpg   \n",
       "271359  http://images.amazon.com/images/P/0767409752.01.MZZZZZZZ.jpg   \n",
       "\n",
       "                                                         Image-URL-L  \\\n",
       "0       http://images.amazon.com/images/P/0195153448.01.LZZZZZZZ.jpg   \n",
       "1       http://images.amazon.com/images/P/0002005018.01.LZZZZZZZ.jpg   \n",
       "2       http://images.amazon.com/images/P/0060973129.01.LZZZZZZZ.jpg   \n",
       "3       http://images.amazon.com/images/P/0374157065.01.LZZZZZZZ.jpg   \n",
       "4       http://images.amazon.com/images/P/0393045218.01.LZZZZZZZ.jpg   \n",
       "...                                                              ...   \n",
       "271355  http://images.amazon.com/images/P/0440400988.01.LZZZZZZZ.jpg   \n",
       "271356  http://images.amazon.com/images/P/0525447644.01.LZZZZZZZ.jpg   \n",
       "271357  http://images.amazon.com/images/P/006008667X.01.LZZZZZZZ.jpg   \n",
       "271358  http://images.amazon.com/images/P/0192126040.01.LZZZZZZZ.jpg   \n",
       "271359  http://images.amazon.com/images/P/0767409752.01.LZZZZZZZ.jpg   \n",
       "\n",
       "       Publication_Date  Year-Of-Publication  \n",
       "0            2002-01-01               2002.0  \n",
       "1            2001-01-01               2001.0  \n",
       "2            1991-01-01               1991.0  \n",
       "3            1999-01-01               1999.0  \n",
       "4            1999-01-01               1999.0  \n",
       "...                 ...                  ...  \n",
       "271355       1988-01-01               1988.0  \n",
       "271356       1991-01-01               1991.0  \n",
       "271357       2004-01-01               2004.0  \n",
       "271358       1996-01-01               1996.0  \n",
       "271359       2000-01-01               2000.0  \n",
       "\n",
       "[271341 rows x 9 columns]"
      ]
     },
     "execution_count": 199,
     "metadata": {},
     "output_type": "execute_result"
    }
   ],
   "source": [
    "books_df"
   ]
  },
  {
   "cell_type": "code",
   "execution_count": 200,
   "metadata": {},
   "outputs": [],
   "source": [
    "# remove unwanted cols for our machine learning model\n",
    "books_df= books_df[[\"ISBN\",\"Book-Title\",\"Book-Author\",\"Image-URL-L\"]]"
   ]
  },
  {
   "cell_type": "code",
   "execution_count": 201,
   "metadata": {},
   "outputs": [
    {
     "data": {
      "text/plain": [
       "User-ID\n",
       "11676     13602\n",
       "198711     7550\n",
       "153662     6109\n",
       "98391      5891\n",
       "35859      5850\n",
       "Name: count, dtype: int64"
      ]
     },
     "execution_count": 201,
     "metadata": {},
     "output_type": "execute_result"
    }
   ],
   "source": [
    "#sort raings\n",
    "ratings = ratings_df[\"User-ID\"].value_counts()\n",
    "\n",
    "ratings.sort_values(ascending=False).head()"
   ]
  },
  {
   "cell_type": "code",
   "execution_count": 202,
   "metadata": {},
   "outputs": [
    {
     "data": {
      "text/plain": [
       "104378"
      ]
     },
     "execution_count": 202,
     "metadata": {},
     "output_type": "execute_result"
    }
   ],
   "source": [
    "len(ratings[ratings < 200])"
   ]
  },
  {
   "cell_type": "code",
   "execution_count": 203,
   "metadata": {},
   "outputs": [
    {
     "data": {
      "text/plain": [
       "622224"
      ]
     },
     "execution_count": 203,
     "metadata": {},
     "output_type": "execute_result"
    }
   ],
   "source": [
    "ratings_df[\"User-ID\"].isin(ratings[ratings < 200].index).sum()"
   ]
  },
  {
   "cell_type": "code",
   "execution_count": null,
   "metadata": {},
   "outputs": [],
   "source": []
  },
  {
   "cell_type": "code",
   "execution_count": 204,
   "metadata": {},
   "outputs": [
    {
     "data": {
      "text/plain": [
       "(527556, 3)"
      ]
     },
     "execution_count": 204,
     "metadata": {},
     "output_type": "execute_result"
    }
   ],
   "source": [
    "#Filter out users with fewer than 200 ratings \n",
    "df_ratings_rm = ratings_df[~ratings_df[\"User-ID\"].isin(ratings[ratings < 200].index)]\n",
    "\n",
    "df_ratings_rm.shape"
   ]
  },
  {
   "cell_type": "markdown",
   "metadata": {},
   "source": [
    "**Check books with less than 100 ratings**"
   ]
  },
  {
   "cell_type": "code",
   "execution_count": 205,
   "metadata": {},
   "outputs": [
    {
     "data": {
      "text/plain": [
       "ISBN\n",
       "0971880107    2502\n",
       "0316666343    1295\n",
       "0385504209     883\n",
       "0060928336     732\n",
       "0312195516     723\n",
       "Name: count, dtype: int64"
      ]
     },
     "execution_count": 205,
     "metadata": {},
     "output_type": "execute_result"
    }
   ],
   "source": [
    "ratings = ratings_df[\"ISBN\"].value_counts()\n",
    "\n",
    "ratings.sort_values(ascending=False).head()"
   ]
  },
  {
   "cell_type": "code",
   "execution_count": 206,
   "metadata": {},
   "outputs": [
    {
     "data": {
      "text/plain": [
       "339825"
      ]
     },
     "execution_count": 206,
     "metadata": {},
     "output_type": "execute_result"
    }
   ],
   "source": [
    "len(ratings[ratings < 100])"
   ]
  },
  {
   "cell_type": "code",
   "execution_count": 207,
   "metadata": {},
   "outputs": [
    {
     "data": {
      "text/plain": [
       "269405"
      ]
     },
     "execution_count": 207,
     "metadata": {},
     "output_type": "execute_result"
    }
   ],
   "source": [
    "books_df[\"ISBN\"].isin(ratings[ratings < 100].index).sum()"
   ]
  },
  {
   "cell_type": "code",
   "execution_count": 208,
   "metadata": {},
   "outputs": [
    {
     "data": {
      "text/plain": [
       "(49781, 3)"
      ]
     },
     "execution_count": 208,
     "metadata": {},
     "output_type": "execute_result"
    }
   ],
   "source": [
    "#Filter out books with fewer than 200 ratings\n",
    "df_ratings_rm = df_ratings_rm[~df_ratings_rm[\"ISBN\"].isin(ratings[ratings < 100].index)]\n",
    "\n",
    "df_ratings_rm.shape"
   ]
  },
  {
   "cell_type": "markdown",
   "metadata": {},
   "source": [
    "**Preprocess Dataset for machine learning**"
   ]
  },
  {
   "cell_type": "code",
   "execution_count": 209,
   "metadata": {
    "scrolled": true
   },
   "outputs": [
    {
     "data": {
      "text/html": [
       "<div>\n",
       "<style scoped>\n",
       "    .dataframe tbody tr th:only-of-type {\n",
       "        vertical-align: middle;\n",
       "    }\n",
       "\n",
       "    .dataframe tbody tr th {\n",
       "        vertical-align: top;\n",
       "    }\n",
       "\n",
       "    .dataframe thead th {\n",
       "        text-align: right;\n",
       "    }\n",
       "</style>\n",
       "<table border=\"1\" class=\"dataframe\">\n",
       "  <thead>\n",
       "    <tr style=\"text-align: right;\">\n",
       "      <th>User-ID</th>\n",
       "      <th>254</th>\n",
       "      <th>2276</th>\n",
       "      <th>2766</th>\n",
       "      <th>2977</th>\n",
       "      <th>3363</th>\n",
       "      <th>4017</th>\n",
       "      <th>4385</th>\n",
       "      <th>6242</th>\n",
       "      <th>6251</th>\n",
       "      <th>6323</th>\n",
       "      <th>...</th>\n",
       "      <th>274004</th>\n",
       "      <th>274061</th>\n",
       "      <th>274301</th>\n",
       "      <th>274308</th>\n",
       "      <th>274808</th>\n",
       "      <th>275970</th>\n",
       "      <th>277427</th>\n",
       "      <th>277478</th>\n",
       "      <th>277639</th>\n",
       "      <th>278418</th>\n",
       "    </tr>\n",
       "    <tr>\n",
       "      <th>ISBN</th>\n",
       "      <th></th>\n",
       "      <th></th>\n",
       "      <th></th>\n",
       "      <th></th>\n",
       "      <th></th>\n",
       "      <th></th>\n",
       "      <th></th>\n",
       "      <th></th>\n",
       "      <th></th>\n",
       "      <th></th>\n",
       "      <th></th>\n",
       "      <th></th>\n",
       "      <th></th>\n",
       "      <th></th>\n",
       "      <th></th>\n",
       "      <th></th>\n",
       "      <th></th>\n",
       "      <th></th>\n",
       "      <th></th>\n",
       "      <th></th>\n",
       "      <th></th>\n",
       "    </tr>\n",
       "  </thead>\n",
       "  <tbody>\n",
       "    <tr>\n",
       "      <th>002542730X</th>\n",
       "      <td>0.0</td>\n",
       "      <td>0.0</td>\n",
       "      <td>0.0</td>\n",
       "      <td>0.0</td>\n",
       "      <td>0.0</td>\n",
       "      <td>0.0</td>\n",
       "      <td>0.0</td>\n",
       "      <td>0.0</td>\n",
       "      <td>0.0</td>\n",
       "      <td>0.0</td>\n",
       "      <td>...</td>\n",
       "      <td>0.0</td>\n",
       "      <td>0.0</td>\n",
       "      <td>0.0</td>\n",
       "      <td>0.0</td>\n",
       "      <td>0.0</td>\n",
       "      <td>0.0</td>\n",
       "      <td>10.0</td>\n",
       "      <td>0.0</td>\n",
       "      <td>0.0</td>\n",
       "      <td>0.0</td>\n",
       "    </tr>\n",
       "    <tr>\n",
       "      <th>0060008032</th>\n",
       "      <td>0.0</td>\n",
       "      <td>0.0</td>\n",
       "      <td>0.0</td>\n",
       "      <td>0.0</td>\n",
       "      <td>0.0</td>\n",
       "      <td>0.0</td>\n",
       "      <td>0.0</td>\n",
       "      <td>0.0</td>\n",
       "      <td>0.0</td>\n",
       "      <td>0.0</td>\n",
       "      <td>...</td>\n",
       "      <td>0.0</td>\n",
       "      <td>0.0</td>\n",
       "      <td>0.0</td>\n",
       "      <td>0.0</td>\n",
       "      <td>0.0</td>\n",
       "      <td>0.0</td>\n",
       "      <td>0.0</td>\n",
       "      <td>0.0</td>\n",
       "      <td>0.0</td>\n",
       "      <td>0.0</td>\n",
       "    </tr>\n",
       "    <tr>\n",
       "      <th>0060096195</th>\n",
       "      <td>0.0</td>\n",
       "      <td>0.0</td>\n",
       "      <td>0.0</td>\n",
       "      <td>0.0</td>\n",
       "      <td>0.0</td>\n",
       "      <td>0.0</td>\n",
       "      <td>0.0</td>\n",
       "      <td>0.0</td>\n",
       "      <td>0.0</td>\n",
       "      <td>0.0</td>\n",
       "      <td>...</td>\n",
       "      <td>0.0</td>\n",
       "      <td>0.0</td>\n",
       "      <td>0.0</td>\n",
       "      <td>0.0</td>\n",
       "      <td>0.0</td>\n",
       "      <td>0.0</td>\n",
       "      <td>0.0</td>\n",
       "      <td>0.0</td>\n",
       "      <td>0.0</td>\n",
       "      <td>0.0</td>\n",
       "    </tr>\n",
       "    <tr>\n",
       "      <th>006016848X</th>\n",
       "      <td>0.0</td>\n",
       "      <td>0.0</td>\n",
       "      <td>0.0</td>\n",
       "      <td>0.0</td>\n",
       "      <td>0.0</td>\n",
       "      <td>0.0</td>\n",
       "      <td>0.0</td>\n",
       "      <td>0.0</td>\n",
       "      <td>0.0</td>\n",
       "      <td>0.0</td>\n",
       "      <td>...</td>\n",
       "      <td>0.0</td>\n",
       "      <td>0.0</td>\n",
       "      <td>0.0</td>\n",
       "      <td>0.0</td>\n",
       "      <td>0.0</td>\n",
       "      <td>0.0</td>\n",
       "      <td>0.0</td>\n",
       "      <td>0.0</td>\n",
       "      <td>0.0</td>\n",
       "      <td>0.0</td>\n",
       "    </tr>\n",
       "    <tr>\n",
       "      <th>0060173289</th>\n",
       "      <td>0.0</td>\n",
       "      <td>0.0</td>\n",
       "      <td>0.0</td>\n",
       "      <td>0.0</td>\n",
       "      <td>0.0</td>\n",
       "      <td>0.0</td>\n",
       "      <td>0.0</td>\n",
       "      <td>0.0</td>\n",
       "      <td>0.0</td>\n",
       "      <td>0.0</td>\n",
       "      <td>...</td>\n",
       "      <td>0.0</td>\n",
       "      <td>0.0</td>\n",
       "      <td>0.0</td>\n",
       "      <td>0.0</td>\n",
       "      <td>0.0</td>\n",
       "      <td>0.0</td>\n",
       "      <td>0.0</td>\n",
       "      <td>0.0</td>\n",
       "      <td>0.0</td>\n",
       "      <td>0.0</td>\n",
       "    </tr>\n",
       "  </tbody>\n",
       "</table>\n",
       "<p>5 rows × 888 columns</p>\n",
       "</div>"
      ],
      "text/plain": [
       "User-ID     254     2276    2766    2977    3363    4017    4385    6242    \\\n",
       "ISBN                                                                         \n",
       "002542730X     0.0     0.0     0.0     0.0     0.0     0.0     0.0     0.0   \n",
       "0060008032     0.0     0.0     0.0     0.0     0.0     0.0     0.0     0.0   \n",
       "0060096195     0.0     0.0     0.0     0.0     0.0     0.0     0.0     0.0   \n",
       "006016848X     0.0     0.0     0.0     0.0     0.0     0.0     0.0     0.0   \n",
       "0060173289     0.0     0.0     0.0     0.0     0.0     0.0     0.0     0.0   \n",
       "\n",
       "User-ID     6251    6323    ...  274004  274061  274301  274308  274808  \\\n",
       "ISBN                        ...                                           \n",
       "002542730X     0.0     0.0  ...     0.0     0.0     0.0     0.0     0.0   \n",
       "0060008032     0.0     0.0  ...     0.0     0.0     0.0     0.0     0.0   \n",
       "0060096195     0.0     0.0  ...     0.0     0.0     0.0     0.0     0.0   \n",
       "006016848X     0.0     0.0  ...     0.0     0.0     0.0     0.0     0.0   \n",
       "0060173289     0.0     0.0  ...     0.0     0.0     0.0     0.0     0.0   \n",
       "\n",
       "User-ID     275970  277427  277478  277639  278418  \n",
       "ISBN                                                \n",
       "002542730X     0.0    10.0     0.0     0.0     0.0  \n",
       "0060008032     0.0     0.0     0.0     0.0     0.0  \n",
       "0060096195     0.0     0.0     0.0     0.0     0.0  \n",
       "006016848X     0.0     0.0     0.0     0.0     0.0  \n",
       "0060173289     0.0     0.0     0.0     0.0     0.0  \n",
       "\n",
       "[5 rows x 888 columns]"
      ]
     },
     "execution_count": 209,
     "metadata": {},
     "output_type": "execute_result"
    }
   ],
   "source": [
    "df = df_ratings_rm.pivot_table(index=[\"User-ID\"], columns=[\"ISBN\"] ,values=\"Book-Rating\").fillna(0).T\n",
    "df.head()"
   ]
  },
  {
   "cell_type": "code",
   "execution_count": 210,
   "metadata": {},
   "outputs": [],
   "source": [
    "#Merge with book titles\n",
    "df.index = df.join(books_df.set_index(\"ISBN\"))[\"Book-Title\"]"
   ]
  },
  {
   "cell_type": "code",
   "execution_count": 211,
   "metadata": {},
   "outputs": [
    {
     "data": {
      "text/html": [
       "<div>\n",
       "<style scoped>\n",
       "    .dataframe tbody tr th:only-of-type {\n",
       "        vertical-align: middle;\n",
       "    }\n",
       "\n",
       "    .dataframe tbody tr th {\n",
       "        vertical-align: top;\n",
       "    }\n",
       "\n",
       "    .dataframe thead th {\n",
       "        text-align: right;\n",
       "    }\n",
       "</style>\n",
       "<table border=\"1\" class=\"dataframe\">\n",
       "  <thead>\n",
       "    <tr style=\"text-align: right;\">\n",
       "      <th>User-ID</th>\n",
       "      <th>254</th>\n",
       "      <th>2276</th>\n",
       "      <th>2766</th>\n",
       "      <th>2977</th>\n",
       "      <th>3363</th>\n",
       "      <th>4017</th>\n",
       "      <th>4385</th>\n",
       "      <th>6242</th>\n",
       "      <th>6251</th>\n",
       "      <th>6323</th>\n",
       "      <th>...</th>\n",
       "      <th>274004</th>\n",
       "      <th>274061</th>\n",
       "      <th>274301</th>\n",
       "      <th>274308</th>\n",
       "      <th>274808</th>\n",
       "      <th>275970</th>\n",
       "      <th>277427</th>\n",
       "      <th>277478</th>\n",
       "      <th>277639</th>\n",
       "      <th>278418</th>\n",
       "    </tr>\n",
       "    <tr>\n",
       "      <th>Book-Title</th>\n",
       "      <th></th>\n",
       "      <th></th>\n",
       "      <th></th>\n",
       "      <th></th>\n",
       "      <th></th>\n",
       "      <th></th>\n",
       "      <th></th>\n",
       "      <th></th>\n",
       "      <th></th>\n",
       "      <th></th>\n",
       "      <th></th>\n",
       "      <th></th>\n",
       "      <th></th>\n",
       "      <th></th>\n",
       "      <th></th>\n",
       "      <th></th>\n",
       "      <th></th>\n",
       "      <th></th>\n",
       "      <th></th>\n",
       "      <th></th>\n",
       "      <th></th>\n",
       "    </tr>\n",
       "  </thead>\n",
       "  <tbody>\n",
       "    <tr>\n",
       "      <th>1984</th>\n",
       "      <td>9.0</td>\n",
       "      <td>0.0</td>\n",
       "      <td>0.0</td>\n",
       "      <td>0.0</td>\n",
       "      <td>0.0</td>\n",
       "      <td>0.0</td>\n",
       "      <td>0.0</td>\n",
       "      <td>0.0</td>\n",
       "      <td>0.0</td>\n",
       "      <td>0.0</td>\n",
       "      <td>...</td>\n",
       "      <td>0.0</td>\n",
       "      <td>0.0</td>\n",
       "      <td>0.0</td>\n",
       "      <td>0.0</td>\n",
       "      <td>0.0</td>\n",
       "      <td>0.0</td>\n",
       "      <td>0.0</td>\n",
       "      <td>0.0</td>\n",
       "      <td>0.0</td>\n",
       "      <td>0.0</td>\n",
       "    </tr>\n",
       "    <tr>\n",
       "      <th>1st to Die: A Novel</th>\n",
       "      <td>0.0</td>\n",
       "      <td>0.0</td>\n",
       "      <td>0.0</td>\n",
       "      <td>0.0</td>\n",
       "      <td>0.0</td>\n",
       "      <td>0.0</td>\n",
       "      <td>0.0</td>\n",
       "      <td>0.0</td>\n",
       "      <td>0.0</td>\n",
       "      <td>0.0</td>\n",
       "      <td>...</td>\n",
       "      <td>0.0</td>\n",
       "      <td>0.0</td>\n",
       "      <td>0.0</td>\n",
       "      <td>0.0</td>\n",
       "      <td>0.0</td>\n",
       "      <td>0.0</td>\n",
       "      <td>0.0</td>\n",
       "      <td>0.0</td>\n",
       "      <td>0.0</td>\n",
       "      <td>0.0</td>\n",
       "    </tr>\n",
       "    <tr>\n",
       "      <th>1st to Die: A Novel</th>\n",
       "      <td>0.0</td>\n",
       "      <td>0.0</td>\n",
       "      <td>0.0</td>\n",
       "      <td>0.0</td>\n",
       "      <td>0.0</td>\n",
       "      <td>0.0</td>\n",
       "      <td>0.0</td>\n",
       "      <td>0.0</td>\n",
       "      <td>0.0</td>\n",
       "      <td>0.0</td>\n",
       "      <td>...</td>\n",
       "      <td>0.0</td>\n",
       "      <td>0.0</td>\n",
       "      <td>0.0</td>\n",
       "      <td>0.0</td>\n",
       "      <td>0.0</td>\n",
       "      <td>0.0</td>\n",
       "      <td>0.0</td>\n",
       "      <td>0.0</td>\n",
       "      <td>0.0</td>\n",
       "      <td>0.0</td>\n",
       "    </tr>\n",
       "    <tr>\n",
       "      <th>2nd Chance</th>\n",
       "      <td>0.0</td>\n",
       "      <td>0.0</td>\n",
       "      <td>0.0</td>\n",
       "      <td>0.0</td>\n",
       "      <td>0.0</td>\n",
       "      <td>0.0</td>\n",
       "      <td>0.0</td>\n",
       "      <td>0.0</td>\n",
       "      <td>0.0</td>\n",
       "      <td>0.0</td>\n",
       "      <td>...</td>\n",
       "      <td>0.0</td>\n",
       "      <td>0.0</td>\n",
       "      <td>0.0</td>\n",
       "      <td>0.0</td>\n",
       "      <td>0.0</td>\n",
       "      <td>0.0</td>\n",
       "      <td>0.0</td>\n",
       "      <td>0.0</td>\n",
       "      <td>0.0</td>\n",
       "      <td>0.0</td>\n",
       "    </tr>\n",
       "    <tr>\n",
       "      <th>2nd Chance</th>\n",
       "      <td>0.0</td>\n",
       "      <td>10.0</td>\n",
       "      <td>0.0</td>\n",
       "      <td>0.0</td>\n",
       "      <td>0.0</td>\n",
       "      <td>0.0</td>\n",
       "      <td>0.0</td>\n",
       "      <td>0.0</td>\n",
       "      <td>0.0</td>\n",
       "      <td>0.0</td>\n",
       "      <td>...</td>\n",
       "      <td>0.0</td>\n",
       "      <td>0.0</td>\n",
       "      <td>0.0</td>\n",
       "      <td>0.0</td>\n",
       "      <td>0.0</td>\n",
       "      <td>0.0</td>\n",
       "      <td>0.0</td>\n",
       "      <td>0.0</td>\n",
       "      <td>0.0</td>\n",
       "      <td>0.0</td>\n",
       "    </tr>\n",
       "  </tbody>\n",
       "</table>\n",
       "<p>5 rows × 888 columns</p>\n",
       "</div>"
      ],
      "text/plain": [
       "User-ID              254     2276    2766    2977    3363    4017    4385    \\\n",
       "Book-Title                                                                    \n",
       "1984                    9.0     0.0     0.0     0.0     0.0     0.0     0.0   \n",
       "1st to Die: A Novel     0.0     0.0     0.0     0.0     0.0     0.0     0.0   \n",
       "1st to Die: A Novel     0.0     0.0     0.0     0.0     0.0     0.0     0.0   \n",
       "2nd Chance              0.0     0.0     0.0     0.0     0.0     0.0     0.0   \n",
       "2nd Chance              0.0    10.0     0.0     0.0     0.0     0.0     0.0   \n",
       "\n",
       "User-ID              6242    6251    6323    ...  274004  274061  274301  \\\n",
       "Book-Title                                   ...                           \n",
       "1984                    0.0     0.0     0.0  ...     0.0     0.0     0.0   \n",
       "1st to Die: A Novel     0.0     0.0     0.0  ...     0.0     0.0     0.0   \n",
       "1st to Die: A Novel     0.0     0.0     0.0  ...     0.0     0.0     0.0   \n",
       "2nd Chance              0.0     0.0     0.0  ...     0.0     0.0     0.0   \n",
       "2nd Chance              0.0     0.0     0.0  ...     0.0     0.0     0.0   \n",
       "\n",
       "User-ID              274308  274808  275970  277427  277478  277639  278418  \n",
       "Book-Title                                                                   \n",
       "1984                    0.0     0.0     0.0     0.0     0.0     0.0     0.0  \n",
       "1st to Die: A Novel     0.0     0.0     0.0     0.0     0.0     0.0     0.0  \n",
       "1st to Die: A Novel     0.0     0.0     0.0     0.0     0.0     0.0     0.0  \n",
       "2nd Chance              0.0     0.0     0.0     0.0     0.0     0.0     0.0  \n",
       "2nd Chance              0.0     0.0     0.0     0.0     0.0     0.0     0.0  \n",
       "\n",
       "[5 rows x 888 columns]"
      ]
     },
     "execution_count": 211,
     "metadata": {},
     "output_type": "execute_result"
    }
   ],
   "source": [
    "df = df.sort_index()\n",
    "df.head()"
   ]
  },
  {
   "cell_type": "code",
   "execution_count": 339,
   "metadata": {},
   "outputs": [],
   "source": [
    "df.to_csv(\"../scripts/KNN_recommender/full_df.csv\")"
   ]
  },
  {
   "cell_type": "code",
   "execution_count": 212,
   "metadata": {},
   "outputs": [
    {
     "data": {
      "text/plain": [
       "User-ID\n",
       "254     0.0\n",
       "2276    0.0\n",
       "2766    0.0\n",
       "2977    0.0\n",
       "3363    0.0\n",
       "Name: The Queen of the Damned (Vampire Chronicles (Paperback)), dtype: float64"
      ]
     },
     "execution_count": 212,
     "metadata": {},
     "output_type": "execute_result"
    }
   ],
   "source": [
    "df.loc[\"The Queen of the Damned (Vampire Chronicles (Paperback))\"][:5]"
   ]
  },
  {
   "cell_type": "markdown",
   "metadata": {},
   "source": [
    "#### **KNN - MODEL**"
   ]
  },
  {
   "cell_type": "code",
   "execution_count": 213,
   "metadata": {
    "scrolled": true
   },
   "outputs": [
    {
     "data": {
      "text/html": [
       "<style>#sk-container-id-2 {color: black;}#sk-container-id-2 pre{padding: 0;}#sk-container-id-2 div.sk-toggleable {background-color: white;}#sk-container-id-2 label.sk-toggleable__label {cursor: pointer;display: block;width: 100%;margin-bottom: 0;padding: 0.3em;box-sizing: border-box;text-align: center;}#sk-container-id-2 label.sk-toggleable__label-arrow:before {content: \"▸\";float: left;margin-right: 0.25em;color: #696969;}#sk-container-id-2 label.sk-toggleable__label-arrow:hover:before {color: black;}#sk-container-id-2 div.sk-estimator:hover label.sk-toggleable__label-arrow:before {color: black;}#sk-container-id-2 div.sk-toggleable__content {max-height: 0;max-width: 0;overflow: hidden;text-align: left;background-color: #f0f8ff;}#sk-container-id-2 div.sk-toggleable__content pre {margin: 0.2em;color: black;border-radius: 0.25em;background-color: #f0f8ff;}#sk-container-id-2 input.sk-toggleable__control:checked~div.sk-toggleable__content {max-height: 200px;max-width: 100%;overflow: auto;}#sk-container-id-2 input.sk-toggleable__control:checked~label.sk-toggleable__label-arrow:before {content: \"▾\";}#sk-container-id-2 div.sk-estimator input.sk-toggleable__control:checked~label.sk-toggleable__label {background-color: #d4ebff;}#sk-container-id-2 div.sk-label input.sk-toggleable__control:checked~label.sk-toggleable__label {background-color: #d4ebff;}#sk-container-id-2 input.sk-hidden--visually {border: 0;clip: rect(1px 1px 1px 1px);clip: rect(1px, 1px, 1px, 1px);height: 1px;margin: -1px;overflow: hidden;padding: 0;position: absolute;width: 1px;}#sk-container-id-2 div.sk-estimator {font-family: monospace;background-color: #f0f8ff;border: 1px dotted black;border-radius: 0.25em;box-sizing: border-box;margin-bottom: 0.5em;}#sk-container-id-2 div.sk-estimator:hover {background-color: #d4ebff;}#sk-container-id-2 div.sk-parallel-item::after {content: \"\";width: 100%;border-bottom: 1px solid gray;flex-grow: 1;}#sk-container-id-2 div.sk-label:hover label.sk-toggleable__label {background-color: #d4ebff;}#sk-container-id-2 div.sk-serial::before {content: \"\";position: absolute;border-left: 1px solid gray;box-sizing: border-box;top: 0;bottom: 0;left: 50%;z-index: 0;}#sk-container-id-2 div.sk-serial {display: flex;flex-direction: column;align-items: center;background-color: white;padding-right: 0.2em;padding-left: 0.2em;position: relative;}#sk-container-id-2 div.sk-item {position: relative;z-index: 1;}#sk-container-id-2 div.sk-parallel {display: flex;align-items: stretch;justify-content: center;background-color: white;position: relative;}#sk-container-id-2 div.sk-item::before, #sk-container-id-2 div.sk-parallel-item::before {content: \"\";position: absolute;border-left: 1px solid gray;box-sizing: border-box;top: 0;bottom: 0;left: 50%;z-index: -1;}#sk-container-id-2 div.sk-parallel-item {display: flex;flex-direction: column;z-index: 1;position: relative;background-color: white;}#sk-container-id-2 div.sk-parallel-item:first-child::after {align-self: flex-end;width: 50%;}#sk-container-id-2 div.sk-parallel-item:last-child::after {align-self: flex-start;width: 50%;}#sk-container-id-2 div.sk-parallel-item:only-child::after {width: 0;}#sk-container-id-2 div.sk-dashed-wrapped {border: 1px dashed gray;margin: 0 0.4em 0.5em 0.4em;box-sizing: border-box;padding-bottom: 0.4em;background-color: white;}#sk-container-id-2 div.sk-label label {font-family: monospace;font-weight: bold;display: inline-block;line-height: 1.2em;}#sk-container-id-2 div.sk-label-container {text-align: center;}#sk-container-id-2 div.sk-container {/* jupyter's `normalize.less` sets `[hidden] { display: none; }` but bootstrap.min.css set `[hidden] { display: none !important; }` so we also need the `!important` here to be able to override the default hidden behavior on the sphinx rendered scikit-learn.org. See: https://github.com/scikit-learn/scikit-learn/issues/21755 */display: inline-block !important;position: relative;}#sk-container-id-2 div.sk-text-repr-fallback {display: none;}</style><div id=\"sk-container-id-2\" class=\"sk-top-container\"><div class=\"sk-text-repr-fallback\"><pre>NearestNeighbors(metric=&#x27;cosine&#x27;)</pre><b>In a Jupyter environment, please rerun this cell to show the HTML representation or trust the notebook. <br />On GitHub, the HTML representation is unable to render, please try loading this page with nbviewer.org.</b></div><div class=\"sk-container\" hidden><div class=\"sk-item\"><div class=\"sk-estimator sk-toggleable\"><input class=\"sk-toggleable__control sk-hidden--visually\" id=\"sk-estimator-id-2\" type=\"checkbox\" checked><label for=\"sk-estimator-id-2\" class=\"sk-toggleable__label sk-toggleable__label-arrow\">NearestNeighbors</label><div class=\"sk-toggleable__content\"><pre>NearestNeighbors(metric=&#x27;cosine&#x27;)</pre></div></div></div></div></div>"
      ],
      "text/plain": [
       "NearestNeighbors(metric='cosine')"
      ]
     },
     "execution_count": 213,
     "metadata": {},
     "output_type": "execute_result"
    }
   ],
   "source": [
    "# Build a KNN model for book recommendations based on cosine similarity.\n",
    "model = NearestNeighbors(metric=\"cosine\")\n",
    "model.fit(df.values)"
   ]
  },
  {
   "cell_type": "code",
   "execution_count": 214,
   "metadata": {
    "scrolled": true
   },
   "outputs": [
    {
     "data": {
      "text/plain": [
       "(888,)"
      ]
     },
     "execution_count": 214,
     "metadata": {},
     "output_type": "execute_result"
    }
   ],
   "source": [
    "df.iloc[0].shape"
   ]
  },
  {
   "cell_type": "code",
   "execution_count": 215,
   "metadata": {},
   "outputs": [
    {
     "data": {
      "text/plain": [
       "(888,)"
      ]
     },
     "execution_count": 215,
     "metadata": {},
     "output_type": "execute_result"
    }
   ],
   "source": [
    "title = 'The Queen of the Damned (Vampire Chronicles (Paperback))'\n",
    "df.loc[title].shape"
   ]
  },
  {
   "cell_type": "code",
   "execution_count": 216,
   "metadata": {},
   "outputs": [
    {
     "name": "stdout",
     "output_type": "stream",
     "text": [
      "[[2.22044605e-16 5.17841186e-01 5.37633845e-01 7.34506886e-01\n",
      "  7.44865700e-01 7.93983542e-01]]\n",
      "[[612 660 648 272 667 110]]\n"
     ]
    }
   ],
   "source": [
    "# Find nearest neighbors for a specific book\n",
    "distance, indice = model.kneighbors([df.loc[title].values], n_neighbors=6)\n",
    "\n",
    "print(distance)\n",
    "print(indice)"
   ]
  },
  {
   "cell_type": "code",
   "execution_count": 217,
   "metadata": {},
   "outputs": [
    {
     "data": {
      "text/plain": [
       "array(['The Vampire Lestat (Vampire Chronicles, Book II)',\n",
       "       'The Tale of the Body Thief (Vampire Chronicles (Paperback))',\n",
       "       'Interview with the Vampire',\n",
       "       'The Witching Hour (Lives of the Mayfair Witches)', 'Catch 22'],\n",
       "      dtype=object)"
      ]
     },
     "execution_count": 217,
     "metadata": {},
     "output_type": "execute_result"
    }
   ],
   "source": [
    "df.iloc[indice[0]].index.values[1:]"
   ]
  },
  {
   "cell_type": "code",
   "execution_count": 226,
   "metadata": {},
   "outputs": [
    {
     "data": {
      "text/html": [
       "<div>\n",
       "<style scoped>\n",
       "    .dataframe tbody tr th:only-of-type {\n",
       "        vertical-align: middle;\n",
       "    }\n",
       "\n",
       "    .dataframe tbody tr th {\n",
       "        vertical-align: top;\n",
       "    }\n",
       "\n",
       "    .dataframe thead th {\n",
       "        text-align: right;\n",
       "    }\n",
       "</style>\n",
       "<table border=\"1\" class=\"dataframe\">\n",
       "  <thead>\n",
       "    <tr style=\"text-align: right;\">\n",
       "      <th></th>\n",
       "      <th>title</th>\n",
       "      <th>distance</th>\n",
       "    </tr>\n",
       "  </thead>\n",
       "  <tbody>\n",
       "    <tr>\n",
       "      <th>0</th>\n",
       "      <td>The Queen of the Damned (Vampire Chronicles (Paperback))</td>\n",
       "      <td>2.220446e-16</td>\n",
       "    </tr>\n",
       "    <tr>\n",
       "      <th>1</th>\n",
       "      <td>The Vampire Lestat (Vampire Chronicles, Book II)</td>\n",
       "      <td>5.178412e-01</td>\n",
       "    </tr>\n",
       "    <tr>\n",
       "      <th>2</th>\n",
       "      <td>The Tale of the Body Thief (Vampire Chronicles (Paperback))</td>\n",
       "      <td>5.376338e-01</td>\n",
       "    </tr>\n",
       "    <tr>\n",
       "      <th>3</th>\n",
       "      <td>Interview with the Vampire</td>\n",
       "      <td>7.345069e-01</td>\n",
       "    </tr>\n",
       "    <tr>\n",
       "      <th>4</th>\n",
       "      <td>The Witching Hour (Lives of the Mayfair Witches)</td>\n",
       "      <td>7.448657e-01</td>\n",
       "    </tr>\n",
       "    <tr>\n",
       "      <th>5</th>\n",
       "      <td>Catch 22</td>\n",
       "      <td>7.939835e-01</td>\n",
       "    </tr>\n",
       "  </tbody>\n",
       "</table>\n",
       "</div>"
      ],
      "text/plain": [
       "                                                         title      distance\n",
       "0     The Queen of the Damned (Vampire Chronicles (Paperback))  2.220446e-16\n",
       "1             The Vampire Lestat (Vampire Chronicles, Book II)  5.178412e-01\n",
       "2  The Tale of the Body Thief (Vampire Chronicles (Paperback))  5.376338e-01\n",
       "3                                   Interview with the Vampire  7.345069e-01\n",
       "4             The Witching Hour (Lives of the Mayfair Witches)  7.448657e-01\n",
       "5                                                     Catch 22  7.939835e-01"
      ]
     },
     "execution_count": 226,
     "metadata": {},
     "output_type": "execute_result"
    }
   ],
   "source": [
    "# Display recommended books based on nearest neighbors\n",
    "rec = pd.DataFrame({\n",
    "    \"title\" : df.iloc[indice[0]].index.values,\n",
    "    \"distance\" :distance[0]\n",
    "}).sort_values(by=\"distance\",ascending=True)\n",
    "\n",
    "rec"
   ]
  },
  {
   "cell_type": "code",
   "execution_count": 234,
   "metadata": {},
   "outputs": [],
   "source": [
    "df_imag_url = books_df[[\"Book-Title\", \"Image-URL-L\"]]\n",
    "\n",
    "df_rec2 = df_imag_url.loc[df_imag_url[\"Book-Title\"].isin(rec[\"title\"])]\n",
    "\n",
    "df_rec2 = df_rec2.drop_duplicates(subset=[\"Book-Title\",\"Image-URL-L\"], keep=\"first\")"
   ]
  },
  {
   "cell_type": "code",
   "execution_count": 239,
   "metadata": {},
   "outputs": [
    {
     "name": "stdout",
     "output_type": "stream",
     "text": [
      "Book-Title                 The Vampire Lestat (Vampire Chronicles, Book II)\n",
      "Image-URL-L    http://images.amazon.com/images/P/0345313860.01.LZZZZZZZ.jpg\n",
      "Name: 608, dtype: object\n",
      "Book-Title                 The Witching Hour (Lives of the Mayfair Witches)\n",
      "Image-URL-L    http://images.amazon.com/images/P/0345384466.01.LZZZZZZZ.jpg\n",
      "Name: 1131, dtype: object\n",
      "Book-Title                                       Interview with the Vampire\n",
      "Image-URL-L    http://images.amazon.com/images/P/0345337662.01.LZZZZZZZ.jpg\n",
      "Name: 2526, dtype: object\n",
      "Book-Title         The Queen of the Damned (Vampire Chronicles (Paperback))\n",
      "Image-URL-L    http://images.amazon.com/images/P/0345351525.01.LZZZZZZZ.jpg\n",
      "Name: 2527, dtype: object\n",
      "Book-Title      The Tale of the Body Thief (Vampire Chronicles (Paperback))\n",
      "Image-URL-L    http://images.amazon.com/images/P/034538475X.01.LZZZZZZZ.jpg\n",
      "Name: 2885, dtype: object\n"
     ]
    }
   ],
   "source": [
    "for index, row in df_rec2[1:6].iterrows():\n",
    "    print(row)"
   ]
  },
  {
   "cell_type": "code",
   "execution_count": 255,
   "metadata": {},
   "outputs": [],
   "source": [
    "#Define a function for KNN-based book recommendations\n",
    "def KnnRecommender(title =\"\", top_n=6):\n",
    "    if title not in df.index:\n",
    "        print(f\"The given book '{title}' does not exist in the dataset.\")\n",
    "        return None\n",
    "    distance, indice = model.kneighbors([df.loc[title].values], n_neighbors=6)\n",
    "    recommended_books = pd.DataFrame({\n",
    "        \"title\": df.iloc[indice[0]].index.values,\n",
    "        \"distance\" : distance[0]\n",
    "    }).sort_values(by=\"distance\", ascending=True).head(top_n).values\n",
    "    return [title, recommended_books]"
   ]
  },
  {
   "cell_type": "code",
   "execution_count": 256,
   "metadata": {},
   "outputs": [
    {
     "name": "stdout",
     "output_type": "stream",
     "text": [
      "Recommendations for the book: Where the Heart Is (Oprah's Book Club (Paperback))\n"
     ]
    },
    {
     "data": {
      "text/plain": [
       "['The Lovely Bones: A Novel',\n",
       " 'I Know This Much Is True',\n",
       " 'The Surgeon',\n",
       " 'The Weight of Water',\n",
       " \"I'll Be Seeing You\"]"
      ]
     },
     "execution_count": 256,
     "metadata": {},
     "output_type": "execute_result"
    }
   ],
   "source": [
    "title = \"Where the Heart Is (Oprah's Book Club (Paperback))\"\n",
    "books = KnnRecommender(title)\n",
    "if books is not None:\n",
    "    print(\"Recommendations for the book:\", title)\n",
    "    recommended_books = []\n",
    "    for rec in books[1]:\n",
    "        recommended_books.append(rec[0])\n",
    "recommended_books[1:]"
   ]
  },
  {
   "cell_type": "code",
   "execution_count": 260,
   "metadata": {},
   "outputs": [
    {
     "name": "stdout",
     "output_type": "stream",
     "text": [
      "Book-Title                                              The Weight of Water\n",
      "Image-URL-L    http://images.amazon.com/images/P/0316782505.01.LZZZZZZZ.jpg\n",
      "Name: 252, dtype: object\n",
      "Book-Title                                        The Lovely Bones: A Novel\n",
      "Image-URL-L    http://images.amazon.com/images/P/0316666343.01.LZZZZZZZ.jpg\n",
      "Name: 408, dtype: object\n",
      "Book-Title                                         I Know This Much Is True\n",
      "Image-URL-L    http://images.amazon.com/images/P/0060987561.01.LZZZZZZZ.jpg\n",
      "Name: 3022, dtype: object\n",
      "Book-Title                                                      The Surgeon\n",
      "Image-URL-L    http://images.amazon.com/images/P/0345447840.01.LZZZZZZZ.jpg\n",
      "Name: 3703, dtype: object\n",
      "Book-Title                                                      The Surgeon\n",
      "Image-URL-L    http://images.amazon.com/images/P/0345447832.01.LZZZZZZZ.jpg\n",
      "Name: 20025, dtype: object\n"
     ]
    }
   ],
   "source": [
    "df_rec2 = df_imag_url.loc[df_imag_url[\"Book-Title\"].isin(recommended_books[1:])]\n",
    "df_rec2 = df_rec2.drop_duplicates(subset=[\"Book-Title\"], keep=\"first\")\n",
    "df_rec2 = df_rec2.drop_duplicates(subset=[\"Book-Title\",\"Image-URL-L\"], keep=\"first\")\n",
    "\n",
    "for index, row in df_rec2[1:6].iterrows():\n",
    "    print(row)"
   ]
  },
  {
   "cell_type": "markdown",
   "metadata": {},
   "source": [
    "- **We will Perform grid search to find the best hyperparameters for the KNN model.**\n",
    "- **Fit the grid search to the data, extract the best parameters, and rebuild the model.**\n",
    "- **Finally, use the optimized model for book recommendations.**"
   ]
  },
  {
   "cell_type": "code",
   "execution_count": 258,
   "metadata": {},
   "outputs": [
    {
     "name": "stdout",
     "output_type": "stream",
     "text": [
      "Best parameters :  {'algorithm': 'brute', 'metric': 'cosine', 'n_neighbors': 5}\n",
      "Recommended books:\n",
      "The Lovely Bones: A Novel\n",
      "I Know This Much Is True\n",
      "The Surgeon\n",
      "The Weight of Water\n",
      "I'll Be Seeing You\n"
     ]
    }
   ],
   "source": [
    "from sklearn.model_selection import ParameterGrid\n",
    "\n",
    "# Define the parameter grid\n",
    "param_grid = [\n",
    "    {'n_neighbors': [5, 10, 15, 20], 'metric': ['cosine'], 'algorithm': ['brute']},\n",
    "    {'n_neighbors': [5, 10, 15, 20], 'metric': ['euclidean', 'manhattan'], 'algorithm': ['auto', 'ball_tree', 'kd_tree', 'brute']}\n",
    "]\n",
    "\n",
    "X = df.values\n",
    "\n",
    "best_params = None\n",
    "lowest_avg_distance = float(\"inf\")\n",
    "\n",
    "\n",
    "for params in ParameterGrid(param_grid):\n",
    "    model = NearestNeighbors(**params)\n",
    "    model.fit(X)\n",
    "    \n",
    "    distances , _ = model.kneighbors(X)\n",
    "    avg_distance = np.mean(distances)\n",
    "    \n",
    "    if avg_distance < lowest_avg_distance:\n",
    "        lowest_avg_distance = avg_distance\n",
    "        best_params = params\n",
    "        \n",
    "\n",
    "        \n",
    "print(\"Best parameters : \", best_params)\n",
    "\n",
    "#Rebuild the model with the best parameters\n",
    "\n",
    "best_model = NearestNeighbors(**best_params)\n",
    "best_model.fit(X)\n",
    "\n",
    "def KNNRecommender_GridSearch(title=\"\", top_n=6):\n",
    "    if title not in df.index:\n",
    "        print(f\"The given book '{title}' does not exist in the dataset.\")\n",
    "        return None\n",
    "    \n",
    "    distances , indices = best_model.kneighbors([df.loc[title].values], n_neighbors=6)\n",
    "    recommended_books = pd.DataFrame({\n",
    "        \"title\": df.iloc[indices[0]].index.values,\n",
    "        \"distance\": distances[0]\n",
    "    }).sort_values(by=\"distance\", ascending=True).head(top_n)[\"title\"].values\n",
    "    \n",
    "    return [title ,recommended_books]\n",
    "\n",
    "\n",
    "books = KNNRecommender_GridSearch(\"Where the Heart Is (Oprah's Book Club (Paperback))\")\n",
    "if books is not None:\n",
    "    print(\"Recommended books:\")\n",
    "    for b in books[1][1:]:\n",
    "        print(f\"{b}\")"
   ]
  },
  {
   "cell_type": "markdown",
   "metadata": {},
   "source": [
    "**So the best parametrs for our parameters grid are : \\\n",
    "{'algorithm': 'brute', 'metric': 'cosine', 'n_neighbors': 5}**\n",
    "\n",
    "$$\n",
    "\\text{Cosine distance} = 1 - \\frac{\\mathbf{A} \\cdot \\mathbf{B}}{\\|\\mathbf{A}\\| \\|\\mathbf{B}\\|}\n",
    "$$"
   ]
  },
  {
   "cell_type": "markdown",
   "metadata": {},
   "source": [
    "**The model we've constructed for recommendation purposes demonstrates promising performance. However, our journey doesn't end here. We're yet to explore the realms of Singular Value Decomposition (SVD) and Non-Negative Matrix Factorization (NMF) algorithms. These advanced techniques hold the potential to unlock deeper insights and further enhance the accuracy and effectiveness of our recommendation system. Let's delve into these methodologies and witness the next evolution in our quest for superior recommendation capabilities.**"
   ]
  },
  {
   "cell_type": "markdown",
   "metadata": {},
   "source": [
    "### 4.5 - **SVD** - Singular values Decomposition : Collaborative Filtering(User Based) \n",
    "\n",
    "Svd, or singular value decomposition, is a popular algorithm for colaborative filtering bassed on matrix factorization. It decomposes the user-item rating matrix into two smaller matrices.\n",
    "- **User Latent factors**: These represent \"underlying preferences\" or hidden characteristics of users.\n",
    "- **Item latent factors**: These represent \"intrinsic features\" or characteristics of items. When multiplied together, these two matrices approximate the original rating matrix\n",
    "\n",
    "By synergistically multiplying these two matrices, SVD unveils a transformed representation that approximates the original rating matrix, fostering a deeper understanding of user-item interactions and paving the way for more refined and personalized recommendations."
   ]
  },
  {
   "cell_type": "markdown",
   "metadata": {},
   "source": [
    "**Merge ratings dataframe with book titles and user details**"
   ]
  },
  {
   "cell_type": "code",
   "execution_count": 262,
   "metadata": {},
   "outputs": [],
   "source": [
    "# import pandas as pd\n",
    "# from surprise import Dataset, Reader, SVD\n",
    "# from surprise.model_selection import train_test_split, cross_validate, GridSearchCV\n",
    "# from surprise import accuracy\n",
    "\n",
    "# # Assuming ratings_df, books_df, and users_df are already defined and loaded\n",
    "\n",
    "# # Merge dataframes to get a complete dataset\n",
    "# ratings_with_book_titles = ratings_df.merge(books_df, on=\"ISBN\")\n",
    "# ratings_with_book_titles.drop(columns=[\"ISBN\"], axis=1, inplace=True)\n",
    "# complete_df = ratings_with_book_titles.merge(users_df, on=\"User-ID\")\n",
    "\n",
    "# # Ensure no missing values\n",
    "# complete_df.dropna(inplace=True)\n",
    "\n",
    "# # Load data into Surprise dataset\n",
    "# reader = Reader(rating_scale=(0, 10))\n",
    "# data = Dataset.load_from_df(complete_df[[\"User-ID\", \"Book-Title\", \"Book-Rating\"]], reader)\n",
    "\n",
    "# # Split into train and test sets\n",
    "# train_set, test_set = train_test_split(data, test_size=0.20, random_state=42)\n",
    "\n",
    "# # Hyperparameter tuning using GridSearchCV\n",
    "# param_grid = {\n",
    "#     'n_factors': [20, 50, 100],\n",
    "#     'n_epochs': [20, 50],\n",
    "#     'lr_all': [0.002, 0.005],\n",
    "#     'reg_all': [0.02, 0.1]\n",
    "# }\n",
    "# gs = GridSearchCV(SVD, param_grid, measures=['rmse', 'mae'], cv=3)\n",
    "# gs.fit(data)\n",
    "\n",
    "# # Best SVD model\n",
    "# best_model = gs.best_estimator['rmse']\n",
    "# print(\"Best parameters:\", gs.best_params['rmse'])\n",
    "\n",
    "# # Fit the best model\n",
    "# best_model.fit(train_set)\n",
    "\n",
    "# # Evaluate the model\n",
    "# predictions = best_model.test(test_set)\n",
    "# print(\"RMSE:\", accuracy.rmse(predictions))\n",
    "# print(\"MAE:\", accuracy.mae(predictions))\n",
    "\n",
    "# # Define function to recommend books for a given user\n",
    "# def recommend_books(user_id, n=10):\n",
    "#     all_books = complete_df[\"Book-Title\"].unique()\n",
    "#     rated_books = complete_df[complete_df[\"User-ID\"] == user_id][\"Book-Title\"].values\n",
    "#     books_to_predict = [book for book in all_books if book not in rated_books]\n",
    "\n",
    "#     predictions = []\n",
    "#     for book in books_to_predict:\n",
    "#         pred = best_model.predict(user_id, book)\n",
    "#         predictions.append((book, pred.est))\n",
    "\n",
    "#     predictions.sort(key=lambda x: x[1], reverse=True)\n",
    "\n",
    "#     # Get top N recommendations\n",
    "#     top_n = predictions[:n]\n",
    "#     return top_n\n",
    "\n",
    "# user_id = 2033\n",
    "# recommended_books = recommend_books(user_id=user_id, n=5)\n",
    "\n",
    "# print(f\"Top 5 recommended books for user with userID: {user_id}:\")\n",
    "# for i, (title, _) in enumerate(recommended_books, start=1):\n",
    "#     print(f\"{i}. {title}\")"
   ]
  },
  {
   "cell_type": "code",
   "execution_count": 263,
   "metadata": {},
   "outputs": [],
   "source": [
    "ratings_with_book_titles = ratings_df.merge(books_df, on=\"ISBN\")"
   ]
  },
  {
   "cell_type": "code",
   "execution_count": 264,
   "metadata": {},
   "outputs": [],
   "source": [
    "ratings_with_book_titles.drop(columns=[\"ISBN\"], axis=1, inplace=True)"
   ]
  },
  {
   "cell_type": "code",
   "execution_count": 265,
   "metadata": {},
   "outputs": [
    {
     "data": {
      "text/html": [
       "<div>\n",
       "<style scoped>\n",
       "    .dataframe tbody tr th:only-of-type {\n",
       "        vertical-align: middle;\n",
       "    }\n",
       "\n",
       "    .dataframe tbody tr th {\n",
       "        vertical-align: top;\n",
       "    }\n",
       "\n",
       "    .dataframe thead th {\n",
       "        text-align: right;\n",
       "    }\n",
       "</style>\n",
       "<table border=\"1\" class=\"dataframe\">\n",
       "  <thead>\n",
       "    <tr style=\"text-align: right;\">\n",
       "      <th></th>\n",
       "      <th>User-ID</th>\n",
       "      <th>Book-Rating</th>\n",
       "      <th>Book-Title</th>\n",
       "      <th>Book-Author</th>\n",
       "      <th>Image-URL-L</th>\n",
       "      <th>Country</th>\n",
       "    </tr>\n",
       "  </thead>\n",
       "  <tbody>\n",
       "    <tr>\n",
       "      <th>0</th>\n",
       "      <td>276725</td>\n",
       "      <td>0</td>\n",
       "      <td>Flesh Tones: A Novel</td>\n",
       "      <td>M. J. Rose</td>\n",
       "      <td>http://images.amazon.com/images/P/034545104X.01.LZZZZZZZ.jpg</td>\n",
       "      <td>usa</td>\n",
       "    </tr>\n",
       "    <tr>\n",
       "      <th>1</th>\n",
       "      <td>2313</td>\n",
       "      <td>5</td>\n",
       "      <td>Flesh Tones: A Novel</td>\n",
       "      <td>M. J. Rose</td>\n",
       "      <td>http://images.amazon.com/images/P/034545104X.01.LZZZZZZZ.jpg</td>\n",
       "      <td>usa</td>\n",
       "    </tr>\n",
       "    <tr>\n",
       "      <th>2</th>\n",
       "      <td>2313</td>\n",
       "      <td>9</td>\n",
       "      <td>Ender's Game (Ender Wiggins Saga (Paperback))</td>\n",
       "      <td>Orson Scott Card</td>\n",
       "      <td>http://images.amazon.com/images/P/0812533550.01.LZZZZZZZ.jpg</td>\n",
       "      <td>usa</td>\n",
       "    </tr>\n",
       "    <tr>\n",
       "      <th>3</th>\n",
       "      <td>2313</td>\n",
       "      <td>8</td>\n",
       "      <td>In Cold Blood (Vintage International)</td>\n",
       "      <td>TRUMAN CAPOTE</td>\n",
       "      <td>http://images.amazon.com/images/P/0679745580.01.LZZZZZZZ.jpg</td>\n",
       "      <td>usa</td>\n",
       "    </tr>\n",
       "    <tr>\n",
       "      <th>4</th>\n",
       "      <td>2313</td>\n",
       "      <td>9</td>\n",
       "      <td>Divine Secrets of the Ya-Ya Sisterhood : A Novel</td>\n",
       "      <td>Rebecca Wells</td>\n",
       "      <td>http://images.amazon.com/images/P/0060173289.01.LZZZZZZZ.jpg</td>\n",
       "      <td>usa</td>\n",
       "    </tr>\n",
       "  </tbody>\n",
       "</table>\n",
       "</div>"
      ],
      "text/plain": [
       "   User-ID  Book-Rating                                        Book-Title  \\\n",
       "0   276725            0                              Flesh Tones: A Novel   \n",
       "1     2313            5                              Flesh Tones: A Novel   \n",
       "2     2313            9     Ender's Game (Ender Wiggins Saga (Paperback))   \n",
       "3     2313            8             In Cold Blood (Vintage International)   \n",
       "4     2313            9  Divine Secrets of the Ya-Ya Sisterhood : A Novel   \n",
       "\n",
       "        Book-Author  \\\n",
       "0        M. J. Rose   \n",
       "1        M. J. Rose   \n",
       "2  Orson Scott Card   \n",
       "3     TRUMAN CAPOTE   \n",
       "4     Rebecca Wells   \n",
       "\n",
       "                                                    Image-URL-L Country  \n",
       "0  http://images.amazon.com/images/P/034545104X.01.LZZZZZZZ.jpg     usa  \n",
       "1  http://images.amazon.com/images/P/034545104X.01.LZZZZZZZ.jpg     usa  \n",
       "2  http://images.amazon.com/images/P/0812533550.01.LZZZZZZZ.jpg     usa  \n",
       "3  http://images.amazon.com/images/P/0679745580.01.LZZZZZZZ.jpg     usa  \n",
       "4  http://images.amazon.com/images/P/0060173289.01.LZZZZZZZ.jpg     usa  "
      ]
     },
     "execution_count": 265,
     "metadata": {},
     "output_type": "execute_result"
    }
   ],
   "source": [
    "complete_df = ratings_with_book_titles.merge(users_df, on=\"User-ID\")\n",
    "complete_df.head()"
   ]
  },
  {
   "cell_type": "code",
   "execution_count": 338,
   "metadata": {},
   "outputs": [],
   "source": [
    "# complete_df.to_csv(\"../scripts/complete.csv\")\n",
    "# books_df.to_csv(\"../scripts/books.csv\")"
   ]
  },
  {
   "cell_type": "code",
   "execution_count": 266,
   "metadata": {},
   "outputs": [
    {
     "name": "stdout",
     "output_type": "stream",
     "text": [
      "RMSE: 3.5189\n",
      "MAE:  2.8044\n"
     ]
    },
    {
     "data": {
      "text/plain": [
       "2.8044019437862833"
      ]
     },
     "execution_count": 266,
     "metadata": {},
     "output_type": "execute_result"
    }
   ],
   "source": [
    "from surprise import Dataset, Reader, SVD ,NMF\n",
    "from surprise.model_selection import train_test_split\n",
    "from surprise import accuracy\n",
    "\n",
    "# Load data into Surprise dataset and split into train and test sets\n",
    "reader = Reader(rating_scale=(0,10))\n",
    "data = Dataset.load_from_df(complete_df[[\"User-ID\",\"Book-Title\",\"Book-Rating\"]], reader)\n",
    "train_set, test_set = train_test_split(data, test_size=0.20, random_state=42)\n",
    "\n",
    "# Initialize and train the SVD model\n",
    "model_SVD = SVD()\n",
    "\n",
    "# Generate predictions and compute RMSE and MAE\n",
    "model_SVD.fit(train_set)\n",
    "predictions = model_SVD.test(test_set)\n",
    "accuracy.rmse(predictions)\n",
    "accuracy.mae(predictions)"
   ]
  },
  {
   "cell_type": "markdown",
   "metadata": {},
   "source": [
    "**get the recommended books**"
   ]
  },
  {
   "cell_type": "code",
   "execution_count": 331,
   "metadata": {},
   "outputs": [],
   "source": [
    "# Define function to recommend books for a given user\n",
    "def recommend_books(user_id, n=10):\n",
    "    all_books = complete_df[\"Book-Title\"].unique()\n",
    "\n",
    "    rated_books = complete_df[complete_df[\"User-ID\"] == user_id][\"Book-Title\"].values\n",
    "    books_to_predict = [book for book in all_books if book not in rated_books]\n",
    "\n",
    "\n",
    "    predictions = []\n",
    "    for book in books_to_predict:\n",
    "\n",
    "        pred = model_SVD.predict(user_id, book)\n",
    "        predictions.append((book, pred.est))\n",
    "\n",
    "\n",
    "    predictions.sort(key=lambda x:x[1], reverse=True)\n",
    "\n",
    "    # get top N recommendations\n",
    "    top_n = predictions[:n]\n",
    "    return top_n"
   ]
  },
  {
   "cell_type": "code",
   "execution_count": 334,
   "metadata": {},
   "outputs": [
    {
     "name": "stdout",
     "output_type": "stream",
     "text": [
      "Top 5 recommeded books for user with userID : 2033:\n",
      "title :The Da Vinci Code &  url : http://images.amazon.com/images/P/0385504209.01.LZZZZZZZ.jpg\n",
      "-------------------------\n",
      "title :The Princess Bride: S Morgenstern's Classic Tale of True Love and High Adventure &  url : http://images.amazon.com/images/P/0345348036.01.LZZZZZZZ.jpg\n",
      "-------------------------\n",
      "title :The Dress Lodger (Ballantine Reader's Circle) &  url : http://images.amazon.com/images/P/0345436911.01.LZZZZZZZ.jpg\n",
      "-------------------------\n",
      "title :The Da Vinci Code &  url : http://images.amazon.com/images/P/0739307312.01.LZZZZZZZ.jpg\n",
      "-------------------------\n",
      "title :Three To Get Deadly : A Stephanie Plum Novel (A Stephanie Plum Novel) &  url : http://images.amazon.com/images/P/0312966091.01.LZZZZZZZ.jpg\n",
      "-------------------------\n",
      "title :The Sweet Potato Queens' Book of Love &  url : http://images.amazon.com/images/P/0609804138.01.LZZZZZZZ.jpg\n",
      "-------------------------\n",
      "title :The Da Vinci Code &  url : http://images.amazon.com/images/P/0739302043.01.LZZZZZZZ.jpg\n",
      "-------------------------\n",
      "title :The Da Vinci Code &  url : http://images.amazon.com/images/P/0385504217.01.LZZZZZZZ.jpg\n",
      "-------------------------\n",
      "title :The Sweet Potato Queens' Book of Love &  url : http://images.amazon.com/images/P/0553756869.01.LZZZZZZZ.jpg\n",
      "-------------------------\n",
      "title :The Da Vinci Code &  url : http://images.amazon.com/images/P/B00008WFXL.01.LZZZZZZZ.jpg\n",
      "-------------------------\n",
      "title :The Da Vinci Code &  url : http://images.amazon.com/images/P/0739313126.01.LZZZZZZZ.jpg\n",
      "-------------------------\n"
     ]
    }
   ],
   "source": [
    "user_id = 2033\n",
    "recommended_books = recommend_books(user_id=user_id, n=5)\n",
    "\n",
    "df_rec2 = df_imag_url.loc[df_imag_url[\"Book-Title\"].isin([title for title, rating in recommended_books])]\n",
    "df_rec2 = df_rec2.drop_duplicates(subset=[\"Book-Title\"], keep=\"first\")\n",
    "df_rec2 = df_rec2.drop_duplicates(subset=[\"Book-Title\",\"Image-URL-L\"], keep=\"first\")\n",
    "\n",
    "print(f\"Top 5 recommeded books for user with userID : {user_id}:\")\n",
    "for row in df_rec2.iterrows():\n",
    "    print(f\"title :{row[1][0]} &  url : {row[1][1]}\")\n",
    "    print(\"-\"*25)"
   ]
  },
  {
   "cell_type": "markdown",
   "metadata": {},
   "source": [
    "### 4.6 - NMF (non-negative matrix factorization)  - Collaborative filtering(Item based)\n",
    "\n",
    "\n",
    "- **What is NMF** : \n",
    "    NMF is a matrix factorization technique that decomposes a given matrix into two non-negative matrices. This method ensures that the factors produced are interpretable in contexts where only non-negative values make sense (e.g., ratings, word counts).\n",
    "\n",
    "- **Main Differences between NMF and SVD**\n",
    "    - **Non-negativity**: NMF decomposes the matrix into non-negative   factors, making it more interpretable in certain contexts.\n",
    "    - **Interpretability**: The non-negative constraints of NMF lead to parts-based representations, often more interpretable compared to the linear combinations in SVD.\n",
    "    - **Flexibility**: SVD can handle both positive and negative values, capturing a wider range of interactions, while NMF focuses on additive, non-negative relationships."
   ]
  },
  {
   "cell_type": "markdown",
   "metadata": {},
   "source": [
    "### using the surprise library  "
   ]
  },
  {
   "cell_type": "code",
   "execution_count": 106,
   "metadata": {},
   "outputs": [],
   "source": [
    "# import pandas as pd\n",
    "# from surprise import Dataset, Reader, NMF\n",
    "# from surprise.model_selection import train_test_split, GridSearchCV\n",
    "# from surprise import accuracy\n",
    "\n",
    "# # Load and preprocess the data\n",
    "# ratings_with_book_titles = ratings_df.merge(books_df, on=\"ISBN\")\n",
    "# ratings_with_book_titles.drop(columns=[\"ISBN\"], axis=1, inplace=True)\n",
    "# complete_df = ratings_with_book_titles.merge(users_df, on=\"User-ID\")\n",
    "\n",
    "# # Ensure no missing values\n",
    "# complete_df.dropna(inplace=True)\n",
    "\n",
    "# # Load data into Surprise dataset\n",
    "# reader = Reader(rating_scale=(0, 10))\n",
    "# data = Dataset.load_from_df(complete_df[[\"User-ID\", \"Book-Title\", \"Book-Rating\"]], reader)\n",
    "\n",
    "# # Split into train and test sets\n",
    "# train_set, test_set = train_test_split(data, test_size=0.20, random_state=42)\n",
    "\n",
    "# # Hyperparameter tuning using GridSearchCV\n",
    "# param_grid = {\n",
    "#     'n_factors': [10, 20, 30],\n",
    "#     'n_epochs': [20, 50, 100],\n",
    "#     'reg_pu': [0.01, 0.05, 0.1],\n",
    "#     'reg_qi': [0.01, 0.05, 0.1]\n",
    "# }\n",
    "# gs = GridSearchCV(NMF, param_grid, measures=['rmse', 'mae'], cv=3)\n",
    "# gs.fit(data)\n",
    "\n",
    "# # Best NMF model\n",
    "# best_model = gs.best_estimator['rmse']\n",
    "# print(\"Best parameters:\", gs.best_params['rmse'])\n",
    "\n",
    "# # Fit the best model\n",
    "# best_model.fit(train_set)\n",
    "\n",
    "# # Evaluate the model\n",
    "# predictions = best_model.test(test_set)\n",
    "# print(\"RMSE:\", accuracy.rmse(predictions))\n",
    "# print(\"MAE:\", accuracy.mae(predictions))\n",
    "\n",
    "# # Define function to recommend books for a given user\n",
    "# def recommend_books(user_id, n=10):\n",
    "#     all_books = complete_df[\"Book-Title\"].unique()\n",
    "    \n",
    "#     rated_books = complete_df[complete_df[\"User-ID\"] == user_id][\"Book-Title\"].values\n",
    "#     books_to_predict = [book for book in all_books if book not in rated_books]\n",
    "    \n",
    "#     predictions = []\n",
    "#     for book in books_to_predict:\n",
    "#         pred = best_model.predict(user_id, book)\n",
    "#         predictions.append((book, pred.est))\n",
    "        \n",
    "#     predictions.sort(key=lambda x: x[1], reverse=True)\n",
    "    \n",
    "#     # Get top N recommendations\n",
    "#     top_n = [title for title, _ in predictions[:n]]\n",
    "#     return top_n\n",
    "\n",
    "# user_id = 2033\n",
    "# recommended_books = recommend_books(user_id=user_id, n=5)\n",
    "\n",
    "# print(f\"Top 5 recommended books for user with userID: {user_id}:\")\n",
    "# for i, title in enumerate(recommended_books, start=1):\n",
    "#     print(f\"{i}. {title}\")\n"
   ]
  },
  {
   "cell_type": "code",
   "execution_count": 302,
   "metadata": {},
   "outputs": [
    {
     "name": "stdout",
     "output_type": "stream",
     "text": [
      "RMSE: 3.9201\n",
      "MAE:  2.9480\n"
     ]
    }
   ],
   "source": [
    "model_NMF = NMF()\n",
    "model_NMF.fit(train_set)\n",
    "predictions = model_NMF.test(test_set)\n",
    "accuracy.rmse(predictions)\n",
    "accuracy.mae(predictions)\n",
    "\n",
    "def recommend_books(user_id, n=10):\n",
    "    all_books = complete_df[\"Book-Title\"].unique()\n",
    "    \n",
    "    rated_books = complete_df[complete_df[\"User-ID\"] == user_id][\"Book-Title\"].values\n",
    "    books_to_predict = [book for book in all_books if book not in rated_books]\n",
    "    \n",
    "    predictions = []\n",
    "    for book in books_to_predict:\n",
    "        pred = model_NMF.predict(user_id, book)\n",
    "        predictions.append((book,pred.est))\n",
    "        \n",
    "    predictions.sort(key=lambda x:x[1], reverse =True)\n",
    "    \n",
    "    #get top N recommendations \n",
    "    top_n = predictions[:n]\n",
    "    return top_n"
   ]
  },
  {
   "cell_type": "code",
   "execution_count": 303,
   "metadata": {
    "scrolled": true
   },
   "outputs": [
    {
     "name": "stdout",
     "output_type": "stream",
     "text": [
      "top 10 recommended books for user with userID : 2033:\n",
      "(748, Book-Title                                                The Da Vinci Code\n",
      "Image-URL-L    http://images.amazon.com/images/P/0385504209.01.LZZZZZZZ.jpg\n",
      "Name: 748, dtype: object)\n",
      "(1029, Book-Title     The Princess Bride: S Morgenstern's Classic Tale of True Love and High Adventure\n",
      "Image-URL-L                        http://images.amazon.com/images/P/0345348036.01.LZZZZZZZ.jpg\n",
      "Name: 1029, dtype: object)\n",
      "(1564, Book-Title                    The Dress Lodger (Ballantine Reader's Circle)\n",
      "Image-URL-L    http://images.amazon.com/images/P/0345436911.01.LZZZZZZZ.jpg\n",
      "Name: 1564, dtype: object)\n",
      "(5873, Book-Title     Three To Get Deadly : A Stephanie Plum Novel (A Stephanie Plum Novel)\n",
      "Image-URL-L             http://images.amazon.com/images/P/0312966091.01.LZZZZZZZ.jpg\n",
      "Name: 5873, dtype: object)\n",
      "(6401, Book-Title                            The Sweet Potato Queens' Book of Love\n",
      "Image-URL-L    http://images.amazon.com/images/P/0609804138.01.LZZZZZZZ.jpg\n",
      "Name: 6401, dtype: object)\n"
     ]
    }
   ],
   "source": [
    "user_id = 2033\n",
    "recommend_books = recommend_books(user_id=user_id, n=5)\n",
    "df_rec2 = df_imag_url.loc[df_imag_url[\"Book-Title\"].isin([title for title, rating in recommended_books])]\n",
    "df_rec2 = df_rec2.drop_duplicates(subset=[\"Book-Title\"], keep=\"first\")\n",
    "df_rec2 = df_rec2.drop_duplicates(subset=[\"Book-Title\",\"Image-URL-L\"], keep=\"first\")\n",
    "\n",
    "print(f\"top {n} recommended books for user with userID : {user_id}:\")\n",
    "for row in df_rec2.iterrows():\n",
    "    print(row)\n",
    "    print(\"-\"*50)"
   ]
  },
  {
   "cell_type": "code",
   "execution_count": 329,
   "metadata": {},
   "outputs": [
    {
     "name": "stdout",
     "output_type": "stream",
     "text": [
      "title : The Kitchen God's Wife & url : http://images.amazon.com/images/P/0399135782.01.LZZZZZZZ.jpg\n",
      "--------------------------------------------------\n",
      "title : GOING HOME & url : http://images.amazon.com/images/P/0671530291.01.LZZZZZZZ.jpg\n",
      "--------------------------------------------------\n",
      "title : The Hour That Changes the World & url : http://images.amazon.com/images/P/0801033373.01.LZZZZZZZ.jpg\n",
      "--------------------------------------------------\n",
      "title : Network Participant's Guide & url : http://images.amazon.com/images/P/0310412315.01.LZZZZZZZ.jpg\n",
      "--------------------------------------------------\n",
      "title : Pack Up Your Gloomies In A Great Big Box, Then Sit On The Lid And Laugh! & url : http://images.amazon.com/images/P/0849933641.01.LZZZZZZZ.jpg\n",
      "--------------------------------------------------\n",
      "title : Disney Library, 2 (Walt Disney Fun-To-Learn Library) & url : http://images.amazon.com/images/P/055305502X.01.LZZZZZZZ.jpg\n",
      "--------------------------------------------------\n",
      "title : What did you bring?: Featuring Jim Henson's Sesame Street Muppets & url : http://images.amazon.com/images/P/0307231070.01.LZZZZZZZ.jpg\n",
      "--------------------------------------------------\n",
      "title : Special delivery: Featuring Jim Henson's Sesame Street Muppets & url : http://images.amazon.com/images/P/0307231089.01.LZZZZZZZ.jpg\n",
      "--------------------------------------------------\n",
      "title : Aladdin in the Cave of Wonders & url : http://images.amazon.com/images/P/1557233918.01.LZZZZZZZ.jpg\n",
      "--------------------------------------------------\n",
      "title : Plain Girl & url : http://images.amazon.com/images/P/0152624376.01.LZZZZZZZ.jpg\n",
      "--------------------------------------------------\n"
     ]
    }
   ],
   "source": [
    "for row in df_rec2.iterrows():\n",
    "    print(f\"title : {row[1][0]} & url : {row[1][1]}\")\n",
    "    print(\"-\"*50)"
   ]
  },
  {
   "cell_type": "markdown",
   "metadata": {},
   "source": [
    "Upon evaluating the performance metrics, it is evident that both the **Singular Value Decomposition (SVD)** and **Non-negative Matrix Factorization (NMF)** algorithms exhibit commendable efficacy. However, when considering the **Root Mean Square Error (RMSE)** and **Mean Absolute Error (MAE)** as benchmarks, the SVD algorithm outperforms NMF. This superiority is indicative of SVD's enhanced predictive accuracy and robustness in model performance."
   ]
  },
  {
   "cell_type": "markdown",
   "metadata": {},
   "source": [
    "### step-by-step breakdown of implementing the NMF algorithm from scratch"
   ]
  },
  {
   "cell_type": "markdown",
   "metadata": {},
   "source": [
    "**Merge ratings dataframe with users dataframe and select relevant columns**"
   ]
  },
  {
   "cell_type": "code",
   "execution_count": 305,
   "metadata": {},
   "outputs": [],
   "source": [
    "user_rating_df = ratings_df.sample(40000).merge(users_df, left_on=\"User-ID\", right_on = \"User-ID\")"
   ]
  },
  {
   "cell_type": "code",
   "execution_count": 306,
   "metadata": {},
   "outputs": [],
   "source": [
    "book_user_rating = books_df.merge(user_rating_df, left_on=\"ISBN\", right_on=\"ISBN\")\n",
    "book_user_rating = book_user_rating[[\"ISBN\",\"Book-Title\",\"Book-Author\",\"User-ID\",\"Book-Rating\"]]"
   ]
  },
  {
   "cell_type": "markdown",
   "metadata": {},
   "source": [
    "**Reset index and create unique book ID mapping**"
   ]
  },
  {
   "cell_type": "code",
   "execution_count": 307,
   "metadata": {},
   "outputs": [],
   "source": [
    "book_user_rating.reset_index(drop=True, inplace=True)\n",
    "d = {}\n",
    "for i , j in enumerate(book_user_rating.ISBN.unique()):\n",
    "    d[j] = i\n",
    "book_user_rating[\"unique_id_book\"] = book_user_rating[\"ISBN\"].map(d)"
   ]
  },
  {
   "cell_type": "code",
   "execution_count": 308,
   "metadata": {},
   "outputs": [],
   "source": [
    "book_user_rating.dropna(inplace=True)"
   ]
  },
  {
   "cell_type": "code",
   "execution_count": 341,
   "metadata": {},
   "outputs": [],
   "source": [
    "book_user_rating.to_csv(\"../scripts/NMF_recommender/book_user_rating.csv\")"
   ]
  },
  {
   "cell_type": "markdown",
   "metadata": {},
   "source": [
    "**Create pivot matrix of user-book ratings**"
   ]
  },
  {
   "cell_type": "code",
   "execution_count": 309,
   "metadata": {},
   "outputs": [],
   "source": [
    "users_books_pivot_matrix_df = book_user_rating.pivot(index=\"User-ID\", columns=\"unique_id_book\", values=\"Book-Rating\").fillna(0)"
   ]
  },
  {
   "cell_type": "code",
   "execution_count": 310,
   "metadata": {},
   "outputs": [],
   "source": [
    "# users_books_pivot_matrix_df.head()\n",
    "users_books_pivot_matrix_df = users_books_pivot_matrix_df.values"
   ]
  },
  {
   "cell_type": "markdown",
   "metadata": {},
   "source": [
    "**Perform singular value decomposition**"
   ]
  },
  {
   "cell_type": "code",
   "execution_count": 311,
   "metadata": {},
   "outputs": [],
   "source": [
    "from scipy.sparse.linalg import svds\n",
    "\n",
    "NUMBER_OF_FACTORS_MF = 15\n",
    "\n",
    "U, sigma , Vt = svds(users_books_pivot_matrix_df, k= NUMBER_OF_FACTORS_MF)"
   ]
  },
  {
   "cell_type": "code",
   "execution_count": 312,
   "metadata": {},
   "outputs": [
    {
     "data": {
      "text/plain": [
       "(15, 15)"
      ]
     },
     "execution_count": 312,
     "metadata": {},
     "output_type": "execute_result"
    }
   ],
   "source": [
    "sigma = np.diag(sigma)\n",
    "sigma.shape"
   ]
  },
  {
   "cell_type": "markdown",
   "metadata": {},
   "source": [
    "**Generate all user predicted ratings**"
   ]
  },
  {
   "cell_type": "code",
   "execution_count": 313,
   "metadata": {},
   "outputs": [
    {
     "data": {
      "text/plain": [
       "array([[-3.12723897e-28, -2.85577958e-33, -1.22175379e-19, ...,\n",
       "         2.17055965e-34,  0.00000000e+00, -1.06154221e-34],\n",
       "       [-1.92836054e-27,  9.46161819e-33,  3.36429720e-19, ...,\n",
       "        -9.82010936e-35,  0.00000000e+00, -9.83587085e-35],\n",
       "       [ 3.74198853e-28,  4.23443649e-33,  1.83717886e-19, ...,\n",
       "        -3.83006912e-34,  0.00000000e+00,  1.67803391e-34],\n",
       "       ...,\n",
       "       [-4.10953853e-28, -4.26523015e-33, -1.87152199e-19, ...,\n",
       "         4.31307299e-34,  0.00000000e+00, -1.66300891e-34],\n",
       "       [ 6.48752784e-30, -2.15264748e-35,  2.12737663e-22, ...,\n",
       "        -1.46180472e-36,  0.00000000e+00,  3.48377135e-38],\n",
       "       [ 4.55771591e-28,  4.50178944e-33,  1.95048566e-19, ...,\n",
       "        -4.63968685e-34,  0.00000000e+00,  1.69309756e-34]])"
      ]
     },
     "execution_count": 313,
     "metadata": {},
     "output_type": "execute_result"
    }
   ],
   "source": [
    "all_user_predicted_ratings = np.dot(np.dot(U,sigma), Vt)\n",
    "all_user_predicted_ratings"
   ]
  },
  {
   "cell_type": "markdown",
   "metadata": {},
   "source": [
    "**Define the 2 functions for recommending similar books based on cosine similarity**"
   ]
  },
  {
   "cell_type": "code",
   "execution_count": 314,
   "metadata": {},
   "outputs": [],
   "source": [
    "def top_cosine_similarity(data, book_id, top_n=10):\n",
    "    index = book_id\n",
    "    book_row = data[index, :]\n",
    "    magnitude = np.sqrt(np.einsum(\"ij, ij -> i\",data, data))\n",
    "    similarity = np.dot(book_row , data.T) / (magnitude[index] * magnitude)\n",
    "    sort_indexes = np.argsort(-similarity)\n",
    "    return sort_indexes[:top_n]\n",
    "\n",
    "\n",
    "def similar_books(book_user_rating, book_id , top_indexes ):\n",
    "    rec = []\n",
    "    print(\"Recommendations for {0} : \\n\".format(book_user_rating[book_user_rating.unique_id_book == book_id][\"Book-Title\"].values[0]))\n",
    "    for  id in  top_indexes + 1:\n",
    "        rec.append(book_user_rating[book_user_rating.unique_id_book == id][\"Book-Title\"].values[0])\n",
    "    return rec"
   ]
  },
  {
   "cell_type": "code",
   "execution_count": 315,
   "metadata": {},
   "outputs": [
    {
     "name": "stdout",
     "output_type": "stream",
     "text": [
      "Recommendations for Inland : \n",
      "\n"
     ]
    }
   ],
   "source": [
    "k = 50\n",
    "book_id = 25844\n",
    "top_n = 10\n",
    "sliced = Vt.T[:,:k]\n",
    "\n",
    "recommended_books = similar_books(book_user_rating, book_id, top_cosine_similarity(sliced, book_id, top_n))"
   ]
  },
  {
   "cell_type": "code",
   "execution_count": 328,
   "metadata": {
    "scrolled": true
   },
   "outputs": [
    {
     "name": "stdout",
     "output_type": "stream",
     "text": [
      "Top 5 recommeded books for user with userID : 25844:\n",
      "title :The Kitchen God's Wife &  url : http://images.amazon.com/images/P/0399135782.01.LZZZZZZZ.jpg\n",
      "title :GOING HOME &  url : http://images.amazon.com/images/P/0671530291.01.LZZZZZZZ.jpg\n",
      "title :The Hour That Changes the World &  url : http://images.amazon.com/images/P/0801033373.01.LZZZZZZZ.jpg\n",
      "title :Network Participant's Guide &  url : http://images.amazon.com/images/P/0310412315.01.LZZZZZZZ.jpg\n",
      "title :Pack Up Your Gloomies In A Great Big Box, Then Sit On The Lid And Laugh! &  url : http://images.amazon.com/images/P/0849933641.01.LZZZZZZZ.jpg\n",
      "title :Disney Library, 2 (Walt Disney Fun-To-Learn Library) &  url : http://images.amazon.com/images/P/055305502X.01.LZZZZZZZ.jpg\n",
      "title :What did you bring?: Featuring Jim Henson's Sesame Street Muppets &  url : http://images.amazon.com/images/P/0307231070.01.LZZZZZZZ.jpg\n",
      "title :Special delivery: Featuring Jim Henson's Sesame Street Muppets &  url : http://images.amazon.com/images/P/0307231089.01.LZZZZZZZ.jpg\n",
      "title :Aladdin in the Cave of Wonders &  url : http://images.amazon.com/images/P/1557233918.01.LZZZZZZZ.jpg\n",
      "title :Plain Girl &  url : http://images.amazon.com/images/P/0152624376.01.LZZZZZZZ.jpg\n"
     ]
    }
   ],
   "source": [
    "df_rec2 = df_imag_url.loc[df_imag_url[\"Book-Title\"].isin(recommended_books)]\n",
    "df_rec2 = df_rec2.drop_duplicates(subset=[\"Book-Title\"], keep=\"first\")\n",
    "df_rec2 = df_rec2.drop_duplicates(subset=[\"Book-Title\",\"Image-URL-L\"], keep=\"first\")\n",
    "\n",
    "\n",
    "print(f\"Top 5 recommeded books for user with userID : {book_id}:\")\n",
    "for row in df_rec2.iterrows():\n",
    "    print(f\"title :{row[1][0]} &  url : {row[1][1]}\")"
   ]
  },
  {
   "cell_type": "markdown",
   "metadata": {},
   "source": [
    "### 4.5 - **Neural Networks-based Recommender System**\n",
    "\n",
    "In progress . . ."
   ]
  },
  {
   "cell_type": "markdown",
   "metadata": {},
   "source": [
    "### 5  **Compraison, Optimization & Evaluation**"
   ]
  },
  {
   "cell_type": "markdown",
   "metadata": {},
   "source": [
    "- **before get into the code \n",
    "the plan to know which model outperformed the other models is:**\n",
    "\n",
    "1. **First**\n",
    "    - the dataset is clean and in the required format for each model ,so no problem in this point.\n",
    "2. **Models optimization**\n",
    "    - The models optimization:\n",
    "        - For KNN:\n",
    "        - Tune hyperparameters like `n_neighbors`, `metric`, and `algorithm`.\n",
    "        - For SVD\n",
    "            - Tune hyperparameters like `n_factors`, `n_epochs`, `reg_pu`, and `reg_qi`.\n",
    "        - For NMF\n",
    "            - Tune hyperparameters like `n_factors`, `n_epochs`, `reg_pu`, and `reg_qi`.\n",
    "\n",
    "3. **Model training**\n",
    "    - Train each model on the preprocessed dataset.\n",
    "\n",
    "4. **Model evaluation**\n",
    "    - Evaluate each model using appropraite metrics like RMSE & MAE.\n",
    "    - Use cross-validation to get more reliable estimates of model performance.\n",
    "5. **Performance Comparison**\n",
    "    - Compare the preformance of each model based on the evaluation metrics.\n",
    "    - Compare the quality of recommendations qualitatively.\n",
    "\n",
    "6. **Finally get the winning model**\n",
    "    - Summarize the findings and discuss which model performs better for the given dataset and task.\n"
   ]
  },
  {
   "cell_type": "markdown",
   "metadata": {},
   "source": [
    "#### Now it's about the fifth point : Performance Comparison "
   ]
  },
  {
   "cell_type": "code",
   "execution_count": 335,
   "metadata": {},
   "outputs": [
    {
     "name": "stdout",
     "output_type": "stream",
     "text": [
      "Evaluating RMSE, MAE of algorithm SVD on 5 split(s).\n",
      "\n",
      "                  Fold 1  Fold 2  Fold 3  Fold 4  Fold 5  Mean    Std     \n",
      "RMSE (testset)    3.5180  3.5160  3.5305  3.5176  3.5214  3.5207  0.0052  \n",
      "MAE (testset)     2.8043  2.8013  2.8156  2.8059  2.8070  2.8068  0.0048  \n",
      "Fit time          14.57   19.71   23.80   15.21   16.95   18.05   3.38    \n",
      "Test time         5.52    3.05    2.81    1.49    2.55    3.09    1.33    \n",
      "Evaluating RMSE, MAE of algorithm NMF on 5 split(s).\n",
      "\n",
      "                  Fold 1  Fold 2  Fold 3  Fold 4  Fold 5  Mean    Std     \n",
      "RMSE (testset)    3.9336  3.9210  3.9248  3.9363  3.9274  3.9286  0.0056  \n",
      "MAE (testset)     2.9605  2.9528  2.9519  2.9635  2.9573  2.9572  0.0044  \n",
      "Fit time          42.14   44.89   54.06   43.73   44.00   45.76   4.24    \n",
      "Test time         2.33    2.61    3.05    2.88    1.46    2.47    0.56    \n",
      "SVD Metrics:\n",
      "RMSE: 3.52071186229903\n",
      "MAE: 2.8068347975798433\n",
      "\n",
      "NMF Metrics:\n",
      "RMSE: 3.928613878159939\n",
      "MAE: 2.957198784034623\n"
     ]
    }
   ],
   "source": [
    "from surprise import Dataset, Reader, SVD, NMF\n",
    "from surprise.model_selection import cross_validate\n",
    "\n",
    "# Load data into Surprise dataset\n",
    "reader = Reader(rating_scale=(0, 10))\n",
    "data = Dataset.load_from_df(complete_df[[\"User-ID\", \"Book-Title\", \"Book-Rating\"]], reader)\n",
    "\n",
    "# Define models\n",
    "model_SVD = SVD()\n",
    "model_NMF = NMF()\n",
    "\n",
    "# Perform cross-validation for SVD\n",
    "cv_results_SVD = cross_validate(model_SVD, data, measures=['RMSE', 'MAE'], cv=5, verbose=True)\n",
    "\n",
    "# Perform cross-validation for NMF\n",
    "cv_results_NMF = cross_validate(model_NMF, data, measures=['RMSE', 'MAE'], cv=5, verbose=True)\n",
    "\n",
    "# Print RMSE and MAE for SVD\n",
    "print(\"SVD Metrics:\")\n",
    "print(\"RMSE:\", cv_results_SVD['test_rmse'].mean())\n",
    "print(\"MAE:\", cv_results_SVD['test_mae'].mean())\n",
    "\n",
    "# Print RMSE and MAE for NMF\n",
    "print(\"\\nNMF Metrics:\")\n",
    "print(\"RMSE:\", cv_results_NMF['test_rmse'].mean())\n",
    "print(\"MAE:\", cv_results_NMF['test_mae'].mean())\n"
   ]
  },
  {
   "cell_type": "code",
   "execution_count": 336,
   "metadata": {},
   "outputs": [
    {
     "name": "stdout",
     "output_type": "stream",
     "text": [
      "\n",
      "Best Model: SVD\n"
     ]
    }
   ],
   "source": [
    "# Determine the best model based on RMSE and MAE\n",
    "if cv_results_SVD['test_rmse'].mean() < cv_results_NMF['test_rmse'].mean() and \\\n",
    "    cv_results_SVD['test_mae'].mean() < cv_results_NMF['test_mae'].mean():\n",
    "    best_model = \"SVD\"\n",
    "elif cv_results_SVD['test_rmse'].mean() > cv_results_NMF['test_rmse'].mean() and \\\n",
    "    cv_results_SVD['test_mae'].mean() > cv_results_NMF['test_mae'].mean():\n",
    "    best_model = \"NMF\"\n",
    "else:\n",
    "    best_model = \"No clear winner\"\n",
    "\n",
    "print(\"\\nBest Model:\", best_model)"
   ]
  },
  {
   "cell_type": "markdown",
   "metadata": {},
   "source": [
    "####  **KNN vs. SVD**\n",
    "\n",
    "So first we need to compare the **SVD** and **KNN** models in terms of code structure, performance, and suitability for recommendations tasks.\n",
    "\n",
    "- **Code Structure Comparison**:\n",
    "1. SVD model:\n",
    "    - Utilizes the Surprise library for recommendation tasks.\n",
    "    - Loads data using the Surprise Dataset class and performs traint-test-split.\n",
    "    - Initializes and trains the SVD model using the Surprise SVD class.\n",
    "    - Computes RMSE and MAE for evaluation.\n",
    "    - Defines a function to recommend books based on user ID using SVD predictions.\n",
    "2. KNN model:\n",
    "    - Uses scikit-learn for KNN model implementation.\n",
    "    - Searches for the best hyperparameters using ParameterGrid and evaluates them based on average distance .\n",
    "    - Rebuilds the KNN model with the best parameters.\n",
    "    - Defines a function to recommend books based on a given title the KNN model.\n",
    "    \n",
    "- **Performance Comparison**\n",
    "    - RMSE and MAE Evaluation:\n",
    "        - SVD: Utilizes Surprise's built-in accuracy metrics to calculate RMSE and MAE on the test set.\n",
    "        - KNN: Does not directly compute RMSE and MAE, but rather optimizes hyperparameters based on average distance.\n",
    "        \n",
    "- **Suitability for Recommendation Tasks:**\n",
    "    - SVD model:\n",
    "        - Advantages:\n",
    "            - Utilizes matrix factorization to capture latent features in the user-item interaction matrix.\n",
    "            - Effective for sparse datasets an handling missing values.\n",
    "            - Provides accurate recommendations based on learned user and item embeddings.\n",
    "         - Disadvantages:\n",
    "             - Limited to explicit feedback data (ratings).\n",
    "             - May struggle with scalability for very large datasets.\n",
    "    - KNN model:\n",
    "        - Advantages:\n",
    "            - Non-parametric approach suitable for collaborative filtering.\n",
    "            - Intuitive and easy to understand.\n",
    "            - Can handle both explicit and implicit feedback.\n",
    "        - Disadvantages:\n",
    "            - Computationally expensive for large datasets.\n",
    "            - Sensitivity to noise and irrelevant features.\n",
    "            - Requires careful tuning of hyperparameters .\n",
    "            \n",
    "- **Conclusion**\n",
    "    - SVD vs. KNN:\n",
    "        - SVD tends to perform well on datasets with explicit feedback and can handle missing values effectively. Captures complex patterns in the data but may have scalability issues.\n",
    "        - KNN, on the otherhand, is simpler to implement and interpret but may not perform as well on very large datasets due to its computational complexity.\n",
    "        \n",
    "Based on the comparison, the choice between SVD and KNN depends on factors such as dataset size, sparsity, and computational resources available. SVD may be preferable for medium-sized datasets with explicit feedback, while KNN could be suitable for smaller datasets or when interpretability is prioritized over accuracy. "
   ]
  },
  {
   "cell_type": "markdown",
   "metadata": {},
   "source": [
    "Based on the dataset size and typical performance considerations, **SVD** is the chosen model for our recommendation system. It can handle large datasets effectively and provide accurate recommendations by capturing latent features. However, **KNN** remains a valuable tool and can be useful in specific cases where its simplicity and interpretability offer advantages, or when dealing with smaller datasets or real-time recommendations where training overhead is a concern. "
   ]
  },
  {
   "cell_type": "markdown",
   "metadata": {},
   "source": [
    "## 4.7   ***Autoencoders*** - collaborative filtering user based\n",
    "! View the <a href=\"./Autoencoders_model.ipynb\"><font color=\"orange\">Autoecoders_model.ipynb</font></a> notebook"
   ]
  },
  {
   "cell_type": "markdown",
   "metadata": {},
   "source": [
    "### 6  **Set the Recommender System for the `user testing` and then for the deployment**"
   ]
  },
  {
   "cell_type": "markdown",
   "metadata": {},
   "source": [
    "**the app >>>>> <a href=\"http://127.0.0.1:5000/\">link</a>**"
   ]
  },
  {
   "cell_type": "markdown",
   "metadata": {},
   "source": [
    "# ***<font color=\"cyan\">END, thank you all for leaving a feedback</font>***"
   ]
  }
 ],
 "metadata": {
  "kernelspec": {
   "display_name": "Python 3 (ipykernel)",
   "language": "python",
   "name": "python3"
  },
  "language_info": {
   "codemirror_mode": {
    "name": "ipython",
    "version": 3
   },
   "file_extension": ".py",
   "mimetype": "text/x-python",
   "name": "python",
   "nbconvert_exporter": "python",
   "pygments_lexer": "ipython3",
   "version": "3.11.5"
  }
 },
 "nbformat": 4,
 "nbformat_minor": 2
}
