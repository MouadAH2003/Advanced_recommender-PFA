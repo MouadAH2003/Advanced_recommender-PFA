{
 "cells": [
  {
   "cell_type": "markdown",
   "metadata": {},
   "source": [
    "# Autoencoders"
   ]
  },
  {
   "cell_type": "code",
   "execution_count": 4,
   "metadata": {},
   "outputs": [],
   "source": [
    "# Import required libs\n",
    "import pandas as pd\n",
    "import numpy as np\n",
    "\n",
    "from sklearn.preprocessing import LabelEncoder, MinMaxScaler\n",
    "\n",
    "from tensorflow.keras.models import Model\n",
    "from tensorflow.keras.layers import Input, Dense,Dropout, GaussianNoise\n",
    "from tensorflow.keras.optimizers import Adam\n",
    "from tensorflow.keras import constraints\n",
    "from tensorflow.keras.losses import MeanSquaredError\n",
    "from keras.models import load_model\n",
    "\n",
    "\n",
    "import warnings\n",
    "warnings.filterwarnings(\"ignore\")"
   ]
  },
  {
   "cell_type": "code",
   "execution_count": 5,
   "metadata": {
    "scrolled": true
   },
   "outputs": [],
   "source": [
    "## import datasets\n",
    "ratings_df = pd.read_csv(\"../data/Ratings.csv\")\n",
    "books_df = pd.read_csv(\"../data/Books.csv\")\n",
    "users_df = pd.read_csv(\"../data/Users.csv\")"
   ]
  },
  {
   "cell_type": "code",
   "execution_count": 6,
   "metadata": {},
   "outputs": [],
   "source": [
    "# Merge datasets\n",
    "df = ratings_df.merge(books_df, on='ISBN').merge(users_df, on='User-ID')\n",
    "\n",
    "# Remove duplicates and unnecessary columns\n",
    "df.drop_duplicates(subset=['User-ID', 'Book-Title'], keep='last', inplace=True)\n",
    "df.drop(columns=['ISBN', 'Year-Of-Publication'], inplace=True)\n",
    "\n",
    "# Filter out users and books with too few ratings\n",
    "user_counts = df['User-ID'].value_counts()\n",
    "book_counts = df['Book-Title'].value_counts()\n",
    "df = df[df['User-ID'].isin(user_counts[user_counts >= 5].index)]\n",
    "df = df[df['Book-Title'].isin(book_counts[book_counts >= 5].index)]\n",
    "\n",
    "# Create user-item interaction matrix\n",
    "interaction_matrix = df.pivot(index='User-ID', columns='Book-Title', values='Book-Rating').fillna(0)\n",
    "\n",
    "# Encode user and item IDs\n",
    "user_enc = LabelEncoder()\n",
    "interaction_matrix.index = user_enc.fit_transform(interaction_matrix.index)\n",
    "\n",
    "# Normalize ratings\n",
    "scaler = MinMaxScaler()\n",
    "interaction_matrix_normalized = scaler.fit_transform(interaction_matrix)\n"
   ]
  },
  {
   "cell_type": "code",
   "execution_count": 17,
   "metadata": {},
   "outputs": [
    {
     "name": "stderr",
     "output_type": "stream",
     "text": [
      "\n",
      "KeyboardInterrupt\n",
      "\n"
     ]
    }
   ],
   "source": [
    "interaction_matrix.to_csv(\"../BiblioBeacon_app/AE_recommender/interaction_matrix.csv\")"
   ]
  },
  {
   "cell_type": "code",
   "execution_count": 15,
   "metadata": {},
   "outputs": [],
   "source": [
    "np.save('../BiblioBeacon_app/AE_recommender/interaction_matrix_normalized.npy', interaction_matrix_normalized)\n"
   ]
  },
  {
   "cell_type": "code",
   "execution_count": 4,
   "metadata": {},
   "outputs": [
    {
     "name": "stdout",
     "output_type": "stream",
     "text": [
      "WARNING:tensorflow:From C:\\Users\\Mouad\\anaconda3\\Lib\\site-packages\\keras\\src\\backend.py:1398: The name tf.executing_eagerly_outside_functions is deprecated. Please use tf.compat.v1.executing_eagerly_outside_functions instead.\n",
      "\n"
     ]
    }
   ],
   "source": [
    "# v1\n",
    "\n",
    "# Define the number of input dimensions\n",
    "num_users, num_books = interaction_matrix_normalized.shape\n",
    "\n",
    "# Define the autoencoder model\n",
    "input_layer = Input(shape=(num_books,))\n",
    "\n",
    "# Encoding layers\n",
    "encoded = Dense(256, activation='relu')(input_layer)\n",
    "encoded = Dropout(0.2)(encoded)\n",
    "encoded = Dense(128, activation='relu')(encoded)\n",
    "encoded = Dropout(0.1)(encoded)\n",
    "encoded = Dense(64, activation='relu')(encoded)\n",
    "encoded = GaussianNoise(0.1)(encoded)  # Denoising autoencoder\n",
    "encoded = Dense(32, activation='relu')(encoded)  # Bottleneck layer\n",
    "\n",
    "# Decoding layers\n",
    "decoded = Dense(64, activation='relu')(encoded)\n",
    "decoded = Dropout(0.1)(decoded)\n",
    "decoded = Dense(128, activation='relu')(decoded)\n",
    "decoded = Dropout(0.2)(decoded)\n",
    "decoded = Dense(256, activation='relu')(decoded)\n",
    "decoded = Dense(num_books, activation='sigmoid')(decoded)\n",
    "\n",
    "# Define the autoencoder model\n",
    "autoencoder = Model(input_layer, decoded)\n",
    "\n",
    "# Compile the model\n",
    "autoencoder.compile(optimizer=Adam(learning_rate =0.001), loss=MeanSquaredError())"
   ]
  },
  {
   "cell_type": "code",
   "execution_count": 4,
   "metadata": {},
   "outputs": [
    {
     "name": "stdout",
     "output_type": "stream",
     "text": [
      "WARNING:tensorflow:From C:\\Users\\Mouad\\anaconda3\\Lib\\site-packages\\keras\\src\\backend.py:1398: The name tf.executing_eagerly_outside_functions is deprecated. Please use tf.compat.v1.executing_eagerly_outside_functions instead.\n",
      "\n"
     ]
    },
    {
     "name": "stderr",
     "output_type": "stream",
     "text": [
      "WARNING:absl:`lr` is deprecated in Keras optimizer, please use `learning_rate` or use the legacy optimizer, e.g.,tf.keras.optimizers.legacy.Adam.\n"
     ]
    }
   ],
   "source": [
    "# v2\n",
    "\n",
    "from keras.regularizers import l1_l2\n",
    "\n",
    "# Define the number of input dimensions\n",
    "num_users, num_books = interaction_matrix_normalized.shape\n",
    "\n",
    "# Define the autoencoder model\n",
    "input_layer = Input(shape=(num_books,))\n",
    "\n",
    "# Encoding layers\n",
    "encoded = Dense(512, activation='relu', kernel_regularizer=l1_l2(l1=1e-5, l2=1e-4))(input_layer)\n",
    "encoded = Dropout(0.3)(encoded)\n",
    "encoded = Dense(256, activation='relu', kernel_regularizer=l1_l2(l1=1e-5, l2=1e-4))(encoded)\n",
    "encoded = Dropout(0.2)(encoded)\n",
    "encoded = Dense(128, activation='relu', kernel_regularizer=l1_l2(l1=1e-5, l2=1e-4))(encoded)\n",
    "encoded = Dropout(0.1)(encoded)\n",
    "encoded = Dense(64, activation='relu')(encoded)\n",
    "encoded = GaussianNoise(0.1)(encoded)  # Denoising autoencoder\n",
    "encoded = Dense(32, activation='relu')(encoded)  # Bottleneck layer\n",
    "\n",
    "# Decoding layers\n",
    "decoded = Dense(64, activation='relu')(encoded)\n",
    "decoded = Dropout(0.1)(decoded)\n",
    "decoded = Dense(128, activation='relu', kernel_regularizer=l1_l2(l1=1e-5, l2=1e-4))(decoded)\n",
    "decoded = Dropout(0.2)(decoded)\n",
    "decoded = Dense(256, activation='relu', kernel_regularizer=l1_l2(l1=1e-5, l2=1e-4))(decoded)\n",
    "decoded = Dropout(0.3)(decoded)\n",
    "decoded = Dense(512, activation='relu', kernel_regularizer=l1_l2(l1=1e-5, l2=1e-4))(decoded)\n",
    "decoded = Dense(num_books, activation='sigmoid')(decoded)\n",
    "\n",
    "# Define the autoencoder model\n",
    "autoencoder = Model(input_layer, decoded)\n",
    "\n",
    "# Compile the model\n",
    "autoencoder.compile(optimizer=Adam(learning_rate=0.001), loss=MeanSquaredError())"
   ]
  },
  {
   "cell_type": "code",
   "execution_count": 8,
   "metadata": {},
   "outputs": [],
   "source": [
    "from keras.callbacks import EarlyStopping\n",
    "\n",
    "# Define the early stopping callback\n",
    "early_stopping = EarlyStopping(monitor='val_loss', patience=5, restore_best_weights=True)\n",
    "\n",
    "# Train the autoencoder model\n",
    "history = autoencoder.fit(\n",
    "    interaction_matrix_normalized,\n",
    "    interaction_matrix_normalized,\n",
    "    epochs=100,\n",
    "    batch_size=128,\n",
    "    validation_split=0.2,\n",
    "    callbacks=[early_stopping],\n",
    "    verbose=1\n",
    ")"
   ]
  },
  {
   "cell_type": "code",
   "execution_count": 14,
   "metadata": {},
   "outputs": [],
   "source": [
    "from keras.models import load_model\n",
    "\n",
    "autoencoder2 = load_model('../scripts/AE_model/autoencoder_model.h5')"
   ]
  },
  {
   "cell_type": "code",
   "execution_count": 7,
   "metadata": {},
   "outputs": [],
   "source": [
    "# # Train the autoencoder\n",
    "# history2 = autoencoder.fit(\n",
    "#     interaction_matrix_normalized,\n",
    "#     interaction_matrix_normalized,\n",
    "#     epochs=50,\n",
    "#     batch_size=256,\n",
    "#     shuffle=True,\n",
    "#     validation_split=0.2\n",
    "# )"
   ]
  },
  {
   "cell_type": "code",
   "execution_count": 5,
   "metadata": {},
   "outputs": [
    {
     "name": "stdout",
     "output_type": "stream",
     "text": [
      "Epoch 1/50\n",
      "WARNING:tensorflow:From C:\\Users\\Mouad\\anaconda3\\Lib\\site-packages\\keras\\src\\utils\\tf_utils.py:492: The name tf.ragged.RaggedTensorValue is deprecated. Please use tf.compat.v1.ragged.RaggedTensorValue instead.\n",
      "\n",
      "64/64 [==============================] - 51s 696ms/step - loss: 0.0993 - val_loss: 1.8698e-04\n",
      "Epoch 2/50\n",
      "64/64 [==============================] - 34s 531ms/step - loss: 1.8952e-04 - val_loss: 1.8698e-04\n",
      "Epoch 3/50\n",
      "64/64 [==============================] - 39s 611ms/step - loss: 1.8952e-04 - val_loss: 1.8698e-04\n",
      "Epoch 4/50\n",
      "64/64 [==============================] - 39s 605ms/step - loss: 1.8952e-04 - val_loss: 1.8698e-04\n",
      "Epoch 5/50\n",
      "64/64 [==============================] - 33s 523ms/step - loss: 1.8952e-04 - val_loss: 1.8698e-04\n",
      "Epoch 6/50\n",
      "64/64 [==============================] - 31s 492ms/step - loss: 1.8952e-04 - val_loss: 1.8698e-04\n",
      "Epoch 7/50\n",
      "64/64 [==============================] - 34s 527ms/step - loss: 1.8952e-04 - val_loss: 1.8698e-04\n",
      "Epoch 8/50\n",
      "64/64 [==============================] - 32s 494ms/step - loss: 1.8952e-04 - val_loss: 1.8698e-04\n",
      "Epoch 9/50\n",
      "64/64 [==============================] - 31s 490ms/step - loss: 1.8952e-04 - val_loss: 1.8698e-04\n",
      "Epoch 10/50\n",
      "64/64 [==============================] - 32s 495ms/step - loss: 1.8952e-04 - val_loss: 1.8698e-04\n",
      "Epoch 11/50\n",
      "64/64 [==============================] - 32s 496ms/step - loss: 1.8952e-04 - val_loss: 1.8698e-04\n",
      "Epoch 12/50\n",
      "64/64 [==============================] - 32s 495ms/step - loss: 1.8952e-04 - val_loss: 1.8698e-04\n",
      "Epoch 13/50\n",
      "64/64 [==============================] - 31s 490ms/step - loss: 1.8952e-04 - val_loss: 1.8698e-04\n",
      "Epoch 14/50\n",
      "64/64 [==============================] - 28s 438ms/step - loss: 1.8952e-04 - val_loss: 1.8698e-04\n",
      "Epoch 15/50\n",
      "64/64 [==============================] - 29s 452ms/step - loss: 1.8952e-04 - val_loss: 1.8698e-04\n",
      "Epoch 16/50\n",
      "64/64 [==============================] - 28s 434ms/step - loss: 1.8952e-04 - val_loss: 1.8698e-04\n",
      "Epoch 17/50\n",
      "64/64 [==============================] - 28s 435ms/step - loss: 1.8952e-04 - val_loss: 1.8698e-04\n",
      "Epoch 18/50\n",
      "64/64 [==============================] - 28s 436ms/step - loss: 1.8952e-04 - val_loss: 1.8698e-04\n",
      "Epoch 19/50\n",
      "64/64 [==============================] - 29s 448ms/step - loss: 1.8952e-04 - val_loss: 1.8698e-04\n",
      "Epoch 20/50\n",
      "64/64 [==============================] - 30s 470ms/step - loss: 1.8952e-04 - val_loss: 1.8698e-04\n",
      "Epoch 21/50\n",
      "64/64 [==============================] - 30s 477ms/step - loss: 1.8952e-04 - val_loss: 1.8698e-04\n",
      "Epoch 22/50\n",
      "64/64 [==============================] - 31s 479ms/step - loss: 1.8952e-04 - val_loss: 1.8698e-04\n",
      "Epoch 23/50\n",
      "64/64 [==============================] - 30s 475ms/step - loss: 1.8952e-04 - val_loss: 1.8698e-04\n",
      "Epoch 24/50\n",
      "64/64 [==============================] - 29s 452ms/step - loss: 1.8952e-04 - val_loss: 1.8698e-04\n",
      "Epoch 25/50\n",
      "64/64 [==============================] - 28s 446ms/step - loss: 1.8952e-04 - val_loss: 1.8698e-04\n",
      "Epoch 26/50\n",
      "64/64 [==============================] - 28s 441ms/step - loss: 1.8952e-04 - val_loss: 1.8698e-04\n",
      "Epoch 27/50\n",
      "64/64 [==============================] - 28s 431ms/step - loss: 1.8952e-04 - val_loss: 1.8698e-04\n",
      "Epoch 28/50\n",
      "64/64 [==============================] - 27s 429ms/step - loss: 1.8952e-04 - val_loss: 1.8698e-04\n",
      "Epoch 29/50\n",
      "64/64 [==============================] - 28s 433ms/step - loss: 1.8952e-04 - val_loss: 1.8698e-04\n",
      "Epoch 30/50\n",
      "64/64 [==============================] - 27s 427ms/step - loss: 1.8952e-04 - val_loss: 1.8698e-04\n",
      "Epoch 31/50\n",
      "64/64 [==============================] - 28s 435ms/step - loss: 1.8952e-04 - val_loss: 1.8698e-04\n",
      "Epoch 32/50\n",
      "64/64 [==============================] - 28s 432ms/step - loss: 1.8952e-04 - val_loss: 1.8698e-04\n",
      "Epoch 33/50\n",
      "64/64 [==============================] - 27s 428ms/step - loss: 1.8952e-04 - val_loss: 1.8698e-04\n",
      "Epoch 34/50\n",
      "64/64 [==============================] - 28s 433ms/step - loss: 1.8952e-04 - val_loss: 1.8698e-04\n",
      "Epoch 35/50\n",
      "64/64 [==============================] - 28s 431ms/step - loss: 1.8952e-04 - val_loss: 1.8698e-04\n",
      "Epoch 36/50\n",
      "64/64 [==============================] - 28s 433ms/step - loss: 1.8952e-04 - val_loss: 1.8698e-04\n",
      "Epoch 37/50\n",
      "64/64 [==============================] - 28s 433ms/step - loss: 1.8952e-04 - val_loss: 1.8698e-04\n",
      "Epoch 38/50\n",
      "64/64 [==============================] - 27s 428ms/step - loss: 1.8952e-04 - val_loss: 1.8698e-04\n",
      "Epoch 39/50\n",
      "64/64 [==============================] - 27s 427ms/step - loss: 1.8952e-04 - val_loss: 1.8698e-04\n",
      "Epoch 40/50\n",
      "64/64 [==============================] - 27s 430ms/step - loss: 1.8952e-04 - val_loss: 1.8698e-04\n",
      "Epoch 41/50\n",
      "64/64 [==============================] - 27s 426ms/step - loss: 1.8952e-04 - val_loss: 1.8698e-04\n",
      "Epoch 42/50\n",
      "64/64 [==============================] - 27s 427ms/step - loss: 1.8952e-04 - val_loss: 1.8698e-04\n",
      "Epoch 43/50\n",
      "64/64 [==============================] - 27s 427ms/step - loss: 1.8952e-04 - val_loss: 1.8698e-04\n",
      "Epoch 44/50\n",
      "64/64 [==============================] - 27s 427ms/step - loss: 1.8952e-04 - val_loss: 1.8698e-04\n",
      "Epoch 45/50\n",
      "64/64 [==============================] - 28s 435ms/step - loss: 1.8952e-04 - val_loss: 1.8698e-04\n",
      "Epoch 46/50\n",
      "64/64 [==============================] - 1213s 19s/step - loss: 1.8952e-04 - val_loss: 1.8698e-04\n",
      "Epoch 47/50\n",
      "64/64 [==============================] - 41s 623ms/step - loss: 1.8952e-04 - val_loss: 1.8698e-04\n",
      "Epoch 48/50\n",
      "64/64 [==============================] - 28s 439ms/step - loss: 1.8952e-04 - val_loss: 1.8698e-04\n",
      "Epoch 49/50\n",
      "64/64 [==============================] - 29s 453ms/step - loss: 1.8952e-04 - val_loss: 1.8698e-04\n",
      "Epoch 50/50\n",
      "64/64 [==============================] - 32s 497ms/step - loss: 1.8952e-04 - val_loss: 1.8698e-04\n"
     ]
    }
   ],
   "source": [
    "# Train the autoencoder\n",
    "history = autoencoder.fit(\n",
    "    interaction_matrix_normalized,\n",
    "    interaction_matrix_normalized,\n",
    "    epochs=50,\n",
    "    batch_size=256,\n",
    "    shuffle=True,\n",
    "    validation_split=0.2\n",
    ")"
   ]
  },
  {
   "cell_type": "code",
   "execution_count": 6,
   "metadata": {},
   "outputs": [
    {
     "data": {
      "image/png": "[encoded data removed]",
      "text/plain": [
       "<Figure size 1000x600 with 1 Axes>"
      ]
     },
     "metadata": {},
     "output_type": "display_data"
    }
   ],
   "source": [
    "# Get the training and validation loss values\n",
    "train_loss = history.history['loss']\n",
    "val_loss = history.history['val_loss']\n",
    "\n",
    "import matplotlib.pyplot as plt\n",
    "\n",
    "# Plot the training and validation loss\n",
    "plt.figure(figsize=(10, 6))\n",
    "plt.plot(train_loss, label='Training Loss')\n",
    "plt.plot(val_loss, label='Validation Loss')\n",
    "plt.xlabel('Epoch')\n",
    "plt.ylabel('Loss')\n",
    "plt.title('Training and Validation Loss')\n",
    "plt.legend()\n",
    "plt.show()"
   ]
  },
  {
   "cell_type": "code",
   "execution_count": 7,
   "metadata": {},
   "outputs": [
    {
     "name": "stdout",
     "output_type": "stream",
     "text": [
      "Final Validation RMSE: 0.0137\n"
     ]
    }
   ],
   "source": [
    "# Calculate the RMSE\n",
    "final_val_loss = val_loss[-1]\n",
    "rmse = np.sqrt(final_val_loss)\n",
    "print(f\"Final Validation RMSE: {rmse:.4f}\")"
   ]
  },
  {
   "cell_type": "code",
   "execution_count": 29,
   "metadata": {},
   "outputs": [
    {
     "name": "stdout",
     "output_type": "stream",
     "text": [
      "Final Validation MAE: 0.0002\n"
     ]
    }
   ],
   "source": [
    "mae = val_loss[-1]\n",
    "print(f\"Final Validation MAE: {mae:.4f}\")"
   ]
  },
  {
   "cell_type": "code",
   "execution_count": 8,
   "metadata": {},
   "outputs": [],
   "source": [
    "import pickle\n",
    "\n",
    "with open('history_v2.pkl', 'wb') as file_pi:\n",
    "    pickle.dump(history.history, file_pi)"
   ]
  },
  {
   "cell_type": "code",
   "execution_count": 10,
   "metadata": {},
   "outputs": [],
   "source": [
    "with open('history_v2.pkl', 'rb') as file_pi:\n",
    "    loaded_history = pickle.load(file_pi)"
   ]
  },
  {
   "cell_type": "code",
   "execution_count": 12,
   "metadata": {},
   "outputs": [],
   "source": [
    "autoencoder.save('../scripts/AE_model/autoencoder_model_v2.h5')"
   ]
  },
  {
   "cell_type": "code",
   "execution_count": 28,
   "metadata": {},
   "outputs": [
    {
     "name": "stdout",
     "output_type": "stream",
     "text": [
      "1/1 [==============================] - 0s 62ms/step\n",
      "Top 5 recommended books for user 2012:\n",
      "Spam-Ku : Tranquil Reflections on Luncheon Loaf\n",
      "--------------------------------------------------\n",
      "Immortality\n",
      "--------------------------------------------------\n",
      "Pale Gray for Guilt (Travis McGee Mysteries (Paperback))\n",
      "--------------------------------------------------\n",
      "La Mort Ã?Â  Venise\n",
      "--------------------------------------------------\n",
      "Bad Boys in Black Tie\n",
      "--------------------------------------------------\n"
     ]
    }
   ],
   "source": [
    "# Function to make book recommendations\n",
    "def recommend_books(user_id, num_recommendations=5):\n",
    "    # Encode the user ID\n",
    "    encoded_user_id = user_enc.transform([user_id])[0]\n",
    "    \n",
    "    # Get the user's ratings\n",
    "    user_ratings = interaction_matrix_normalized[encoded_user_id].reshape(1, -1)\n",
    "    \n",
    "    # Predict ratings for all books\n",
    "    predicted_ratings = autoencoder.predict(user_ratings)\n",
    "    \n",
    "    # Convert predicted ratings to a Pandas Series\n",
    "    predicted_ratings = pd.Series(predicted_ratings.flatten(), index=interaction_matrix.columns)\n",
    "    \n",
    "    # Get books the user has not rated\n",
    "    user_original_ratings = interaction_matrix.loc[encoded_user_id]\n",
    "    unrated_books = user_original_ratings[user_original_ratings == 0].index\n",
    "    \n",
    "    # Recommend the top n books\n",
    "    recommendations = predicted_ratings.loc[unrated_books].sort_values(ascending=False).head(num_recommendations)\n",
    "    \n",
    "    return recommendations.index.tolist()\n",
    "\n",
    "# Test the recommendation system\n",
    "user_id = 2012  # Replace with a valid user ID\n",
    "recommended_books = recommend_books(user_id, num_recommendations=5)\n",
    "print(f\"Top 5 recommended books for user {user_id}:\")\n",
    "for r in recommended_books:\n",
    "    print(r)\n",
    "    print(\"-\"*50)\n"
   ]
  },
  {
   "cell_type": "code",
   "execution_count": 7,
   "metadata": {},
   "outputs": [
    {
     "name": "stdout",
     "output_type": "stream",
     "text": [
      "WARNING:tensorflow:From C:\\Users\\Mouad\\anaconda3\\Lib\\site-packages\\keras\\src\\backend.py:1398: The name tf.executing_eagerly_outside_functions is deprecated. Please use tf.compat.v1.executing_eagerly_outside_functions instead.\n",
      "\n"
     ]
    }
   ],
   "source": [
    "# Load the entire model\n",
    "from keras.models import load_model\n",
    "autoencoder = load_model('../scripts/AE_model/autoencoder_model.h5')"
   ]
  },
  {
   "cell_type": "code",
   "execution_count": 9,
   "metadata": {},
   "outputs": [
    {
     "name": "stdout",
     "output_type": "stream",
     "text": [
      "enter ur user id: 2033\n",
      "how many new books u want to discover ! : 5\n",
      "1/1 [==============================] - 0s 89ms/step\n"
     ]
    },
    {
     "data": {
      "text/plain": [
       "Index([' Earth Prayers From around the World: 365 Prayers, Poems, and Invocations for Honoring the Earth',\n",
       "       'Speak Only Love', 'Spares',\n",
       "       'Sparhawk'S Angel (Harlequin Historical, No 315)', 'Sparkling Cyanide'],\n",
       "      dtype='object', name='Book-Title')"
      ]
     },
     "execution_count": 9,
     "metadata": {},
     "output_type": "execute_result"
    }
   ],
   "source": [
    "user_id = int(input(\"enter ur user id: \"))\n",
    "num_recommendations = int(input(\"how many new books u want to discover ! : \"))\n",
    "\n",
    "encoded_user_id = user_enc.transform([user_id])[0]\n",
    "\n",
    "user_ratings = interaction_matrix_normalized[encoded_user_id].reshape(1, -1)\n",
    "\n",
    "predicted_ratings = autoencoder.predict(user_ratings)\n",
    "\n",
    "predicted_ratings = pd.Series(predicted_ratings.flatten(), index=interaction_matrix.columns)\n",
    "\n",
    "\n",
    "user_original_ratings = interaction_matrix.loc[encoded_user_id]\n",
    "\n",
    "unrated_books = user_original_ratings[user_original_ratings == 0].index\n",
    "\n",
    "\n",
    "recommendations = predicted_ratings.loc[unrated_books].sort_values(ascending=False).head(num_recommendations)\n",
    "\n",
    "\n",
    "recommended_books = recommendations.index\n",
    "recommended_books"
   ]
  },
  {
   "cell_type": "code",
   "execution_count": 18,
   "metadata": {},
   "outputs": [
    {
     "name": "stdout",
     "output_type": "stream",
     "text": [
      " Earth Prayers From around the World: 365 Prayers, Poems, and Invocations for Honoring the Earth\n",
      "Speak Only Love\n",
      "Spares\n",
      "Sparhawk'S Angel (Harlequin Historical, No 315)\n",
      "Sparkling Cyanide\n"
     ]
    }
   ],
   "source": [
    "for r in recommended_books:\n",
    "    print(r)"
   ]
  },
  {
   "cell_type": "code",
   "execution_count": 17,
   "metadata": {},
   "outputs": [
    {
     "name": "stdout",
     "output_type": "stream",
     "text": [
      "1/1 [==============================] - 0s 362ms/step\n",
      "Top 5 recommended books for user 2012:\n",
      "Book-Title\n",
      "A History of the World in 10 1/2 Chapters (Vintage International)    8.646803e-35\n",
      "Der gemietete Mann.                                                  6.491739e-35\n",
      "The Healing Quilt                                                    6.351720e-35\n",
      "El Baron Rampante                                                    6.205719e-35\n",
      "China Men (Vintage International (Paperback))                        6.195642e-35\n",
      "dtype: float32\n"
     ]
    }
   ],
   "source": [
    "# Function to make book recommendations\n",
    "def recommend_books(user_id, num_recommendations=5):\n",
    "    # Encode the user ID\n",
    "    encoded_user_id = user_enc.transform([user_id])[0]\n",
    "    \n",
    "    # Get the user's ratings\n",
    "    user_ratings = interaction_matrix_normalized[encoded_user_id].reshape(1, -1)\n",
    "    \n",
    "    # Predict ratings for all books\n",
    "    predicted_ratings = autoencoder.predict(user_ratings)\n",
    "    \n",
    "    # Convert predicted ratings to a Pandas Series\n",
    "    predicted_ratings = pd.Series(predicted_ratings.flatten(), index=interaction_matrix.columns)\n",
    "    \n",
    "    # Get books the user has not rated\n",
    "    user_original_ratings = interaction_matrix.loc[encoded_user_id]\n",
    "    unrated_books = user_original_ratings[user_original_ratings == 0].index\n",
    "    \n",
    "    # Recommend the top n books\n",
    "    recommendations = predicted_ratings.loc[unrated_books].sort_values(ascending=False).head(num_recommendations)\n",
    "    \n",
    "    return recommendations\n",
    "\n",
    "# Test the recommendation system\n",
    "user_id = 2012  # Replace with a valid user ID\n",
    "recommended_books = recommend_books(user_id, num_recommendations=5)\n",
    "print(f\"Top 5 recommended books for user {user_id}:\")\n",
    "print(recommended_books)\n"
   ]
  }
 ],
 "metadata": {
  "kernelspec": {
   "display_name": "Python 3 (ipykernel)",
   "language": "python",
   "name": "python3"
  },
  "language_info": {
   "codemirror_mode": {
    "name": "ipython",
    "version": 3
   },
   "file_extension": ".py",
   "mimetype": "text/x-python",
   "name": "python",
   "nbconvert_exporter": "python",
   "pygments_lexer": "ipython3",
   "version": "3.11.5"
  }
 },
 "nbformat": 4,
 "nbformat_minor": 2
}
